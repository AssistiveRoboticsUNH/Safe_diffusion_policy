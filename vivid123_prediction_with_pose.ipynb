{
 "cells": [
  {
   "cell_type": "code",
   "execution_count": 1,
   "id": "4f1a06b5-73f9-4e6a-8854-d1c693c358ad",
   "metadata": {},
   "outputs": [
    {
     "name": "stdout",
     "output_type": "stream",
     "text": [
      "Available demos: ['agentview_rgb', 'ee_states', 'eye_in_hand_rgb', 'gripper_states', 'joint_states']\n"
     ]
    }
   ],
   "source": [
    "import h5py\n",
    "import numpy as np\n",
    "import pyvista as pv\n",
    "from tqdm import tqdm  # Import tqdm for progress bars\n",
    "import os\n",
    "\n",
    "# Explicitly set PyVista backend to standalone\n",
    "pv.global_theme.jupyter_backend = 'static'\n",
    "\n",
    "# Path to the dataset\n",
    "dataset_path = \"demo.hdf5\"\n",
    "f_org = h5py.File(dataset_path, \"r\")\n",
    "\n",
    "# Get the list of demos\n",
    "demos = list(f_org[\"data\"][\"demo_4\"][\"obs\"].keys())\n",
    "print(\"Available demos:\", demos)"
   ]
  },
  {
   "cell_type": "code",
   "execution_count": 2,
   "id": "7c8ace1e-f3d9-4df6-85fb-940acb77b17d",
   "metadata": {},
   "outputs": [
    {
     "name": "stdout",
     "output_type": "stream",
     "text": [
      "304\n",
      "304\n"
     ]
    }
   ],
   "source": [
    "demo_data_image = np.array(f_org[\"data\"][\"demo_4\"][\"obs\"]['eye_in_hand_rgb'])\n",
    "\n",
    "print(len(demo_data_image))\n",
    "demo_data_end_effector = np.array(f_org[\"data\"][\"demo_4\"][\"obs\"]['ee_states'])\n",
    "\n",
    "\n",
    "print(len(demo_data_end_effector))"
   ]
  },
  {
   "cell_type": "code",
   "execution_count": 13,
   "id": "ab44dbc9",
   "metadata": {},
   "outputs": [
    {
     "name": "stdout",
     "output_type": "stream",
     "text": [
      "Total number of pose matrices: 317\n",
      "Shape of the pose matrices array: (317, 11, 6)\n",
      "First pose matrix:\n",
      "(317, 11, 6)\n"
     ]
    }
   ],
   "source": [
    "csv_directory = \"lfd-safety/data_with_pose_matrices.csv\"\n",
    "\n",
    "import csv\n",
    "import numpy as np\n",
    "\n",
    "# List to store all rows from the CSV file\n",
    "pose_matrices = []\n",
    "\n",
    "# Replace 'example.csv' with your CSV file's path or name\n",
    "with open(csv_directory, mode='r', newline='') as csvfile:\n",
    "    csv_reader = csv.reader(csvfile)\n",
    "    count = 0\n",
    "    r_count =0\n",
    "    image_matrics=[]\n",
    "    for row in csv_reader:\n",
    "        if count ==0:\n",
    "            count =1\n",
    "            continue\n",
    "        if float(row[0])==0 and float(row[1])==0:\n",
    "            if r_count ==0:\n",
    "                image_matrics.append(np.array(row).astype(np.float64))\n",
    "                r_count =1\n",
    "                continue\n",
    "            pose_matrices.append(np.array(image_matrics))\n",
    "            image_matrics=[]\n",
    "            image_matrics.append(np.array(row).astype(np.float64))\n",
    "        else:\n",
    "            image_matrics.append(np.array(row).astype(np.float64))\n",
    "# Convert the list of poses into a NumPy array for structured data access\n",
    "pose_matrices = np.array(pose_matrices)\n",
    "\n",
    "# Example usage of the data\n",
    "print(\"Total number of pose matrices:\", len(pose_matrices))\n",
    "print(\"Shape of the pose matrices array:\", pose_matrices.shape)\n",
    "\n",
    "# Example: Access the first pose matrix\n",
    "print(\"First pose matrix:\")\n",
    "print(pose_matrices.shape)"
   ]
  },
  {
   "cell_type": "code",
   "execution_count": 8,
   "id": "d816af71",
   "metadata": {},
   "outputs": [
    {
     "data": {
      "text/plain": [
       "(304, 240, 320, 3)"
      ]
     },
     "execution_count": 8,
     "metadata": {},
     "output_type": "execute_result"
    }
   ],
   "source": [
    "demo_data_image.shape"
   ]
  },
  {
   "cell_type": "code",
   "execution_count": 14,
   "id": "1362c345",
   "metadata": {},
   "outputs": [
    {
     "name": "stderr",
     "output_type": "stream",
     "text": [
      "unet/diffusion_pytorch_model.safetensors not found\n",
      "Loading pipeline components...: 100%|██████████| 5/5 [00:01<00:00,  2.60it/s]\n",
      "unet/diffusion_pytorch_model.safetensors not found\n",
      "Loading pipeline components...: 100%|██████████| 5/5 [00:00<00:00,  5.24it/s]\n"
     ]
    }
   ],
   "source": [
    "from vivid123.generation_utils import generation_vivid123_new, prepare_vivid123_pipeline\n",
    "\n",
    "ZERO123_MODEL_ID = \"bennyguo/zero123-xl-diffusers\"\n",
    "VIDEO_MODEL_ID = \"cerspense/zeroscope_v2_576w\"\n",
    "VIDEO_XL_MODEL_ID = \"cerspense/zeroscope_v2_XL\"\n",
    "vivid123_pipe, xl_pipe = prepare_vivid123_pipeline(\n",
    "        ZERO123_MODEL_ID=ZERO123_MODEL_ID, \n",
    "        VIDEO_MODEL_ID=VIDEO_MODEL_ID, \n",
    "        VIDEO_XL_MODEL_ID=VIDEO_XL_MODEL_ID\n",
    "    )"
   ]
  },
  {
   "cell_type": "code",
   "execution_count": 15,
   "id": "9cc26e82",
   "metadata": {},
   "outputs": [],
   "source": [
    "config = {\n",
    "    \"delta_azimuth_end\": 0.0,\n",
    "    \"delta_azimuth_start\": 0.0,\n",
    "    \"delta_elevation_end\": 0.0,\n",
    "    \"delta_elevation_start\": 0.0,\n",
    "    \"delta_radius_end\": 0.0,\n",
    "    \"delta_radius_start\": 0.0,\n",
    "    \"eta\": 0.5,\n",
    "    \"guidance_scale_video\": 2.0,\n",
    "    \"guidance_scale_zero123\": 6.0,\n",
    "    \"height\": 256,\n",
    "    \"input_image_path\": \"duck_without_bg.png\",\n",
    "    \"obj_name\": \"duck\",\n",
    "    \"noise_identical_accross_frames\": False,\n",
    "    \"num_frames\": 1,\n",
    "    \"num_inference_steps\": 50,\n",
    "    \"prompt\": \"a toy duck\",\n",
    "    \"refiner_guidance_scale\": 1.0,\n",
    "    \"refiner_strength\": 0.1,\n",
    "    \"video_end_step_percentage\": 1.0,\n",
    "    \"video_linear_end_weight\": 0.5,\n",
    "    \"video_linear_start_weight\": 1.0,\n",
    "    \"video_start_step_percentage\": 0.0,\n",
    "    \"width\": 256,\n",
    "    \"zero123_end_step_percentage\": 1.0,\n",
    "    \"zero123_linear_end_weight\": 1.0,\n",
    "    \"zero123_linear_start_weight\": 1.0,\n",
    "    \"zero123_start_step_percentage\": 0.0,\n",
    "}"
   ]
  },
  {
   "cell_type": "code",
   "execution_count": 4,
   "id": "65096174",
   "metadata": {},
   "outputs": [
    {
     "name": "stdout",
     "output_type": "stream",
     "text": [
      "input_image_path is: duck_without_bg.png\n"
     ]
    },
    {
     "name": "stderr",
     "output_type": "stream",
     "text": [
      "100%|██████████| 50/50 [00:08<00:00,  5.84it/s]\n",
      "100%|██████████| 5/5 [00:00<00:00,  5.37it/s]\n"
     ]
    }
   ],
   "source": [
    "generation_vivid123_new(config=config, vivid123_pipe=vivid123_pipe, xl_pipe=xl_pipe)"
   ]
  },
  {
   "cell_type": "code",
   "execution_count": 19,
   "id": "c35ef4d3",
   "metadata": {},
   "outputs": [],
   "source": [
    "import torch\n",
    "from carvekit.api.high import HiInterface\n",
    "\n",
    "# Check doc strings for more information\n",
    "interface = HiInterface(object_type=\"hairs-like\",  # Can be \"object\" or \"hairs-like\".\n",
    "                        batch_size_seg=5,\n",
    "                        batch_size_matting=1,\n",
    "                        device='cuda' if torch.cuda.is_available() else 'cpu',\n",
    "                        seg_mask_size=640,  # Use 640 for Tracer B7 and 320 for U2Net\n",
    "                        matting_mask_size=2048,\n",
    "                        trimap_prob_threshold=231,\n",
    "                        trimap_dilation=30,\n",
    "                        trimap_erosion_iters=5,\n",
    "                        fp16=False)"
   ]
  },
  {
   "cell_type": "code",
   "execution_count": null,
   "id": "8cdcabfb",
   "metadata": {},
   "outputs": [],
   "source": []
  },
  {
   "cell_type": "code",
   "execution_count": 20,
   "id": "0436f14d",
   "metadata": {},
   "outputs": [
    {
     "name": "stdout",
     "output_type": "stream",
     "text": [
      "Processing image 1/240 with azimuth: 0.0, elevation: 0.0, radius: 0.584456788388159...\n",
      "input_image_path is: input_temp/image_0.png\n"
     ]
    },
    {
     "name": "stderr",
     "output_type": "stream",
     "text": [
      "100%|██████████| 50/50 [00:07<00:00,  6.47it/s]\n",
      "100%|██████████| 5/5 [00:00<00:00,  6.38it/s]\n"
     ]
    },
    {
     "name": "stdout",
     "output_type": "stream",
     "text": [
      "Processing image 1/240 with azimuth: 4.477391388836049, elevation: 0.0, radius: 0.11795639946033948...\n",
      "input_image_path is: input_temp/image_0.png\n"
     ]
    },
    {
     "name": "stderr",
     "output_type": "stream",
     "text": [
      "100%|██████████| 50/50 [00:08<00:00,  6.15it/s]\n",
      "100%|██████████| 5/5 [00:00<00:00,  6.36it/s]\n"
     ]
    },
    {
     "name": "stdout",
     "output_type": "stream",
     "text": [
      "Processing image 1/240 with azimuth: 5.878354133029382, elevation: 0.0, radius: 0.1021315187297795...\n",
      "input_image_path is: input_temp/image_0.png\n"
     ]
    },
    {
     "name": "stderr",
     "output_type": "stream",
     "text": [
      "100%|██████████| 50/50 [00:08<00:00,  6.16it/s]\n",
      "100%|██████████| 5/5 [00:00<00:00,  6.40it/s]\n"
     ]
    },
    {
     "name": "stdout",
     "output_type": "stream",
     "text": [
      "Processing image 1/240 with azimuth: 5.242769667938316, elevation: 0.0, radius: 0.06494943459974382...\n",
      "input_image_path is: input_temp/image_0.png\n"
     ]
    },
    {
     "name": "stderr",
     "output_type": "stream",
     "text": [
      "100%|██████████| 50/50 [00:08<00:00,  6.13it/s]\n",
      "100%|██████████| 5/5 [00:00<00:00,  6.35it/s]\n"
     ]
    },
    {
     "name": "stdout",
     "output_type": "stream",
     "text": [
      "Processing image 1/240 with azimuth: 2.046100630845385, elevation: 0.0, radius: 0.08441313879708734...\n",
      "input_image_path is: input_temp/image_0.png\n"
     ]
    },
    {
     "name": "stderr",
     "output_type": "stream",
     "text": [
      "100%|██████████| 50/50 [00:08<00:00,  6.11it/s]\n",
      "100%|██████████| 5/5 [00:00<00:00,  6.34it/s]\n"
     ]
    },
    {
     "name": "stdout",
     "output_type": "stream",
     "text": [
      "Processing image 1/240 with azimuth: 3.2346118779091717, elevation: 0.0, radius: 0.09988992550722445...\n",
      "input_image_path is: input_temp/image_0.png\n"
     ]
    },
    {
     "name": "stderr",
     "output_type": "stream",
     "text": [
      "100%|██████████| 50/50 [00:08<00:00,  6.07it/s]\n",
      "100%|██████████| 5/5 [00:00<00:00,  6.33it/s]\n"
     ]
    },
    {
     "name": "stdout",
     "output_type": "stream",
     "text": [
      "Processing image 1/240 with azimuth: 4.862633999582974, elevation: 0.0, radius: 0.09137812639761449...\n",
      "input_image_path is: input_temp/image_0.png\n"
     ]
    },
    {
     "name": "stderr",
     "output_type": "stream",
     "text": [
      "100%|██████████| 50/50 [00:08<00:00,  6.07it/s]\n",
      "100%|██████████| 5/5 [00:00<00:00,  6.32it/s]\n"
     ]
    },
    {
     "name": "stdout",
     "output_type": "stream",
     "text": [
      "Processing image 1/240 with azimuth: 5.047537600261342, elevation: 0.0, radius: 0.03811409019810569...\n",
      "input_image_path is: input_temp/image_0.png\n"
     ]
    },
    {
     "name": "stderr",
     "output_type": "stream",
     "text": [
      "100%|██████████| 50/50 [00:08<00:00,  6.05it/s]\n",
      "100%|██████████| 5/5 [00:00<00:00,  6.32it/s]\n"
     ]
    },
    {
     "name": "stdout",
     "output_type": "stream",
     "text": [
      "Processing image 1/240 with azimuth: 5.753888278288539, elevation: 0.0, radius: 0.13990426557836044...\n",
      "input_image_path is: input_temp/image_0.png\n"
     ]
    },
    {
     "name": "stderr",
     "output_type": "stream",
     "text": [
      "100%|██████████| 50/50 [00:08<00:00,  6.05it/s]\n",
      "100%|██████████| 5/5 [00:00<00:00,  6.33it/s]\n"
     ]
    },
    {
     "name": "stdout",
     "output_type": "stream",
     "text": [
      "Processing image 1/240 with azimuth: 2.5412318812156194, elevation: 0.0, radius: 0.16572151574585997...\n",
      "input_image_path is: input_temp/image_0.png\n"
     ]
    },
    {
     "name": "stderr",
     "output_type": "stream",
     "text": [
      "100%|██████████| 50/50 [00:08<00:00,  6.04it/s]\n",
      "100%|██████████| 5/5 [00:00<00:00,  6.33it/s]\n"
     ]
    },
    {
     "name": "stdout",
     "output_type": "stream",
     "text": [
      "Processing image 1/240 with azimuth: 4.149654836089518, elevation: 0.0, radius: 0.16050702996807684...\n",
      "input_image_path is: input_temp/image_0.png\n"
     ]
    },
    {
     "name": "stderr",
     "output_type": "stream",
     "text": [
      "100%|██████████| 50/50 [00:08<00:00,  6.04it/s]\n",
      "100%|██████████| 5/5 [00:00<00:00,  6.31it/s]\n"
     ]
    },
    {
     "name": "stdout",
     "output_type": "stream",
     "text": [
      "Processing image 2/240 with azimuth: 0.0, elevation: 0.0, radius: 0.5844578603237067...\n",
      "input_image_path is: input_temp/image_1.png\n"
     ]
    },
    {
     "name": "stderr",
     "output_type": "stream",
     "text": [
      "100%|██████████| 50/50 [00:08<00:00,  6.02it/s]\n",
      "100%|██████████| 5/5 [00:00<00:00,  6.33it/s]\n"
     ]
    },
    {
     "name": "stdout",
     "output_type": "stream",
     "text": [
      "Processing image 2/240 with azimuth: 1.892659924836151, elevation: 0.0, radius: 0.06047015120846989...\n",
      "input_image_path is: input_temp/image_1.png\n"
     ]
    },
    {
     "name": "stderr",
     "output_type": "stream",
     "text": [
      "100%|██████████| 50/50 [00:08<00:00,  6.02it/s]\n",
      "100%|██████████| 5/5 [00:00<00:00,  6.32it/s]\n"
     ]
    },
    {
     "name": "stdout",
     "output_type": "stream",
     "text": [
      "Processing image 2/240 with azimuth: 0.45538038117007884, elevation: 0.0, radius: 0.10388574413599008...\n",
      "input_image_path is: input_temp/image_1.png\n"
     ]
    },
    {
     "name": "stderr",
     "output_type": "stream",
     "text": [
      "100%|██████████| 50/50 [00:08<00:00,  6.02it/s]\n",
      "100%|██████████| 5/5 [00:00<00:00,  6.31it/s]\n"
     ]
    },
    {
     "name": "stdout",
     "output_type": "stream",
     "text": [
      "Processing image 2/240 with azimuth: 3.905269450122221, elevation: 0.0, radius: 0.08720392185185276...\n",
      "input_image_path is: input_temp/image_1.png\n"
     ]
    },
    {
     "name": "stderr",
     "output_type": "stream",
     "text": [
      "100%|██████████| 50/50 [00:08<00:00,  6.02it/s]\n",
      "100%|██████████| 5/5 [00:00<00:00,  6.33it/s]\n"
     ]
    },
    {
     "name": "stdout",
     "output_type": "stream",
     "text": [
      "Processing image 2/240 with azimuth: 1.7764890471586214, elevation: 0.0, radius: 0.16684319480375265...\n",
      "input_image_path is: input_temp/image_1.png\n"
     ]
    },
    {
     "name": "stderr",
     "output_type": "stream",
     "text": [
      "100%|██████████| 50/50 [00:08<00:00,  6.02it/s]\n",
      "100%|██████████| 5/5 [00:00<00:00,  6.36it/s]\n"
     ]
    },
    {
     "name": "stdout",
     "output_type": "stream",
     "text": [
      "Processing image 2/240 with azimuth: 2.634317004521047, elevation: 0.0, radius: 0.16023634989522037...\n",
      "input_image_path is: input_temp/image_1.png\n"
     ]
    },
    {
     "name": "stderr",
     "output_type": "stream",
     "text": [
      "100%|██████████| 50/50 [00:08<00:00,  6.02it/s]\n",
      "100%|██████████| 5/5 [00:00<00:00,  6.37it/s]\n"
     ]
    },
    {
     "name": "stdout",
     "output_type": "stream",
     "text": [
      "Processing image 2/240 with azimuth: 1.7244680367034184, elevation: 0.0, radius: 0.14537169681199133...\n",
      "input_image_path is: input_temp/image_1.png\n"
     ]
    },
    {
     "name": "stderr",
     "output_type": "stream",
     "text": [
      "100%|██████████| 50/50 [00:08<00:00,  6.02it/s]\n",
      "100%|██████████| 5/5 [00:00<00:00,  6.36it/s]\n"
     ]
    },
    {
     "name": "stdout",
     "output_type": "stream",
     "text": [
      "Processing image 2/240 with azimuth: 5.442291160103186, elevation: 0.0, radius: 0.1621689670622886...\n",
      "input_image_path is: input_temp/image_1.png\n"
     ]
    },
    {
     "name": "stderr",
     "output_type": "stream",
     "text": [
      "100%|██████████| 50/50 [00:08<00:00,  6.02it/s]\n",
      "100%|██████████| 5/5 [00:00<00:00,  6.36it/s]\n"
     ]
    },
    {
     "name": "stdout",
     "output_type": "stream",
     "text": [
      "Processing image 2/240 with azimuth: 5.532693348220834, elevation: 0.0, radius: 0.052658931154352766...\n",
      "input_image_path is: input_temp/image_1.png\n"
     ]
    },
    {
     "name": "stderr",
     "output_type": "stream",
     "text": [
      "100%|██████████| 50/50 [00:08<00:00,  6.02it/s]\n",
      "100%|██████████| 5/5 [00:00<00:00,  6.40it/s]\n"
     ]
    },
    {
     "name": "stdout",
     "output_type": "stream",
     "text": [
      "Processing image 2/240 with azimuth: 3.584466880299965, elevation: 0.0, radius: 0.15740213052860896...\n",
      "input_image_path is: input_temp/image_1.png\n"
     ]
    },
    {
     "name": "stderr",
     "output_type": "stream",
     "text": [
      "100%|██████████| 50/50 [00:08<00:00,  6.02it/s]\n",
      "100%|██████████| 5/5 [00:00<00:00,  6.39it/s]\n"
     ]
    },
    {
     "name": "stdout",
     "output_type": "stream",
     "text": [
      "Processing image 2/240 with azimuth: 5.368214633546807, elevation: 0.0, radius: 0.058362136302054564...\n",
      "input_image_path is: input_temp/image_1.png\n"
     ]
    },
    {
     "name": "stderr",
     "output_type": "stream",
     "text": [
      "100%|██████████| 50/50 [00:08<00:00,  6.01it/s]\n",
      "100%|██████████| 5/5 [00:00<00:00,  6.40it/s]\n"
     ]
    },
    {
     "name": "stdout",
     "output_type": "stream",
     "text": [
      "Processing image 3/240 with azimuth: 0.0, elevation: 0.0, radius: 0.5844250532784457...\n",
      "input_image_path is: input_temp/image_2.png\n"
     ]
    },
    {
     "name": "stderr",
     "output_type": "stream",
     "text": [
      "100%|██████████| 50/50 [00:08<00:00,  6.01it/s]\n",
      "100%|██████████| 5/5 [00:00<00:00,  6.41it/s]\n"
     ]
    },
    {
     "name": "stdout",
     "output_type": "stream",
     "text": [
      "Processing image 3/240 with azimuth: 5.64473343382635, elevation: 0.0, radius: 0.16155629830194404...\n",
      "input_image_path is: input_temp/image_2.png\n"
     ]
    },
    {
     "name": "stderr",
     "output_type": "stream",
     "text": [
      "100%|██████████| 50/50 [00:08<00:00,  6.02it/s]\n",
      "100%|██████████| 5/5 [00:00<00:00,  6.45it/s]\n"
     ]
    },
    {
     "name": "stdout",
     "output_type": "stream",
     "text": [
      "Processing image 3/240 with azimuth: 0.16758276751369583, elevation: 0.0, radius: 0.06961430409590882...\n",
      "input_image_path is: input_temp/image_2.png\n"
     ]
    },
    {
     "name": "stderr",
     "output_type": "stream",
     "text": [
      "100%|██████████| 50/50 [00:08<00:00,  6.01it/s]\n",
      "100%|██████████| 5/5 [00:00<00:00,  6.44it/s]\n"
     ]
    },
    {
     "name": "stdout",
     "output_type": "stream",
     "text": [
      "Processing image 3/240 with azimuth: 4.073823900069338, elevation: 0.0, radius: 0.059712267809465605...\n",
      "input_image_path is: input_temp/image_2.png\n"
     ]
    },
    {
     "name": "stderr",
     "output_type": "stream",
     "text": [
      "100%|██████████| 50/50 [00:08<00:00,  6.01it/s]\n",
      "100%|██████████| 5/5 [00:00<00:00,  6.43it/s]\n"
     ]
    },
    {
     "name": "stdout",
     "output_type": "stream",
     "text": [
      "Processing image 3/240 with azimuth: 4.251547538183514, elevation: 0.0, radius: 0.15291500036776678...\n",
      "input_image_path is: input_temp/image_2.png\n"
     ]
    },
    {
     "name": "stderr",
     "output_type": "stream",
     "text": [
      "100%|██████████| 50/50 [00:08<00:00,  6.01it/s]\n",
      "100%|██████████| 5/5 [00:00<00:00,  6.42it/s]\n"
     ]
    },
    {
     "name": "stdout",
     "output_type": "stream",
     "text": [
      "Processing image 3/240 with azimuth: 0.9736701462839765, elevation: 0.0, radius: 0.14840568787640138...\n",
      "input_image_path is: input_temp/image_2.png\n"
     ]
    },
    {
     "name": "stderr",
     "output_type": "stream",
     "text": [
      "100%|██████████| 50/50 [00:08<00:00,  6.02it/s]\n",
      "100%|██████████| 5/5 [00:00<00:00,  6.41it/s]\n"
     ]
    },
    {
     "name": "stdout",
     "output_type": "stream",
     "text": [
      "Processing image 3/240 with azimuth: 5.02717267304637, elevation: 0.0, radius: 0.020604283382588184...\n",
      "input_image_path is: input_temp/image_2.png\n"
     ]
    },
    {
     "name": "stderr",
     "output_type": "stream",
     "text": [
      "100%|██████████| 50/50 [00:08<00:00,  6.01it/s]\n",
      "100%|██████████| 5/5 [00:00<00:00,  6.42it/s]\n"
     ]
    },
    {
     "name": "stdout",
     "output_type": "stream",
     "text": [
      "Processing image 3/240 with azimuth: 1.0236718092180113, elevation: 0.0, radius: 0.12168133638221626...\n",
      "input_image_path is: input_temp/image_2.png\n"
     ]
    },
    {
     "name": "stderr",
     "output_type": "stream",
     "text": [
      "100%|██████████| 50/50 [00:08<00:00,  6.01it/s]\n",
      "100%|██████████| 5/5 [00:00<00:00,  6.41it/s]\n"
     ]
    },
    {
     "name": "stdout",
     "output_type": "stream",
     "text": [
      "Processing image 3/240 with azimuth: 1.5960018569733145, elevation: 0.0, radius: 0.044440186547036215...\n",
      "input_image_path is: input_temp/image_2.png\n"
     ]
    },
    {
     "name": "stderr",
     "output_type": "stream",
     "text": [
      "100%|██████████| 50/50 [00:08<00:00,  6.01it/s]\n",
      "100%|██████████| 5/5 [00:00<00:00,  6.42it/s]\n"
     ]
    },
    {
     "name": "stdout",
     "output_type": "stream",
     "text": [
      "Processing image 3/240 with azimuth: 0.6521974706104021, elevation: 0.0, radius: 0.16326267278424134...\n",
      "input_image_path is: input_temp/image_2.png\n"
     ]
    },
    {
     "name": "stderr",
     "output_type": "stream",
     "text": [
      "100%|██████████| 50/50 [00:08<00:00,  6.01it/s]\n",
      "100%|██████████| 5/5 [00:00<00:00,  6.42it/s]\n"
     ]
    },
    {
     "name": "stdout",
     "output_type": "stream",
     "text": [
      "Processing image 3/240 with azimuth: 2.829087678055096, elevation: 0.0, radius: 0.03767010277664062...\n",
      "input_image_path is: input_temp/image_2.png\n"
     ]
    },
    {
     "name": "stderr",
     "output_type": "stream",
     "text": [
      "100%|██████████| 50/50 [00:08<00:00,  6.01it/s]\n",
      "100%|██████████| 5/5 [00:00<00:00,  6.40it/s]\n"
     ]
    },
    {
     "name": "stdout",
     "output_type": "stream",
     "text": [
      "Processing image 4/240 with azimuth: 0.0, elevation: 0.0, radius: 0.5840877550947847...\n",
      "input_image_path is: input_temp/image_3.png\n"
     ]
    },
    {
     "name": "stderr",
     "output_type": "stream",
     "text": [
      "100%|██████████| 50/50 [00:08<00:00,  6.01it/s]\n",
      "100%|██████████| 5/5 [00:00<00:00,  6.41it/s]\n"
     ]
    },
    {
     "name": "stdout",
     "output_type": "stream",
     "text": [
      "Processing image 4/240 with azimuth: 1.9623034744199712, elevation: 0.0, radius: 0.1642078939686852...\n",
      "input_image_path is: input_temp/image_3.png\n"
     ]
    },
    {
     "name": "stderr",
     "output_type": "stream",
     "text": [
      "100%|██████████| 50/50 [00:08<00:00,  6.01it/s]\n",
      "100%|██████████| 5/5 [00:00<00:00,  6.39it/s]\n"
     ]
    },
    {
     "name": "stdout",
     "output_type": "stream",
     "text": [
      "Processing image 4/240 with azimuth: 5.412513721043235, elevation: 0.0, radius: 0.1096274615456799...\n",
      "input_image_path is: input_temp/image_3.png\n"
     ]
    },
    {
     "name": "stderr",
     "output_type": "stream",
     "text": [
      "100%|██████████| 50/50 [00:08<00:00,  6.01it/s]\n",
      "100%|██████████| 5/5 [00:00<00:00,  6.41it/s]\n"
     ]
    },
    {
     "name": "stdout",
     "output_type": "stream",
     "text": [
      "Processing image 4/240 with azimuth: 0.9025111517886941, elevation: 0.0, radius: 0.10069125057190235...\n",
      "input_image_path is: input_temp/image_3.png\n"
     ]
    },
    {
     "name": "stderr",
     "output_type": "stream",
     "text": [
      "100%|██████████| 50/50 [00:08<00:00,  6.01it/s]\n",
      "100%|██████████| 5/5 [00:00<00:00,  6.41it/s]\n"
     ]
    },
    {
     "name": "stdout",
     "output_type": "stream",
     "text": [
      "Processing image 4/240 with azimuth: 5.430366645531941, elevation: 0.0, radius: 0.14453665259703696...\n",
      "input_image_path is: input_temp/image_3.png\n"
     ]
    },
    {
     "name": "stderr",
     "output_type": "stream",
     "text": [
      "100%|██████████| 50/50 [00:08<00:00,  6.02it/s]\n",
      "100%|██████████| 5/5 [00:00<00:00,  6.38it/s]\n"
     ]
    },
    {
     "name": "stdout",
     "output_type": "stream",
     "text": [
      "Processing image 4/240 with azimuth: 6.0894413469256135, elevation: 0.0, radius: 0.08412942870532272...\n",
      "input_image_path is: input_temp/image_3.png\n"
     ]
    },
    {
     "name": "stderr",
     "output_type": "stream",
     "text": [
      "100%|██████████| 50/50 [00:08<00:00,  6.01it/s]\n",
      "100%|██████████| 5/5 [00:00<00:00,  6.37it/s]\n"
     ]
    },
    {
     "name": "stdout",
     "output_type": "stream",
     "text": [
      "Processing image 4/240 with azimuth: 4.724703267864793, elevation: 0.0, radius: 0.11180967209435592...\n",
      "input_image_path is: input_temp/image_3.png\n"
     ]
    },
    {
     "name": "stderr",
     "output_type": "stream",
     "text": [
      "100%|██████████| 50/50 [00:08<00:00,  6.01it/s]\n",
      "100%|██████████| 5/5 [00:00<00:00,  6.35it/s]\n"
     ]
    },
    {
     "name": "stdout",
     "output_type": "stream",
     "text": [
      "Processing image 4/240 with azimuth: 0.9259513606753765, elevation: 0.0, radius: 0.03326318333097413...\n",
      "input_image_path is: input_temp/image_3.png\n"
     ]
    },
    {
     "name": "stderr",
     "output_type": "stream",
     "text": [
      "100%|██████████| 50/50 [00:08<00:00,  6.02it/s]\n",
      "100%|██████████| 5/5 [00:00<00:00,  6.33it/s]\n"
     ]
    },
    {
     "name": "stdout",
     "output_type": "stream",
     "text": [
      "Processing image 4/240 with azimuth: 1.2199506131107354, elevation: 0.0, radius: 0.11863352089789514...\n",
      "input_image_path is: input_temp/image_3.png\n"
     ]
    },
    {
     "name": "stderr",
     "output_type": "stream",
     "text": [
      "100%|██████████| 50/50 [00:08<00:00,  6.02it/s]\n",
      "100%|██████████| 5/5 [00:00<00:00,  6.36it/s]\n"
     ]
    },
    {
     "name": "stdout",
     "output_type": "stream",
     "text": [
      "Processing image 4/240 with azimuth: 0.21560539745247323, elevation: 0.0, radius: 0.13324280737415772...\n",
      "input_image_path is: input_temp/image_3.png\n"
     ]
    },
    {
     "name": "stderr",
     "output_type": "stream",
     "text": [
      "100%|██████████| 50/50 [00:08<00:00,  6.02it/s]\n",
      "100%|██████████| 5/5 [00:00<00:00,  6.34it/s]\n"
     ]
    },
    {
     "name": "stdout",
     "output_type": "stream",
     "text": [
      "Processing image 4/240 with azimuth: 3.0528598207381465, elevation: 0.0, radius: 0.11181215373953263...\n",
      "input_image_path is: input_temp/image_3.png\n"
     ]
    },
    {
     "name": "stderr",
     "output_type": "stream",
     "text": [
      "100%|██████████| 50/50 [00:08<00:00,  6.02it/s]\n",
      "100%|██████████| 5/5 [00:00<00:00,  6.32it/s]\n"
     ]
    },
    {
     "name": "stdout",
     "output_type": "stream",
     "text": [
      "Processing image 5/240 with azimuth: 0.0, elevation: 0.0, radius: 0.5845575469176625...\n",
      "input_image_path is: input_temp/image_4.png\n"
     ]
    },
    {
     "name": "stderr",
     "output_type": "stream",
     "text": [
      "100%|██████████| 50/50 [00:08<00:00,  6.02it/s]\n",
      "100%|██████████| 5/5 [00:00<00:00,  6.33it/s]\n"
     ]
    },
    {
     "name": "stdout",
     "output_type": "stream",
     "text": [
      "Processing image 5/240 with azimuth: 5.479861316215089, elevation: 0.0, radius: 0.09577729290154692...\n",
      "input_image_path is: input_temp/image_4.png\n"
     ]
    },
    {
     "name": "stderr",
     "output_type": "stream",
     "text": [
      "100%|██████████| 50/50 [00:08<00:00,  6.02it/s]\n",
      "100%|██████████| 5/5 [00:00<00:00,  6.33it/s]\n"
     ]
    },
    {
     "name": "stdout",
     "output_type": "stream",
     "text": [
      "Processing image 5/240 with azimuth: 6.15779594983978, elevation: 0.0, radius: 0.027972011977548...\n",
      "input_image_path is: input_temp/image_4.png\n"
     ]
    },
    {
     "name": "stderr",
     "output_type": "stream",
     "text": [
      "100%|██████████| 50/50 [00:08<00:00,  6.02it/s]\n",
      "100%|██████████| 5/5 [00:00<00:00,  6.35it/s]\n"
     ]
    },
    {
     "name": "stdout",
     "output_type": "stream",
     "text": [
      "Processing image 5/240 with azimuth: 5.655600980313102, elevation: 0.0, radius: 0.12967602957817465...\n",
      "input_image_path is: input_temp/image_4.png\n"
     ]
    },
    {
     "name": "stderr",
     "output_type": "stream",
     "text": [
      "100%|██████████| 50/50 [00:08<00:00,  6.02it/s]\n",
      "100%|██████████| 5/5 [00:00<00:00,  6.34it/s]\n"
     ]
    },
    {
     "name": "stdout",
     "output_type": "stream",
     "text": [
      "Processing image 5/240 with azimuth: 3.7912006002190854, elevation: 0.0, radius: 0.07309269291550656...\n",
      "input_image_path is: input_temp/image_4.png\n"
     ]
    },
    {
     "name": "stderr",
     "output_type": "stream",
     "text": [
      "100%|██████████| 50/50 [00:08<00:00,  6.02it/s]\n",
      "100%|██████████| 5/5 [00:00<00:00,  6.32it/s]\n"
     ]
    },
    {
     "name": "stdout",
     "output_type": "stream",
     "text": [
      "Processing image 5/240 with azimuth: 1.0863523217189495, elevation: 0.0, radius: 0.14030672715256584...\n",
      "input_image_path is: input_temp/image_4.png\n"
     ]
    },
    {
     "name": "stderr",
     "output_type": "stream",
     "text": [
      "100%|██████████| 50/50 [00:08<00:00,  6.02it/s]\n",
      "100%|██████████| 5/5 [00:00<00:00,  6.33it/s]\n"
     ]
    },
    {
     "name": "stdout",
     "output_type": "stream",
     "text": [
      "Processing image 5/240 with azimuth: 6.270198502648842, elevation: 0.0, radius: 0.027290803159781944...\n",
      "input_image_path is: input_temp/image_4.png\n"
     ]
    },
    {
     "name": "stderr",
     "output_type": "stream",
     "text": [
      "100%|██████████| 50/50 [00:08<00:00,  6.02it/s]\n",
      "100%|██████████| 5/5 [00:00<00:00,  6.33it/s]\n"
     ]
    },
    {
     "name": "stdout",
     "output_type": "stream",
     "text": [
      "Processing image 5/240 with azimuth: 4.260802917688662, elevation: 0.0, radius: 0.04871432712712648...\n",
      "input_image_path is: input_temp/image_4.png\n"
     ]
    },
    {
     "name": "stderr",
     "output_type": "stream",
     "text": [
      "100%|██████████| 50/50 [00:08<00:00,  6.02it/s]\n",
      "100%|██████████| 5/5 [00:00<00:00,  6.33it/s]\n"
     ]
    },
    {
     "name": "stdout",
     "output_type": "stream",
     "text": [
      "Processing image 5/240 with azimuth: 3.065519931964274, elevation: 0.0, radius: 0.07472832345727445...\n",
      "input_image_path is: input_temp/image_4.png\n"
     ]
    },
    {
     "name": "stderr",
     "output_type": "stream",
     "text": [
      "100%|██████████| 50/50 [00:08<00:00,  6.02it/s]\n",
      "100%|██████████| 5/5 [00:00<00:00,  6.36it/s]\n"
     ]
    },
    {
     "name": "stdout",
     "output_type": "stream",
     "text": [
      "Processing image 5/240 with azimuth: 1.45515623705449, elevation: 0.0, radius: 0.14778657324587846...\n",
      "input_image_path is: input_temp/image_4.png\n"
     ]
    },
    {
     "name": "stderr",
     "output_type": "stream",
     "text": [
      "100%|██████████| 50/50 [00:08<00:00,  6.02it/s]\n",
      "100%|██████████| 5/5 [00:00<00:00,  6.35it/s]\n"
     ]
    },
    {
     "name": "stdout",
     "output_type": "stream",
     "text": [
      "Processing image 5/240 with azimuth: 0.6674663736975771, elevation: 0.0, radius: 0.16013257105947598...\n",
      "input_image_path is: input_temp/image_4.png\n"
     ]
    },
    {
     "name": "stderr",
     "output_type": "stream",
     "text": [
      "100%|██████████| 50/50 [00:08<00:00,  6.01it/s]\n",
      "100%|██████████| 5/5 [00:00<00:00,  6.35it/s]\n"
     ]
    },
    {
     "name": "stdout",
     "output_type": "stream",
     "text": [
      "Processing image 6/240 with azimuth: 0.0, elevation: 0.0, radius: 0.5842538990821157...\n",
      "input_image_path is: input_temp/image_5.png\n"
     ]
    },
    {
     "name": "stderr",
     "output_type": "stream",
     "text": [
      "100%|██████████| 50/50 [00:08<00:00,  6.02it/s]\n",
      "100%|██████████| 5/5 [00:00<00:00,  6.35it/s]\n"
     ]
    },
    {
     "name": "stdout",
     "output_type": "stream",
     "text": [
      "Processing image 6/240 with azimuth: 5.8357503276961475, elevation: 0.0, radius: 0.06425564408435155...\n",
      "input_image_path is: input_temp/image_5.png\n"
     ]
    },
    {
     "name": "stderr",
     "output_type": "stream",
     "text": [
      "100%|██████████| 50/50 [00:08<00:00,  6.02it/s]\n",
      "100%|██████████| 5/5 [00:00<00:00,  6.35it/s]\n"
     ]
    },
    {
     "name": "stdout",
     "output_type": "stream",
     "text": [
      "Processing image 6/240 with azimuth: 2.7858735132020462, elevation: 0.0, radius: 0.14076492634877663...\n",
      "input_image_path is: input_temp/image_5.png\n"
     ]
    },
    {
     "name": "stderr",
     "output_type": "stream",
     "text": [
      "100%|██████████| 50/50 [00:08<00:00,  6.02it/s]\n",
      "100%|██████████| 5/5 [00:00<00:00,  6.34it/s]\n"
     ]
    },
    {
     "name": "stdout",
     "output_type": "stream",
     "text": [
      "Processing image 6/240 with azimuth: 3.918226972157681, elevation: 0.0, radius: 0.09423350115142669...\n",
      "input_image_path is: input_temp/image_5.png\n"
     ]
    },
    {
     "name": "stderr",
     "output_type": "stream",
     "text": [
      "100%|██████████| 50/50 [00:08<00:00,  6.02it/s]\n",
      "100%|██████████| 5/5 [00:00<00:00,  6.35it/s]\n"
     ]
    },
    {
     "name": "stdout",
     "output_type": "stream",
     "text": [
      "Processing image 6/240 with azimuth: 0.019425264091448267, elevation: 0.0, radius: 0.06282750406941268...\n",
      "input_image_path is: input_temp/image_5.png\n"
     ]
    },
    {
     "name": "stderr",
     "output_type": "stream",
     "text": [
      "100%|██████████| 50/50 [00:08<00:00,  6.01it/s]\n",
      "100%|██████████| 5/5 [00:00<00:00,  6.34it/s]\n"
     ]
    },
    {
     "name": "stdout",
     "output_type": "stream",
     "text": [
      "Processing image 6/240 with azimuth: 3.2570510282663023, elevation: 0.0, radius: 0.17287321062925987...\n",
      "input_image_path is: input_temp/image_5.png\n"
     ]
    },
    {
     "name": "stderr",
     "output_type": "stream",
     "text": [
      "100%|██████████| 50/50 [00:08<00:00,  6.02it/s]\n",
      "100%|██████████| 5/5 [00:00<00:00,  6.35it/s]\n"
     ]
    },
    {
     "name": "stdout",
     "output_type": "stream",
     "text": [
      "Processing image 6/240 with azimuth: 3.43127824727068, elevation: 0.0, radius: 0.17135579697793385...\n",
      "input_image_path is: input_temp/image_5.png\n"
     ]
    },
    {
     "name": "stderr",
     "output_type": "stream",
     "text": [
      "100%|██████████| 50/50 [00:08<00:00,  6.02it/s]\n",
      "100%|██████████| 5/5 [00:00<00:00,  6.35it/s]\n"
     ]
    },
    {
     "name": "stdout",
     "output_type": "stream",
     "text": [
      "Processing image 6/240 with azimuth: 0.01367019204273119, elevation: 0.0, radius: 0.11267267403290589...\n",
      "input_image_path is: input_temp/image_5.png\n"
     ]
    },
    {
     "name": "stderr",
     "output_type": "stream",
     "text": [
      "100%|██████████| 50/50 [00:08<00:00,  6.02it/s]\n",
      "100%|██████████| 5/5 [00:00<00:00,  6.35it/s]\n"
     ]
    },
    {
     "name": "stdout",
     "output_type": "stream",
     "text": [
      "Processing image 6/240 with azimuth: 0.9402738199785327, elevation: 0.0, radius: 0.11953299195402615...\n",
      "input_image_path is: input_temp/image_5.png\n"
     ]
    },
    {
     "name": "stderr",
     "output_type": "stream",
     "text": [
      "100%|██████████| 50/50 [00:08<00:00,  6.01it/s]\n",
      "100%|██████████| 5/5 [00:00<00:00,  6.34it/s]\n"
     ]
    },
    {
     "name": "stdout",
     "output_type": "stream",
     "text": [
      "Processing image 6/240 with azimuth: 4.1773117815203, elevation: 0.0, radius: 0.12515556072490483...\n",
      "input_image_path is: input_temp/image_5.png\n"
     ]
    },
    {
     "name": "stderr",
     "output_type": "stream",
     "text": [
      "100%|██████████| 50/50 [00:08<00:00,  6.01it/s]\n",
      "100%|██████████| 5/5 [00:00<00:00,  6.35it/s]\n"
     ]
    },
    {
     "name": "stdout",
     "output_type": "stream",
     "text": [
      "Processing image 6/240 with azimuth: 1.6585780139869066, elevation: 0.0, radius: 0.13225772819717319...\n",
      "input_image_path is: input_temp/image_5.png\n"
     ]
    },
    {
     "name": "stderr",
     "output_type": "stream",
     "text": [
      "100%|██████████| 50/50 [00:08<00:00,  6.01it/s]\n",
      "100%|██████████| 5/5 [00:00<00:00,  6.34it/s]\n"
     ]
    },
    {
     "name": "stdout",
     "output_type": "stream",
     "text": [
      "Processing image 7/240 with azimuth: 0.0, elevation: 0.0, radius: 0.5843566033300237...\n",
      "input_image_path is: input_temp/image_6.png\n"
     ]
    },
    {
     "name": "stderr",
     "output_type": "stream",
     "text": [
      "100%|██████████| 50/50 [00:08<00:00,  6.02it/s]\n",
      "100%|██████████| 5/5 [00:00<00:00,  6.33it/s]\n"
     ]
    },
    {
     "name": "stdout",
     "output_type": "stream",
     "text": [
      "Processing image 7/240 with azimuth: 0.1503570071082925, elevation: 0.0, radius: 0.14057990824479707...\n",
      "input_image_path is: input_temp/image_6.png\n"
     ]
    },
    {
     "name": "stderr",
     "output_type": "stream",
     "text": [
      "100%|██████████| 50/50 [00:08<00:00,  6.01it/s]\n",
      "100%|██████████| 5/5 [00:00<00:00,  6.37it/s]\n"
     ]
    },
    {
     "name": "stdout",
     "output_type": "stream",
     "text": [
      "Processing image 7/240 with azimuth: 1.752627846507451, elevation: 0.0, radius: 0.0351348658354916...\n",
      "input_image_path is: input_temp/image_6.png\n"
     ]
    },
    {
     "name": "stderr",
     "output_type": "stream",
     "text": [
      "100%|██████████| 50/50 [00:08<00:00,  6.01it/s]\n",
      "100%|██████████| 5/5 [00:00<00:00,  6.38it/s]\n"
     ]
    },
    {
     "name": "stdout",
     "output_type": "stream",
     "text": [
      "Processing image 7/240 with azimuth: 6.277605808780558, elevation: 0.0, radius: 0.1354275747377438...\n",
      "input_image_path is: input_temp/image_6.png\n"
     ]
    },
    {
     "name": "stderr",
     "output_type": "stream",
     "text": [
      "100%|██████████| 50/50 [00:08<00:00,  6.00it/s]\n",
      "100%|██████████| 5/5 [00:00<00:00,  6.36it/s]\n"
     ]
    },
    {
     "name": "stdout",
     "output_type": "stream",
     "text": [
      "Processing image 7/240 with azimuth: 0.9880108144416572, elevation: 0.0, radius: 0.14562080380928238...\n",
      "input_image_path is: input_temp/image_6.png\n"
     ]
    },
    {
     "name": "stderr",
     "output_type": "stream",
     "text": [
      "100%|██████████| 50/50 [00:08<00:00,  6.01it/s]\n",
      "100%|██████████| 5/5 [00:00<00:00,  6.35it/s]\n"
     ]
    },
    {
     "name": "stdout",
     "output_type": "stream",
     "text": [
      "Processing image 7/240 with azimuth: 1.2885323590438864, elevation: 0.0, radius: 0.1640805174901843...\n",
      "input_image_path is: input_temp/image_6.png\n"
     ]
    },
    {
     "name": "stderr",
     "output_type": "stream",
     "text": [
      "100%|██████████| 50/50 [00:08<00:00,  6.01it/s]\n",
      "100%|██████████| 5/5 [00:00<00:00,  6.35it/s]\n"
     ]
    },
    {
     "name": "stdout",
     "output_type": "stream",
     "text": [
      "Processing image 7/240 with azimuth: 3.3651801873879053, elevation: 0.0, radius: 0.05852247662508812...\n",
      "input_image_path is: input_temp/image_6.png\n"
     ]
    },
    {
     "name": "stderr",
     "output_type": "stream",
     "text": [
      "100%|██████████| 50/50 [00:08<00:00,  6.01it/s]\n",
      "100%|██████████| 5/5 [00:00<00:00,  6.35it/s]\n"
     ]
    },
    {
     "name": "stdout",
     "output_type": "stream",
     "text": [
      "Processing image 7/240 with azimuth: 2.558608302810333, elevation: 0.0, radius: 0.12726739127572645...\n",
      "input_image_path is: input_temp/image_6.png\n"
     ]
    },
    {
     "name": "stderr",
     "output_type": "stream",
     "text": [
      "100%|██████████| 50/50 [00:08<00:00,  6.01it/s]\n",
      "100%|██████████| 5/5 [00:00<00:00,  6.35it/s]\n"
     ]
    },
    {
     "name": "stdout",
     "output_type": "stream",
     "text": [
      "Processing image 7/240 with azimuth: 1.7549234469332389, elevation: 0.0, radius: 0.11483726120997614...\n",
      "input_image_path is: input_temp/image_6.png\n"
     ]
    },
    {
     "name": "stderr",
     "output_type": "stream",
     "text": [
      "100%|██████████| 50/50 [00:08<00:00,  6.02it/s]\n",
      "100%|██████████| 5/5 [00:00<00:00,  6.34it/s]\n"
     ]
    },
    {
     "name": "stdout",
     "output_type": "stream",
     "text": [
      "Processing image 7/240 with azimuth: 3.90050950548657, elevation: 0.0, radius: 0.16771916311013343...\n",
      "input_image_path is: input_temp/image_6.png\n"
     ]
    },
    {
     "name": "stderr",
     "output_type": "stream",
     "text": [
      "100%|██████████| 50/50 [00:08<00:00,  6.01it/s]\n",
      "100%|██████████| 5/5 [00:00<00:00,  6.36it/s]\n"
     ]
    },
    {
     "name": "stdout",
     "output_type": "stream",
     "text": [
      "Processing image 7/240 with azimuth: 0.7631270142441455, elevation: 0.0, radius: 0.039392748394709194...\n",
      "input_image_path is: input_temp/image_6.png\n"
     ]
    },
    {
     "name": "stderr",
     "output_type": "stream",
     "text": [
      "100%|██████████| 50/50 [00:08<00:00,  6.01it/s]\n",
      "100%|██████████| 5/5 [00:00<00:00,  6.37it/s]\n"
     ]
    },
    {
     "name": "stdout",
     "output_type": "stream",
     "text": [
      "Processing image 8/240 with azimuth: 0.0, elevation: 0.0, radius: 0.5842891862013885...\n",
      "input_image_path is: input_temp/image_7.png\n"
     ]
    },
    {
     "name": "stderr",
     "output_type": "stream",
     "text": [
      "100%|██████████| 50/50 [00:08<00:00,  6.01it/s]\n",
      "100%|██████████| 5/5 [00:00<00:00,  6.34it/s]\n"
     ]
    },
    {
     "name": "stdout",
     "output_type": "stream",
     "text": [
      "Processing image 8/240 with azimuth: 5.906165290338735, elevation: 0.0, radius: 0.04565895300628466...\n",
      "input_image_path is: input_temp/image_7.png\n"
     ]
    },
    {
     "name": "stderr",
     "output_type": "stream",
     "text": [
      "100%|██████████| 50/50 [00:08<00:00,  6.01it/s]\n",
      "100%|██████████| 5/5 [00:00<00:00,  6.36it/s]\n"
     ]
    },
    {
     "name": "stdout",
     "output_type": "stream",
     "text": [
      "Processing image 8/240 with azimuth: 2.582230055682735, elevation: 0.0, radius: 0.07430615285219723...\n",
      "input_image_path is: input_temp/image_7.png\n"
     ]
    },
    {
     "name": "stderr",
     "output_type": "stream",
     "text": [
      "100%|██████████| 50/50 [00:08<00:00,  6.01it/s]\n",
      "100%|██████████| 5/5 [00:00<00:00,  6.36it/s]\n"
     ]
    },
    {
     "name": "stdout",
     "output_type": "stream",
     "text": [
      "Processing image 8/240 with azimuth: 3.6864847432462486, elevation: 0.0, radius: 0.1359367842644485...\n",
      "input_image_path is: input_temp/image_7.png\n"
     ]
    },
    {
     "name": "stderr",
     "output_type": "stream",
     "text": [
      "100%|██████████| 50/50 [00:08<00:00,  6.01it/s]\n",
      "100%|██████████| 5/5 [00:00<00:00,  6.36it/s]\n"
     ]
    },
    {
     "name": "stdout",
     "output_type": "stream",
     "text": [
      "Processing image 8/240 with azimuth: 4.545956173923892, elevation: 0.0, radius: 0.14100372590856644...\n",
      "input_image_path is: input_temp/image_7.png\n"
     ]
    },
    {
     "name": "stderr",
     "output_type": "stream",
     "text": [
      "100%|██████████| 50/50 [00:08<00:00,  6.01it/s]\n",
      "100%|██████████| 5/5 [00:00<00:00,  6.35it/s]\n"
     ]
    },
    {
     "name": "stdout",
     "output_type": "stream",
     "text": [
      "Processing image 8/240 with azimuth: 4.991335253357118, elevation: 0.0, radius: 0.12267451288667323...\n",
      "input_image_path is: input_temp/image_7.png\n"
     ]
    },
    {
     "name": "stderr",
     "output_type": "stream",
     "text": [
      "100%|██████████| 50/50 [00:08<00:00,  6.01it/s]\n",
      "100%|██████████| 5/5 [00:00<00:00,  6.36it/s]\n"
     ]
    },
    {
     "name": "stdout",
     "output_type": "stream",
     "text": [
      "Processing image 8/240 with azimuth: 1.0335431078913557, elevation: 0.0, radius: 0.09036242878416609...\n",
      "input_image_path is: input_temp/image_7.png\n"
     ]
    },
    {
     "name": "stderr",
     "output_type": "stream",
     "text": [
      "100%|██████████| 50/50 [00:08<00:00,  6.01it/s]\n",
      "100%|██████████| 5/5 [00:00<00:00,  6.35it/s]\n"
     ]
    },
    {
     "name": "stdout",
     "output_type": "stream",
     "text": [
      "Processing image 8/240 with azimuth: 4.567153916729587, elevation: 0.0, radius: 0.13993889327457742...\n",
      "input_image_path is: input_temp/image_7.png\n"
     ]
    },
    {
     "name": "stderr",
     "output_type": "stream",
     "text": [
      "100%|██████████| 50/50 [00:08<00:00,  6.01it/s]\n",
      "100%|██████████| 5/5 [00:00<00:00,  6.37it/s]\n"
     ]
    },
    {
     "name": "stdout",
     "output_type": "stream",
     "text": [
      "Processing image 8/240 with azimuth: 1.398608747859182, elevation: 0.0, radius: 0.045929145657814745...\n",
      "input_image_path is: input_temp/image_7.png\n"
     ]
    },
    {
     "name": "stderr",
     "output_type": "stream",
     "text": [
      "100%|██████████| 50/50 [00:08<00:00,  6.01it/s]\n",
      "100%|██████████| 5/5 [00:00<00:00,  6.39it/s]\n"
     ]
    },
    {
     "name": "stdout",
     "output_type": "stream",
     "text": [
      "Processing image 8/240 with azimuth: 4.258918192029541, elevation: 0.0, radius: 0.08185690256247179...\n",
      "input_image_path is: input_temp/image_7.png\n"
     ]
    },
    {
     "name": "stderr",
     "output_type": "stream",
     "text": [
      "100%|██████████| 50/50 [00:08<00:00,  6.01it/s]\n",
      "100%|██████████| 5/5 [00:00<00:00,  6.38it/s]\n"
     ]
    },
    {
     "name": "stdout",
     "output_type": "stream",
     "text": [
      "Processing image 8/240 with azimuth: 5.809368617425216, elevation: 0.0, radius: 0.059741297985650456...\n",
      "input_image_path is: input_temp/image_7.png\n"
     ]
    },
    {
     "name": "stderr",
     "output_type": "stream",
     "text": [
      "100%|██████████| 50/50 [00:08<00:00,  6.01it/s]\n",
      "100%|██████████| 5/5 [00:00<00:00,  6.38it/s]\n"
     ]
    },
    {
     "name": "stdout",
     "output_type": "stream",
     "text": [
      "Processing image 9/240 with azimuth: 0.0, elevation: 0.0, radius: 0.584523628520062...\n",
      "input_image_path is: input_temp/image_8.png\n"
     ]
    },
    {
     "name": "stderr",
     "output_type": "stream",
     "text": [
      "100%|██████████| 50/50 [00:08<00:00,  6.01it/s]\n",
      "100%|██████████| 5/5 [00:00<00:00,  6.39it/s]\n"
     ]
    },
    {
     "name": "stdout",
     "output_type": "stream",
     "text": [
      "Processing image 9/240 with azimuth: 3.2882554908504105, elevation: 0.0, radius: 0.07834485418677602...\n",
      "input_image_path is: input_temp/image_8.png\n"
     ]
    },
    {
     "name": "stderr",
     "output_type": "stream",
     "text": [
      "100%|██████████| 50/50 [00:08<00:00,  6.02it/s]\n",
      "100%|██████████| 5/5 [00:00<00:00,  6.40it/s]\n"
     ]
    },
    {
     "name": "stdout",
     "output_type": "stream",
     "text": [
      "Processing image 9/240 with azimuth: 4.9186902913096215, elevation: 0.0, radius: 0.118063104236935...\n",
      "input_image_path is: input_temp/image_8.png\n"
     ]
    },
    {
     "name": "stderr",
     "output_type": "stream",
     "text": [
      "100%|██████████| 50/50 [00:08<00:00,  6.01it/s]\n",
      "100%|██████████| 5/5 [00:00<00:00,  6.40it/s]\n"
     ]
    },
    {
     "name": "stdout",
     "output_type": "stream",
     "text": [
      "Processing image 9/240 with azimuth: 3.2291325415869827, elevation: 0.0, radius: 0.08875275977941588...\n",
      "input_image_path is: input_temp/image_8.png\n"
     ]
    },
    {
     "name": "stderr",
     "output_type": "stream",
     "text": [
      "100%|██████████| 50/50 [00:08<00:00,  6.01it/s]\n",
      "100%|██████████| 5/5 [00:00<00:00,  6.39it/s]\n"
     ]
    },
    {
     "name": "stdout",
     "output_type": "stream",
     "text": [
      "Processing image 9/240 with azimuth: 4.0350824009965764, elevation: 0.0, radius: 0.05505949067763885...\n",
      "input_image_path is: input_temp/image_8.png\n"
     ]
    },
    {
     "name": "stderr",
     "output_type": "stream",
     "text": [
      "100%|██████████| 50/50 [00:08<00:00,  6.01it/s]\n",
      "100%|██████████| 5/5 [00:00<00:00,  6.36it/s]\n"
     ]
    },
    {
     "name": "stdout",
     "output_type": "stream",
     "text": [
      "Processing image 9/240 with azimuth: 4.312675259080026, elevation: 0.0, radius: 0.1226821298267833...\n",
      "input_image_path is: input_temp/image_8.png\n"
     ]
    },
    {
     "name": "stderr",
     "output_type": "stream",
     "text": [
      "100%|██████████| 50/50 [00:08<00:00,  6.01it/s]\n",
      "100%|██████████| 5/5 [00:00<00:00,  6.35it/s]\n"
     ]
    },
    {
     "name": "stdout",
     "output_type": "stream",
     "text": [
      "Processing image 9/240 with azimuth: 4.648733413345878, elevation: 0.0, radius: 0.08183293051546299...\n",
      "input_image_path is: input_temp/image_8.png\n"
     ]
    },
    {
     "name": "stderr",
     "output_type": "stream",
     "text": [
      "100%|██████████| 50/50 [00:08<00:00,  6.02it/s]\n",
      "100%|██████████| 5/5 [00:00<00:00,  6.35it/s]\n"
     ]
    },
    {
     "name": "stdout",
     "output_type": "stream",
     "text": [
      "Processing image 9/240 with azimuth: 2.4833004548990325, elevation: 0.0, radius: 0.08422837894637925...\n",
      "input_image_path is: input_temp/image_8.png\n"
     ]
    },
    {
     "name": "stderr",
     "output_type": "stream",
     "text": [
      "100%|██████████| 50/50 [00:08<00:00,  6.01it/s]\n",
      "100%|██████████| 5/5 [00:00<00:00,  6.33it/s]\n"
     ]
    },
    {
     "name": "stdout",
     "output_type": "stream",
     "text": [
      "Processing image 9/240 with azimuth: 3.780823334398219, elevation: 0.0, radius: 0.08155025775904969...\n",
      "input_image_path is: input_temp/image_8.png\n"
     ]
    },
    {
     "name": "stderr",
     "output_type": "stream",
     "text": [
      "100%|██████████| 50/50 [00:08<00:00,  6.01it/s]\n",
      "100%|██████████| 5/5 [00:00<00:00,  6.33it/s]\n"
     ]
    },
    {
     "name": "stdout",
     "output_type": "stream",
     "text": [
      "Processing image 9/240 with azimuth: 1.1607373844028925, elevation: 0.0, radius: 0.07239536666912989...\n",
      "input_image_path is: input_temp/image_8.png\n"
     ]
    },
    {
     "name": "stderr",
     "output_type": "stream",
     "text": [
      "100%|██████████| 50/50 [00:08<00:00,  6.01it/s]\n",
      "100%|██████████| 5/5 [00:00<00:00,  6.36it/s]\n"
     ]
    },
    {
     "name": "stdout",
     "output_type": "stream",
     "text": [
      "Processing image 9/240 with azimuth: 5.055956093738798, elevation: 0.0, radius: 0.17031458433819185...\n",
      "input_image_path is: input_temp/image_8.png\n"
     ]
    },
    {
     "name": "stderr",
     "output_type": "stream",
     "text": [
      "100%|██████████| 50/50 [00:08<00:00,  6.01it/s]\n",
      "100%|██████████| 5/5 [00:00<00:00,  6.34it/s]\n"
     ]
    },
    {
     "name": "stdout",
     "output_type": "stream",
     "text": [
      "Processing image 10/240 with azimuth: 0.0, elevation: 0.0, radius: 0.584538577528365...\n",
      "input_image_path is: input_temp/image_9.png\n"
     ]
    },
    {
     "name": "stderr",
     "output_type": "stream",
     "text": [
      "100%|██████████| 50/50 [00:08<00:00,  6.01it/s]\n",
      "100%|██████████| 5/5 [00:00<00:00,  6.33it/s]\n"
     ]
    },
    {
     "name": "stdout",
     "output_type": "stream",
     "text": [
      "Processing image 10/240 with azimuth: 3.858281222127584, elevation: 0.0, radius: 0.07721227436351022...\n",
      "input_image_path is: input_temp/image_9.png\n"
     ]
    },
    {
     "name": "stderr",
     "output_type": "stream",
     "text": [
      "100%|██████████| 50/50 [00:08<00:00,  6.02it/s]\n",
      "100%|██████████| 5/5 [00:00<00:00,  6.31it/s]\n"
     ]
    },
    {
     "name": "stdout",
     "output_type": "stream",
     "text": [
      "Processing image 10/240 with azimuth: 3.9891501943676286, elevation: 0.0, radius: 0.12259518373320662...\n",
      "input_image_path is: input_temp/image_9.png\n"
     ]
    },
    {
     "name": "stderr",
     "output_type": "stream",
     "text": [
      "100%|██████████| 50/50 [00:08<00:00,  6.02it/s]\n",
      "100%|██████████| 5/5 [00:00<00:00,  6.35it/s]\n"
     ]
    },
    {
     "name": "stdout",
     "output_type": "stream",
     "text": [
      "Processing image 10/240 with azimuth: 6.248485212183585, elevation: 0.0, radius: 0.1590856801014552...\n",
      "input_image_path is: input_temp/image_9.png\n"
     ]
    },
    {
     "name": "stderr",
     "output_type": "stream",
     "text": [
      "100%|██████████| 50/50 [00:08<00:00,  6.02it/s]\n",
      "100%|██████████| 5/5 [00:00<00:00,  6.33it/s]\n"
     ]
    },
    {
     "name": "stdout",
     "output_type": "stream",
     "text": [
      "Processing image 10/240 with azimuth: 3.59925998083998, elevation: 0.0, radius: 0.05362668485074866...\n",
      "input_image_path is: input_temp/image_9.png\n"
     ]
    },
    {
     "name": "stderr",
     "output_type": "stream",
     "text": [
      "100%|██████████| 50/50 [00:08<00:00,  6.01it/s]\n",
      "100%|██████████| 5/5 [00:00<00:00,  6.33it/s]\n"
     ]
    },
    {
     "name": "stdout",
     "output_type": "stream",
     "text": [
      "Processing image 10/240 with azimuth: 2.669172915860937, elevation: 0.0, radius: 0.11438796091497788...\n",
      "input_image_path is: input_temp/image_9.png\n"
     ]
    },
    {
     "name": "stderr",
     "output_type": "stream",
     "text": [
      "100%|██████████| 50/50 [00:08<00:00,  6.02it/s]\n",
      "100%|██████████| 5/5 [00:00<00:00,  6.33it/s]\n"
     ]
    },
    {
     "name": "stdout",
     "output_type": "stream",
     "text": [
      "Processing image 10/240 with azimuth: 6.258017405331427, elevation: 0.0, radius: 0.10961534819484126...\n",
      "input_image_path is: input_temp/image_9.png\n"
     ]
    },
    {
     "name": "stderr",
     "output_type": "stream",
     "text": [
      "100%|██████████| 50/50 [00:08<00:00,  6.02it/s]\n",
      "100%|██████████| 5/5 [00:00<00:00,  6.34it/s]\n"
     ]
    },
    {
     "name": "stdout",
     "output_type": "stream",
     "text": [
      "Processing image 10/240 with azimuth: 5.341715042471055, elevation: 0.0, radius: 0.14678076453361028...\n",
      "input_image_path is: input_temp/image_9.png\n"
     ]
    },
    {
     "name": "stderr",
     "output_type": "stream",
     "text": [
      "100%|██████████| 50/50 [00:08<00:00,  6.02it/s]\n",
      "100%|██████████| 5/5 [00:00<00:00,  6.32it/s]\n"
     ]
    },
    {
     "name": "stdout",
     "output_type": "stream",
     "text": [
      "Processing image 10/240 with azimuth: 3.0038547185569935, elevation: 0.0, radius: 0.14607588582225378...\n",
      "input_image_path is: input_temp/image_9.png\n"
     ]
    },
    {
     "name": "stderr",
     "output_type": "stream",
     "text": [
      "100%|██████████| 50/50 [00:08<00:00,  6.00it/s]\n",
      "100%|██████████| 5/5 [00:00<00:00,  6.34it/s]\n"
     ]
    },
    {
     "name": "stdout",
     "output_type": "stream",
     "text": [
      "Processing image 10/240 with azimuth: 2.130174179984134, elevation: 0.0, radius: 0.17383350571027456...\n",
      "input_image_path is: input_temp/image_9.png\n"
     ]
    },
    {
     "name": "stderr",
     "output_type": "stream",
     "text": [
      "100%|██████████| 50/50 [00:08<00:00,  6.02it/s]\n",
      "100%|██████████| 5/5 [00:00<00:00,  6.36it/s]\n"
     ]
    },
    {
     "name": "stdout",
     "output_type": "stream",
     "text": [
      "Processing image 10/240 with azimuth: 0.7072243474323623, elevation: 0.0, radius: 0.0929839252002685...\n",
      "input_image_path is: input_temp/image_9.png\n"
     ]
    },
    {
     "name": "stderr",
     "output_type": "stream",
     "text": [
      "100%|██████████| 50/50 [00:08<00:00,  6.01it/s]\n",
      "100%|██████████| 5/5 [00:00<00:00,  6.37it/s]\n"
     ]
    },
    {
     "name": "stdout",
     "output_type": "stream",
     "text": [
      "Processing image 11/240 with azimuth: 0.0, elevation: 0.0, radius: 0.584314055350085...\n",
      "input_image_path is: input_temp/image_10.png\n"
     ]
    },
    {
     "name": "stderr",
     "output_type": "stream",
     "text": [
      "100%|██████████| 50/50 [00:08<00:00,  6.01it/s]\n",
      "100%|██████████| 5/5 [00:00<00:00,  6.35it/s]\n"
     ]
    },
    {
     "name": "stdout",
     "output_type": "stream",
     "text": [
      "Processing image 11/240 with azimuth: 2.564305959987435, elevation: 0.0, radius: 0.03497156416331994...\n",
      "input_image_path is: input_temp/image_10.png\n"
     ]
    },
    {
     "name": "stderr",
     "output_type": "stream",
     "text": [
      "100%|██████████| 50/50 [00:08<00:00,  6.01it/s]\n",
      "100%|██████████| 5/5 [00:00<00:00,  6.33it/s]\n"
     ]
    },
    {
     "name": "stdout",
     "output_type": "stream",
     "text": [
      "Processing image 11/240 with azimuth: 5.414539667405861, elevation: 0.0, radius: 0.0820515978098224...\n",
      "input_image_path is: input_temp/image_10.png\n"
     ]
    },
    {
     "name": "stderr",
     "output_type": "stream",
     "text": [
      "100%|██████████| 50/50 [00:08<00:00,  6.02it/s]\n",
      "100%|██████████| 5/5 [00:00<00:00,  6.33it/s]\n"
     ]
    },
    {
     "name": "stdout",
     "output_type": "stream",
     "text": [
      "Processing image 11/240 with azimuth: 6.058145690568213, elevation: 0.0, radius: 0.04422948265170436...\n",
      "input_image_path is: input_temp/image_10.png\n"
     ]
    },
    {
     "name": "stderr",
     "output_type": "stream",
     "text": [
      "100%|██████████| 50/50 [00:08<00:00,  6.01it/s]\n",
      "100%|██████████| 5/5 [00:00<00:00,  6.31it/s]\n"
     ]
    },
    {
     "name": "stdout",
     "output_type": "stream",
     "text": [
      "Processing image 11/240 with azimuth: 5.00378946829218, elevation: 0.0, radius: 0.09152682283209927...\n",
      "input_image_path is: input_temp/image_10.png\n"
     ]
    },
    {
     "name": "stderr",
     "output_type": "stream",
     "text": [
      "100%|██████████| 50/50 [00:08<00:00,  6.01it/s]\n",
      "100%|██████████| 5/5 [00:00<00:00,  6.35it/s]\n"
     ]
    },
    {
     "name": "stdout",
     "output_type": "stream",
     "text": [
      "Processing image 11/240 with azimuth: 1.9296022793097256, elevation: 0.0, radius: 0.10649981824338532...\n",
      "input_image_path is: input_temp/image_10.png\n"
     ]
    },
    {
     "name": "stderr",
     "output_type": "stream",
     "text": [
      "100%|██████████| 50/50 [00:08<00:00,  6.01it/s]\n",
      "100%|██████████| 5/5 [00:00<00:00,  6.34it/s]\n"
     ]
    },
    {
     "name": "stdout",
     "output_type": "stream",
     "text": [
      "Processing image 11/240 with azimuth: 0.20400032819807884, elevation: 0.0, radius: 0.13590845854651748...\n",
      "input_image_path is: input_temp/image_10.png\n"
     ]
    },
    {
     "name": "stderr",
     "output_type": "stream",
     "text": [
      "100%|██████████| 50/50 [00:08<00:00,  6.01it/s]\n",
      "100%|██████████| 5/5 [00:00<00:00,  6.33it/s]\n"
     ]
    },
    {
     "name": "stdout",
     "output_type": "stream",
     "text": [
      "Processing image 11/240 with azimuth: 2.1191733367414693, elevation: 0.0, radius: 0.06009530720044891...\n",
      "input_image_path is: input_temp/image_10.png\n"
     ]
    },
    {
     "name": "stderr",
     "output_type": "stream",
     "text": [
      "100%|██████████| 50/50 [00:08<00:00,  6.02it/s]\n",
      "100%|██████████| 5/5 [00:00<00:00,  6.36it/s]\n"
     ]
    },
    {
     "name": "stdout",
     "output_type": "stream",
     "text": [
      "Processing image 11/240 with azimuth: 5.515176809563374, elevation: 0.0, radius: 0.08077605714950442...\n",
      "input_image_path is: input_temp/image_10.png\n"
     ]
    },
    {
     "name": "stderr",
     "output_type": "stream",
     "text": [
      "100%|██████████| 50/50 [00:08<00:00,  6.01it/s]\n",
      "100%|██████████| 5/5 [00:00<00:00,  6.35it/s]\n"
     ]
    },
    {
     "name": "stdout",
     "output_type": "stream",
     "text": [
      "Processing image 11/240 with azimuth: 5.326117684747825, elevation: 0.0, radius: 0.08728725060946094...\n",
      "input_image_path is: input_temp/image_10.png\n"
     ]
    },
    {
     "name": "stderr",
     "output_type": "stream",
     "text": [
      "100%|██████████| 50/50 [00:08<00:00,  6.01it/s]\n",
      "100%|██████████| 5/5 [00:00<00:00,  6.34it/s]\n"
     ]
    },
    {
     "name": "stdout",
     "output_type": "stream",
     "text": [
      "Processing image 11/240 with azimuth: 4.7205220679059, elevation: 0.0, radius: 0.15045452495440834...\n",
      "input_image_path is: input_temp/image_10.png\n"
     ]
    },
    {
     "name": "stderr",
     "output_type": "stream",
     "text": [
      "100%|██████████| 50/50 [00:08<00:00,  6.02it/s]\n",
      "100%|██████████| 5/5 [00:00<00:00,  6.32it/s]\n"
     ]
    },
    {
     "name": "stdout",
     "output_type": "stream",
     "text": [
      "Processing image 12/240 with azimuth: 0.0, elevation: 0.0, radius: 0.5846210020219412...\n",
      "input_image_path is: input_temp/image_11.png\n"
     ]
    },
    {
     "name": "stderr",
     "output_type": "stream",
     "text": [
      "100%|██████████| 50/50 [00:08<00:00,  6.01it/s]\n",
      "100%|██████████| 5/5 [00:00<00:00,  6.32it/s]\n"
     ]
    },
    {
     "name": "stdout",
     "output_type": "stream",
     "text": [
      "Processing image 12/240 with azimuth: 3.8867704599781963, elevation: 0.0, radius: 0.1385141364379781...\n",
      "input_image_path is: input_temp/image_11.png\n"
     ]
    },
    {
     "name": "stderr",
     "output_type": "stream",
     "text": [
      "100%|██████████| 50/50 [00:08<00:00,  6.01it/s]\n",
      "100%|██████████| 5/5 [00:00<00:00,  6.32it/s]\n"
     ]
    },
    {
     "name": "stdout",
     "output_type": "stream",
     "text": [
      "Processing image 12/240 with azimuth: 2.427427970069402, elevation: 0.0, radius: 0.04193179321933644...\n",
      "input_image_path is: input_temp/image_11.png\n"
     ]
    },
    {
     "name": "stderr",
     "output_type": "stream",
     "text": [
      "100%|██████████| 50/50 [00:08<00:00,  6.02it/s]\n",
      "100%|██████████| 5/5 [00:00<00:00,  6.32it/s]\n"
     ]
    },
    {
     "name": "stdout",
     "output_type": "stream",
     "text": [
      "Processing image 12/240 with azimuth: 0.8978139223262958, elevation: 0.0, radius: 0.15157346778392203...\n",
      "input_image_path is: input_temp/image_11.png\n"
     ]
    },
    {
     "name": "stderr",
     "output_type": "stream",
     "text": [
      "100%|██████████| 50/50 [00:08<00:00,  6.02it/s]\n",
      "100%|██████████| 5/5 [00:00<00:00,  6.32it/s]\n"
     ]
    },
    {
     "name": "stdout",
     "output_type": "stream",
     "text": [
      "Processing image 12/240 with azimuth: 2.826627283190251, elevation: 0.0, radius: 0.13010171983895413...\n",
      "input_image_path is: input_temp/image_11.png\n"
     ]
    },
    {
     "name": "stderr",
     "output_type": "stream",
     "text": [
      "100%|██████████| 50/50 [00:08<00:00,  6.01it/s]\n",
      "100%|██████████| 5/5 [00:00<00:00,  6.33it/s]\n"
     ]
    },
    {
     "name": "stdout",
     "output_type": "stream",
     "text": [
      "Processing image 12/240 with azimuth: 2.377536062467246, elevation: 0.0, radius: 0.05858630063573464...\n",
      "input_image_path is: input_temp/image_11.png\n"
     ]
    },
    {
     "name": "stderr",
     "output_type": "stream",
     "text": [
      "100%|██████████| 50/50 [00:08<00:00,  6.02it/s]\n",
      "100%|██████████| 5/5 [00:00<00:00,  6.33it/s]\n"
     ]
    },
    {
     "name": "stdout",
     "output_type": "stream",
     "text": [
      "Processing image 12/240 with azimuth: 4.266371137860915, elevation: 0.0, radius: 0.0764586447914857...\n",
      "input_image_path is: input_temp/image_11.png\n"
     ]
    },
    {
     "name": "stderr",
     "output_type": "stream",
     "text": [
      "100%|██████████| 50/50 [00:08<00:00,  6.01it/s]\n",
      "100%|██████████| 5/5 [00:00<00:00,  6.32it/s]\n"
     ]
    },
    {
     "name": "stdout",
     "output_type": "stream",
     "text": [
      "Processing image 12/240 with azimuth: 5.327741051181351, elevation: 0.0, radius: 0.11580317801778076...\n",
      "input_image_path is: input_temp/image_11.png\n"
     ]
    },
    {
     "name": "stderr",
     "output_type": "stream",
     "text": [
      "100%|██████████| 50/50 [00:08<00:00,  6.02it/s]\n",
      "100%|██████████| 5/5 [00:00<00:00,  6.33it/s]\n"
     ]
    },
    {
     "name": "stdout",
     "output_type": "stream",
     "text": [
      "Processing image 12/240 with azimuth: 6.15214703853778, elevation: 0.0, radius: 0.15841401203091743...\n",
      "input_image_path is: input_temp/image_11.png\n"
     ]
    },
    {
     "name": "stderr",
     "output_type": "stream",
     "text": [
      "100%|██████████| 50/50 [00:08<00:00,  6.01it/s]\n",
      "100%|██████████| 5/5 [00:00<00:00,  6.35it/s]\n"
     ]
    },
    {
     "name": "stdout",
     "output_type": "stream",
     "text": [
      "Processing image 12/240 with azimuth: 3.957530076162511, elevation: 0.0, radius: 0.17366198745443723...\n",
      "input_image_path is: input_temp/image_11.png\n"
     ]
    },
    {
     "name": "stderr",
     "output_type": "stream",
     "text": [
      "100%|██████████| 50/50 [00:08<00:00,  6.02it/s]\n",
      "100%|██████████| 5/5 [00:00<00:00,  6.36it/s]\n"
     ]
    },
    {
     "name": "stdout",
     "output_type": "stream",
     "text": [
      "Processing image 12/240 with azimuth: 1.1484422220624633, elevation: 0.0, radius: 0.15192728438400227...\n",
      "input_image_path is: input_temp/image_11.png\n"
     ]
    },
    {
     "name": "stderr",
     "output_type": "stream",
     "text": [
      "100%|██████████| 50/50 [00:08<00:00,  6.02it/s]\n",
      "100%|██████████| 5/5 [00:00<00:00,  6.35it/s]\n"
     ]
    },
    {
     "name": "stdout",
     "output_type": "stream",
     "text": [
      "Processing image 13/240 with azimuth: 0.0, elevation: 0.0, radius: 0.5841595347131822...\n",
      "input_image_path is: input_temp/image_12.png\n"
     ]
    },
    {
     "name": "stderr",
     "output_type": "stream",
     "text": [
      "100%|██████████| 50/50 [00:08<00:00,  6.01it/s]\n",
      "100%|██████████| 5/5 [00:00<00:00,  6.34it/s]\n"
     ]
    },
    {
     "name": "stdout",
     "output_type": "stream",
     "text": [
      "Processing image 13/240 with azimuth: 3.0645975093552766, elevation: 0.0, radius: 0.16752247911167656...\n",
      "input_image_path is: input_temp/image_12.png\n"
     ]
    },
    {
     "name": "stderr",
     "output_type": "stream",
     "text": [
      "100%|██████████| 50/50 [00:08<00:00,  6.01it/s]\n",
      "100%|██████████| 5/5 [00:00<00:00,  6.36it/s]\n"
     ]
    },
    {
     "name": "stdout",
     "output_type": "stream",
     "text": [
      "Processing image 13/240 with azimuth: 3.119963769424715, elevation: 0.0, radius: 0.14173574666124567...\n",
      "input_image_path is: input_temp/image_12.png\n"
     ]
    },
    {
     "name": "stderr",
     "output_type": "stream",
     "text": [
      "100%|██████████| 50/50 [00:08<00:00,  6.01it/s]\n",
      "100%|██████████| 5/5 [00:00<00:00,  6.36it/s]\n"
     ]
    },
    {
     "name": "stdout",
     "output_type": "stream",
     "text": [
      "Processing image 13/240 with azimuth: 0.37291476651997785, elevation: 0.0, radius: 0.07104798916310529...\n",
      "input_image_path is: input_temp/image_12.png\n"
     ]
    },
    {
     "name": "stderr",
     "output_type": "stream",
     "text": [
      "100%|██████████| 50/50 [00:08<00:00,  6.02it/s]\n",
      "100%|██████████| 5/5 [00:00<00:00,  6.36it/s]\n"
     ]
    },
    {
     "name": "stdout",
     "output_type": "stream",
     "text": [
      "Processing image 13/240 with azimuth: 2.3891670922472468, elevation: 0.0, radius: 0.06391531535309898...\n",
      "input_image_path is: input_temp/image_12.png\n"
     ]
    },
    {
     "name": "stderr",
     "output_type": "stream",
     "text": [
      "100%|██████████| 50/50 [00:08<00:00,  6.02it/s]\n",
      "100%|██████████| 5/5 [00:00<00:00,  6.36it/s]\n"
     ]
    },
    {
     "name": "stdout",
     "output_type": "stream",
     "text": [
      "Processing image 13/240 with azimuth: 4.0717345373850256, elevation: 0.0, radius: 0.1029932542363789...\n",
      "input_image_path is: input_temp/image_12.png\n"
     ]
    },
    {
     "name": "stderr",
     "output_type": "stream",
     "text": [
      "100%|██████████| 50/50 [00:08<00:00,  6.02it/s]\n",
      "100%|██████████| 5/5 [00:00<00:00,  6.36it/s]\n"
     ]
    },
    {
     "name": "stdout",
     "output_type": "stream",
     "text": [
      "Processing image 13/240 with azimuth: 3.4300711746280403, elevation: 0.0, radius: 0.15853188135544774...\n",
      "input_image_path is: input_temp/image_12.png\n"
     ]
    },
    {
     "name": "stderr",
     "output_type": "stream",
     "text": [
      "100%|██████████| 50/50 [00:08<00:00,  6.02it/s]\n",
      "100%|██████████| 5/5 [00:00<00:00,  6.37it/s]\n"
     ]
    },
    {
     "name": "stdout",
     "output_type": "stream",
     "text": [
      "Processing image 13/240 with azimuth: 0.22068251227208896, elevation: 0.0, radius: 0.166599116071542...\n",
      "input_image_path is: input_temp/image_12.png\n"
     ]
    },
    {
     "name": "stderr",
     "output_type": "stream",
     "text": [
      "100%|██████████| 50/50 [00:08<00:00,  6.01it/s]\n",
      "100%|██████████| 5/5 [00:00<00:00,  6.38it/s]\n"
     ]
    },
    {
     "name": "stdout",
     "output_type": "stream",
     "text": [
      "Processing image 13/240 with azimuth: 4.649369978972073, elevation: 0.0, radius: 0.11263925528400341...\n",
      "input_image_path is: input_temp/image_12.png\n"
     ]
    },
    {
     "name": "stderr",
     "output_type": "stream",
     "text": [
      "100%|██████████| 50/50 [00:08<00:00,  6.01it/s]\n",
      "100%|██████████| 5/5 [00:00<00:00,  6.39it/s]\n"
     ]
    },
    {
     "name": "stdout",
     "output_type": "stream",
     "text": [
      "Processing image 13/240 with azimuth: 1.6702486428537222, elevation: 0.0, radius: 0.15272667621329236...\n",
      "input_image_path is: input_temp/image_12.png\n"
     ]
    },
    {
     "name": "stderr",
     "output_type": "stream",
     "text": [
      "100%|██████████| 50/50 [00:08<00:00,  6.01it/s]\n",
      "100%|██████████| 5/5 [00:00<00:00,  6.39it/s]\n"
     ]
    },
    {
     "name": "stdout",
     "output_type": "stream",
     "text": [
      "Processing image 13/240 with azimuth: 4.559955445036211, elevation: 0.0, radius: 0.14559311408280218...\n",
      "input_image_path is: input_temp/image_12.png\n"
     ]
    },
    {
     "name": "stderr",
     "output_type": "stream",
     "text": [
      "100%|██████████| 50/50 [00:08<00:00,  6.01it/s]\n",
      "100%|██████████| 5/5 [00:00<00:00,  6.38it/s]\n"
     ]
    },
    {
     "name": "stdout",
     "output_type": "stream",
     "text": [
      "Processing image 14/240 with azimuth: 0.0, elevation: 0.0, radius: 0.584376683784635...\n",
      "input_image_path is: input_temp/image_13.png\n"
     ]
    },
    {
     "name": "stderr",
     "output_type": "stream",
     "text": [
      "100%|██████████| 50/50 [00:08<00:00,  6.00it/s]\n",
      "100%|██████████| 5/5 [00:00<00:00,  6.37it/s]\n"
     ]
    },
    {
     "name": "stdout",
     "output_type": "stream",
     "text": [
      "Processing image 14/240 with azimuth: 6.2061277285226595, elevation: 0.0, radius: 0.11081497071327323...\n",
      "input_image_path is: input_temp/image_13.png\n"
     ]
    },
    {
     "name": "stderr",
     "output_type": "stream",
     "text": [
      "100%|██████████| 50/50 [00:08<00:00,  6.00it/s]\n",
      "100%|██████████| 5/5 [00:00<00:00,  6.38it/s]\n"
     ]
    },
    {
     "name": "stdout",
     "output_type": "stream",
     "text": [
      "Processing image 14/240 with azimuth: 1.5239324944878085, elevation: 0.0, radius: 0.07616712583332882...\n",
      "input_image_path is: input_temp/image_13.png\n"
     ]
    },
    {
     "name": "stderr",
     "output_type": "stream",
     "text": [
      "100%|██████████| 50/50 [00:08<00:00,  6.00it/s]\n",
      "100%|██████████| 5/5 [00:00<00:00,  6.38it/s]\n"
     ]
    },
    {
     "name": "stdout",
     "output_type": "stream",
     "text": [
      "Processing image 14/240 with azimuth: 1.420153994476811, elevation: 0.0, radius: 0.1301981634949434...\n",
      "input_image_path is: input_temp/image_13.png\n"
     ]
    },
    {
     "name": "stderr",
     "output_type": "stream",
     "text": [
      "100%|██████████| 50/50 [00:08<00:00,  6.00it/s]\n",
      "100%|██████████| 5/5 [00:00<00:00,  6.38it/s]\n"
     ]
    },
    {
     "name": "stdout",
     "output_type": "stream",
     "text": [
      "Processing image 14/240 with azimuth: 5.885806452038371, elevation: 0.0, radius: 0.1565646912510722...\n",
      "input_image_path is: input_temp/image_13.png\n"
     ]
    },
    {
     "name": "stderr",
     "output_type": "stream",
     "text": [
      "100%|██████████| 50/50 [00:08<00:00,  6.00it/s]\n",
      "100%|██████████| 5/5 [00:00<00:00,  6.38it/s]\n"
     ]
    },
    {
     "name": "stdout",
     "output_type": "stream",
     "text": [
      "Processing image 14/240 with azimuth: 2.511098495537023, elevation: 0.0, radius: 0.1317924014346231...\n",
      "input_image_path is: input_temp/image_13.png\n"
     ]
    },
    {
     "name": "stderr",
     "output_type": "stream",
     "text": [
      "100%|██████████| 50/50 [00:08<00:00,  6.00it/s]\n",
      "100%|██████████| 5/5 [00:00<00:00,  6.39it/s]\n"
     ]
    },
    {
     "name": "stdout",
     "output_type": "stream",
     "text": [
      "Processing image 14/240 with azimuth: 4.170521973464137, elevation: 0.0, radius: 0.14065663852461585...\n",
      "input_image_path is: input_temp/image_13.png\n"
     ]
    },
    {
     "name": "stderr",
     "output_type": "stream",
     "text": [
      "100%|██████████| 50/50 [00:08<00:00,  6.00it/s]\n",
      "100%|██████████| 5/5 [00:00<00:00,  6.40it/s]\n"
     ]
    },
    {
     "name": "stdout",
     "output_type": "stream",
     "text": [
      "Processing image 14/240 with azimuth: 2.5459013282968432, elevation: 0.0, radius: 0.0956133423204288...\n",
      "input_image_path is: input_temp/image_13.png\n"
     ]
    },
    {
     "name": "stderr",
     "output_type": "stream",
     "text": [
      "100%|██████████| 50/50 [00:08<00:00,  6.02it/s]\n",
      "100%|██████████| 5/5 [00:00<00:00,  6.41it/s]\n"
     ]
    },
    {
     "name": "stdout",
     "output_type": "stream",
     "text": [
      "Processing image 14/240 with azimuth: 1.2451587789664782, elevation: 0.0, radius: 0.11511453444901398...\n",
      "input_image_path is: input_temp/image_13.png\n"
     ]
    },
    {
     "name": "stderr",
     "output_type": "stream",
     "text": [
      "100%|██████████| 50/50 [00:08<00:00,  6.02it/s]\n",
      "100%|██████████| 5/5 [00:00<00:00,  6.42it/s]\n"
     ]
    },
    {
     "name": "stdout",
     "output_type": "stream",
     "text": [
      "Processing image 14/240 with azimuth: 0.01305507028980149, elevation: 0.0, radius: 0.07037777179952107...\n",
      "input_image_path is: input_temp/image_13.png\n"
     ]
    },
    {
     "name": "stderr",
     "output_type": "stream",
     "text": [
      "100%|██████████| 50/50 [00:08<00:00,  6.02it/s]\n",
      "100%|██████████| 5/5 [00:00<00:00,  6.41it/s]\n"
     ]
    },
    {
     "name": "stdout",
     "output_type": "stream",
     "text": [
      "Processing image 14/240 with azimuth: 5.191356108872891, elevation: 0.0, radius: 0.0960229928629783...\n",
      "input_image_path is: input_temp/image_13.png\n"
     ]
    },
    {
     "name": "stderr",
     "output_type": "stream",
     "text": [
      "100%|██████████| 50/50 [00:08<00:00,  6.01it/s]\n",
      "100%|██████████| 5/5 [00:00<00:00,  6.39it/s]\n"
     ]
    },
    {
     "name": "stdout",
     "output_type": "stream",
     "text": [
      "Processing image 15/240 with azimuth: 0.0, elevation: 0.0, radius: 0.5847859481680208...\n",
      "input_image_path is: input_temp/image_14.png\n"
     ]
    },
    {
     "name": "stderr",
     "output_type": "stream",
     "text": [
      "100%|██████████| 50/50 [00:08<00:00,  6.01it/s]\n",
      "100%|██████████| 5/5 [00:00<00:00,  6.36it/s]\n"
     ]
    },
    {
     "name": "stdout",
     "output_type": "stream",
     "text": [
      "Processing image 15/240 with azimuth: 2.840299092537301, elevation: 0.0, radius: 0.09787233735586684...\n",
      "input_image_path is: input_temp/image_14.png\n"
     ]
    },
    {
     "name": "stderr",
     "output_type": "stream",
     "text": [
      "100%|██████████| 50/50 [00:08<00:00,  6.02it/s]\n",
      "100%|██████████| 5/5 [00:00<00:00,  6.34it/s]\n"
     ]
    },
    {
     "name": "stdout",
     "output_type": "stream",
     "text": [
      "Processing image 15/240 with azimuth: 1.9459825715142522, elevation: 0.0, radius: 0.032560204232070775...\n",
      "input_image_path is: input_temp/image_14.png\n"
     ]
    },
    {
     "name": "stderr",
     "output_type": "stream",
     "text": [
      "100%|██████████| 50/50 [00:08<00:00,  6.02it/s]\n",
      "100%|██████████| 5/5 [00:00<00:00,  6.34it/s]\n"
     ]
    },
    {
     "name": "stdout",
     "output_type": "stream",
     "text": [
      "Processing image 15/240 with azimuth: 3.804993005150198, elevation: 0.0, radius: 0.09761855915399001...\n",
      "input_image_path is: input_temp/image_14.png\n"
     ]
    },
    {
     "name": "stderr",
     "output_type": "stream",
     "text": [
      "100%|██████████| 50/50 [00:08<00:00,  6.01it/s]\n",
      "100%|██████████| 5/5 [00:00<00:00,  6.35it/s]\n"
     ]
    },
    {
     "name": "stdout",
     "output_type": "stream",
     "text": [
      "Processing image 15/240 with azimuth: 5.226491000293291, elevation: 0.0, radius: 0.09603961630327808...\n",
      "input_image_path is: input_temp/image_14.png\n"
     ]
    },
    {
     "name": "stderr",
     "output_type": "stream",
     "text": [
      "100%|██████████| 50/50 [00:08<00:00,  6.01it/s]\n",
      "100%|██████████| 5/5 [00:00<00:00,  6.37it/s]\n"
     ]
    },
    {
     "name": "stdout",
     "output_type": "stream",
     "text": [
      "Processing image 15/240 with azimuth: 1.5138092008057462, elevation: 0.0, radius: 0.13010648289539292...\n",
      "input_image_path is: input_temp/image_14.png\n"
     ]
    },
    {
     "name": "stderr",
     "output_type": "stream",
     "text": [
      "100%|██████████| 50/50 [00:08<00:00,  6.01it/s]\n",
      "100%|██████████| 5/5 [00:00<00:00,  6.37it/s]\n"
     ]
    },
    {
     "name": "stdout",
     "output_type": "stream",
     "text": [
      "Processing image 15/240 with azimuth: 3.179722531358596, elevation: 0.0, radius: 0.042612463018137814...\n",
      "input_image_path is: input_temp/image_14.png\n"
     ]
    },
    {
     "name": "stderr",
     "output_type": "stream",
     "text": [
      "100%|██████████| 50/50 [00:08<00:00,  6.02it/s]\n",
      "100%|██████████| 5/5 [00:00<00:00,  6.37it/s]\n"
     ]
    },
    {
     "name": "stdout",
     "output_type": "stream",
     "text": [
      "Processing image 15/240 with azimuth: 6.039334935688696, elevation: 0.0, radius: 0.12164040017601002...\n",
      "input_image_path is: input_temp/image_14.png\n"
     ]
    },
    {
     "name": "stderr",
     "output_type": "stream",
     "text": [
      "100%|██████████| 50/50 [00:08<00:00,  6.01it/s]\n",
      "100%|██████████| 5/5 [00:00<00:00,  6.35it/s]\n"
     ]
    },
    {
     "name": "stdout",
     "output_type": "stream",
     "text": [
      "Processing image 15/240 with azimuth: 1.1543954698353551, elevation: 0.0, radius: 0.1234954074174431...\n",
      "input_image_path is: input_temp/image_14.png\n"
     ]
    },
    {
     "name": "stderr",
     "output_type": "stream",
     "text": [
      "100%|██████████| 50/50 [00:08<00:00,  6.02it/s]\n",
      "100%|██████████| 5/5 [00:00<00:00,  6.37it/s]\n"
     ]
    },
    {
     "name": "stdout",
     "output_type": "stream",
     "text": [
      "Processing image 15/240 with azimuth: 2.124165867184073, elevation: 0.0, radius: 0.043204961976645355...\n",
      "input_image_path is: input_temp/image_14.png\n"
     ]
    },
    {
     "name": "stderr",
     "output_type": "stream",
     "text": [
      "100%|██████████| 50/50 [00:08<00:00,  6.02it/s]\n",
      "100%|██████████| 5/5 [00:00<00:00,  6.36it/s]\n"
     ]
    },
    {
     "name": "stdout",
     "output_type": "stream",
     "text": [
      "Processing image 15/240 with azimuth: 0.4146358541852288, elevation: 0.0, radius: 0.09154108707155696...\n",
      "input_image_path is: input_temp/image_14.png\n"
     ]
    },
    {
     "name": "stderr",
     "output_type": "stream",
     "text": [
      "100%|██████████| 50/50 [00:08<00:00,  6.02it/s]\n",
      "100%|██████████| 5/5 [00:00<00:00,  6.33it/s]\n"
     ]
    },
    {
     "name": "stdout",
     "output_type": "stream",
     "text": [
      "Processing image 16/240 with azimuth: 0.0, elevation: 0.0, radius: 0.5839025501420435...\n",
      "input_image_path is: input_temp/image_15.png\n"
     ]
    },
    {
     "name": "stderr",
     "output_type": "stream",
     "text": [
      "100%|██████████| 50/50 [00:08<00:00,  6.02it/s]\n",
      "100%|██████████| 5/5 [00:00<00:00,  6.33it/s]\n"
     ]
    },
    {
     "name": "stdout",
     "output_type": "stream",
     "text": [
      "Processing image 16/240 with azimuth: 0.4893014021915028, elevation: 0.0, radius: 0.05200194788383605...\n",
      "input_image_path is: input_temp/image_15.png\n"
     ]
    },
    {
     "name": "stderr",
     "output_type": "stream",
     "text": [
      "100%|██████████| 50/50 [00:08<00:00,  6.01it/s]\n",
      "100%|██████████| 5/5 [00:00<00:00,  6.34it/s]\n"
     ]
    },
    {
     "name": "stdout",
     "output_type": "stream",
     "text": [
      "Processing image 16/240 with azimuth: 2.0848026413622422, elevation: 0.0, radius: 0.12074154853654678...\n",
      "input_image_path is: input_temp/image_15.png\n"
     ]
    },
    {
     "name": "stderr",
     "output_type": "stream",
     "text": [
      "100%|██████████| 50/50 [00:08<00:00,  6.01it/s]\n",
      "100%|██████████| 5/5 [00:00<00:00,  6.34it/s]\n"
     ]
    },
    {
     "name": "stdout",
     "output_type": "stream",
     "text": [
      "Processing image 16/240 with azimuth: 5.192237013874677, elevation: 0.0, radius: 0.06078213167112352...\n",
      "input_image_path is: input_temp/image_15.png\n"
     ]
    },
    {
     "name": "stderr",
     "output_type": "stream",
     "text": [
      "100%|██████████| 50/50 [00:08<00:00,  6.01it/s]\n",
      "100%|██████████| 5/5 [00:00<00:00,  6.32it/s]\n"
     ]
    },
    {
     "name": "stdout",
     "output_type": "stream",
     "text": [
      "Processing image 16/240 with azimuth: 1.983627419024877, elevation: 0.0, radius: 0.08955655033762007...\n",
      "input_image_path is: input_temp/image_15.png\n"
     ]
    },
    {
     "name": "stderr",
     "output_type": "stream",
     "text": [
      "100%|██████████| 50/50 [00:08<00:00,  6.01it/s]\n",
      "100%|██████████| 5/5 [00:00<00:00,  6.35it/s]\n"
     ]
    },
    {
     "name": "stdout",
     "output_type": "stream",
     "text": [
      "Processing image 16/240 with azimuth: 1.1899902329648777, elevation: 0.0, radius: 0.12957308377392446...\n",
      "input_image_path is: input_temp/image_15.png\n"
     ]
    },
    {
     "name": "stderr",
     "output_type": "stream",
     "text": [
      "100%|██████████| 50/50 [00:08<00:00,  6.01it/s]\n",
      "100%|██████████| 5/5 [00:00<00:00,  6.33it/s]\n"
     ]
    },
    {
     "name": "stdout",
     "output_type": "stream",
     "text": [
      "Processing image 16/240 with azimuth: 2.4721994812508847, elevation: 0.0, radius: 0.06232019604030381...\n",
      "input_image_path is: input_temp/image_15.png\n"
     ]
    },
    {
     "name": "stderr",
     "output_type": "stream",
     "text": [
      "100%|██████████| 50/50 [00:08<00:00,  6.01it/s]\n",
      "100%|██████████| 5/5 [00:00<00:00,  6.31it/s]\n"
     ]
    },
    {
     "name": "stdout",
     "output_type": "stream",
     "text": [
      "Processing image 16/240 with azimuth: 5.634092751100628, elevation: 0.0, radius: 0.05028300166473306...\n",
      "input_image_path is: input_temp/image_15.png\n"
     ]
    },
    {
     "name": "stderr",
     "output_type": "stream",
     "text": [
      "100%|██████████| 50/50 [00:08<00:00,  6.01it/s]\n",
      "100%|██████████| 5/5 [00:00<00:00,  6.30it/s]\n"
     ]
    },
    {
     "name": "stdout",
     "output_type": "stream",
     "text": [
      "Processing image 16/240 with azimuth: 4.717979432872729, elevation: 0.0, radius: 0.09252633246106588...\n",
      "input_image_path is: input_temp/image_15.png\n"
     ]
    },
    {
     "name": "stderr",
     "output_type": "stream",
     "text": [
      "100%|██████████| 50/50 [00:08<00:00,  6.01it/s]\n",
      "100%|██████████| 5/5 [00:00<00:00,  6.31it/s]\n"
     ]
    },
    {
     "name": "stdout",
     "output_type": "stream",
     "text": [
      "Processing image 16/240 with azimuth: 5.557588325989911, elevation: 0.0, radius: 0.09122994223558992...\n",
      "input_image_path is: input_temp/image_15.png\n"
     ]
    },
    {
     "name": "stderr",
     "output_type": "stream",
     "text": [
      "100%|██████████| 50/50 [00:08<00:00,  6.02it/s]\n",
      "100%|██████████| 5/5 [00:00<00:00,  6.32it/s]\n"
     ]
    },
    {
     "name": "stdout",
     "output_type": "stream",
     "text": [
      "Processing image 16/240 with azimuth: 3.8285628104270426, elevation: 0.0, radius: 0.10819208234477322...\n",
      "input_image_path is: input_temp/image_15.png\n"
     ]
    },
    {
     "name": "stderr",
     "output_type": "stream",
     "text": [
      "100%|██████████| 50/50 [00:08<00:00,  6.02it/s]\n",
      "100%|██████████| 5/5 [00:00<00:00,  6.32it/s]\n"
     ]
    },
    {
     "name": "stdout",
     "output_type": "stream",
     "text": [
      "Processing image 17/240 with azimuth: 0.0, elevation: 0.0, radius: 0.5828277847407417...\n",
      "input_image_path is: input_temp/image_16.png\n"
     ]
    },
    {
     "name": "stderr",
     "output_type": "stream",
     "text": [
      "100%|██████████| 50/50 [00:08<00:00,  6.01it/s]\n",
      "100%|██████████| 5/5 [00:00<00:00,  6.32it/s]\n"
     ]
    },
    {
     "name": "stdout",
     "output_type": "stream",
     "text": [
      "Processing image 17/240 with azimuth: 4.690820747398701, elevation: 0.0, radius: 0.13748661942462126...\n",
      "input_image_path is: input_temp/image_16.png\n"
     ]
    },
    {
     "name": "stderr",
     "output_type": "stream",
     "text": [
      "100%|██████████| 50/50 [00:08<00:00,  6.01it/s]\n",
      "100%|██████████| 5/5 [00:00<00:00,  6.30it/s]\n"
     ]
    },
    {
     "name": "stdout",
     "output_type": "stream",
     "text": [
      "Processing image 17/240 with azimuth: 0.6196697692462927, elevation: 0.0, radius: 0.10724467269575405...\n",
      "input_image_path is: input_temp/image_16.png\n"
     ]
    },
    {
     "name": "stderr",
     "output_type": "stream",
     "text": [
      "100%|██████████| 50/50 [00:08<00:00,  6.01it/s]\n",
      "100%|██████████| 5/5 [00:00<00:00,  6.34it/s]\n"
     ]
    },
    {
     "name": "stdout",
     "output_type": "stream",
     "text": [
      "Processing image 17/240 with azimuth: 5.20895695357039, elevation: 0.0, radius: 0.1509187772209623...\n",
      "input_image_path is: input_temp/image_16.png\n"
     ]
    },
    {
     "name": "stderr",
     "output_type": "stream",
     "text": [
      "100%|██████████| 50/50 [00:08<00:00,  6.01it/s]\n",
      "100%|██████████| 5/5 [00:00<00:00,  6.33it/s]\n"
     ]
    },
    {
     "name": "stdout",
     "output_type": "stream",
     "text": [
      "Processing image 17/240 with azimuth: 5.645148090086824, elevation: 0.0, radius: 0.1654425078411921...\n",
      "input_image_path is: input_temp/image_16.png\n"
     ]
    },
    {
     "name": "stderr",
     "output_type": "stream",
     "text": [
      "100%|██████████| 50/50 [00:08<00:00,  6.02it/s]\n",
      "100%|██████████| 5/5 [00:00<00:00,  6.34it/s]\n"
     ]
    },
    {
     "name": "stdout",
     "output_type": "stream",
     "text": [
      "Processing image 17/240 with azimuth: 5.173272959284509, elevation: 0.0, radius: 0.16514034479081643...\n",
      "input_image_path is: input_temp/image_16.png\n"
     ]
    },
    {
     "name": "stderr",
     "output_type": "stream",
     "text": [
      "100%|██████████| 50/50 [00:08<00:00,  6.01it/s]\n",
      "100%|██████████| 5/5 [00:00<00:00,  6.33it/s]\n"
     ]
    },
    {
     "name": "stdout",
     "output_type": "stream",
     "text": [
      "Processing image 17/240 with azimuth: 2.5878164404936532, elevation: 0.0, radius: 0.13833915937998972...\n",
      "input_image_path is: input_temp/image_16.png\n"
     ]
    },
    {
     "name": "stderr",
     "output_type": "stream",
     "text": [
      "100%|██████████| 50/50 [00:08<00:00,  6.01it/s]\n",
      "100%|██████████| 5/5 [00:00<00:00,  6.33it/s]\n"
     ]
    },
    {
     "name": "stdout",
     "output_type": "stream",
     "text": [
      "Processing image 17/240 with azimuth: 0.3506790084530288, elevation: 0.0, radius: 0.11889483342299073...\n",
      "input_image_path is: input_temp/image_16.png\n"
     ]
    },
    {
     "name": "stderr",
     "output_type": "stream",
     "text": [
      "100%|██████████| 50/50 [00:08<00:00,  6.01it/s]\n",
      "100%|██████████| 5/5 [00:00<00:00,  6.33it/s]\n"
     ]
    },
    {
     "name": "stdout",
     "output_type": "stream",
     "text": [
      "Processing image 17/240 with azimuth: 3.001670918067301, elevation: 0.0, radius: 0.15455113729216105...\n",
      "input_image_path is: input_temp/image_16.png\n"
     ]
    },
    {
     "name": "stderr",
     "output_type": "stream",
     "text": [
      "100%|██████████| 50/50 [00:08<00:00,  6.01it/s]\n",
      "100%|██████████| 5/5 [00:00<00:00,  6.34it/s]\n"
     ]
    },
    {
     "name": "stdout",
     "output_type": "stream",
     "text": [
      "Processing image 17/240 with azimuth: 1.6181193101590086, elevation: 0.0, radius: 0.13849265931065113...\n",
      "input_image_path is: input_temp/image_16.png\n"
     ]
    },
    {
     "name": "stderr",
     "output_type": "stream",
     "text": [
      "100%|██████████| 50/50 [00:08<00:00,  6.01it/s]\n",
      "100%|██████████| 5/5 [00:00<00:00,  6.35it/s]\n"
     ]
    },
    {
     "name": "stdout",
     "output_type": "stream",
     "text": [
      "Processing image 17/240 with azimuth: 3.792424056489834, elevation: 0.0, radius: 0.029464048657308763...\n",
      "input_image_path is: input_temp/image_16.png\n"
     ]
    },
    {
     "name": "stderr",
     "output_type": "stream",
     "text": [
      "100%|██████████| 50/50 [00:08<00:00,  6.01it/s]\n",
      "100%|██████████| 5/5 [00:00<00:00,  6.33it/s]\n"
     ]
    },
    {
     "name": "stdout",
     "output_type": "stream",
     "text": [
      "Processing image 18/240 with azimuth: 0.0, elevation: 0.0, radius: 0.5821206222239992...\n",
      "input_image_path is: input_temp/image_17.png\n"
     ]
    },
    {
     "name": "stderr",
     "output_type": "stream",
     "text": [
      "100%|██████████| 50/50 [00:08<00:00,  6.00it/s]\n",
      "100%|██████████| 5/5 [00:00<00:00,  6.34it/s]\n"
     ]
    },
    {
     "name": "stdout",
     "output_type": "stream",
     "text": [
      "Processing image 18/240 with azimuth: 0.32952652078256217, elevation: 0.0, radius: 0.15603647525405467...\n",
      "input_image_path is: input_temp/image_17.png\n"
     ]
    },
    {
     "name": "stderr",
     "output_type": "stream",
     "text": [
      "100%|██████████| 50/50 [00:08<00:00,  6.01it/s]\n",
      "100%|██████████| 5/5 [00:00<00:00,  6.33it/s]\n"
     ]
    },
    {
     "name": "stdout",
     "output_type": "stream",
     "text": [
      "Processing image 18/240 with azimuth: 3.0891987535351992, elevation: 0.0, radius: 0.035036961957051686...\n",
      "input_image_path is: input_temp/image_17.png\n"
     ]
    },
    {
     "name": "stderr",
     "output_type": "stream",
     "text": [
      "100%|██████████| 50/50 [00:08<00:00,  6.00it/s]\n",
      "100%|██████████| 5/5 [00:00<00:00,  6.34it/s]\n"
     ]
    },
    {
     "name": "stdout",
     "output_type": "stream",
     "text": [
      "Processing image 18/240 with azimuth: 1.8870022740406964, elevation: 0.0, radius: 0.15279889498633278...\n",
      "input_image_path is: input_temp/image_17.png\n"
     ]
    },
    {
     "name": "stderr",
     "output_type": "stream",
     "text": [
      "100%|██████████| 50/50 [00:08<00:00,  6.00it/s]\n",
      "100%|██████████| 5/5 [00:00<00:00,  6.34it/s]\n"
     ]
    },
    {
     "name": "stdout",
     "output_type": "stream",
     "text": [
      "Processing image 18/240 with azimuth: 0.6360102458803111, elevation: 0.0, radius: 0.13848406077405018...\n",
      "input_image_path is: input_temp/image_17.png\n"
     ]
    },
    {
     "name": "stderr",
     "output_type": "stream",
     "text": [
      "100%|██████████| 50/50 [00:08<00:00,  6.02it/s]\n",
      "100%|██████████| 5/5 [00:00<00:00,  6.35it/s]\n"
     ]
    },
    {
     "name": "stdout",
     "output_type": "stream",
     "text": [
      "Processing image 18/240 with azimuth: 0.7025847775621262, elevation: 0.0, radius: 0.08016814740787688...\n",
      "input_image_path is: input_temp/image_17.png\n"
     ]
    },
    {
     "name": "stderr",
     "output_type": "stream",
     "text": [
      "100%|██████████| 50/50 [00:08<00:00,  6.00it/s]\n",
      "100%|██████████| 5/5 [00:00<00:00,  6.36it/s]\n"
     ]
    },
    {
     "name": "stdout",
     "output_type": "stream",
     "text": [
      "Processing image 18/240 with azimuth: 1.0806216094151668, elevation: 0.0, radius: 0.05919465745040948...\n",
      "input_image_path is: input_temp/image_17.png\n"
     ]
    },
    {
     "name": "stderr",
     "output_type": "stream",
     "text": [
      "100%|██████████| 50/50 [00:08<00:00,  6.02it/s]\n",
      "100%|██████████| 5/5 [00:00<00:00,  6.36it/s]\n"
     ]
    },
    {
     "name": "stdout",
     "output_type": "stream",
     "text": [
      "Processing image 18/240 with azimuth: 1.5709606293133067, elevation: 0.0, radius: 0.0601030235155642...\n",
      "input_image_path is: input_temp/image_17.png\n"
     ]
    },
    {
     "name": "stderr",
     "output_type": "stream",
     "text": [
      "100%|██████████| 50/50 [00:08<00:00,  6.01it/s]\n",
      "100%|██████████| 5/5 [00:00<00:00,  6.36it/s]\n"
     ]
    },
    {
     "name": "stdout",
     "output_type": "stream",
     "text": [
      "Processing image 18/240 with azimuth: 0.5385922659353696, elevation: 0.0, radius: 0.1384079318203724...\n",
      "input_image_path is: input_temp/image_17.png\n"
     ]
    },
    {
     "name": "stderr",
     "output_type": "stream",
     "text": [
      "100%|██████████| 50/50 [00:08<00:00,  6.02it/s]\n",
      "100%|██████████| 5/5 [00:00<00:00,  6.36it/s]\n"
     ]
    },
    {
     "name": "stdout",
     "output_type": "stream",
     "text": [
      "Processing image 18/240 with azimuth: 1.811851744964613, elevation: 0.0, radius: 0.10646044448507379...\n",
      "input_image_path is: input_temp/image_17.png\n"
     ]
    },
    {
     "name": "stderr",
     "output_type": "stream",
     "text": [
      "100%|██████████| 50/50 [00:08<00:00,  6.01it/s]\n",
      "100%|██████████| 5/5 [00:00<00:00,  6.35it/s]\n"
     ]
    },
    {
     "name": "stdout",
     "output_type": "stream",
     "text": [
      "Processing image 18/240 with azimuth: 1.9478127881911722, elevation: 0.0, radius: 0.12619364418418288...\n",
      "input_image_path is: input_temp/image_17.png\n"
     ]
    },
    {
     "name": "stderr",
     "output_type": "stream",
     "text": [
      "100%|██████████| 50/50 [00:08<00:00,  6.01it/s]\n",
      "100%|██████████| 5/5 [00:00<00:00,  6.35it/s]\n"
     ]
    },
    {
     "name": "stdout",
     "output_type": "stream",
     "text": [
      "Processing image 19/240 with azimuth: 0.0, elevation: 0.0, radius: 0.58139992033626...\n",
      "input_image_path is: input_temp/image_18.png\n"
     ]
    },
    {
     "name": "stderr",
     "output_type": "stream",
     "text": [
      "100%|██████████| 50/50 [00:08<00:00,  6.00it/s]\n",
      "100%|██████████| 5/5 [00:00<00:00,  6.33it/s]\n"
     ]
    },
    {
     "name": "stdout",
     "output_type": "stream",
     "text": [
      "Processing image 19/240 with azimuth: 5.7152921000647, elevation: 0.0, radius: 0.11110061782441492...\n",
      "input_image_path is: input_temp/image_18.png\n"
     ]
    },
    {
     "name": "stderr",
     "output_type": "stream",
     "text": [
      "100%|██████████| 50/50 [00:08<00:00,  6.01it/s]\n",
      "100%|██████████| 5/5 [00:00<00:00,  6.35it/s]\n"
     ]
    },
    {
     "name": "stdout",
     "output_type": "stream",
     "text": [
      "Processing image 19/240 with azimuth: 2.1183235965368286, elevation: 0.0, radius: 0.10887797362981536...\n",
      "input_image_path is: input_temp/image_18.png\n"
     ]
    },
    {
     "name": "stderr",
     "output_type": "stream",
     "text": [
      "100%|██████████| 50/50 [00:08<00:00,  6.01it/s]\n",
      "100%|██████████| 5/5 [00:00<00:00,  6.35it/s]\n"
     ]
    },
    {
     "name": "stdout",
     "output_type": "stream",
     "text": [
      "Processing image 19/240 with azimuth: 3.344235358196117, elevation: 0.0, radius: 0.15439270630876287...\n",
      "input_image_path is: input_temp/image_18.png\n"
     ]
    },
    {
     "name": "stderr",
     "output_type": "stream",
     "text": [
      "100%|██████████| 50/50 [00:08<00:00,  6.00it/s]\n",
      "100%|██████████| 5/5 [00:00<00:00,  6.33it/s]\n"
     ]
    },
    {
     "name": "stdout",
     "output_type": "stream",
     "text": [
      "Processing image 19/240 with azimuth: 2.926379523819083, elevation: 0.0, radius: 0.09380108741556457...\n",
      "input_image_path is: input_temp/image_18.png\n"
     ]
    },
    {
     "name": "stderr",
     "output_type": "stream",
     "text": [
      "100%|██████████| 50/50 [00:08<00:00,  6.02it/s]\n",
      "100%|██████████| 5/5 [00:00<00:00,  6.33it/s]\n"
     ]
    },
    {
     "name": "stdout",
     "output_type": "stream",
     "text": [
      "Processing image 19/240 with azimuth: 4.458173986608005, elevation: 0.0, radius: 0.17081789279785228...\n",
      "input_image_path is: input_temp/image_18.png\n"
     ]
    },
    {
     "name": "stderr",
     "output_type": "stream",
     "text": [
      "100%|██████████| 50/50 [00:08<00:00,  6.01it/s]\n",
      "100%|██████████| 5/5 [00:00<00:00,  6.33it/s]\n"
     ]
    },
    {
     "name": "stdout",
     "output_type": "stream",
     "text": [
      "Processing image 19/240 with azimuth: 0.995412689731024, elevation: 0.0, radius: 0.13437549666502094...\n",
      "input_image_path is: input_temp/image_18.png\n"
     ]
    },
    {
     "name": "stderr",
     "output_type": "stream",
     "text": [
      "100%|██████████| 50/50 [00:08<00:00,  6.00it/s]\n",
      "100%|██████████| 5/5 [00:00<00:00,  6.35it/s]\n"
     ]
    },
    {
     "name": "stdout",
     "output_type": "stream",
     "text": [
      "Processing image 19/240 with azimuth: 0.06559820514530225, elevation: 0.0, radius: 0.15721721417987838...\n",
      "input_image_path is: input_temp/image_18.png\n"
     ]
    },
    {
     "name": "stderr",
     "output_type": "stream",
     "text": [
      "100%|██████████| 50/50 [00:08<00:00,  6.01it/s]\n",
      "100%|██████████| 5/5 [00:00<00:00,  6.37it/s]\n"
     ]
    },
    {
     "name": "stdout",
     "output_type": "stream",
     "text": [
      "Processing image 19/240 with azimuth: 3.9984057307012493, elevation: 0.0, radius: 0.1435400095954953...\n",
      "input_image_path is: input_temp/image_18.png\n"
     ]
    },
    {
     "name": "stderr",
     "output_type": "stream",
     "text": [
      "100%|██████████| 50/50 [00:08<00:00,  6.01it/s]\n",
      "100%|██████████| 5/5 [00:00<00:00,  6.35it/s]\n"
     ]
    },
    {
     "name": "stdout",
     "output_type": "stream",
     "text": [
      "Processing image 19/240 with azimuth: 1.2218538760497668, elevation: 0.0, radius: 0.1141117261577778...\n",
      "input_image_path is: input_temp/image_18.png\n"
     ]
    },
    {
     "name": "stderr",
     "output_type": "stream",
     "text": [
      "100%|██████████| 50/50 [00:08<00:00,  6.00it/s]\n",
      "100%|██████████| 5/5 [00:00<00:00,  6.30it/s]\n"
     ]
    },
    {
     "name": "stdout",
     "output_type": "stream",
     "text": [
      "Processing image 19/240 with azimuth: 4.045415645643628, elevation: 0.0, radius: 0.08615281877496121...\n",
      "input_image_path is: input_temp/image_18.png\n"
     ]
    },
    {
     "name": "stderr",
     "output_type": "stream",
     "text": [
      "100%|██████████| 50/50 [00:08<00:00,  6.01it/s]\n",
      "100%|██████████| 5/5 [00:00<00:00,  6.31it/s]\n"
     ]
    },
    {
     "name": "stdout",
     "output_type": "stream",
     "text": [
      "Processing image 20/240 with azimuth: 0.0, elevation: 0.0, radius: 0.5799093642000198...\n",
      "input_image_path is: input_temp/image_19.png\n"
     ]
    },
    {
     "name": "stderr",
     "output_type": "stream",
     "text": [
      "100%|██████████| 50/50 [00:08<00:00,  6.01it/s]\n",
      "100%|██████████| 5/5 [00:00<00:00,  6.32it/s]\n"
     ]
    },
    {
     "name": "stdout",
     "output_type": "stream",
     "text": [
      "Processing image 20/240 with azimuth: 1.8626647124956872, elevation: 0.0, radius: 0.06440978480252124...\n",
      "input_image_path is: input_temp/image_19.png\n"
     ]
    },
    {
     "name": "stderr",
     "output_type": "stream",
     "text": [
      "100%|██████████| 50/50 [00:08<00:00,  6.01it/s]\n",
      "100%|██████████| 5/5 [00:00<00:00,  6.35it/s]\n"
     ]
    },
    {
     "name": "stdout",
     "output_type": "stream",
     "text": [
      "Processing image 20/240 with azimuth: 0.2881552101101454, elevation: 0.0, radius: 0.1536085913555115...\n",
      "input_image_path is: input_temp/image_19.png\n"
     ]
    },
    {
     "name": "stderr",
     "output_type": "stream",
     "text": [
      "100%|██████████| 50/50 [00:08<00:00,  6.00it/s]\n",
      "100%|██████████| 5/5 [00:00<00:00,  6.34it/s]\n"
     ]
    },
    {
     "name": "stdout",
     "output_type": "stream",
     "text": [
      "Processing image 20/240 with azimuth: 2.77652328582383, elevation: 0.0, radius: 0.05988933032713858...\n",
      "input_image_path is: input_temp/image_19.png\n"
     ]
    },
    {
     "name": "stderr",
     "output_type": "stream",
     "text": [
      "100%|██████████| 50/50 [00:08<00:00,  6.02it/s]\n",
      "100%|██████████| 5/5 [00:00<00:00,  6.36it/s]\n"
     ]
    },
    {
     "name": "stdout",
     "output_type": "stream",
     "text": [
      "Processing image 20/240 with azimuth: 2.458886276004101, elevation: 0.0, radius: 0.11646327039427996...\n",
      "input_image_path is: input_temp/image_19.png\n"
     ]
    },
    {
     "name": "stderr",
     "output_type": "stream",
     "text": [
      "100%|██████████| 50/50 [00:08<00:00,  6.00it/s]\n",
      "100%|██████████| 5/5 [00:00<00:00,  6.34it/s]\n"
     ]
    },
    {
     "name": "stdout",
     "output_type": "stream",
     "text": [
      "Processing image 20/240 with azimuth: 4.756463257954016, elevation: 0.0, radius: 0.1218057203383411...\n",
      "input_image_path is: input_temp/image_19.png\n"
     ]
    },
    {
     "name": "stderr",
     "output_type": "stream",
     "text": [
      "100%|██████████| 50/50 [00:08<00:00,  6.01it/s]\n",
      "100%|██████████| 5/5 [00:00<00:00,  6.35it/s]\n"
     ]
    },
    {
     "name": "stdout",
     "output_type": "stream",
     "text": [
      "Processing image 20/240 with azimuth: 2.086773352109855, elevation: 0.0, radius: 0.03365022134956896...\n",
      "input_image_path is: input_temp/image_19.png\n"
     ]
    },
    {
     "name": "stderr",
     "output_type": "stream",
     "text": [
      "100%|██████████| 50/50 [00:08<00:00,  6.01it/s]\n",
      "100%|██████████| 5/5 [00:00<00:00,  6.36it/s]\n"
     ]
    },
    {
     "name": "stdout",
     "output_type": "stream",
     "text": [
      "Processing image 20/240 with azimuth: 6.079786379277932, elevation: 0.0, radius: 0.15683712031364594...\n",
      "input_image_path is: input_temp/image_19.png\n"
     ]
    },
    {
     "name": "stderr",
     "output_type": "stream",
     "text": [
      "100%|██████████| 50/50 [00:08<00:00,  6.01it/s]\n",
      "100%|██████████| 5/5 [00:00<00:00,  6.40it/s]\n"
     ]
    },
    {
     "name": "stdout",
     "output_type": "stream",
     "text": [
      "Processing image 20/240 with azimuth: 6.064714422492795, elevation: 0.0, radius: 0.1653367268592974...\n",
      "input_image_path is: input_temp/image_19.png\n"
     ]
    },
    {
     "name": "stderr",
     "output_type": "stream",
     "text": [
      "100%|██████████| 50/50 [00:08<00:00,  6.01it/s]\n",
      "100%|██████████| 5/5 [00:00<00:00,  6.39it/s]\n"
     ]
    },
    {
     "name": "stdout",
     "output_type": "stream",
     "text": [
      "Processing image 20/240 with azimuth: 0.8719257205080128, elevation: 0.0, radius: 0.16614508627530306...\n",
      "input_image_path is: input_temp/image_19.png\n"
     ]
    },
    {
     "name": "stderr",
     "output_type": "stream",
     "text": [
      "100%|██████████| 50/50 [00:08<00:00,  6.01it/s]\n",
      "100%|██████████| 5/5 [00:00<00:00,  6.39it/s]\n"
     ]
    },
    {
     "name": "stdout",
     "output_type": "stream",
     "text": [
      "Processing image 20/240 with azimuth: 1.5040069804114717, elevation: 0.0, radius: 0.06876688690327559...\n",
      "input_image_path is: input_temp/image_19.png\n"
     ]
    },
    {
     "name": "stderr",
     "output_type": "stream",
     "text": [
      "100%|██████████| 50/50 [00:08<00:00,  6.00it/s]\n",
      "100%|██████████| 5/5 [00:00<00:00,  6.39it/s]\n"
     ]
    },
    {
     "name": "stdout",
     "output_type": "stream",
     "text": [
      "Processing image 21/240 with azimuth: 0.0, elevation: 0.0, radius: 0.5785716728959516...\n",
      "input_image_path is: input_temp/image_20.png\n"
     ]
    },
    {
     "name": "stderr",
     "output_type": "stream",
     "text": [
      "100%|██████████| 50/50 [00:08<00:00,  6.01it/s]\n",
      "100%|██████████| 5/5 [00:00<00:00,  6.41it/s]\n"
     ]
    },
    {
     "name": "stdout",
     "output_type": "stream",
     "text": [
      "Processing image 21/240 with azimuth: 0.40190861293185426, elevation: 0.0, radius: 0.04377381009500744...\n",
      "input_image_path is: input_temp/image_20.png\n"
     ]
    },
    {
     "name": "stderr",
     "output_type": "stream",
     "text": [
      "100%|██████████| 50/50 [00:08<00:00,  6.01it/s]\n",
      "100%|██████████| 5/5 [00:00<00:00,  6.40it/s]\n"
     ]
    },
    {
     "name": "stdout",
     "output_type": "stream",
     "text": [
      "Processing image 21/240 with azimuth: 0.5292366227437099, elevation: 0.0, radius: 0.030659966208492755...\n",
      "input_image_path is: input_temp/image_20.png\n"
     ]
    },
    {
     "name": "stderr",
     "output_type": "stream",
     "text": [
      "100%|██████████| 50/50 [00:08<00:00,  6.01it/s]\n",
      "100%|██████████| 5/5 [00:00<00:00,  6.39it/s]\n"
     ]
    },
    {
     "name": "stdout",
     "output_type": "stream",
     "text": [
      "Processing image 21/240 with azimuth: 2.235491568113635, elevation: 0.0, radius: 0.13504809946665908...\n",
      "input_image_path is: input_temp/image_20.png\n"
     ]
    },
    {
     "name": "stderr",
     "output_type": "stream",
     "text": [
      "100%|██████████| 50/50 [00:08<00:00,  6.00it/s]\n",
      "100%|██████████| 5/5 [00:00<00:00,  6.38it/s]\n"
     ]
    },
    {
     "name": "stdout",
     "output_type": "stream",
     "text": [
      "Processing image 21/240 with azimuth: 2.3879271789254415, elevation: 0.0, radius: 0.10008329429737464...\n",
      "input_image_path is: input_temp/image_20.png\n"
     ]
    },
    {
     "name": "stderr",
     "output_type": "stream",
     "text": [
      "100%|██████████| 50/50 [00:08<00:00,  6.01it/s]\n",
      "100%|██████████| 5/5 [00:00<00:00,  6.38it/s]\n"
     ]
    },
    {
     "name": "stdout",
     "output_type": "stream",
     "text": [
      "Processing image 21/240 with azimuth: 4.105709726156523, elevation: 0.0, radius: 0.09197345055727414...\n",
      "input_image_path is: input_temp/image_20.png\n"
     ]
    },
    {
     "name": "stderr",
     "output_type": "stream",
     "text": [
      "100%|██████████| 50/50 [00:08<00:00,  6.00it/s]\n",
      "100%|██████████| 5/5 [00:00<00:00,  6.42it/s]\n"
     ]
    },
    {
     "name": "stdout",
     "output_type": "stream",
     "text": [
      "Processing image 21/240 with azimuth: 4.96134051244612, elevation: 0.0, radius: 0.03863952185821315...\n",
      "input_image_path is: input_temp/image_20.png\n"
     ]
    },
    {
     "name": "stderr",
     "output_type": "stream",
     "text": [
      "100%|██████████| 50/50 [00:08<00:00,  6.00it/s]\n",
      "100%|██████████| 5/5 [00:00<00:00,  6.42it/s]\n"
     ]
    },
    {
     "name": "stdout",
     "output_type": "stream",
     "text": [
      "Processing image 21/240 with azimuth: 5.882602862467009, elevation: 0.0, radius: 0.11530620995184959...\n",
      "input_image_path is: input_temp/image_20.png\n"
     ]
    },
    {
     "name": "stderr",
     "output_type": "stream",
     "text": [
      "100%|██████████| 50/50 [00:08<00:00,  6.00it/s]\n",
      "100%|██████████| 5/5 [00:00<00:00,  6.39it/s]\n"
     ]
    },
    {
     "name": "stdout",
     "output_type": "stream",
     "text": [
      "Processing image 21/240 with azimuth: 6.169809512039448, elevation: 0.0, radius: 0.08890115038869469...\n",
      "input_image_path is: input_temp/image_20.png\n"
     ]
    },
    {
     "name": "stderr",
     "output_type": "stream",
     "text": [
      "100%|██████████| 50/50 [00:08<00:00,  6.00it/s]\n",
      "100%|██████████| 5/5 [00:00<00:00,  6.38it/s]\n"
     ]
    },
    {
     "name": "stdout",
     "output_type": "stream",
     "text": [
      "Processing image 21/240 with azimuth: 2.2776096283811276, elevation: 0.0, radius: 0.048469505502276154...\n",
      "input_image_path is: input_temp/image_20.png\n"
     ]
    },
    {
     "name": "stderr",
     "output_type": "stream",
     "text": [
      "100%|██████████| 50/50 [00:08<00:00,  6.01it/s]\n",
      "100%|██████████| 5/5 [00:00<00:00,  6.37it/s]\n"
     ]
    },
    {
     "name": "stdout",
     "output_type": "stream",
     "text": [
      "Processing image 21/240 with azimuth: 1.9045934089331782, elevation: 0.0, radius: 0.07982850139130143...\n",
      "input_image_path is: input_temp/image_20.png\n"
     ]
    },
    {
     "name": "stderr",
     "output_type": "stream",
     "text": [
      "100%|██████████| 50/50 [00:08<00:00,  6.01it/s]\n",
      "100%|██████████| 5/5 [00:00<00:00,  6.38it/s]\n"
     ]
    },
    {
     "name": "stdout",
     "output_type": "stream",
     "text": [
      "Processing image 22/240 with azimuth: 0.0, elevation: 0.0, radius: 0.5767914147061413...\n",
      "input_image_path is: input_temp/image_21.png\n"
     ]
    },
    {
     "name": "stderr",
     "output_type": "stream",
     "text": [
      "100%|██████████| 50/50 [00:08<00:00,  6.01it/s]\n",
      "100%|██████████| 5/5 [00:00<00:00,  6.36it/s]\n"
     ]
    },
    {
     "name": "stdout",
     "output_type": "stream",
     "text": [
      "Processing image 22/240 with azimuth: 3.036378005799335, elevation: 0.0, radius: 0.09844111852142226...\n",
      "input_image_path is: input_temp/image_21.png\n"
     ]
    },
    {
     "name": "stderr",
     "output_type": "stream",
     "text": [
      "100%|██████████| 50/50 [00:08<00:00,  6.01it/s]\n",
      "100%|██████████| 5/5 [00:00<00:00,  6.37it/s]\n"
     ]
    },
    {
     "name": "stdout",
     "output_type": "stream",
     "text": [
      "Processing image 22/240 with azimuth: 4.3104696868607535, elevation: 0.0, radius: 0.12747079764711008...\n",
      "input_image_path is: input_temp/image_21.png\n"
     ]
    },
    {
     "name": "stderr",
     "output_type": "stream",
     "text": [
      "100%|██████████| 50/50 [00:08<00:00,  6.00it/s]\n",
      "100%|██████████| 5/5 [00:00<00:00,  6.39it/s]\n"
     ]
    },
    {
     "name": "stdout",
     "output_type": "stream",
     "text": [
      "Processing image 22/240 with azimuth: 5.809100942040397, elevation: 0.0, radius: 0.12552616735413727...\n",
      "input_image_path is: input_temp/image_21.png\n"
     ]
    },
    {
     "name": "stderr",
     "output_type": "stream",
     "text": [
      "100%|██████████| 50/50 [00:08<00:00,  6.00it/s]\n",
      "100%|██████████| 5/5 [00:00<00:00,  6.38it/s]\n"
     ]
    },
    {
     "name": "stdout",
     "output_type": "stream",
     "text": [
      "Processing image 22/240 with azimuth: 3.745626868515325, elevation: 0.0, radius: 0.13518874925020613...\n",
      "input_image_path is: input_temp/image_21.png\n"
     ]
    },
    {
     "name": "stderr",
     "output_type": "stream",
     "text": [
      "100%|██████████| 50/50 [00:08<00:00,  6.00it/s]\n",
      "100%|██████████| 5/5 [00:00<00:00,  6.40it/s]\n"
     ]
    },
    {
     "name": "stdout",
     "output_type": "stream",
     "text": [
      "Processing image 22/240 with azimuth: 3.1942363559093736, elevation: 0.0, radius: 0.10912070901905845...\n",
      "input_image_path is: input_temp/image_21.png\n"
     ]
    },
    {
     "name": "stderr",
     "output_type": "stream",
     "text": [
      "100%|██████████| 50/50 [00:08<00:00,  6.01it/s]\n",
      "100%|██████████| 5/5 [00:00<00:00,  6.39it/s]\n"
     ]
    },
    {
     "name": "stdout",
     "output_type": "stream",
     "text": [
      "Processing image 22/240 with azimuth: 0.6085053447493686, elevation: 0.0, radius: 0.119577216166912...\n",
      "input_image_path is: input_temp/image_21.png\n"
     ]
    },
    {
     "name": "stderr",
     "output_type": "stream",
     "text": [
      "100%|██████████| 50/50 [00:08<00:00,  6.01it/s]\n",
      "100%|██████████| 5/5 [00:00<00:00,  6.39it/s]\n"
     ]
    },
    {
     "name": "stdout",
     "output_type": "stream",
     "text": [
      "Processing image 22/240 with azimuth: 1.9326059709694174, elevation: 0.0, radius: 0.12550364238454167...\n",
      "input_image_path is: input_temp/image_21.png\n"
     ]
    },
    {
     "name": "stderr",
     "output_type": "stream",
     "text": [
      "100%|██████████| 50/50 [00:08<00:00,  6.01it/s]\n",
      "100%|██████████| 5/5 [00:00<00:00,  6.39it/s]\n"
     ]
    },
    {
     "name": "stdout",
     "output_type": "stream",
     "text": [
      "Processing image 22/240 with azimuth: 2.5679150173685477, elevation: 0.0, radius: 0.12842086799586325...\n",
      "input_image_path is: input_temp/image_21.png\n"
     ]
    },
    {
     "name": "stderr",
     "output_type": "stream",
     "text": [
      "100%|██████████| 50/50 [00:08<00:00,  6.01it/s]\n",
      "100%|██████████| 5/5 [00:00<00:00,  6.39it/s]\n"
     ]
    },
    {
     "name": "stdout",
     "output_type": "stream",
     "text": [
      "Processing image 22/240 with azimuth: 4.976088707179399, elevation: 0.0, radius: 0.10312267320017034...\n",
      "input_image_path is: input_temp/image_21.png\n"
     ]
    },
    {
     "name": "stderr",
     "output_type": "stream",
     "text": [
      "100%|██████████| 50/50 [00:08<00:00,  6.00it/s]\n",
      "100%|██████████| 5/5 [00:00<00:00,  6.38it/s]\n"
     ]
    },
    {
     "name": "stdout",
     "output_type": "stream",
     "text": [
      "Processing image 22/240 with azimuth: 5.0301523806255615, elevation: 0.0, radius: 0.16715655077533867...\n",
      "input_image_path is: input_temp/image_21.png\n"
     ]
    },
    {
     "name": "stderr",
     "output_type": "stream",
     "text": [
      "100%|██████████| 50/50 [00:08<00:00,  6.01it/s]\n",
      "100%|██████████| 5/5 [00:00<00:00,  6.38it/s]\n"
     ]
    },
    {
     "name": "stdout",
     "output_type": "stream",
     "text": [
      "Processing image 23/240 with azimuth: 0.0, elevation: 0.0, radius: 0.5770569207420208...\n",
      "input_image_path is: input_temp/image_22.png\n"
     ]
    },
    {
     "name": "stderr",
     "output_type": "stream",
     "text": [
      "100%|██████████| 50/50 [00:08<00:00,  6.01it/s]\n",
      "100%|██████████| 5/5 [00:00<00:00,  6.38it/s]\n"
     ]
    },
    {
     "name": "stdout",
     "output_type": "stream",
     "text": [
      "Processing image 23/240 with azimuth: 5.976275223834735, elevation: 0.0, radius: 0.16880268559687014...\n",
      "input_image_path is: input_temp/image_22.png\n"
     ]
    },
    {
     "name": "stderr",
     "output_type": "stream",
     "text": [
      "100%|██████████| 50/50 [00:08<00:00,  6.00it/s]\n",
      "100%|██████████| 5/5 [00:00<00:00,  6.38it/s]\n"
     ]
    },
    {
     "name": "stdout",
     "output_type": "stream",
     "text": [
      "Processing image 23/240 with azimuth: 0.10656876424560198, elevation: 0.0, radius: 0.16344512196568933...\n",
      "input_image_path is: input_temp/image_22.png\n"
     ]
    },
    {
     "name": "stderr",
     "output_type": "stream",
     "text": [
      "100%|██████████| 50/50 [00:08<00:00,  6.01it/s]\n",
      "100%|██████████| 5/5 [00:00<00:00,  6.37it/s]\n"
     ]
    },
    {
     "name": "stdout",
     "output_type": "stream",
     "text": [
      "Processing image 23/240 with azimuth: 1.5589444344668688, elevation: 0.0, radius: 0.12447279345723404...\n",
      "input_image_path is: input_temp/image_22.png\n"
     ]
    },
    {
     "name": "stderr",
     "output_type": "stream",
     "text": [
      "100%|██████████| 50/50 [00:08<00:00,  6.00it/s]\n",
      "100%|██████████| 5/5 [00:00<00:00,  6.35it/s]\n"
     ]
    },
    {
     "name": "stdout",
     "output_type": "stream",
     "text": [
      "Processing image 23/240 with azimuth: 4.113458638155524, elevation: 0.0, radius: 0.1384704406309022...\n",
      "input_image_path is: input_temp/image_22.png\n"
     ]
    },
    {
     "name": "stderr",
     "output_type": "stream",
     "text": [
      "100%|██████████| 50/50 [00:08<00:00,  6.00it/s]\n",
      "100%|██████████| 5/5 [00:00<00:00,  6.37it/s]\n"
     ]
    },
    {
     "name": "stdout",
     "output_type": "stream",
     "text": [
      "Processing image 23/240 with azimuth: 4.6939572975046016, elevation: 0.0, radius: 0.1646829212939141...\n",
      "input_image_path is: input_temp/image_22.png\n"
     ]
    },
    {
     "name": "stderr",
     "output_type": "stream",
     "text": [
      "100%|██████████| 50/50 [00:08<00:00,  6.01it/s]\n",
      "100%|██████████| 5/5 [00:00<00:00,  6.35it/s]\n"
     ]
    },
    {
     "name": "stdout",
     "output_type": "stream",
     "text": [
      "Processing image 23/240 with azimuth: 3.6335510725478204, elevation: 0.0, radius: 0.13807239935541435...\n",
      "input_image_path is: input_temp/image_22.png\n"
     ]
    },
    {
     "name": "stderr",
     "output_type": "stream",
     "text": [
      "100%|██████████| 50/50 [00:08<00:00,  6.01it/s]\n",
      "100%|██████████| 5/5 [00:00<00:00,  6.33it/s]\n"
     ]
    },
    {
     "name": "stdout",
     "output_type": "stream",
     "text": [
      "Processing image 23/240 with azimuth: 4.623531422611117, elevation: 0.0, radius: 0.04281019717746457...\n",
      "input_image_path is: input_temp/image_22.png\n"
     ]
    },
    {
     "name": "stderr",
     "output_type": "stream",
     "text": [
      "100%|██████████| 50/50 [00:08<00:00,  6.01it/s]\n",
      "100%|██████████| 5/5 [00:00<00:00,  6.32it/s]\n"
     ]
    },
    {
     "name": "stdout",
     "output_type": "stream",
     "text": [
      "Processing image 23/240 with azimuth: 2.990302148307516, elevation: 0.0, radius: 0.09819985490459066...\n",
      "input_image_path is: input_temp/image_22.png\n"
     ]
    },
    {
     "name": "stderr",
     "output_type": "stream",
     "text": [
      "100%|██████████| 50/50 [00:08<00:00,  6.01it/s]\n",
      "100%|██████████| 5/5 [00:00<00:00,  6.32it/s]\n"
     ]
    },
    {
     "name": "stdout",
     "output_type": "stream",
     "text": [
      "Processing image 23/240 with azimuth: 5.295241084307159, elevation: 0.0, radius: 0.08895390156085214...\n",
      "input_image_path is: input_temp/image_22.png\n"
     ]
    },
    {
     "name": "stderr",
     "output_type": "stream",
     "text": [
      "100%|██████████| 50/50 [00:08<00:00,  6.01it/s]\n",
      "100%|██████████| 5/5 [00:00<00:00,  6.29it/s]\n"
     ]
    },
    {
     "name": "stdout",
     "output_type": "stream",
     "text": [
      "Processing image 23/240 with azimuth: 2.742775154792924, elevation: 0.0, radius: 0.06000617469211639...\n",
      "input_image_path is: input_temp/image_22.png\n"
     ]
    },
    {
     "name": "stderr",
     "output_type": "stream",
     "text": [
      "100%|██████████| 50/50 [00:08<00:00,  6.01it/s]\n",
      "100%|██████████| 5/5 [00:00<00:00,  6.29it/s]\n"
     ]
    },
    {
     "name": "stdout",
     "output_type": "stream",
     "text": [
      "Processing image 24/240 with azimuth: 0.0, elevation: 0.0, radius: 0.5749596560860155...\n",
      "input_image_path is: input_temp/image_23.png\n"
     ]
    },
    {
     "name": "stderr",
     "output_type": "stream",
     "text": [
      "100%|██████████| 50/50 [00:08<00:00,  6.01it/s]\n",
      "100%|██████████| 5/5 [00:00<00:00,  6.30it/s]\n"
     ]
    },
    {
     "name": "stdout",
     "output_type": "stream",
     "text": [
      "Processing image 24/240 with azimuth: 4.224936421747161, elevation: 0.0, radius: 0.1345287968030233...\n",
      "input_image_path is: input_temp/image_23.png\n"
     ]
    },
    {
     "name": "stderr",
     "output_type": "stream",
     "text": [
      "100%|██████████| 50/50 [00:08<00:00,  6.01it/s]\n",
      "100%|██████████| 5/5 [00:00<00:00,  6.33it/s]\n"
     ]
    },
    {
     "name": "stdout",
     "output_type": "stream",
     "text": [
      "Processing image 24/240 with azimuth: 3.805046403793344, elevation: 0.0, radius: 0.06460913197124647...\n",
      "input_image_path is: input_temp/image_23.png\n"
     ]
    },
    {
     "name": "stderr",
     "output_type": "stream",
     "text": [
      "100%|██████████| 50/50 [00:08<00:00,  6.01it/s]\n",
      "100%|██████████| 5/5 [00:00<00:00,  6.29it/s]\n"
     ]
    },
    {
     "name": "stdout",
     "output_type": "stream",
     "text": [
      "Processing image 24/240 with azimuth: 3.9217502885299185, elevation: 0.0, radius: 0.16548477286348948...\n",
      "input_image_path is: input_temp/image_23.png\n"
     ]
    },
    {
     "name": "stderr",
     "output_type": "stream",
     "text": [
      "100%|██████████| 50/50 [00:08<00:00,  6.01it/s]\n",
      "100%|██████████| 5/5 [00:00<00:00,  6.31it/s]\n"
     ]
    },
    {
     "name": "stdout",
     "output_type": "stream",
     "text": [
      "Processing image 24/240 with azimuth: 3.780510133018245, elevation: 0.0, radius: 0.11956972577984022...\n",
      "input_image_path is: input_temp/image_23.png\n"
     ]
    },
    {
     "name": "stderr",
     "output_type": "stream",
     "text": [
      "100%|██████████| 50/50 [00:08<00:00,  6.01it/s]\n",
      "100%|██████████| 5/5 [00:00<00:00,  6.32it/s]\n"
     ]
    },
    {
     "name": "stdout",
     "output_type": "stream",
     "text": [
      "Processing image 24/240 with azimuth: 2.054510132222319, elevation: 0.0, radius: 0.052954825827385754...\n",
      "input_image_path is: input_temp/image_23.png\n"
     ]
    },
    {
     "name": "stderr",
     "output_type": "stream",
     "text": [
      "100%|██████████| 50/50 [00:08<00:00,  6.01it/s]\n",
      "100%|██████████| 5/5 [00:00<00:00,  6.29it/s]\n"
     ]
    },
    {
     "name": "stdout",
     "output_type": "stream",
     "text": [
      "Processing image 24/240 with azimuth: 4.134004219079208, elevation: 0.0, radius: 0.14767242605085174...\n",
      "input_image_path is: input_temp/image_23.png\n"
     ]
    },
    {
     "name": "stderr",
     "output_type": "stream",
     "text": [
      "100%|██████████| 50/50 [00:08<00:00,  6.01it/s]\n",
      "100%|██████████| 5/5 [00:00<00:00,  6.29it/s]\n"
     ]
    },
    {
     "name": "stdout",
     "output_type": "stream",
     "text": [
      "Processing image 24/240 with azimuth: 5.417589222286776, elevation: 0.0, radius: 0.08661832184160223...\n",
      "input_image_path is: input_temp/image_23.png\n"
     ]
    },
    {
     "name": "stderr",
     "output_type": "stream",
     "text": [
      "100%|██████████| 50/50 [00:08<00:00,  6.01it/s]\n",
      "100%|██████████| 5/5 [00:00<00:00,  6.31it/s]\n"
     ]
    },
    {
     "name": "stdout",
     "output_type": "stream",
     "text": [
      "Processing image 24/240 with azimuth: 5.663163584567615, elevation: 0.0, radius: 0.12049439504567983...\n",
      "input_image_path is: input_temp/image_23.png\n"
     ]
    },
    {
     "name": "stderr",
     "output_type": "stream",
     "text": [
      "100%|██████████| 50/50 [00:08<00:00,  6.02it/s]\n",
      "100%|██████████| 5/5 [00:00<00:00,  6.30it/s]\n"
     ]
    },
    {
     "name": "stdout",
     "output_type": "stream",
     "text": [
      "Processing image 24/240 with azimuth: 6.201997648591164, elevation: 0.0, radius: 0.05949983346598048...\n",
      "input_image_path is: input_temp/image_23.png\n"
     ]
    },
    {
     "name": "stderr",
     "output_type": "stream",
     "text": [
      "100%|██████████| 50/50 [00:08<00:00,  6.01it/s]\n",
      "100%|██████████| 5/5 [00:00<00:00,  6.30it/s]\n"
     ]
    },
    {
     "name": "stdout",
     "output_type": "stream",
     "text": [
      "Processing image 24/240 with azimuth: 0.5400422398658816, elevation: 0.0, radius: 0.16053680277197724...\n",
      "input_image_path is: input_temp/image_23.png\n"
     ]
    },
    {
     "name": "stderr",
     "output_type": "stream",
     "text": [
      "100%|██████████| 50/50 [00:08<00:00,  6.00it/s]\n",
      "100%|██████████| 5/5 [00:00<00:00,  6.30it/s]\n"
     ]
    },
    {
     "name": "stdout",
     "output_type": "stream",
     "text": [
      "Processing image 25/240 with azimuth: 0.0, elevation: 0.0, radius: 0.5743204673171411...\n",
      "input_image_path is: input_temp/image_24.png\n"
     ]
    },
    {
     "name": "stderr",
     "output_type": "stream",
     "text": [
      "100%|██████████| 50/50 [00:08<00:00,  6.02it/s]\n",
      "100%|██████████| 5/5 [00:00<00:00,  6.31it/s]\n"
     ]
    },
    {
     "name": "stdout",
     "output_type": "stream",
     "text": [
      "Processing image 25/240 with azimuth: 3.050186567778164, elevation: 0.0, radius: 0.06907770872736399...\n",
      "input_image_path is: input_temp/image_24.png\n"
     ]
    },
    {
     "name": "stderr",
     "output_type": "stream",
     "text": [
      "100%|██████████| 50/50 [00:08<00:00,  6.02it/s]\n",
      "100%|██████████| 5/5 [00:00<00:00,  6.30it/s]\n"
     ]
    },
    {
     "name": "stdout",
     "output_type": "stream",
     "text": [
      "Processing image 25/240 with azimuth: 4.98800679171801, elevation: 0.0, radius: 0.1487086517728543...\n",
      "input_image_path is: input_temp/image_24.png\n"
     ]
    },
    {
     "name": "stderr",
     "output_type": "stream",
     "text": [
      "100%|██████████| 50/50 [00:08<00:00,  6.01it/s]\n",
      "100%|██████████| 5/5 [00:00<00:00,  6.31it/s]\n"
     ]
    },
    {
     "name": "stdout",
     "output_type": "stream",
     "text": [
      "Processing image 25/240 with azimuth: 0.8603545931990724, elevation: 0.0, radius: 0.12087493554381638...\n",
      "input_image_path is: input_temp/image_24.png\n"
     ]
    },
    {
     "name": "stderr",
     "output_type": "stream",
     "text": [
      "100%|██████████| 50/50 [00:08<00:00,  6.01it/s]\n",
      "100%|██████████| 5/5 [00:00<00:00,  6.31it/s]\n"
     ]
    },
    {
     "name": "stdout",
     "output_type": "stream",
     "text": [
      "Processing image 25/240 with azimuth: 0.8136325682744141, elevation: 0.0, radius: 0.13327874829791753...\n",
      "input_image_path is: input_temp/image_24.png\n"
     ]
    },
    {
     "name": "stderr",
     "output_type": "stream",
     "text": [
      "100%|██████████| 50/50 [00:08<00:00,  6.01it/s]\n",
      "100%|██████████| 5/5 [00:00<00:00,  6.30it/s]\n"
     ]
    },
    {
     "name": "stdout",
     "output_type": "stream",
     "text": [
      "Processing image 25/240 with azimuth: 0.11105946154135862, elevation: 0.0, radius: 0.10838435779335112...\n",
      "input_image_path is: input_temp/image_24.png\n"
     ]
    },
    {
     "name": "stderr",
     "output_type": "stream",
     "text": [
      "100%|██████████| 50/50 [00:08<00:00,  6.01it/s]\n",
      "100%|██████████| 5/5 [00:00<00:00,  6.29it/s]\n"
     ]
    },
    {
     "name": "stdout",
     "output_type": "stream",
     "text": [
      "Processing image 25/240 with azimuth: 5.856009691477155, elevation: 0.0, radius: 0.11675113575388908...\n",
      "input_image_path is: input_temp/image_24.png\n"
     ]
    },
    {
     "name": "stderr",
     "output_type": "stream",
     "text": [
      "100%|██████████| 50/50 [00:08<00:00,  6.01it/s]\n",
      "100%|██████████| 5/5 [00:00<00:00,  6.29it/s]\n"
     ]
    },
    {
     "name": "stdout",
     "output_type": "stream",
     "text": [
      "Processing image 25/240 with azimuth: 1.357269084810045, elevation: 0.0, radius: 0.08796764111085152...\n",
      "input_image_path is: input_temp/image_24.png\n"
     ]
    },
    {
     "name": "stderr",
     "output_type": "stream",
     "text": [
      "100%|██████████| 50/50 [00:08<00:00,  6.01it/s]\n",
      "100%|██████████| 5/5 [00:00<00:00,  6.29it/s]\n"
     ]
    },
    {
     "name": "stdout",
     "output_type": "stream",
     "text": [
      "Processing image 25/240 with azimuth: 4.79229387261772, elevation: 0.0, radius: 0.09294940416285269...\n",
      "input_image_path is: input_temp/image_24.png\n"
     ]
    },
    {
     "name": "stderr",
     "output_type": "stream",
     "text": [
      "100%|██████████| 50/50 [00:08<00:00,  6.01it/s]\n",
      "100%|██████████| 5/5 [00:00<00:00,  6.30it/s]\n"
     ]
    },
    {
     "name": "stdout",
     "output_type": "stream",
     "text": [
      "Processing image 25/240 with azimuth: 0.05628440590967002, elevation: 0.0, radius: 0.11841208127296786...\n",
      "input_image_path is: input_temp/image_24.png\n"
     ]
    },
    {
     "name": "stderr",
     "output_type": "stream",
     "text": [
      "100%|██████████| 50/50 [00:08<00:00,  6.01it/s]\n",
      "100%|██████████| 5/5 [00:00<00:00,  6.29it/s]\n"
     ]
    },
    {
     "name": "stdout",
     "output_type": "stream",
     "text": [
      "Processing image 25/240 with azimuth: 1.0976365942055117, elevation: 0.0, radius: 0.10636472473595111...\n",
      "input_image_path is: input_temp/image_24.png\n"
     ]
    },
    {
     "name": "stderr",
     "output_type": "stream",
     "text": [
      "100%|██████████| 50/50 [00:08<00:00,  6.01it/s]\n",
      "100%|██████████| 5/5 [00:00<00:00,  6.29it/s]\n"
     ]
    },
    {
     "name": "stdout",
     "output_type": "stream",
     "text": [
      "Processing image 26/240 with azimuth: 0.0, elevation: 0.0, radius: 0.5735110777231911...\n",
      "input_image_path is: input_temp/image_25.png\n"
     ]
    },
    {
     "name": "stderr",
     "output_type": "stream",
     "text": [
      "100%|██████████| 50/50 [00:08<00:00,  6.01it/s]\n",
      "100%|██████████| 5/5 [00:00<00:00,  6.29it/s]\n"
     ]
    },
    {
     "name": "stdout",
     "output_type": "stream",
     "text": [
      "Processing image 26/240 with azimuth: 2.283545643514001, elevation: 0.0, radius: 0.10451036344699231...\n",
      "input_image_path is: input_temp/image_25.png\n"
     ]
    },
    {
     "name": "stderr",
     "output_type": "stream",
     "text": [
      "100%|██████████| 50/50 [00:08<00:00,  6.01it/s]\n",
      "100%|██████████| 5/5 [00:00<00:00,  6.32it/s]\n"
     ]
    },
    {
     "name": "stdout",
     "output_type": "stream",
     "text": [
      "Processing image 26/240 with azimuth: 0.33575648846380435, elevation: 0.0, radius: 0.14222022750062066...\n",
      "input_image_path is: input_temp/image_25.png\n"
     ]
    },
    {
     "name": "stderr",
     "output_type": "stream",
     "text": [
      "100%|██████████| 50/50 [00:08<00:00,  6.02it/s]\n",
      "100%|██████████| 5/5 [00:00<00:00,  6.31it/s]\n"
     ]
    },
    {
     "name": "stdout",
     "output_type": "stream",
     "text": [
      "Processing image 26/240 with azimuth: 2.343423226933811, elevation: 0.0, radius: 0.13556353184661252...\n",
      "input_image_path is: input_temp/image_25.png\n"
     ]
    },
    {
     "name": "stderr",
     "output_type": "stream",
     "text": [
      "100%|██████████| 50/50 [00:08<00:00,  6.01it/s]\n",
      "100%|██████████| 5/5 [00:00<00:00,  6.31it/s]\n"
     ]
    },
    {
     "name": "stdout",
     "output_type": "stream",
     "text": [
      "Processing image 26/240 with azimuth: 4.478903653712406, elevation: 0.0, radius: 0.08382363737916107...\n",
      "input_image_path is: input_temp/image_25.png\n"
     ]
    },
    {
     "name": "stderr",
     "output_type": "stream",
     "text": [
      "100%|██████████| 50/50 [00:08<00:00,  6.01it/s]\n",
      "100%|██████████| 5/5 [00:00<00:00,  6.30it/s]\n"
     ]
    },
    {
     "name": "stdout",
     "output_type": "stream",
     "text": [
      "Processing image 26/240 with azimuth: 4.14751452928666, elevation: 0.0, radius: 0.1654419343453982...\n",
      "input_image_path is: input_temp/image_25.png\n"
     ]
    },
    {
     "name": "stderr",
     "output_type": "stream",
     "text": [
      "100%|██████████| 50/50 [00:08<00:00,  6.02it/s]\n",
      "100%|██████████| 5/5 [00:00<00:00,  6.31it/s]\n"
     ]
    },
    {
     "name": "stdout",
     "output_type": "stream",
     "text": [
      "Processing image 26/240 with azimuth: 1.7417982110591812, elevation: 0.0, radius: 0.11405173034706655...\n",
      "input_image_path is: input_temp/image_25.png\n"
     ]
    },
    {
     "name": "stderr",
     "output_type": "stream",
     "text": [
      "100%|██████████| 50/50 [00:08<00:00,  6.02it/s]\n",
      "100%|██████████| 5/5 [00:00<00:00,  6.32it/s]\n"
     ]
    },
    {
     "name": "stdout",
     "output_type": "stream",
     "text": [
      "Processing image 26/240 with azimuth: 4.229721608036285, elevation: 0.0, radius: 0.16411564554071467...\n",
      "input_image_path is: input_temp/image_25.png\n"
     ]
    },
    {
     "name": "stderr",
     "output_type": "stream",
     "text": [
      "100%|██████████| 50/50 [00:08<00:00,  6.01it/s]\n",
      "100%|██████████| 5/5 [00:00<00:00,  6.31it/s]\n"
     ]
    },
    {
     "name": "stdout",
     "output_type": "stream",
     "text": [
      "Processing image 26/240 with azimuth: 5.355077767464015, elevation: 0.0, radius: 0.10806858874485639...\n",
      "input_image_path is: input_temp/image_25.png\n"
     ]
    },
    {
     "name": "stderr",
     "output_type": "stream",
     "text": [
      "100%|██████████| 50/50 [00:08<00:00,  6.01it/s]\n",
      "100%|██████████| 5/5 [00:00<00:00,  6.30it/s]\n"
     ]
    },
    {
     "name": "stdout",
     "output_type": "stream",
     "text": [
      "Processing image 26/240 with azimuth: 4.037766823587968, elevation: 0.0, radius: 0.055007641026787284...\n",
      "input_image_path is: input_temp/image_25.png\n"
     ]
    },
    {
     "name": "stderr",
     "output_type": "stream",
     "text": [
      "100%|██████████| 50/50 [00:08<00:00,  6.01it/s]\n",
      "100%|██████████| 5/5 [00:00<00:00,  6.32it/s]\n"
     ]
    },
    {
     "name": "stdout",
     "output_type": "stream",
     "text": [
      "Processing image 26/240 with azimuth: 3.933599299853502, elevation: 0.0, radius: 0.08652884748176774...\n",
      "input_image_path is: input_temp/image_25.png\n"
     ]
    },
    {
     "name": "stderr",
     "output_type": "stream",
     "text": [
      "100%|██████████| 50/50 [00:08<00:00,  6.01it/s]\n",
      "100%|██████████| 5/5 [00:00<00:00,  6.31it/s]\n"
     ]
    },
    {
     "name": "stdout",
     "output_type": "stream",
     "text": [
      "Processing image 27/240 with azimuth: 0.0, elevation: 0.0, radius: 0.5723144650566505...\n",
      "input_image_path is: input_temp/image_26.png\n"
     ]
    },
    {
     "name": "stderr",
     "output_type": "stream",
     "text": [
      "100%|██████████| 50/50 [00:08<00:00,  6.02it/s]\n",
      "100%|██████████| 5/5 [00:00<00:00,  6.31it/s]\n"
     ]
    },
    {
     "name": "stdout",
     "output_type": "stream",
     "text": [
      "Processing image 27/240 with azimuth: 0.9382855315149765, elevation: 0.0, radius: 0.14323951685409547...\n",
      "input_image_path is: input_temp/image_26.png\n"
     ]
    },
    {
     "name": "stderr",
     "output_type": "stream",
     "text": [
      "100%|██████████| 50/50 [00:08<00:00,  6.01it/s]\n",
      "100%|██████████| 5/5 [00:00<00:00,  6.33it/s]\n"
     ]
    },
    {
     "name": "stdout",
     "output_type": "stream",
     "text": [
      "Processing image 27/240 with azimuth: 0.6409467136385376, elevation: 0.0, radius: 0.1578026569328434...\n",
      "input_image_path is: input_temp/image_26.png\n"
     ]
    },
    {
     "name": "stderr",
     "output_type": "stream",
     "text": [
      "100%|██████████| 50/50 [00:08<00:00,  6.01it/s]\n",
      "100%|██████████| 5/5 [00:00<00:00,  6.33it/s]\n"
     ]
    },
    {
     "name": "stdout",
     "output_type": "stream",
     "text": [
      "Processing image 27/240 with azimuth: 1.3049671836284393, elevation: 0.0, radius: 0.1170465076773365...\n",
      "input_image_path is: input_temp/image_26.png\n"
     ]
    },
    {
     "name": "stderr",
     "output_type": "stream",
     "text": [
      "100%|██████████| 50/50 [00:08<00:00,  6.01it/s]\n",
      "100%|██████████| 5/5 [00:00<00:00,  6.32it/s]\n"
     ]
    },
    {
     "name": "stdout",
     "output_type": "stream",
     "text": [
      "Processing image 27/240 with azimuth: 6.169413671097375, elevation: 0.0, radius: 0.16315377712820725...\n",
      "input_image_path is: input_temp/image_26.png\n"
     ]
    },
    {
     "name": "stderr",
     "output_type": "stream",
     "text": [
      "100%|██████████| 50/50 [00:08<00:00,  6.01it/s]\n",
      "100%|██████████| 5/5 [00:00<00:00,  6.33it/s]\n"
     ]
    },
    {
     "name": "stdout",
     "output_type": "stream",
     "text": [
      "Processing image 27/240 with azimuth: 4.7668690850008275, elevation: 0.0, radius: 0.12440181029000293...\n",
      "input_image_path is: input_temp/image_26.png\n"
     ]
    },
    {
     "name": "stderr",
     "output_type": "stream",
     "text": [
      "100%|██████████| 50/50 [00:08<00:00,  6.01it/s]\n",
      "100%|██████████| 5/5 [00:00<00:00,  6.32it/s]\n"
     ]
    },
    {
     "name": "stdout",
     "output_type": "stream",
     "text": [
      "Processing image 27/240 with azimuth: 3.975312393971747, elevation: 0.0, radius: 0.09119786333898419...\n",
      "input_image_path is: input_temp/image_26.png\n"
     ]
    },
    {
     "name": "stderr",
     "output_type": "stream",
     "text": [
      "100%|██████████| 50/50 [00:08<00:00,  6.01it/s]\n",
      "100%|██████████| 5/5 [00:00<00:00,  6.32it/s]\n"
     ]
    },
    {
     "name": "stdout",
     "output_type": "stream",
     "text": [
      "Processing image 27/240 with azimuth: 3.1907693861061754, elevation: 0.0, radius: 0.1584978665218868...\n",
      "input_image_path is: input_temp/image_26.png\n"
     ]
    },
    {
     "name": "stderr",
     "output_type": "stream",
     "text": [
      "100%|██████████| 50/50 [00:08<00:00,  6.01it/s]\n",
      "100%|██████████| 5/5 [00:00<00:00,  6.32it/s]\n"
     ]
    },
    {
     "name": "stdout",
     "output_type": "stream",
     "text": [
      "Processing image 27/240 with azimuth: 5.772910843888422, elevation: 0.0, radius: 0.16830245031208174...\n",
      "input_image_path is: input_temp/image_26.png\n"
     ]
    },
    {
     "name": "stderr",
     "output_type": "stream",
     "text": [
      "100%|██████████| 50/50 [00:08<00:00,  6.01it/s]\n",
      "100%|██████████| 5/5 [00:00<00:00,  6.33it/s]\n"
     ]
    },
    {
     "name": "stdout",
     "output_type": "stream",
     "text": [
      "Processing image 27/240 with azimuth: 2.4356697986346694, elevation: 0.0, radius: 0.1336819962133028...\n",
      "input_image_path is: input_temp/image_26.png\n"
     ]
    },
    {
     "name": "stderr",
     "output_type": "stream",
     "text": [
      "100%|██████████| 50/50 [00:08<00:00,  6.01it/s]\n",
      "100%|██████████| 5/5 [00:00<00:00,  6.33it/s]\n"
     ]
    },
    {
     "name": "stdout",
     "output_type": "stream",
     "text": [
      "Processing image 27/240 with azimuth: 1.4244024400224955, elevation: 0.0, radius: 0.10582883978149998...\n",
      "input_image_path is: input_temp/image_26.png\n"
     ]
    },
    {
     "name": "stderr",
     "output_type": "stream",
     "text": [
      "100%|██████████| 50/50 [00:08<00:00,  6.01it/s]\n",
      "100%|██████████| 5/5 [00:00<00:00,  6.36it/s]\n"
     ]
    },
    {
     "name": "stdout",
     "output_type": "stream",
     "text": [
      "Processing image 28/240 with azimuth: 0.0, elevation: 0.0, radius: 0.5714053535173442...\n",
      "input_image_path is: input_temp/image_27.png\n"
     ]
    },
    {
     "name": "stderr",
     "output_type": "stream",
     "text": [
      "100%|██████████| 50/50 [00:08<00:00,  6.01it/s]\n",
      "100%|██████████| 5/5 [00:00<00:00,  6.35it/s]\n"
     ]
    },
    {
     "name": "stdout",
     "output_type": "stream",
     "text": [
      "Processing image 28/240 with azimuth: 5.135955967094894, elevation: 0.0, radius: 0.09958368349315626...\n",
      "input_image_path is: input_temp/image_27.png\n"
     ]
    },
    {
     "name": "stderr",
     "output_type": "stream",
     "text": [
      "100%|██████████| 50/50 [00:08<00:00,  6.01it/s]\n",
      "100%|██████████| 5/5 [00:00<00:00,  6.33it/s]\n"
     ]
    },
    {
     "name": "stdout",
     "output_type": "stream",
     "text": [
      "Processing image 28/240 with azimuth: 4.359299782806358, elevation: 0.0, radius: 0.06544456099857168...\n",
      "input_image_path is: input_temp/image_27.png\n"
     ]
    },
    {
     "name": "stderr",
     "output_type": "stream",
     "text": [
      "100%|██████████| 50/50 [00:08<00:00,  6.01it/s]\n",
      "100%|██████████| 5/5 [00:00<00:00,  6.33it/s]\n"
     ]
    },
    {
     "name": "stdout",
     "output_type": "stream",
     "text": [
      "Processing image 28/240 with azimuth: 6.162319390596218, elevation: 0.0, radius: 0.02885509438041254...\n",
      "input_image_path is: input_temp/image_27.png\n"
     ]
    },
    {
     "name": "stderr",
     "output_type": "stream",
     "text": [
      "100%|██████████| 50/50 [00:08<00:00,  6.01it/s]\n",
      "100%|██████████| 5/5 [00:00<00:00,  6.32it/s]\n"
     ]
    },
    {
     "name": "stdout",
     "output_type": "stream",
     "text": [
      "Processing image 28/240 with azimuth: 4.547864149995234, elevation: 0.0, radius: 0.14441995382593198...\n",
      "input_image_path is: input_temp/image_27.png\n"
     ]
    },
    {
     "name": "stderr",
     "output_type": "stream",
     "text": [
      "100%|██████████| 50/50 [00:08<00:00,  6.01it/s]\n",
      "100%|██████████| 5/5 [00:00<00:00,  6.32it/s]\n"
     ]
    },
    {
     "name": "stdout",
     "output_type": "stream",
     "text": [
      "Processing image 28/240 with azimuth: 1.2012576546401308, elevation: 0.0, radius: 0.14532356958114767...\n",
      "input_image_path is: input_temp/image_27.png\n"
     ]
    },
    {
     "name": "stderr",
     "output_type": "stream",
     "text": [
      "100%|██████████| 50/50 [00:08<00:00,  6.01it/s]\n",
      "100%|██████████| 5/5 [00:00<00:00,  6.35it/s]\n"
     ]
    },
    {
     "name": "stdout",
     "output_type": "stream",
     "text": [
      "Processing image 28/240 with azimuth: 0.5485509757143775, elevation: 0.0, radius: 0.09439314686952334...\n",
      "input_image_path is: input_temp/image_27.png\n"
     ]
    },
    {
     "name": "stderr",
     "output_type": "stream",
     "text": [
      "100%|██████████| 50/50 [00:08<00:00,  6.01it/s]\n",
      "100%|██████████| 5/5 [00:00<00:00,  6.36it/s]\n"
     ]
    },
    {
     "name": "stdout",
     "output_type": "stream",
     "text": [
      "Processing image 28/240 with azimuth: 3.237699494422396, elevation: 0.0, radius: 0.171025621922376...\n",
      "input_image_path is: input_temp/image_27.png\n"
     ]
    },
    {
     "name": "stderr",
     "output_type": "stream",
     "text": [
      "100%|██████████| 50/50 [00:08<00:00,  6.01it/s]\n",
      "100%|██████████| 5/5 [00:00<00:00,  6.36it/s]\n"
     ]
    },
    {
     "name": "stdout",
     "output_type": "stream",
     "text": [
      "Processing image 28/240 with azimuth: 0.09122963957640098, elevation: 0.0, radius: 0.15981438844800455...\n",
      "input_image_path is: input_temp/image_27.png\n"
     ]
    },
    {
     "name": "stderr",
     "output_type": "stream",
     "text": [
      "100%|██████████| 50/50 [00:08<00:00,  6.01it/s]\n",
      "100%|██████████| 5/5 [00:00<00:00,  6.35it/s]\n"
     ]
    },
    {
     "name": "stdout",
     "output_type": "stream",
     "text": [
      "Processing image 28/240 with azimuth: 0.21243555888587304, elevation: 0.0, radius: 0.16722143733701308...\n",
      "input_image_path is: input_temp/image_27.png\n"
     ]
    },
    {
     "name": "stderr",
     "output_type": "stream",
     "text": [
      "100%|██████████| 50/50 [00:08<00:00,  6.01it/s]\n",
      "100%|██████████| 5/5 [00:00<00:00,  6.35it/s]\n"
     ]
    },
    {
     "name": "stdout",
     "output_type": "stream",
     "text": [
      "Processing image 28/240 with azimuth: 1.9750727638349084, elevation: 0.0, radius: 0.03133094351093077...\n",
      "input_image_path is: input_temp/image_27.png\n"
     ]
    },
    {
     "name": "stderr",
     "output_type": "stream",
     "text": [
      "100%|██████████| 50/50 [00:08<00:00,  6.01it/s]\n",
      "100%|██████████| 5/5 [00:00<00:00,  6.38it/s]\n"
     ]
    },
    {
     "name": "stdout",
     "output_type": "stream",
     "text": [
      "Processing image 29/240 with azimuth: 0.0, elevation: 0.0, radius: 0.5709041000145787...\n",
      "input_image_path is: input_temp/image_28.png\n"
     ]
    },
    {
     "name": "stderr",
     "output_type": "stream",
     "text": [
      "100%|██████████| 50/50 [00:08<00:00,  6.00it/s]\n",
      "100%|██████████| 5/5 [00:00<00:00,  6.38it/s]\n"
     ]
    },
    {
     "name": "stdout",
     "output_type": "stream",
     "text": [
      "Processing image 29/240 with azimuth: 4.897403873438945, elevation: 0.0, radius: 0.15306750520718887...\n",
      "input_image_path is: input_temp/image_28.png\n"
     ]
    },
    {
     "name": "stderr",
     "output_type": "stream",
     "text": [
      "100%|██████████| 50/50 [00:08<00:00,  6.01it/s]\n",
      "100%|██████████| 5/5 [00:00<00:00,  6.38it/s]\n"
     ]
    },
    {
     "name": "stdout",
     "output_type": "stream",
     "text": [
      "Processing image 29/240 with azimuth: 5.884438680205944, elevation: 0.0, radius: 0.11208402708393965...\n",
      "input_image_path is: input_temp/image_28.png\n"
     ]
    },
    {
     "name": "stderr",
     "output_type": "stream",
     "text": [
      "100%|██████████| 50/50 [00:08<00:00,  6.00it/s]\n",
      "100%|██████████| 5/5 [00:00<00:00,  6.38it/s]\n"
     ]
    },
    {
     "name": "stdout",
     "output_type": "stream",
     "text": [
      "Processing image 29/240 with azimuth: 0.9397088509858721, elevation: 0.0, radius: 0.04960843242596674...\n",
      "input_image_path is: input_temp/image_28.png\n"
     ]
    },
    {
     "name": "stderr",
     "output_type": "stream",
     "text": [
      "100%|██████████| 50/50 [00:08<00:00,  6.01it/s]\n",
      "100%|██████████| 5/5 [00:00<00:00,  6.41it/s]\n"
     ]
    },
    {
     "name": "stdout",
     "output_type": "stream",
     "text": [
      "Processing image 29/240 with azimuth: 5.0757824110704135, elevation: 0.0, radius: 0.15932747949835005...\n",
      "input_image_path is: input_temp/image_28.png\n"
     ]
    },
    {
     "name": "stderr",
     "output_type": "stream",
     "text": [
      "100%|██████████| 50/50 [00:08<00:00,  6.01it/s]\n",
      "100%|██████████| 5/5 [00:00<00:00,  6.41it/s]\n"
     ]
    },
    {
     "name": "stdout",
     "output_type": "stream",
     "text": [
      "Processing image 29/240 with azimuth: 0.14348015803225805, elevation: 0.0, radius: 0.07998629507052357...\n",
      "input_image_path is: input_temp/image_28.png\n"
     ]
    },
    {
     "name": "stderr",
     "output_type": "stream",
     "text": [
      "100%|██████████| 50/50 [00:08<00:00,  6.01it/s]\n"
     ]
    }
   ],
   "source": [
    "import os\n",
    "from PIL import Image\n",
    "\n",
    "output_folder = \"vivid123_results/\"\n",
    "input_temp = \"input_temp/\"\n",
    "\n",
    "# Loop through images and their corresponding pose matrices\n",
    "for idx, (image_data, pose_matrix) in enumerate(zip(demo_data_image, pose_matrices)):\n",
    "    # Extract the first three values from the pose matrix:\n",
    "    # Assumption: pose_matrix = [azimuth, elevation, radius, x, y, z]\n",
    "    image_path = os.path.join(input_temp, f\"image_{idx}.png\")\n",
    "    # Check if the image is in BGR order (if shape[-1] equals 3) and convert it to RGB if needed\n",
    "    if image_data.shape[-1] == 3:\n",
    "        image_data = image_data[..., ::-1]  # Reverse the channel order (BGR -> RGB)\n",
    "    \n",
    "    # Save the image to the temporary path\n",
    "    image = Image.fromarray(image_data)\n",
    "    image.save(image_path)\n",
    "    images_without_background = interface([image_path])\n",
    "    cat_wo_bg = images_without_background[0]\n",
    "    cat_wo_bg.save(image_path)\n",
    "    input_img_base_counter= 0\n",
    "    for poses in pose_matrix:\n",
    "\n",
    "        azimuth, elevation, radius = poses[:3]\n",
    "        # print(azimuth, elevation, radius)\n",
    "\n",
    "        # Save the current image as a temporary file\n",
    "        \n",
    "        output_image_name = os.path.join(output_folder, f\"output_{idx}_{input_img_base_counter}\")\n",
    "        input_img_base_counter +=1\n",
    "        \n",
    "        # Set the object name in your configuration dictionary\n",
    "        config['obj_name'] = output_image_name\n",
    "\n",
    "        \n",
    "        config['input_image_path'] = image_path\n",
    "        config[\"delta_azimuth_end\"]= azimuth\n",
    "        config[\"delta_azimuth_start\"]= azimuth\n",
    "        config[\"delta_elevation_end\"]= elevation\n",
    "        config[\"delta_elevation_start\"]= elevation\n",
    "        config[\"delta_radius_end\"] = radius\n",
    "        config[\"delta_radius_start\"] = radius\n",
    "\n",
    "        # Use the extracted pose values as needed (for example, printing or passing them to a function)\n",
    "        print(\n",
    "            f\"Processing image {idx + 1}/{len(demo_data_image[2])} \"\n",
    "            f\"with azimuth: {azimuth}, elevation: {elevation}, radius: {radius}...\"\n",
    "        )\n",
    "\n",
    "        # Call your prediction function here using the updated `config`\n",
    "        # predict_function(config)  # Example: Uncomment and adjust accordingly\n",
    "        try:\n",
    "            generation_vivid123_new(config=config, vivid123_pipe=vivid123_pipe, xl_pipe=xl_pipe)\n",
    "        except Exception as e:\n",
    "            print(e)\n",
    "            # print(\"Failed for \",output_image_name)\n",
    "\n",
    "print(f\"All outputs saved to {output_folder}\")"
   ]
  }
 ],
 "metadata": {
  "kernelspec": {
   "display_name": "safe_lfd",
   "language": "python",
   "name": "python3"
  },
  "language_info": {
   "codemirror_mode": {
    "name": "ipython",
    "version": 3
   },
   "file_extension": ".py",
   "mimetype": "text/x-python",
   "name": "python",
   "nbconvert_exporter": "python",
   "pygments_lexer": "ipython3",
   "version": "3.12.8"
  }
 },
 "nbformat": 4,
 "nbformat_minor": 5
}
