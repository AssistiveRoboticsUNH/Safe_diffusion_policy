{
 "cells": [
  {
   "cell_type": "code",
   "execution_count": null,
   "metadata": {},
   "outputs": [
    {
     "name": "stdout",
     "output_type": "stream",
     "text": [
      "Available Demos: ['demo_0', 'demo_1', 'demo_2', 'demo_3', 'demo_4', 'demo_5']\n",
      "Reference spherical coords: r=0.717, az=-1.481, el=0.304\n",
      "\n",
      "Iteration 0, variation scale 0.100\n",
      "Candidates: 22720, InFoV: 21125 (ratio 0.93)\n",
      "Iteration 0: Generated chain with 282 points.\n",
      "\n",
      "Iteration 1, variation scale 0.120\n",
      "Candidates: 22720, InFoV: 21004 (ratio 0.92)\n",
      "Iteration 1: Generated chain with 282 points.\n",
      "\n",
      "Iteration 2, variation scale 0.144\n",
      "Candidates: 22720, InFoV: 20827 (ratio 0.92)\n",
      "Iteration 2: Generated chain with 282 points.\n",
      "\n",
      "Iteration 3, variation scale 0.173\n",
      "Candidates: 22720, InFoV: 20682 (ratio 0.91)\n",
      "Iteration 3: Generated chain with 282 points.\n",
      "\n",
      "Iteration 4, variation scale 0.207\n",
      "Candidates: 22720, InFoV: 20456 (ratio 0.90)\n",
      "Iteration 4: Generated chain with 281 points.\n",
      "\n",
      "Iteration 5, variation scale 0.249\n",
      "Candidates: 22720, InFoV: 19817 (ratio 0.87)\n",
      "Iteration 5: Generated chain with 280 points.\n",
      "\n",
      "Iteration 6, variation scale 0.299\n",
      "Candidates: 22720, InFoV: 19234 (ratio 0.85)\n",
      "Iteration 6: Generated chain with 279 points.\n",
      "\n",
      "Iteration 7, variation scale 0.358\n",
      "Candidates: 22720, InFoV: 18681 (ratio 0.82)\n",
      "Iteration 7: Generated chain with 278 points.\n",
      "\n",
      "Iteration 8, variation scale 0.430\n",
      "Candidates: 22720, InFoV: 18107 (ratio 0.80)\n",
      "Iteration 8: Generated chain with 276 points.\n",
      "\n",
      "Iteration 9, variation scale 0.516\n",
      "Candidates: 22720, InFoV: 17444 (ratio 0.77)\n",
      "Iteration 9: Generated chain with 273 points.\n",
      "Removing background from reference image...\n",
      "Processed reference image saved to: temp_ref/eye_in_hand_rgb.png\n"
     ]
    },
    {
     "name": "stderr",
     "output_type": "stream",
     "text": [
      "text_encoder/model.safetensors not found\n",
      "Loading pipeline components...: 100%|██████████| 5/5 [00:02<00:00,  1.84it/s]\n",
      "text_encoder/model.safetensors not found\n",
      "Loading pipeline components...: 100%|██████████| 5/5 [00:00<00:00,  5.00it/s]\n"
     ]
    },
    {
     "name": "stdout",
     "output_type": "stream",
     "text": [
      "\n",
      "Synthesizing images for trajectory 0 with 282 points...\n",
      "Trajectory 0, point 0: Δaz=0.009, Δel=-0.009, Δr=-0.000\n",
      "input_image_path is: temp_ref/eye_in_hand_rgb.png\n"
     ]
    },
    {
     "name": "stderr",
     "output_type": "stream",
     "text": [
      "100%|██████████| 50/50 [00:09<00:00,  5.43it/s]\n",
      "100%|██████████| 5/5 [00:00<00:00,  5.33it/s]\n"
     ]
    },
    {
     "name": "stdout",
     "output_type": "stream",
     "text": [
      "Saving output images.....\n",
      "Trajectory 0, point 1: Δaz=0.009, Δel=-0.008, Δr=-0.001\n",
      "input_image_path is: temp_ref/eye_in_hand_rgb.png\n"
     ]
    },
    {
     "name": "stderr",
     "output_type": "stream",
     "text": [
      "100%|██████████| 50/50 [00:08<00:00,  6.06it/s]\n",
      "100%|██████████| 5/5 [00:00<00:00,  6.34it/s]\n"
     ]
    },
    {
     "name": "stdout",
     "output_type": "stream",
     "text": [
      "Saving output images.....\n",
      "Trajectory 0, point 2: Δaz=0.009, Δel=-0.008, Δr=-0.001\n",
      "input_image_path is: temp_ref/eye_in_hand_rgb.png\n"
     ]
    },
    {
     "name": "stderr",
     "output_type": "stream",
     "text": [
      "100%|██████████| 50/50 [00:08<00:00,  6.01it/s]\n",
      "100%|██████████| 5/5 [00:00<00:00,  6.28it/s]\n"
     ]
    },
    {
     "name": "stdout",
     "output_type": "stream",
     "text": [
      "Saving output images.....\n",
      "Trajectory 0, point 3: Δaz=-0.008, Δel=-0.008, Δr=-0.001\n",
      "input_image_path is: temp_ref/eye_in_hand_rgb.png\n"
     ]
    },
    {
     "name": "stderr",
     "output_type": "stream",
     "text": [
      "100%|██████████| 50/50 [00:08<00:00,  5.94it/s]\n",
      "100%|██████████| 5/5 [00:00<00:00,  6.31it/s]\n"
     ]
    },
    {
     "name": "stdout",
     "output_type": "stream",
     "text": [
      "Saving output images.....\n",
      "Trajectory 0, point 4: Δaz=-0.009, Δel=-0.008, Δr=-0.001\n",
      "input_image_path is: temp_ref/eye_in_hand_rgb.png\n"
     ]
    },
    {
     "name": "stderr",
     "output_type": "stream",
     "text": [
      "100%|██████████| 50/50 [00:08<00:00,  5.94it/s]\n",
      "100%|██████████| 5/5 [00:00<00:00,  6.31it/s]\n"
     ]
    },
    {
     "name": "stdout",
     "output_type": "stream",
     "text": [
      "Saving output images.....\n",
      "Trajectory 0, point 5: Δaz=-0.009, Δel=-0.009, Δr=-0.000\n",
      "input_image_path is: temp_ref/eye_in_hand_rgb.png\n"
     ]
    },
    {
     "name": "stderr",
     "output_type": "stream",
     "text": [
      "100%|██████████| 50/50 [00:08<00:00,  5.91it/s]\n",
      "100%|██████████| 5/5 [00:00<00:00,  6.28it/s]\n"
     ]
    },
    {
     "name": "stdout",
     "output_type": "stream",
     "text": [
      "Saving output images.....\n",
      "Trajectory 0, point 6: Δaz=-0.009, Δel=-0.009, Δr=0.001\n",
      "input_image_path is: temp_ref/eye_in_hand_rgb.png\n"
     ]
    },
    {
     "name": "stderr",
     "output_type": "stream",
     "text": [
      "100%|██████████| 50/50 [00:08<00:00,  5.99it/s]\n",
      "100%|██████████| 5/5 [00:00<00:00,  6.27it/s]\n"
     ]
    },
    {
     "name": "stdout",
     "output_type": "stream",
     "text": [
      "Saving output images.....\n",
      "Trajectory 0, point 7: Δaz=-0.009, Δel=-0.010, Δr=0.002\n",
      "input_image_path is: temp_ref/eye_in_hand_rgb.png\n"
     ]
    },
    {
     "name": "stderr",
     "output_type": "stream",
     "text": [
      "100%|██████████| 50/50 [00:08<00:00,  5.97it/s]\n",
      "100%|██████████| 5/5 [00:00<00:00,  6.26it/s]\n"
     ]
    },
    {
     "name": "stdout",
     "output_type": "stream",
     "text": [
      "Saving output images.....\n",
      "Trajectory 0, point 8: Δaz=-0.009, Δel=-0.010, Δr=0.004\n",
      "input_image_path is: temp_ref/eye_in_hand_rgb.png\n"
     ]
    },
    {
     "name": "stderr",
     "output_type": "stream",
     "text": [
      "100%|██████████| 50/50 [00:08<00:00,  5.97it/s]\n",
      "100%|██████████| 5/5 [00:00<00:00,  6.26it/s]\n"
     ]
    },
    {
     "name": "stdout",
     "output_type": "stream",
     "text": [
      "Saving output images.....\n",
      "Trajectory 0, point 9: Δaz=-0.010, Δel=-0.011, Δr=0.006\n",
      "input_image_path is: temp_ref/eye_in_hand_rgb.png\n"
     ]
    },
    {
     "name": "stderr",
     "output_type": "stream",
     "text": [
      "100%|██████████| 50/50 [00:08<00:00,  5.97it/s]\n",
      "100%|██████████| 5/5 [00:00<00:00,  6.25it/s]\n"
     ]
    },
    {
     "name": "stdout",
     "output_type": "stream",
     "text": [
      "Saving output images.....\n",
      "Trajectory 0, point 10: Δaz=-0.011, Δel=-0.012, Δr=0.008\n",
      "input_image_path is: temp_ref/eye_in_hand_rgb.png\n"
     ]
    },
    {
     "name": "stderr",
     "output_type": "stream",
     "text": [
      "100%|██████████| 50/50 [00:08<00:00,  5.96it/s]\n",
      "100%|██████████| 5/5 [00:00<00:00,  6.26it/s]\n"
     ]
    },
    {
     "name": "stdout",
     "output_type": "stream",
     "text": [
      "Saving output images.....\n",
      "Trajectory 0, point 11: Δaz=-0.011, Δel=-0.012, Δr=0.009\n",
      "input_image_path is: temp_ref/eye_in_hand_rgb.png\n"
     ]
    },
    {
     "name": "stderr",
     "output_type": "stream",
     "text": [
      "100%|██████████| 50/50 [00:08<00:00,  5.87it/s]\n",
      "100%|██████████| 5/5 [00:00<00:00,  6.25it/s]\n"
     ]
    },
    {
     "name": "stdout",
     "output_type": "stream",
     "text": [
      "Saving output images.....\n",
      "Trajectory 0, point 12: Δaz=-0.011, Δel=-0.012, Δr=0.009\n",
      "input_image_path is: temp_ref/eye_in_hand_rgb.png\n"
     ]
    },
    {
     "name": "stderr",
     "output_type": "stream",
     "text": [
      "100%|██████████| 50/50 [00:08<00:00,  5.96it/s]\n",
      "100%|██████████| 5/5 [00:00<00:00,  6.26it/s]\n"
     ]
    },
    {
     "name": "stdout",
     "output_type": "stream",
     "text": [
      "Saving output images.....\n",
      "Trajectory 0, point 13: Δaz=-0.011, Δel=-0.012, Δr=0.009\n",
      "input_image_path is: temp_ref/eye_in_hand_rgb.png\n"
     ]
    },
    {
     "name": "stderr",
     "output_type": "stream",
     "text": [
      "100%|██████████| 50/50 [00:08<00:00,  5.95it/s]\n",
      "100%|██████████| 5/5 [00:00<00:00,  6.26it/s]\n"
     ]
    },
    {
     "name": "stdout",
     "output_type": "stream",
     "text": [
      "Saving output images.....\n",
      "Trajectory 0, point 14: Δaz=-0.011, Δel=-0.012, Δr=0.008\n",
      "input_image_path is: temp_ref/eye_in_hand_rgb.png\n"
     ]
    },
    {
     "name": "stderr",
     "output_type": "stream",
     "text": [
      "  0%|          | 0/50 [00:01<?, ?it/s]\n"
     ]
    },
    {
     "ename": "KeyboardInterrupt",
     "evalue": "",
     "output_type": "error",
     "traceback": [
      "\u001b[0;31m---------------------------------------------------------------------------\u001b[0m",
      "\u001b[0;31mKeyboardInterrupt\u001b[0m                         Traceback (most recent call last)",
      "Cell \u001b[0;32mIn[3], line 559\u001b[0m\n\u001b[1;32m    556\u001b[0m     synthesize_and_create_videos(trajectories)\n\u001b[1;32m    558\u001b[0m \u001b[38;5;28;01mif\u001b[39;00m \u001b[38;5;18m__name__\u001b[39m \u001b[38;5;241m==\u001b[39m \u001b[38;5;124m\"\u001b[39m\u001b[38;5;124m__main__\u001b[39m\u001b[38;5;124m\"\u001b[39m:\n\u001b[0;32m--> 559\u001b[0m     \u001b[43mmain\u001b[49m\u001b[43m(\u001b[49m\u001b[43m)\u001b[49m\n",
      "Cell \u001b[0;32mIn[3], line 556\u001b[0m, in \u001b[0;36mmain\u001b[0;34m()\u001b[0m\n\u001b[1;32m    553\u001b[0m     \u001b[38;5;28;01mreturn\u001b[39;00m\n\u001b[1;32m    555\u001b[0m \u001b[38;5;66;03m# Then, synthesize camera view images for each trajectory and create videos.\u001b[39;00m\n\u001b[0;32m--> 556\u001b[0m \u001b[43msynthesize_and_create_videos\u001b[49m\u001b[43m(\u001b[49m\u001b[43mtrajectories\u001b[49m\u001b[43m)\u001b[49m\n",
      "Cell \u001b[0;32mIn[3], line 500\u001b[0m, in \u001b[0;36msynthesize_and_create_videos\u001b[0;34m(trajectories)\u001b[0m\n\u001b[1;32m    498\u001b[0m \u001b[38;5;28mprint\u001b[39m(\u001b[38;5;124mf\u001b[39m\u001b[38;5;124m\"\u001b[39m\u001b[38;5;124mTrajectory \u001b[39m\u001b[38;5;132;01m{\u001b[39;00mtraj_idx\u001b[38;5;132;01m}\u001b[39;00m\u001b[38;5;124m, point \u001b[39m\u001b[38;5;132;01m{\u001b[39;00mpoint_idx\u001b[38;5;132;01m}\u001b[39;00m\u001b[38;5;124m: Δaz=\u001b[39m\u001b[38;5;132;01m{\u001b[39;00mdelta_az\u001b[38;5;132;01m:\u001b[39;00m\u001b[38;5;124m.3f\u001b[39m\u001b[38;5;132;01m}\u001b[39;00m\u001b[38;5;124m, Δel=\u001b[39m\u001b[38;5;132;01m{\u001b[39;00mdelta_el\u001b[38;5;132;01m:\u001b[39;00m\u001b[38;5;124m.3f\u001b[39m\u001b[38;5;132;01m}\u001b[39;00m\u001b[38;5;124m, Δr=\u001b[39m\u001b[38;5;132;01m{\u001b[39;00mdelta_r\u001b[38;5;132;01m:\u001b[39;00m\u001b[38;5;124m.3f\u001b[39m\u001b[38;5;132;01m}\u001b[39;00m\u001b[38;5;124m\"\u001b[39m)\n\u001b[1;32m    499\u001b[0m \u001b[38;5;28;01mtry\u001b[39;00m:\n\u001b[0;32m--> 500\u001b[0m     \u001b[43mgeneration_vivid123_new\u001b[49m\u001b[43m(\u001b[49m\u001b[43mconfig\u001b[49m\u001b[38;5;241;43m=\u001b[39;49m\u001b[43mconfig\u001b[49m\u001b[43m,\u001b[49m\u001b[43m \u001b[49m\u001b[43mvivid123_pipe\u001b[49m\u001b[38;5;241;43m=\u001b[39;49m\u001b[43mvivid123_pipe\u001b[49m\u001b[43m,\u001b[49m\u001b[43m \u001b[49m\u001b[43mxl_pipe\u001b[49m\u001b[38;5;241;43m=\u001b[39;49m\u001b[43mxl_pipe\u001b[49m\u001b[43m)\u001b[49m\n\u001b[1;32m    501\u001b[0m     \u001b[38;5;66;03m# Assume the synthesized image is saved as 'image000.png' inside the output_dir.\u001b[39;00m\n\u001b[1;32m    502\u001b[0m     synth_img_path \u001b[38;5;241m=\u001b[39m os\u001b[38;5;241m.\u001b[39mpath\u001b[38;5;241m.\u001b[39mjoin(output_dir, \u001b[38;5;124m\"\u001b[39m\u001b[38;5;124mimage000.png\u001b[39m\u001b[38;5;124m\"\u001b[39m)\n",
      "File \u001b[0;32m~/Riad/vivid123/vivid123/generation_utils.py:350\u001b[0m, in \u001b[0;36mgeneration_vivid123_new\u001b[0;34m(vivid123_pipe, xl_pipe, config, output_root_dir)\u001b[0m\n\u001b[1;32m    337\u001b[0m fusion_schedule \u001b[38;5;241m=\u001b[39m prepare_fusion_schedule_linear(\n\u001b[1;32m    338\u001b[0m     num_inference_steps\u001b[38;5;241m=\u001b[39mconfig[\u001b[38;5;124m\"\u001b[39m\u001b[38;5;124mnum_inference_steps\u001b[39m\u001b[38;5;124m\"\u001b[39m],\n\u001b[1;32m    339\u001b[0m     video_linear_start_weight\u001b[38;5;241m=\u001b[39mconfig[\u001b[38;5;124m\"\u001b[39m\u001b[38;5;124mvideo_linear_start_weight\u001b[39m\u001b[38;5;124m\"\u001b[39m],\n\u001b[0;32m   (...)\u001b[0m\n\u001b[1;32m    346\u001b[0m     zero123_end_step_percentage\u001b[38;5;241m=\u001b[39mconfig[\u001b[38;5;124m\"\u001b[39m\u001b[38;5;124mzero123_end_step_percentage\u001b[39m\u001b[38;5;124m\"\u001b[39m],\n\u001b[1;32m    347\u001b[0m )\n\u001b[1;32m    349\u001b[0m \u001b[38;5;66;03m# Generate the base video frames using the vivid123 pipeline\u001b[39;00m\n\u001b[0;32m--> 350\u001b[0m vid_base_frames \u001b[38;5;241m=\u001b[39m \u001b[43mvivid123_pipe\u001b[49m\u001b[43m(\u001b[49m\n\u001b[1;32m    351\u001b[0m \u001b[43m    \u001b[49m\u001b[43mimage\u001b[49m\u001b[38;5;241;43m=\u001b[39;49m\u001b[43minput_image\u001b[49m\u001b[43m,\u001b[49m\n\u001b[1;32m    352\u001b[0m \u001b[43m    \u001b[49m\u001b[43mcam_pose_torch\u001b[49m\u001b[38;5;241;43m=\u001b[39;49m\u001b[43mcam_pose\u001b[49m\u001b[43m,\u001b[49m\n\u001b[1;32m    353\u001b[0m \u001b[43m    \u001b[49m\u001b[43mfusion_schedule\u001b[49m\u001b[38;5;241;43m=\u001b[39;49m\u001b[43mfusion_schedule\u001b[49m\u001b[43m,\u001b[49m\n\u001b[1;32m    354\u001b[0m \u001b[43m    \u001b[49m\u001b[43mheight\u001b[49m\u001b[38;5;241;43m=\u001b[39;49m\u001b[43mconfig\u001b[49m\u001b[43m[\u001b[49m\u001b[38;5;124;43m\"\u001b[39;49m\u001b[38;5;124;43mheight\u001b[39;49m\u001b[38;5;124;43m\"\u001b[39;49m\u001b[43m]\u001b[49m\u001b[43m,\u001b[49m\n\u001b[1;32m    355\u001b[0m \u001b[43m    \u001b[49m\u001b[43mwidth\u001b[49m\u001b[38;5;241;43m=\u001b[39;49m\u001b[43mconfig\u001b[49m\u001b[43m[\u001b[49m\u001b[38;5;124;43m\"\u001b[39;49m\u001b[38;5;124;43mwidth\u001b[39;49m\u001b[38;5;124;43m\"\u001b[39;49m\u001b[43m]\u001b[49m\u001b[43m,\u001b[49m\n\u001b[1;32m    356\u001b[0m \u001b[43m    \u001b[49m\u001b[43mnum_frames\u001b[49m\u001b[38;5;241;43m=\u001b[39;49m\u001b[43mconfig\u001b[49m\u001b[43m[\u001b[49m\u001b[38;5;124;43m\"\u001b[39;49m\u001b[38;5;124;43mnum_frames\u001b[39;49m\u001b[38;5;124;43m\"\u001b[39;49m\u001b[43m]\u001b[49m\u001b[43m,\u001b[49m\n\u001b[1;32m    357\u001b[0m \u001b[43m    \u001b[49m\u001b[43mprompt\u001b[49m\u001b[38;5;241;43m=\u001b[39;49m\u001b[43mconfig\u001b[49m\u001b[43m[\u001b[49m\u001b[38;5;124;43m\"\u001b[39;49m\u001b[38;5;124;43mprompt\u001b[39;49m\u001b[38;5;124;43m\"\u001b[39;49m\u001b[43m]\u001b[49m\u001b[43m,\u001b[49m\n\u001b[1;32m    358\u001b[0m \u001b[43m    \u001b[49m\u001b[43mguidance_scale_video\u001b[49m\u001b[38;5;241;43m=\u001b[39;49m\u001b[43mconfig\u001b[49m\u001b[43m[\u001b[49m\u001b[38;5;124;43m\"\u001b[39;49m\u001b[38;5;124;43mguidance_scale_video\u001b[39;49m\u001b[38;5;124;43m\"\u001b[39;49m\u001b[43m]\u001b[49m\u001b[43m,\u001b[49m\n\u001b[1;32m    359\u001b[0m \u001b[43m    \u001b[49m\u001b[43mguidance_scale_zero123\u001b[49m\u001b[38;5;241;43m=\u001b[39;49m\u001b[43mconfig\u001b[49m\u001b[43m[\u001b[49m\u001b[38;5;124;43m\"\u001b[39;49m\u001b[38;5;124;43mguidance_scale_zero123\u001b[39;49m\u001b[38;5;124;43m\"\u001b[39;49m\u001b[43m]\u001b[49m\u001b[43m,\u001b[49m\n\u001b[1;32m    360\u001b[0m \u001b[43m    \u001b[49m\u001b[43mnum_inference_steps\u001b[49m\u001b[38;5;241;43m=\u001b[39;49m\u001b[43mconfig\u001b[49m\u001b[43m[\u001b[49m\u001b[38;5;124;43m\"\u001b[39;49m\u001b[38;5;124;43mnum_inference_steps\u001b[39;49m\u001b[38;5;124;43m\"\u001b[39;49m\u001b[43m]\u001b[49m\u001b[43m,\u001b[49m\n\u001b[1;32m    361\u001b[0m \u001b[43m    \u001b[49m\u001b[43mnoise_identical_accross_frames\u001b[49m\u001b[38;5;241;43m=\u001b[39;49m\u001b[43mconfig\u001b[49m\u001b[43m[\u001b[49m\u001b[38;5;124;43m\"\u001b[39;49m\u001b[38;5;124;43mnoise_identical_accross_frames\u001b[39;49m\u001b[38;5;124;43m\"\u001b[39;49m\u001b[43m]\u001b[49m\u001b[43m,\u001b[49m\n\u001b[1;32m    362\u001b[0m \u001b[43m    \u001b[49m\u001b[43meta\u001b[49m\u001b[38;5;241;43m=\u001b[39;49m\u001b[43mconfig\u001b[49m\u001b[43m[\u001b[49m\u001b[38;5;124;43m\"\u001b[39;49m\u001b[38;5;124;43meta\u001b[39;49m\u001b[38;5;124;43m\"\u001b[39;49m\u001b[43m]\u001b[49m\u001b[43m,\u001b[49m\n\u001b[1;32m    363\u001b[0m \u001b[43m\u001b[49m\u001b[43m)\u001b[49m\u001b[38;5;241m.\u001b[39mframes\n\u001b[1;32m    365\u001b[0m \u001b[38;5;66;03m# Save the input image and base frames to the output directory\u001b[39;00m\n\u001b[1;32m    366\u001b[0m \u001b[38;5;66;03m# os.makedirs(os.path.join(output_root_dir, config[\"obj_name\"]), exist_ok=True)\u001b[39;00m\n\u001b[1;32m    367\u001b[0m \u001b[38;5;66;03m# input_image.save(f\"{output_root_dir}/{config['obj_name']}/input.png\")\u001b[39;00m\n\u001b[0;32m   (...)\u001b[0m\n\u001b[1;32m    377\u001b[0m \n\u001b[1;32m    378\u001b[0m \u001b[38;5;66;03m# Skip the refiner if configured to do so\u001b[39;00m\n\u001b[1;32m    379\u001b[0m \u001b[38;5;28;01mif\u001b[39;00m config\u001b[38;5;241m.\u001b[39mget(\u001b[38;5;124m\"\u001b[39m\u001b[38;5;124mskip_refiner\u001b[39m\u001b[38;5;124m\"\u001b[39m, \u001b[38;5;28;01mFalse\u001b[39;00m):\n",
      "File \u001b[0;32m~/miniconda3/envs/safe_lfd/lib/python3.12/site-packages/torch/utils/_contextlib.py:116\u001b[0m, in \u001b[0;36mcontext_decorator.<locals>.decorate_context\u001b[0;34m(*args, **kwargs)\u001b[0m\n\u001b[1;32m    113\u001b[0m \u001b[38;5;129m@functools\u001b[39m\u001b[38;5;241m.\u001b[39mwraps(func)\n\u001b[1;32m    114\u001b[0m \u001b[38;5;28;01mdef\u001b[39;00m\u001b[38;5;250m \u001b[39m\u001b[38;5;21mdecorate_context\u001b[39m(\u001b[38;5;241m*\u001b[39margs, \u001b[38;5;241m*\u001b[39m\u001b[38;5;241m*\u001b[39mkwargs):\n\u001b[1;32m    115\u001b[0m     \u001b[38;5;28;01mwith\u001b[39;00m ctx_factory():\n\u001b[0;32m--> 116\u001b[0m         \u001b[38;5;28;01mreturn\u001b[39;00m \u001b[43mfunc\u001b[49m\u001b[43m(\u001b[49m\u001b[38;5;241;43m*\u001b[39;49m\u001b[43margs\u001b[49m\u001b[43m,\u001b[49m\u001b[43m \u001b[49m\u001b[38;5;241;43m*\u001b[39;49m\u001b[38;5;241;43m*\u001b[39;49m\u001b[43mkwargs\u001b[49m\u001b[43m)\u001b[49m\n",
      "File \u001b[0;32m~/Riad/vivid123/vivid123/pipelines/vivid123_pipeline.py:658\u001b[0m, in \u001b[0;36mViVid123Pipeline.__call__\u001b[0;34m(self, prompt, height, width, num_frames, num_inference_steps, guidance_scale_video, negative_prompt, eta, generator, latents, prompt_embeds, negative_prompt_embeds, output_type, return_dict, callback, callback_steps, cross_attention_kwargs, guidance_rescale, image, cam_pose_torch, fusion_schedule, ddim_eta_0123, guidance_scale_zero123, noise_identical_accross_frames)\u001b[0m\n\u001b[1;32m    653\u001b[0m latent_model_input_zero123 \u001b[38;5;241m=\u001b[39m torch\u001b[38;5;241m.\u001b[39mcat([latents] \u001b[38;5;241m*\u001b[39m \u001b[38;5;241m2\u001b[39m) \u001b[38;5;28;01mif\u001b[39;00m do_zero123_classifier_free_guidance \u001b[38;5;28;01melse\u001b[39;00m latents\n\u001b[1;32m    654\u001b[0m augmented_latent_model_input_zero123 \u001b[38;5;241m=\u001b[39m torch\u001b[38;5;241m.\u001b[39mcat(\n\u001b[1;32m    655\u001b[0m     [rearrange(latent_model_input_zero123, \u001b[38;5;124m\"\u001b[39m\u001b[38;5;124mB C F H W -> (B F) C H W\u001b[39m\u001b[38;5;124m\"\u001b[39m), img_latents],\n\u001b[1;32m    656\u001b[0m     dim\u001b[38;5;241m=\u001b[39m\u001b[38;5;241m1\u001b[39m,\n\u001b[1;32m    657\u001b[0m )\u001b[38;5;241m.\u001b[39mto(\u001b[38;5;28mself\u001b[39m\u001b[38;5;241m.\u001b[39mnovel_view_unet\u001b[38;5;241m.\u001b[39mdtype)\n\u001b[0;32m--> 658\u001b[0m noise_pred_zero123 \u001b[38;5;241m=\u001b[39m \u001b[38;5;28;43mself\u001b[39;49m\u001b[38;5;241;43m.\u001b[39;49m\u001b[43mnovel_view_unet\u001b[49m\u001b[43m(\u001b[49m\n\u001b[1;32m    659\u001b[0m \u001b[43m    \u001b[49m\u001b[43maugmented_latent_model_input_zero123\u001b[49m\u001b[43m,\u001b[49m\n\u001b[1;32m    660\u001b[0m \u001b[43m    \u001b[49m\u001b[43mt\u001b[49m\u001b[43m,\u001b[49m\n\u001b[1;32m    661\u001b[0m \u001b[43m    \u001b[49m\u001b[43mencoder_hidden_states\u001b[49m\u001b[38;5;241;43m=\u001b[39;49m\u001b[43mzero123_embeds\u001b[49m\u001b[43m,\u001b[49m\n\u001b[1;32m    662\u001b[0m \u001b[43m    \u001b[49m\u001b[43mreturn_dict\u001b[49m\u001b[38;5;241;43m=\u001b[39;49m\u001b[38;5;28;43;01mTrue\u001b[39;49;00m\u001b[43m,\u001b[49m\n\u001b[1;32m    663\u001b[0m \u001b[43m\u001b[49m\u001b[43m)\u001b[49m\u001b[38;5;241m.\u001b[39msample\n\u001b[1;32m    664\u001b[0m noise_pred_zero123 \u001b[38;5;241m=\u001b[39m rearrange(noise_pred_zero123, \u001b[38;5;124m\"\u001b[39m\u001b[38;5;124m(B F) C H W -> B C F H W\u001b[39m\u001b[38;5;124m\"\u001b[39m, F\u001b[38;5;241m=\u001b[39mnum_frames)\n\u001b[1;32m    666\u001b[0m \u001b[38;5;28;01mif\u001b[39;00m do_zero123_classifier_free_guidance:\n",
      "File \u001b[0;32m~/miniconda3/envs/safe_lfd/lib/python3.12/site-packages/torch/nn/modules/module.py:1736\u001b[0m, in \u001b[0;36mModule._wrapped_call_impl\u001b[0;34m(self, *args, **kwargs)\u001b[0m\n\u001b[1;32m   1734\u001b[0m     \u001b[38;5;28;01mreturn\u001b[39;00m \u001b[38;5;28mself\u001b[39m\u001b[38;5;241m.\u001b[39m_compiled_call_impl(\u001b[38;5;241m*\u001b[39margs, \u001b[38;5;241m*\u001b[39m\u001b[38;5;241m*\u001b[39mkwargs)  \u001b[38;5;66;03m# type: ignore[misc]\u001b[39;00m\n\u001b[1;32m   1735\u001b[0m \u001b[38;5;28;01melse\u001b[39;00m:\n\u001b[0;32m-> 1736\u001b[0m     \u001b[38;5;28;01mreturn\u001b[39;00m \u001b[38;5;28;43mself\u001b[39;49m\u001b[38;5;241;43m.\u001b[39;49m\u001b[43m_call_impl\u001b[49m\u001b[43m(\u001b[49m\u001b[38;5;241;43m*\u001b[39;49m\u001b[43margs\u001b[49m\u001b[43m,\u001b[49m\u001b[43m \u001b[49m\u001b[38;5;241;43m*\u001b[39;49m\u001b[38;5;241;43m*\u001b[39;49m\u001b[43mkwargs\u001b[49m\u001b[43m)\u001b[49m\n",
      "File \u001b[0;32m~/miniconda3/envs/safe_lfd/lib/python3.12/site-packages/torch/nn/modules/module.py:1747\u001b[0m, in \u001b[0;36mModule._call_impl\u001b[0;34m(self, *args, **kwargs)\u001b[0m\n\u001b[1;32m   1742\u001b[0m \u001b[38;5;66;03m# If we don't have any hooks, we want to skip the rest of the logic in\u001b[39;00m\n\u001b[1;32m   1743\u001b[0m \u001b[38;5;66;03m# this function, and just call forward.\u001b[39;00m\n\u001b[1;32m   1744\u001b[0m \u001b[38;5;28;01mif\u001b[39;00m \u001b[38;5;129;01mnot\u001b[39;00m (\u001b[38;5;28mself\u001b[39m\u001b[38;5;241m.\u001b[39m_backward_hooks \u001b[38;5;129;01mor\u001b[39;00m \u001b[38;5;28mself\u001b[39m\u001b[38;5;241m.\u001b[39m_backward_pre_hooks \u001b[38;5;129;01mor\u001b[39;00m \u001b[38;5;28mself\u001b[39m\u001b[38;5;241m.\u001b[39m_forward_hooks \u001b[38;5;129;01mor\u001b[39;00m \u001b[38;5;28mself\u001b[39m\u001b[38;5;241m.\u001b[39m_forward_pre_hooks\n\u001b[1;32m   1745\u001b[0m         \u001b[38;5;129;01mor\u001b[39;00m _global_backward_pre_hooks \u001b[38;5;129;01mor\u001b[39;00m _global_backward_hooks\n\u001b[1;32m   1746\u001b[0m         \u001b[38;5;129;01mor\u001b[39;00m _global_forward_hooks \u001b[38;5;129;01mor\u001b[39;00m _global_forward_pre_hooks):\n\u001b[0;32m-> 1747\u001b[0m     \u001b[38;5;28;01mreturn\u001b[39;00m \u001b[43mforward_call\u001b[49m\u001b[43m(\u001b[49m\u001b[38;5;241;43m*\u001b[39;49m\u001b[43margs\u001b[49m\u001b[43m,\u001b[49m\u001b[43m \u001b[49m\u001b[38;5;241;43m*\u001b[39;49m\u001b[38;5;241;43m*\u001b[39;49m\u001b[43mkwargs\u001b[49m\u001b[43m)\u001b[49m\n\u001b[1;32m   1749\u001b[0m result \u001b[38;5;241m=\u001b[39m \u001b[38;5;28;01mNone\u001b[39;00m\n\u001b[1;32m   1750\u001b[0m called_always_called_hooks \u001b[38;5;241m=\u001b[39m \u001b[38;5;28mset\u001b[39m()\n",
      "File \u001b[0;32m~/miniconda3/envs/safe_lfd/lib/python3.12/site-packages/accelerate/hooks.py:165\u001b[0m, in \u001b[0;36madd_hook_to_module.<locals>.new_forward\u001b[0;34m(module, *args, **kwargs)\u001b[0m\n\u001b[1;32m    164\u001b[0m \u001b[38;5;28;01mdef\u001b[39;00m\u001b[38;5;250m \u001b[39m\u001b[38;5;21mnew_forward\u001b[39m(module, \u001b[38;5;241m*\u001b[39margs, \u001b[38;5;241m*\u001b[39m\u001b[38;5;241m*\u001b[39mkwargs):\n\u001b[0;32m--> 165\u001b[0m     args, kwargs \u001b[38;5;241m=\u001b[39m \u001b[43mmodule\u001b[49m\u001b[38;5;241;43m.\u001b[39;49m\u001b[43m_hf_hook\u001b[49m\u001b[38;5;241;43m.\u001b[39;49m\u001b[43mpre_forward\u001b[49m\u001b[43m(\u001b[49m\u001b[43mmodule\u001b[49m\u001b[43m,\u001b[49m\u001b[43m \u001b[49m\u001b[38;5;241;43m*\u001b[39;49m\u001b[43margs\u001b[49m\u001b[43m,\u001b[49m\u001b[43m \u001b[49m\u001b[38;5;241;43m*\u001b[39;49m\u001b[38;5;241;43m*\u001b[39;49m\u001b[43mkwargs\u001b[49m\u001b[43m)\u001b[49m\n\u001b[1;32m    166\u001b[0m     \u001b[38;5;28;01mif\u001b[39;00m module\u001b[38;5;241m.\u001b[39m_hf_hook\u001b[38;5;241m.\u001b[39mno_grad:\n\u001b[1;32m    167\u001b[0m         \u001b[38;5;28;01mwith\u001b[39;00m torch\u001b[38;5;241m.\u001b[39mno_grad():\n",
      "File \u001b[0;32m~/miniconda3/envs/safe_lfd/lib/python3.12/site-packages/accelerate/hooks.py:708\u001b[0m, in \u001b[0;36mCpuOffload.pre_forward\u001b[0;34m(self, module, *args, **kwargs)\u001b[0m\n\u001b[1;32m    706\u001b[0m     \u001b[38;5;28mself\u001b[39m\u001b[38;5;241m.\u001b[39mprev_module_hook\u001b[38;5;241m.\u001b[39moffload()\n\u001b[1;32m    707\u001b[0m     clear_device_cache()\n\u001b[0;32m--> 708\u001b[0m \u001b[43mmodule\u001b[49m\u001b[38;5;241;43m.\u001b[39;49m\u001b[43mto\u001b[49m\u001b[43m(\u001b[49m\u001b[38;5;28;43mself\u001b[39;49m\u001b[38;5;241;43m.\u001b[39;49m\u001b[43mexecution_device\u001b[49m\u001b[43m)\u001b[49m\n\u001b[1;32m    709\u001b[0m \u001b[38;5;28;01mreturn\u001b[39;00m send_to_device(args, \u001b[38;5;28mself\u001b[39m\u001b[38;5;241m.\u001b[39mexecution_device), send_to_device(kwargs, \u001b[38;5;28mself\u001b[39m\u001b[38;5;241m.\u001b[39mexecution_device)\n",
      "File \u001b[0;32m~/miniconda3/envs/safe_lfd/lib/python3.12/site-packages/torch/nn/modules/module.py:1340\u001b[0m, in \u001b[0;36mModule.to\u001b[0;34m(self, *args, **kwargs)\u001b[0m\n\u001b[1;32m   1337\u001b[0m         \u001b[38;5;28;01melse\u001b[39;00m:\n\u001b[1;32m   1338\u001b[0m             \u001b[38;5;28;01mraise\u001b[39;00m\n\u001b[0;32m-> 1340\u001b[0m \u001b[38;5;28;01mreturn\u001b[39;00m \u001b[38;5;28;43mself\u001b[39;49m\u001b[38;5;241;43m.\u001b[39;49m\u001b[43m_apply\u001b[49m\u001b[43m(\u001b[49m\u001b[43mconvert\u001b[49m\u001b[43m)\u001b[49m\n",
      "File \u001b[0;32m~/miniconda3/envs/safe_lfd/lib/python3.12/site-packages/torch/nn/modules/module.py:900\u001b[0m, in \u001b[0;36mModule._apply\u001b[0;34m(self, fn, recurse)\u001b[0m\n\u001b[1;32m    898\u001b[0m \u001b[38;5;28;01mif\u001b[39;00m recurse:\n\u001b[1;32m    899\u001b[0m     \u001b[38;5;28;01mfor\u001b[39;00m module \u001b[38;5;129;01min\u001b[39;00m \u001b[38;5;28mself\u001b[39m\u001b[38;5;241m.\u001b[39mchildren():\n\u001b[0;32m--> 900\u001b[0m         \u001b[43mmodule\u001b[49m\u001b[38;5;241;43m.\u001b[39;49m\u001b[43m_apply\u001b[49m\u001b[43m(\u001b[49m\u001b[43mfn\u001b[49m\u001b[43m)\u001b[49m\n\u001b[1;32m    902\u001b[0m \u001b[38;5;28;01mdef\u001b[39;00m\u001b[38;5;250m \u001b[39m\u001b[38;5;21mcompute_should_use_set_data\u001b[39m(tensor, tensor_applied):\n\u001b[1;32m    903\u001b[0m     \u001b[38;5;28;01mif\u001b[39;00m torch\u001b[38;5;241m.\u001b[39m_has_compatible_shallow_copy_type(tensor, tensor_applied):\n\u001b[1;32m    904\u001b[0m         \u001b[38;5;66;03m# If the new tensor has compatible tensor type as the existing tensor,\u001b[39;00m\n\u001b[1;32m    905\u001b[0m         \u001b[38;5;66;03m# the current behavior is to change the tensor in-place using `.data =`,\u001b[39;00m\n\u001b[0;32m   (...)\u001b[0m\n\u001b[1;32m    910\u001b[0m         \u001b[38;5;66;03m# global flag to let the user control whether they want the future\u001b[39;00m\n\u001b[1;32m    911\u001b[0m         \u001b[38;5;66;03m# behavior of overwriting the existing tensor or not.\u001b[39;00m\n",
      "File \u001b[0;32m~/miniconda3/envs/safe_lfd/lib/python3.12/site-packages/torch/nn/modules/module.py:900\u001b[0m, in \u001b[0;36mModule._apply\u001b[0;34m(self, fn, recurse)\u001b[0m\n\u001b[1;32m    898\u001b[0m \u001b[38;5;28;01mif\u001b[39;00m recurse:\n\u001b[1;32m    899\u001b[0m     \u001b[38;5;28;01mfor\u001b[39;00m module \u001b[38;5;129;01min\u001b[39;00m \u001b[38;5;28mself\u001b[39m\u001b[38;5;241m.\u001b[39mchildren():\n\u001b[0;32m--> 900\u001b[0m         \u001b[43mmodule\u001b[49m\u001b[38;5;241;43m.\u001b[39;49m\u001b[43m_apply\u001b[49m\u001b[43m(\u001b[49m\u001b[43mfn\u001b[49m\u001b[43m)\u001b[49m\n\u001b[1;32m    902\u001b[0m \u001b[38;5;28;01mdef\u001b[39;00m\u001b[38;5;250m \u001b[39m\u001b[38;5;21mcompute_should_use_set_data\u001b[39m(tensor, tensor_applied):\n\u001b[1;32m    903\u001b[0m     \u001b[38;5;28;01mif\u001b[39;00m torch\u001b[38;5;241m.\u001b[39m_has_compatible_shallow_copy_type(tensor, tensor_applied):\n\u001b[1;32m    904\u001b[0m         \u001b[38;5;66;03m# If the new tensor has compatible tensor type as the existing tensor,\u001b[39;00m\n\u001b[1;32m    905\u001b[0m         \u001b[38;5;66;03m# the current behavior is to change the tensor in-place using `.data =`,\u001b[39;00m\n\u001b[0;32m   (...)\u001b[0m\n\u001b[1;32m    910\u001b[0m         \u001b[38;5;66;03m# global flag to let the user control whether they want the future\u001b[39;00m\n\u001b[1;32m    911\u001b[0m         \u001b[38;5;66;03m# behavior of overwriting the existing tensor or not.\u001b[39;00m\n",
      "    \u001b[0;31m[... skipping similar frames: Module._apply at line 900 (2 times)]\u001b[0m\n",
      "File \u001b[0;32m~/miniconda3/envs/safe_lfd/lib/python3.12/site-packages/torch/nn/modules/module.py:900\u001b[0m, in \u001b[0;36mModule._apply\u001b[0;34m(self, fn, recurse)\u001b[0m\n\u001b[1;32m    898\u001b[0m \u001b[38;5;28;01mif\u001b[39;00m recurse:\n\u001b[1;32m    899\u001b[0m     \u001b[38;5;28;01mfor\u001b[39;00m module \u001b[38;5;129;01min\u001b[39;00m \u001b[38;5;28mself\u001b[39m\u001b[38;5;241m.\u001b[39mchildren():\n\u001b[0;32m--> 900\u001b[0m         \u001b[43mmodule\u001b[49m\u001b[38;5;241;43m.\u001b[39;49m\u001b[43m_apply\u001b[49m\u001b[43m(\u001b[49m\u001b[43mfn\u001b[49m\u001b[43m)\u001b[49m\n\u001b[1;32m    902\u001b[0m \u001b[38;5;28;01mdef\u001b[39;00m\u001b[38;5;250m \u001b[39m\u001b[38;5;21mcompute_should_use_set_data\u001b[39m(tensor, tensor_applied):\n\u001b[1;32m    903\u001b[0m     \u001b[38;5;28;01mif\u001b[39;00m torch\u001b[38;5;241m.\u001b[39m_has_compatible_shallow_copy_type(tensor, tensor_applied):\n\u001b[1;32m    904\u001b[0m         \u001b[38;5;66;03m# If the new tensor has compatible tensor type as the existing tensor,\u001b[39;00m\n\u001b[1;32m    905\u001b[0m         \u001b[38;5;66;03m# the current behavior is to change the tensor in-place using `.data =`,\u001b[39;00m\n\u001b[0;32m   (...)\u001b[0m\n\u001b[1;32m    910\u001b[0m         \u001b[38;5;66;03m# global flag to let the user control whether they want the future\u001b[39;00m\n\u001b[1;32m    911\u001b[0m         \u001b[38;5;66;03m# behavior of overwriting the existing tensor or not.\u001b[39;00m\n",
      "File \u001b[0;32m~/miniconda3/envs/safe_lfd/lib/python3.12/site-packages/torch/nn/modules/module.py:927\u001b[0m, in \u001b[0;36mModule._apply\u001b[0;34m(self, fn, recurse)\u001b[0m\n\u001b[1;32m    923\u001b[0m \u001b[38;5;66;03m# Tensors stored in modules are graph leaves, and we don't want to\u001b[39;00m\n\u001b[1;32m    924\u001b[0m \u001b[38;5;66;03m# track autograd history of `param_applied`, so we have to use\u001b[39;00m\n\u001b[1;32m    925\u001b[0m \u001b[38;5;66;03m# `with torch.no_grad():`\u001b[39;00m\n\u001b[1;32m    926\u001b[0m \u001b[38;5;28;01mwith\u001b[39;00m torch\u001b[38;5;241m.\u001b[39mno_grad():\n\u001b[0;32m--> 927\u001b[0m     param_applied \u001b[38;5;241m=\u001b[39m \u001b[43mfn\u001b[49m\u001b[43m(\u001b[49m\u001b[43mparam\u001b[49m\u001b[43m)\u001b[49m\n\u001b[1;32m    928\u001b[0m p_should_use_set_data \u001b[38;5;241m=\u001b[39m compute_should_use_set_data(param, param_applied)\n\u001b[1;32m    930\u001b[0m \u001b[38;5;66;03m# subclasses may have multiple child tensors so we need to use swap_tensors\u001b[39;00m\n",
      "File \u001b[0;32m~/miniconda3/envs/safe_lfd/lib/python3.12/site-packages/torch/nn/modules/module.py:1326\u001b[0m, in \u001b[0;36mModule.to.<locals>.convert\u001b[0;34m(t)\u001b[0m\n\u001b[1;32m   1319\u001b[0m     \u001b[38;5;28;01mif\u001b[39;00m convert_to_format \u001b[38;5;129;01mis\u001b[39;00m \u001b[38;5;129;01mnot\u001b[39;00m \u001b[38;5;28;01mNone\u001b[39;00m \u001b[38;5;129;01mand\u001b[39;00m t\u001b[38;5;241m.\u001b[39mdim() \u001b[38;5;129;01min\u001b[39;00m (\u001b[38;5;241m4\u001b[39m, \u001b[38;5;241m5\u001b[39m):\n\u001b[1;32m   1320\u001b[0m         \u001b[38;5;28;01mreturn\u001b[39;00m t\u001b[38;5;241m.\u001b[39mto(\n\u001b[1;32m   1321\u001b[0m             device,\n\u001b[1;32m   1322\u001b[0m             dtype \u001b[38;5;28;01mif\u001b[39;00m t\u001b[38;5;241m.\u001b[39mis_floating_point() \u001b[38;5;129;01mor\u001b[39;00m t\u001b[38;5;241m.\u001b[39mis_complex() \u001b[38;5;28;01melse\u001b[39;00m \u001b[38;5;28;01mNone\u001b[39;00m,\n\u001b[1;32m   1323\u001b[0m             non_blocking,\n\u001b[1;32m   1324\u001b[0m             memory_format\u001b[38;5;241m=\u001b[39mconvert_to_format,\n\u001b[1;32m   1325\u001b[0m         )\n\u001b[0;32m-> 1326\u001b[0m     \u001b[38;5;28;01mreturn\u001b[39;00m \u001b[43mt\u001b[49m\u001b[38;5;241;43m.\u001b[39;49m\u001b[43mto\u001b[49m\u001b[43m(\u001b[49m\n\u001b[1;32m   1327\u001b[0m \u001b[43m        \u001b[49m\u001b[43mdevice\u001b[49m\u001b[43m,\u001b[49m\n\u001b[1;32m   1328\u001b[0m \u001b[43m        \u001b[49m\u001b[43mdtype\u001b[49m\u001b[43m \u001b[49m\u001b[38;5;28;43;01mif\u001b[39;49;00m\u001b[43m \u001b[49m\u001b[43mt\u001b[49m\u001b[38;5;241;43m.\u001b[39;49m\u001b[43mis_floating_point\u001b[49m\u001b[43m(\u001b[49m\u001b[43m)\u001b[49m\u001b[43m \u001b[49m\u001b[38;5;129;43;01mor\u001b[39;49;00m\u001b[43m \u001b[49m\u001b[43mt\u001b[49m\u001b[38;5;241;43m.\u001b[39;49m\u001b[43mis_complex\u001b[49m\u001b[43m(\u001b[49m\u001b[43m)\u001b[49m\u001b[43m \u001b[49m\u001b[38;5;28;43;01melse\u001b[39;49;00m\u001b[43m \u001b[49m\u001b[38;5;28;43;01mNone\u001b[39;49;00m\u001b[43m,\u001b[49m\n\u001b[1;32m   1329\u001b[0m \u001b[43m        \u001b[49m\u001b[43mnon_blocking\u001b[49m\u001b[43m,\u001b[49m\n\u001b[1;32m   1330\u001b[0m \u001b[43m    \u001b[49m\u001b[43m)\u001b[49m\n\u001b[1;32m   1331\u001b[0m \u001b[38;5;28;01mexcept\u001b[39;00m \u001b[38;5;167;01mNotImplementedError\u001b[39;00m \u001b[38;5;28;01mas\u001b[39;00m e:\n\u001b[1;32m   1332\u001b[0m     \u001b[38;5;28;01mif\u001b[39;00m \u001b[38;5;28mstr\u001b[39m(e) \u001b[38;5;241m==\u001b[39m \u001b[38;5;124m\"\u001b[39m\u001b[38;5;124mCannot copy out of meta tensor; no data!\u001b[39m\u001b[38;5;124m\"\u001b[39m:\n",
      "\u001b[0;31mKeyboardInterrupt\u001b[0m: "
     ]
    }
   ],
   "source": [
    "# this code generated videos for each synthesized trajectories\n",
    "\n",
    "import os\n",
    "import random\n",
    "import pickle\n",
    "import cv2\n",
    "import numpy as np\n",
    "import h5py\n",
    "import torch\n",
    "from scipy.spatial.transform import Rotation as R\n",
    "from collections import defaultdict\n",
    "from PIL import Image\n",
    "import plotly.graph_objects as go\n",
    "from carvekit.api.high import HiInterface\n",
    "from vivid123.generation_utils import generation_vivid123_new, prepare_vivid123_pipeline\n",
    "\n",
    "###############################################################################\n",
    "# 1) Helper Functions for Trajectory Generation\n",
    "###############################################################################\n",
    "\n",
    "def cart2sph(x, y, z):\n",
    "    r = np.sqrt(x**2 + y**2 + z**2)\n",
    "    az = np.arctan2(y, x)\n",
    "    el = np.arctan2(z, np.sqrt(x**2 + y**2))\n",
    "    return r, az, el\n",
    "\n",
    "def sph2cart(r, az, el):\n",
    "    x = r * np.cos(el) * np.cos(az)\n",
    "    y = r * np.cos(el) * np.sin(az)\n",
    "    z = r * np.sin(el)\n",
    "    return x, y, z\n",
    "\n",
    "def make_cube(cx, cy, cz, rotation, side=0.005):\n",
    "    half = side / 2.0\n",
    "    corners = np.array([\n",
    "        [-half, -half, -half],\n",
    "        [-half, -half,  half],\n",
    "        [-half,  half, -half],\n",
    "        [-half,  half,  half],\n",
    "        [ half, -half, -half],\n",
    "        [ half, -half,  half],\n",
    "        [ half,  half, -half],\n",
    "        [ half,  half,  half]\n",
    "    ])\n",
    "    rotated_corners = rotation.apply(corners)\n",
    "    rotated_corners += np.array([cx, cy, cz])\n",
    "    return rotated_corners\n",
    "\n",
    "def generate_image_frame(img_width, img_height, point_coord, dot_dia=10):\n",
    "    image = np.zeros((img_height, img_width, 3), dtype=np.uint8)\n",
    "    cv2.circle(image, point_coord, dot_dia//2, (255, 255, 255), -1)\n",
    "    return image\n",
    "\n",
    "def generate_camera_image(camera_pose, camera_fov, point_obj, \n",
    "                          img_width=640, img_height=480, dot_dia=10):\n",
    "    cam_pos = np.array(camera_pose[:3])\n",
    "    cam_quat = camera_pose[3:]\n",
    "    cam_rot = R.from_quat(cam_quat).as_matrix()\n",
    "    point_in_cam = np.linalg.inv(cam_rot) @ (np.array(point_obj) - cam_pos)\n",
    "    h_fov, v_fov = np.radians(camera_fov)\n",
    "    x_cam, y_cam, z_cam = point_in_cam\n",
    "    h_angle = np.arctan2(y_cam, x_cam)\n",
    "    v_angle = np.arctan2(z_cam, x_cam)\n",
    "    img_x = int((h_angle + h_fov/2) / h_fov * img_width)\n",
    "    img_y = int((v_angle + v_fov/2) / v_fov * img_height)\n",
    "    return generate_image_frame(img_width, img_height, (img_x, img_y), dot_dia)\n",
    "\n",
    "def is_inFOV(camera_pose, camera_fov, point_obj):\n",
    "    cam_pos = np.array(camera_pose[:3])\n",
    "    if np.linalg.norm(np.array(point_obj) - cam_pos) < 1e-4:\n",
    "        return True\n",
    "    cam_quat = camera_pose[3:]\n",
    "    cam_rot = R.from_quat(cam_quat).as_matrix()\n",
    "    point_in_cam = np.linalg.inv(cam_rot) @ (np.array(point_obj) - cam_pos)\n",
    "    h_fov, v_fov = np.radians(camera_fov)\n",
    "    x_cam, y_cam, z_cam = point_in_cam\n",
    "    if x_cam <= 0:\n",
    "        return False\n",
    "    h_angle = np.arctan2(y_cam, x_cam)\n",
    "    v_angle = np.arctan2(z_cam, x_cam)\n",
    "    return (abs(h_angle) <= h_fov/2) and (abs(v_angle) <= v_fov/2)\n",
    "\n",
    "def unit_vector(v):\n",
    "    norm = np.linalg.norm(v)\n",
    "    if norm < 1e-9:\n",
    "        return np.array([1, 0, 0])\n",
    "    return v / norm\n",
    "\n",
    "def regenerate_candidates(i, base_positions, base_rpy, num_new_samples, reduction_factor,\n",
    "                          goal_pos, lambda_decay, deg_to_rad, max_deg, max_side,\n",
    "                          max_roll, max_pitch, max_yaw):\n",
    "    candidates = []\n",
    "    x, y, z = base_positions[i]\n",
    "    roll_i, pitch_i, yaw_i = base_rpy[i]\n",
    "    dx = x - goal_pos[0]\n",
    "    dy = y - goal_pos[1]\n",
    "    dz = z - goal_pos[2]\n",
    "    r_val, az, el = cart2sph(dx, dy, dz)\n",
    "    for sample in range(num_new_samples):\n",
    "        frac = np.exp(-lambda_decay * (i / (len(base_positions) - 1))) if len(base_positions)>1 else 1.0\n",
    "        delta_angle = frac * (max_deg * deg_to_rad) * reduction_factor\n",
    "        az_var = az + random.choice([-1, 1]) * delta_angle\n",
    "        el_var = el + random.choice([-1, 1]) * delta_angle\n",
    "        dx_var, dy_var, dz_var = sph2cart(r_val, az_var, el_var)\n",
    "        x_new = goal_pos[0] + dx_var\n",
    "        y_new = goal_pos[1] + dy_var\n",
    "        z_new = goal_pos[2] + dz_var\n",
    "\n",
    "        roll_off  = frac * max_roll * reduction_factor\n",
    "        pitch_off = frac * max_pitch * reduction_factor\n",
    "        yaw_off   = frac * max_yaw * reduction_factor\n",
    "        droll = roll_i - base_rpy[-1][0]\n",
    "        dpitch = pitch_i - base_rpy[-1][1]\n",
    "        dyaw = yaw_i - base_rpy[-1][2]\n",
    "        droll_var = droll + random.choice([-1, 1]) * roll_off\n",
    "        dpitch_var = dpitch + random.choice([-1, 1]) * pitch_off\n",
    "        dyaw_var = dyaw + random.choice([-1, 1]) * yaw_off\n",
    "        roll_new = base_rpy[-1][0] + droll_var\n",
    "        pitch_new = base_rpy[-1][1] + dpitch_var\n",
    "        yaw_new = base_rpy[-1][2] + dyaw_var\n",
    "\n",
    "        rot_obj = R.from_euler('zyx', [roll_new, pitch_new, yaw_new])\n",
    "        side_len = frac * max_side\n",
    "        if side_len < 1e-9:\n",
    "            continue\n",
    "        corners = make_cube(x_new, y_new, z_new, rot_obj, side_len)\n",
    "        for j, corner in enumerate(corners):\n",
    "            candidates.append({\n",
    "                \"trajectory_idx\": i,\n",
    "                \"pose_6d\": [corner[0], corner[1], corner[2],\n",
    "                            roll_new, pitch_new, yaw_new],\n",
    "                \"in_fov\": True  # assume resampled ones are likely in FoV\n",
    "            })\n",
    "    return candidates\n",
    "\n",
    "###############################################################################\n",
    "# 2) Trajectory Generation Function\n",
    "###############################################################################\n",
    "\n",
    "def iterative_trajectory_generation():\n",
    "    # --- A) Load main trajectory from HDF5\n",
    "    file_path = \"demo_duck_feb12.hdf5\"  # Adjust path if needed.\n",
    "    positions_list = []\n",
    "    orientations_list = []\n",
    "    with h5py.File(file_path, \"r\") as f:\n",
    "        demo_keys = list(f[\"data\"].keys())\n",
    "        print(\"Available Demos:\", demo_keys)\n",
    "        # Use the first demo for trajectory generation.\n",
    "        demo_name = demo_keys[0]\n",
    "        demo_data = f[\"data\"][demo_name]\n",
    "        obs_group = demo_data[\"obs\"]\n",
    "        if \"joint_states\" in obs_group:\n",
    "            states = obs_group[\"joint_states\"][:]  # shape: (T,7)\n",
    "            positions_list.append(states[:, :3])\n",
    "            orientations_list.append(states[:, 3:6])\n",
    "    if not positions_list:\n",
    "        print(\"No trajectory data found.\")\n",
    "        return None\n",
    "\n",
    "    positions = positions_list[0]  # (N,3)\n",
    "    rpy_list = orientations_list[0]  # (N,3)\n",
    "    n_points = len(positions)\n",
    "    if n_points < 2:\n",
    "        print(\"Not enough main trajectory points.\")\n",
    "        return None\n",
    "\n",
    "    # Precompute main trajectory's local directions.\n",
    "    main_dirs = []\n",
    "    for i in range(1, n_points):\n",
    "        diff = positions[i] - positions[i-1]\n",
    "        norm = np.linalg.norm(diff)\n",
    "        if norm < 1e-9:\n",
    "            main_dirs.append(np.array([1, 0, 0]))\n",
    "        else:\n",
    "            main_dirs.append(diff / norm)\n",
    "    main_dirs.insert(0, main_dirs[0])\n",
    "\n",
    "    # --- B) Base variation parameters.\n",
    "    base_max_deg = 5.0\n",
    "    base_max_side = 0.1\n",
    "    base_max_roll = 50 * np.pi/180.0\n",
    "    base_max_pitch = 10 * np.pi/180.0\n",
    "    base_max_yaw = 10 * np.pi/180.0\n",
    "\n",
    "    lambda_decay = 1.5\n",
    "    camera_fov = (80, 80)\n",
    "    img_width, img_height, dot_dia = 640, 480, 10\n",
    "    num_samples = 10\n",
    "\n",
    "    goal_pos = positions[-1]\n",
    "    goal_rpy = rpy_list[-1]\n",
    "\n",
    "    # --- C) Compute Global Reference Spherical Coordinates.\n",
    "    dx_ref = positions[0][0] - goal_pos[0]\n",
    "    dy_ref = positions[0][1] - goal_pos[1]\n",
    "    dz_ref = positions[0][2] - goal_pos[2]\n",
    "    ref_r, ref_az, ref_el = cart2sph(dx_ref, dy_ref, dz_ref)\n",
    "    print(f\"Reference spherical coords: r={ref_r:.3f}, az={ref_az:.3f}, el={ref_el:.3f}\")\n",
    "\n",
    "    trajectories = []\n",
    "    iter_idx = 0\n",
    "    variation_scale = 0.1  # start with very little variation\n",
    "\n",
    "    # Stop if candidate FoV ratio becomes too low.\n",
    "    min_fov_ratio = 0.5\n",
    "\n",
    "    while True:\n",
    "        max_deg = base_max_deg * variation_scale\n",
    "        max_side = base_max_side * variation_scale\n",
    "        max_roll = base_max_roll * variation_scale\n",
    "        max_pitch = base_max_pitch * variation_scale\n",
    "        max_yaw = base_max_yaw * variation_scale\n",
    "\n",
    "        print(f\"\\nIteration {iter_idx}, variation scale {variation_scale:.3f}\")\n",
    "        dataset = []\n",
    "        total_candidates = 0\n",
    "        in_fov_candidates = 0\n",
    "\n",
    "        for i in range(n_points):\n",
    "            x, y, z = positions[i]\n",
    "            roll_i, pitch_i, yaw_i = rpy_list[i]\n",
    "            dx = x - goal_pos[0]\n",
    "            dy = y - goal_pos[1]\n",
    "            dz = z - goal_pos[2]\n",
    "            r_val, az, el = cart2sph(dx, dy, dz)\n",
    "            droll = roll_i - goal_rpy[0]\n",
    "            dpitch = pitch_i - goal_rpy[1]\n",
    "            dyaw = yaw_i - goal_rpy[2]\n",
    "            for sample in range(num_samples):\n",
    "                frac = np.exp(-lambda_decay * (i / (n_points - 1))) if n_points > 1 else 1.0\n",
    "                delta_angle = frac * (max_deg * np.pi/180.0)\n",
    "                az_var = az + random.choice([-1, 1]) * delta_angle\n",
    "                el_var = el + random.choice([-1, 1]) * delta_angle\n",
    "                dx_var, dy_var, dz_var = sph2cart(r_val, az_var, el_var)\n",
    "                x_new = goal_pos[0] + dx_var\n",
    "                y_new = goal_pos[1] + dy_var\n",
    "                z_new = goal_pos[2] + dz_var\n",
    "\n",
    "                roll_off = frac * max_roll\n",
    "                pitch_off = frac * max_pitch\n",
    "                yaw_off = frac * max_yaw\n",
    "                droll_var = droll + random.choice([-1, 1]) * roll_off\n",
    "                dpitch_var = dpitch + random.choice([-1, 1]) * pitch_off\n",
    "                dyaw_var = dyaw + random.choice([-1, 1]) * yaw_off\n",
    "                roll_new = goal_rpy[0] + droll_var\n",
    "                pitch_new = goal_rpy[1] + dpitch_var\n",
    "                yaw_new = goal_rpy[2] + dyaw_var\n",
    "\n",
    "                rot_obj = R.from_euler('zyx', [roll_new, pitch_new, yaw_new])\n",
    "                side_len = frac * max_side\n",
    "                if side_len < 1e-9:\n",
    "                    continue\n",
    "                corners = make_cube(x_new, y_new, z_new, rot_obj, side_len)\n",
    "                # Compute candidate center's spherical coordinates.\n",
    "                r_center, az_center, el_center = cart2sph(x_new - goal_pos[0],\n",
    "                                                          y_new - goal_pos[1],\n",
    "                                                          z_new - goal_pos[2])\n",
    "                # Delta relative to the global reference.\n",
    "                delta_az = az_center - ref_az\n",
    "                delta_el = el_center - ref_el\n",
    "                delta_r = r_center - ref_r\n",
    "\n",
    "                quat = rot_obj.as_quat()\n",
    "                for j, corner in enumerate(corners):\n",
    "                    total_candidates += 1\n",
    "                    cam_pose = (corner[0], corner[1], corner[2],\n",
    "                                quat[0], quat[1], quat[2], quat[3])\n",
    "                    in_fov = is_inFOV(cam_pose, camera_fov, goal_pos)\n",
    "                    if in_fov:\n",
    "                        in_fov_candidates += 1\n",
    "                    dataset.append({\n",
    "                        \"trajectory_idx\": i,\n",
    "                        \"pose_6d\": [corner[0], corner[1], corner[2],\n",
    "                                    roll_new, pitch_new, yaw_new],\n",
    "                        \"delta_pose\": [delta_az, delta_el, delta_r],\n",
    "                        \"in_fov\": in_fov,\n",
    "                        \"image\": generate_camera_image(cam_pose, camera_fov, goal_pos,\n",
    "                                                       img_width, img_height, dot_dia)\n",
    "                    })\n",
    "        ratio = in_fov_candidates / total_candidates if total_candidates > 0 else 0\n",
    "        print(f\"Candidates: {total_candidates}, InFoV: {in_fov_candidates} (ratio {ratio:.2f})\")\n",
    "        if ratio < min_fov_ratio:\n",
    "            print(\"FoV ratio too low. Stopping iterations.\")\n",
    "            break\n",
    "\n",
    "        # Build a trajectory using a greedy chain.\n",
    "        in_fov_dataset = [vp for vp in dataset if vp[\"in_fov\"]]\n",
    "        in_fov_dataset = sorted(in_fov_dataset, key=lambda vp: vp[\"trajectory_idx\"])\n",
    "        first_group = [vp for vp in in_fov_dataset if vp[\"trajectory_idx\"] == 0]\n",
    "        if not first_group:\n",
    "            print(\"No candidates in the first group. Aborting iteration.\")\n",
    "            break\n",
    "        current = min(first_group, key=lambda vp: np.linalg.norm(np.array(vp[\"pose_6d\"][:3]) - positions[0]))\n",
    "        chain = [current]\n",
    "        current_pos = np.array(current[\"pose_6d\"][:3])\n",
    "        for i in range(1, n_points):\n",
    "            group = [vp for vp in in_fov_dataset if vp[\"trajectory_idx\"] == i]\n",
    "            if not group:\n",
    "                continue\n",
    "            desired_dir = unit_vector(positions[i] - positions[i-1])\n",
    "            best_candidate = None\n",
    "            best_cost = float('inf')\n",
    "            for cand in group:\n",
    "                cand_pos = np.array(cand[\"pose_6d\"][:3])\n",
    "                diff = cand_pos - current_pos\n",
    "                dist = np.linalg.norm(diff)\n",
    "                if dist < 1e-6:\n",
    "                    continue\n",
    "                cand_dir = unit_vector(diff)\n",
    "                angle = np.arccos(np.clip(np.dot(cand_dir, desired_dir), -1.0, 1.0))\n",
    "                cost = dist + 10.0 * angle\n",
    "                if cost < best_cost:\n",
    "                    best_cost = cost\n",
    "                    best_candidate = cand\n",
    "            max_attempts = 5\n",
    "            attempt = 0\n",
    "            while best_candidate is None and attempt < max_attempts:\n",
    "                print(f\"Resampling at index {i}, attempt {attempt+1}\")\n",
    "                new_cands = regenerate_candidates(i, positions, rpy_list, num_new_samples=5,\n",
    "                                                  reduction_factor=0.5, goal_pos=goal_pos,\n",
    "                                                  lambda_decay=lambda_decay, deg_to_rad=np.pi/180.0,\n",
    "                                                  max_deg=base_max_deg, max_side=base_max_side,\n",
    "                                                  max_roll=base_max_roll, max_pitch=base_max_pitch,\n",
    "                                                  max_yaw=base_max_yaw)\n",
    "                for cand in new_cands:\n",
    "                    dataset.append(cand)\n",
    "                    cand_pos = np.array(cand[\"pose_6d\"][:3])\n",
    "                    diff = cand_pos - current_pos\n",
    "                    dist = np.linalg.norm(diff)\n",
    "                    if dist < 1e-6:\n",
    "                        continue\n",
    "                    cand_dir = unit_vector(diff)\n",
    "                    angle = np.arccos(np.clip(np.dot(cand_dir, desired_dir), -1.0, 1.0))\n",
    "                    cost = dist + 10.0 * angle\n",
    "                    if cost < best_cost:\n",
    "                        best_cost = cost\n",
    "                        best_candidate = cand\n",
    "                attempt += 1\n",
    "            if best_candidate is None:\n",
    "                print(f\"Skipping index {i} due to no good candidate.\")\n",
    "                continue\n",
    "            chain.append(best_candidate)\n",
    "            current_pos = np.array(best_candidate[\"pose_6d\"][:3])\n",
    "        print(f\"Iteration {iter_idx}: Generated chain with {len(chain)} points.\")\n",
    "        trajectories.append(chain)\n",
    "        variation_scale *= 1.2\n",
    "        iter_idx += 1\n",
    "        if iter_idx >= 10:\n",
    "            break\n",
    "\n",
    "    # (Optional) Visualize the main trajectory and generated chains.\n",
    "    # fig = go.Figure()\n",
    "    # main_x = [p[0] for p in positions]\n",
    "    # main_y = [p[1] for p in positions]\n",
    "    # main_z = [p[2] for p in positions]\n",
    "    # fig.add_trace(go.Scatter3d(\n",
    "    #     x=main_x, y=main_y, z=main_z,\n",
    "    #     mode='lines+markers',\n",
    "    #     line=dict(color='red', width=4),\n",
    "    #     name='Main Trajectory'\n",
    "    # ))\n",
    "    # color_list = [\"green\", \"blue\", \"orange\", \"purple\", \"brown\", \"cyan\", \"magenta\", \"yellow\", \"pink\", \"gray\"]\n",
    "    # for idx, chain in enumerate(trajectories):\n",
    "    #     chain_pts = [np.array(vp[\"pose_6d\"][:3]) for vp in chain]\n",
    "    #     if not chain_pts:\n",
    "    #         continue\n",
    "    #     chain_x = [pt[0] for pt in chain_pts]\n",
    "    #     chain_y = [pt[1] for pt in chain_pts]\n",
    "    #     chain_z = [pt[2] for pt in chain_pts]\n",
    "    #     col = color_list[idx % len(color_list)]\n",
    "    #     fig.add_trace(go.Scatter3d(\n",
    "    #         x=chain_x, y=chain_y, z=chain_z,\n",
    "    #         mode='lines+markers',\n",
    "    #         line=dict(color=col, width=3),\n",
    "    #         marker=dict(size=3),\n",
    "    #         name=f'Trajectory {idx+1}'\n",
    "    #     ))\n",
    "    # fig.update_layout(\n",
    "    #     title=\"Main Trajectory (Red) and Generated Trajectories\",\n",
    "    #     scene=dict(xaxis_title=\"X\", yaxis_title=\"Y\", zaxis_title=\"Z\"),\n",
    "    #     margin=dict(l=0, r=0, b=0, t=40)\n",
    "    # )\n",
    "    # fig.show()\n",
    "    return trajectories\n",
    "\n",
    "###############################################################################\n",
    "# 3) Synthesis & Video Generation\n",
    "###############################################################################\n",
    "\n",
    "def synthesize_and_create_videos(trajectories):\n",
    "    # ---------------------------\n",
    "    # A) Load Reference Image from HDF5 and Remove Background\n",
    "    # ---------------------------\n",
    "    hdf5_file_path = \"demo_duck_feb12.hdf5\"  # Same file used for trajectory generation.\n",
    "    demo_key = list(h5py.File(hdf5_file_path, \"r\")[\"data\"].keys())[0]\n",
    "    with h5py.File(hdf5_file_path, \"r\") as f:\n",
    "        # Assume the reference image is stored under \"obs\"/\"eye_in_hand_rgb\"\n",
    "        ref_image_data = np.array(f[\"data\"][demo_key][\"obs\"][\"eye_in_hand_rgb\"][0])\n",
    "    if ref_image_data.shape[-1] == 3:\n",
    "        ref_image_data = ref_image_data[..., ::-1]  # Convert BGR->RGB if needed.\n",
    "    ref_image = Image.fromarray(ref_image_data)\n",
    "    temp_ref_folder = \"temp_ref\"\n",
    "    os.makedirs(temp_ref_folder, exist_ok=True)\n",
    "    ref_image_path = os.path.join(temp_ref_folder, \"eye_in_hand_rgb.png\")\n",
    "    ref_image.save(ref_image_path)\n",
    "    \n",
    "    # Initialize background removal interface.\n",
    "    bg_removal_interface = HiInterface(\n",
    "        object_type=\"hairs-like\",\n",
    "        batch_size_seg=5,\n",
    "        batch_size_matting=1,\n",
    "        device='cuda' if torch.cuda.is_available() else 'cpu',\n",
    "        seg_mask_size=640,\n",
    "        matting_mask_size=2048,\n",
    "        trimap_prob_threshold=231,\n",
    "        trimap_dilation=30,\n",
    "        trimap_erosion_iters=5,\n",
    "        fp16=False\n",
    "    )\n",
    "    print(\"Removing background from reference image...\")\n",
    "    processed_images = bg_removal_interface([ref_image_path])\n",
    "    processed_ref_image = processed_images[0]\n",
    "    processed_ref_image.save(ref_image_path)\n",
    "    print(f\"Processed reference image saved to: {ref_image_path}\")\n",
    "\n",
    "    # ---------------------------\n",
    "    # B) Setup vivid123 Pipeline and Config\n",
    "    # ---------------------------\n",
    "    ZERO123_MODEL_ID = \"bennyguo/zero123-xl-diffusers\"\n",
    "    VIDEO_MODEL_ID = \"cerspense/zeroscope_v2_576w\"\n",
    "    VIDEO_XL_MODEL_ID = \"cerspense/zeroscope_v2_XL\"\n",
    "\n",
    "    vivid123_pipe, xl_pipe = prepare_vivid123_pipeline(\n",
    "        ZERO123_MODEL_ID=ZERO123_MODEL_ID, \n",
    "        VIDEO_MODEL_ID=VIDEO_MODEL_ID, \n",
    "        VIDEO_XL_MODEL_ID=VIDEO_XL_MODEL_ID\n",
    "    )\n",
    "\n",
    "    # Include \"generation_type\" in the config.\n",
    "    config = {\n",
    "        \"delta_azimuth_end\": 0.0,\n",
    "        \"delta_azimuth_start\": 0.0,\n",
    "        \"delta_elevation_end\": 0.0,\n",
    "        \"delta_elevation_start\": 0.0,\n",
    "        \"delta_radius_end\": 0.0,\n",
    "        \"delta_radius_start\": 0.0,\n",
    "        \"eta\": 0.5,\n",
    "        \"guidance_scale_video\": 2.0,\n",
    "        \"guidance_scale_zero123\": 6.0,\n",
    "        \"height\": 256,\n",
    "        \"width\": 256,\n",
    "        \"input_image_path\": ref_image_path,  # Use the background-removed reference image.\n",
    "        \"obj_name\": \"duck\",  # Will update per synthesized output.\n",
    "        \"noise_identical_accross_frames\": False,\n",
    "        \"num_frames\": 1,\n",
    "        \"num_inference_steps\": 50,\n",
    "        \"prompt\": \"a toy duck\",\n",
    "        \"refiner_guidance_scale\": 1.0,\n",
    "        \"refiner_strength\": 0.1,\n",
    "        \"video_end_step_percentage\": 1.0,\n",
    "        \"video_linear_end_weight\": 0.5,\n",
    "        \"video_linear_start_weight\": 1.0,\n",
    "        \"video_start_step_percentage\": 0.0,\n",
    "        \"zero123_end_step_percentage\": 1.0,\n",
    "        \"zero123_linear_end_weight\": 1.0,\n",
    "        \"zero123_linear_start_weight\": 1.0,\n",
    "        \"zero123_start_step_percentage\": 0.0,\n",
    "        \"generation_type\": \"image\"  # Required key.\n",
    "    }\n",
    "\n",
    "    # ---------------------------\n",
    "    # C) Synthesize Images for Each Candidate and Collect Image Paths\n",
    "    # ---------------------------\n",
    "    synth_output_folder = \"vivid123_synthesized_images\"\n",
    "    os.makedirs(synth_output_folder, exist_ok=True)\n",
    "    trajectory_image_paths = []  # List of lists.\n",
    "\n",
    "    for traj_idx, traj in enumerate(trajectories):\n",
    "        print(f\"\\nSynthesizing images for trajectory {traj_idx} with {len(traj)} points...\")\n",
    "        traj_image_paths = []\n",
    "        for point_idx, point in enumerate(traj):\n",
    "            # Get delta_pose (expected [delta_az, delta_el, delta_r]).\n",
    "            delta_pose = point.get(\"delta_pose\", [0.0, 0.0, 0.0])\n",
    "            delta_az, delta_el, delta_r = delta_pose\n",
    "\n",
    "            # Update config with the delta values.\n",
    "            config[\"delta_azimuth_start\"] = delta_az\n",
    "            config[\"delta_azimuth_end\"]   = delta_az\n",
    "            config[\"delta_elevation_start\"] = delta_el\n",
    "            config[\"delta_elevation_end\"]   = delta_el\n",
    "            config[\"delta_radius_start\"]    = delta_r\n",
    "            config[\"delta_radius_end\"]      = delta_r\n",
    "\n",
    "            # Instead of setting obj_name to a file path with .png extension,\n",
    "            # create a directory for each synthesized output.\n",
    "            output_dir = os.path.join(synth_output_folder, f\"traj_{traj_idx}_point_{point_idx}\")\n",
    "            os.makedirs(output_dir, exist_ok=True)\n",
    "            config[\"obj_name\"] = output_dir\n",
    "\n",
    "            print(f\"Trajectory {traj_idx}, point {point_idx}: Δaz={delta_az:.3f}, Δel={delta_el:.3f}, Δr={delta_r:.3f}\")\n",
    "            try:\n",
    "                generation_vivid123_new(config=config, vivid123_pipe=vivid123_pipe, xl_pipe=xl_pipe)\n",
    "                # Assume the synthesized image is saved as 'image000.png' inside the output_dir.\n",
    "                synth_img_path = os.path.join(output_dir, \"image000.png\")\n",
    "                if os.path.exists(synth_img_path):\n",
    "                    traj_image_paths.append(synth_img_path)\n",
    "                else:\n",
    "                    print(f\"Expected synthesized image not found in {output_dir}.\")\n",
    "            except Exception as e:\n",
    "                print(f\"Error synthesizing image for traj {traj_idx}, point {point_idx}: {e}\")\n",
    "        trajectory_image_paths.append(traj_image_paths)\n",
    "\n",
    "    # ---------------------------\n",
    "    # D) Generate Video for Each Trajectory using Synthesized Images\n",
    "    # ---------------------------\n",
    "    video_output_folder = \"vivid123_videos\"\n",
    "    os.makedirs(video_output_folder, exist_ok=True)\n",
    "    fps = 2  # Adjust FPS as desired.\n",
    "    frame_size = (config[\"width\"], config[\"height\"])\n",
    "\n",
    "    for traj_idx, img_paths in enumerate(trajectory_image_paths):\n",
    "        if not img_paths:\n",
    "            print(f\"Trajectory {traj_idx} has no synthesized images; skipping video creation.\")\n",
    "            continue\n",
    "\n",
    "        video_filename = os.path.join(video_output_folder, f\"trajectory_{traj_idx}.mp4\")\n",
    "        fourcc = cv2.VideoWriter_fourcc(*'mp4v')\n",
    "        video_writer = cv2.VideoWriter(video_filename, fourcc, fps, frame_size)\n",
    "        print(f\"Creating video for trajectory {traj_idx} with {len(img_paths)} frames...\")\n",
    "        for img_path in img_paths:\n",
    "            if not os.path.exists(img_path):\n",
    "                print(f\"Image {img_path} not found; skipping.\")\n",
    "                continue\n",
    "            frame = cv2.imread(img_path)\n",
    "            if frame is None:\n",
    "                print(f\"Failed to read {img_path}; skipping.\")\n",
    "                continue\n",
    "            frame = cv2.resize(frame, frame_size)\n",
    "            video_writer.write(frame)\n",
    "        video_writer.release()\n",
    "        print(f\"Video saved to: {video_filename}\")\n",
    "\n",
    "    print(\"Synthesis and video generation completed.\")\n",
    "    return trajectory_image_paths\n",
    "\n",
    "###############################################################################\n",
    "# 4) Main Function\n",
    "###############################################################################\n",
    "\n",
    "def main():\n",
    "    # First, generate trajectories from the demo HDF5.\n",
    "    trajectories = iterative_trajectory_generation()\n",
    "    if trajectories is None:\n",
    "        print(\"No trajectories generated. Exiting.\")\n",
    "        return\n",
    "\n",
    "    # Then, synthesize camera view images for each trajectory and create videos.\n",
    "    synthesize_and_create_videos(trajectories)\n",
    "\n",
    "if __name__ == \"__main__\":\n",
    "    main()\n"
   ]
  },
  {
   "cell_type": "code",
   "execution_count": 4,
   "metadata": {},
   "outputs": [
    {
     "name": "stdout",
     "output_type": "stream",
     "text": [
      "Available Demos: ['demo_0', 'demo_1', 'demo_2', 'demo_3', 'demo_4', 'demo_5']\n",
      "Reference spherical coords: r=0.717, az=-1.481, el=0.304\n",
      "Generated one trajectory with 284 points.\n",
      "Using first trajectory with 284 points for synthesis and video creation.\n",
      "Removing background from reference image...\n",
      "Processed reference image saved to: temp_ref/eye_in_hand_rgb.png\n"
     ]
    },
    {
     "name": "stderr",
     "output_type": "stream",
     "text": [
      "text_encoder/model.safetensors not found\n",
      "Loading pipeline components...: 100%|██████████| 5/5 [00:01<00:00,  2.52it/s]\n",
      "text_encoder/model.safetensors not found\n",
      "Loading pipeline components...: 100%|██████████| 5/5 [00:01<00:00,  2.97it/s]\n"
     ]
    },
    {
     "name": "stdout",
     "output_type": "stream",
     "text": [
      "Processing point 0: Δaz=-0.087, Δel=0.087, Δr=-0.000\n",
      "input_image_path is: temp_ref/eye_in_hand_rgb.png\n"
     ]
    },
    {
     "name": "stderr",
     "output_type": "stream",
     "text": [
      "100%|██████████| 50/50 [00:08<00:00,  5.70it/s]\n",
      "100%|██████████| 5/5 [00:00<00:00,  6.07it/s]\n"
     ]
    },
    {
     "name": "stdout",
     "output_type": "stream",
     "text": [
      "Saving output images.....\n",
      "Processing point 1: Δaz=0.087, Δel=0.087, Δr=-0.001\n",
      "input_image_path is: temp_ref/eye_in_hand_rgb.png\n"
     ]
    },
    {
     "name": "stderr",
     "output_type": "stream",
     "text": [
      "100%|██████████| 50/50 [00:08<00:00,  5.94it/s]\n",
      "100%|██████████| 5/5 [00:00<00:00,  6.07it/s]\n"
     ]
    },
    {
     "name": "stdout",
     "output_type": "stream",
     "text": [
      "Saving output images.....\n",
      "Processing point 2: Δaz=0.086, Δel=-0.086, Δr=-0.001\n",
      "input_image_path is: temp_ref/eye_in_hand_rgb.png\n"
     ]
    },
    {
     "name": "stderr",
     "output_type": "stream",
     "text": [
      "100%|██████████| 50/50 [00:08<00:00,  5.92it/s]\n",
      "100%|██████████| 5/5 [00:00<00:00,  6.07it/s]\n"
     ]
    },
    {
     "name": "stdout",
     "output_type": "stream",
     "text": [
      "Saving output images.....\n",
      "Processing point 3: Δaz=0.086, Δel=0.086, Δr=-0.001\n",
      "input_image_path is: temp_ref/eye_in_hand_rgb.png\n"
     ]
    },
    {
     "name": "stderr",
     "output_type": "stream",
     "text": [
      "100%|██████████| 50/50 [00:08<00:00,  5.93it/s]\n",
      "100%|██████████| 5/5 [00:00<00:00,  6.07it/s]\n"
     ]
    },
    {
     "name": "stdout",
     "output_type": "stream",
     "text": [
      "Saving output images.....\n",
      "Processing point 4: Δaz=0.085, Δel=0.086, Δr=-0.001\n",
      "input_image_path is: temp_ref/eye_in_hand_rgb.png\n"
     ]
    },
    {
     "name": "stderr",
     "output_type": "stream",
     "text": [
      "100%|██████████| 50/50 [00:08<00:00,  5.92it/s]\n",
      "100%|██████████| 5/5 [00:00<00:00,  6.06it/s]\n"
     ]
    },
    {
     "name": "stdout",
     "output_type": "stream",
     "text": [
      "Saving output images.....\n",
      "Processing point 5: Δaz=0.085, Δel=0.085, Δr=-0.000\n",
      "input_image_path is: temp_ref/eye_in_hand_rgb.png\n"
     ]
    },
    {
     "name": "stderr",
     "output_type": "stream",
     "text": [
      "100%|██████████| 50/50 [00:08<00:00,  5.92it/s]\n",
      "100%|██████████| 5/5 [00:00<00:00,  6.06it/s]\n"
     ]
    },
    {
     "name": "stdout",
     "output_type": "stream",
     "text": [
      "Saving output images.....\n",
      "Processing point 6: Δaz=-0.085, Δel=-0.085, Δr=0.001\n",
      "input_image_path is: temp_ref/eye_in_hand_rgb.png\n"
     ]
    },
    {
     "name": "stderr",
     "output_type": "stream",
     "text": [
      "100%|██████████| 50/50 [00:08<00:00,  5.92it/s]\n",
      "100%|██████████| 5/5 [00:00<00:00,  6.07it/s]\n"
     ]
    },
    {
     "name": "stdout",
     "output_type": "stream",
     "text": [
      "Saving output images.....\n",
      "Processing point 7: Δaz=0.083, Δel=-0.085, Δr=0.002\n",
      "input_image_path is: temp_ref/eye_in_hand_rgb.png\n"
     ]
    },
    {
     "name": "stderr",
     "output_type": "stream",
     "text": [
      "100%|██████████| 50/50 [00:08<00:00,  5.92it/s]\n",
      "100%|██████████| 5/5 [00:00<00:00,  6.06it/s]\n"
     ]
    },
    {
     "name": "stdout",
     "output_type": "stream",
     "text": [
      "Saving output images.....\n",
      "Processing point 8: Δaz=-0.085, Δel=-0.086, Δr=0.004\n",
      "input_image_path is: temp_ref/eye_in_hand_rgb.png\n"
     ]
    },
    {
     "name": "stderr",
     "output_type": "stream",
     "text": [
      "100%|██████████| 50/50 [00:08<00:00,  5.92it/s]\n",
      "100%|██████████| 5/5 [00:00<00:00,  6.07it/s]\n"
     ]
    },
    {
     "name": "stdout",
     "output_type": "stream",
     "text": [
      "Saving output images.....\n",
      "Processing point 9: Δaz=0.081, Δel=0.080, Δr=0.006\n",
      "input_image_path is: temp_ref/eye_in_hand_rgb.png\n"
     ]
    },
    {
     "name": "stderr",
     "output_type": "stream",
     "text": [
      "100%|██████████| 50/50 [00:08<00:00,  5.91it/s]\n",
      "100%|██████████| 5/5 [00:00<00:00,  6.06it/s]\n"
     ]
    },
    {
     "name": "stdout",
     "output_type": "stream",
     "text": [
      "Saving output images.....\n",
      "Processing point 10: Δaz=-0.085, Δel=-0.086, Δr=0.008\n",
      "input_image_path is: temp_ref/eye_in_hand_rgb.png\n"
     ]
    },
    {
     "name": "stderr",
     "output_type": "stream",
     "text": [
      "100%|██████████| 50/50 [00:08<00:00,  5.92it/s]\n",
      "100%|██████████| 5/5 [00:00<00:00,  6.06it/s]\n"
     ]
    },
    {
     "name": "stdout",
     "output_type": "stream",
     "text": [
      "Saving output images.....\n",
      "Processing point 11: Δaz=-0.085, Δel=0.078, Δr=0.009\n",
      "input_image_path is: temp_ref/eye_in_hand_rgb.png\n"
     ]
    },
    {
     "name": "stderr",
     "output_type": "stream",
     "text": [
      "100%|██████████| 50/50 [00:08<00:00,  5.91it/s]\n",
      "100%|██████████| 5/5 [00:00<00:00,  6.06it/s]\n"
     ]
    },
    {
     "name": "stdout",
     "output_type": "stream",
     "text": [
      "Saving output images.....\n",
      "Processing point 12: Δaz=-0.085, Δel=0.078, Δr=0.009\n",
      "input_image_path is: temp_ref/eye_in_hand_rgb.png\n"
     ]
    },
    {
     "name": "stderr",
     "output_type": "stream",
     "text": [
      "100%|██████████| 50/50 [00:08<00:00,  5.91it/s]\n",
      "100%|██████████| 5/5 [00:00<00:00,  6.06it/s]\n"
     ]
    },
    {
     "name": "stdout",
     "output_type": "stream",
     "text": [
      "Saving output images.....\n",
      "Processing point 13: Δaz=-0.084, Δel=-0.085, Δr=0.009\n",
      "input_image_path is: temp_ref/eye_in_hand_rgb.png\n"
     ]
    },
    {
     "name": "stderr",
     "output_type": "stream",
     "text": [
      "100%|██████████| 50/50 [00:08<00:00,  5.91it/s]\n",
      "100%|██████████| 5/5 [00:00<00:00,  6.06it/s]\n"
     ]
    },
    {
     "name": "stdout",
     "output_type": "stream",
     "text": [
      "Saving output images.....\n",
      "Processing point 14: Δaz=0.078, Δel=0.077, Δr=0.008\n",
      "input_image_path is: temp_ref/eye_in_hand_rgb.png\n"
     ]
    },
    {
     "name": "stderr",
     "output_type": "stream",
     "text": [
      "100%|██████████| 50/50 [00:08<00:00,  5.91it/s]\n",
      "100%|██████████| 5/5 [00:00<00:00,  6.06it/s]\n"
     ]
    },
    {
     "name": "stdout",
     "output_type": "stream",
     "text": [
      "Saving output images.....\n",
      "Processing point 15: Δaz=0.078, Δel=-0.084, Δr=0.007\n",
      "input_image_path is: temp_ref/eye_in_hand_rgb.png\n"
     ]
    },
    {
     "name": "stderr",
     "output_type": "stream",
     "text": [
      "100%|██████████| 50/50 [00:08<00:00,  5.92it/s]\n",
      "100%|██████████| 5/5 [00:00<00:00,  6.05it/s]\n"
     ]
    },
    {
     "name": "stdout",
     "output_type": "stream",
     "text": [
      "Saving output images.....\n",
      "Processing point 16: Δaz=-0.083, Δel=-0.084, Δr=0.007\n",
      "input_image_path is: temp_ref/eye_in_hand_rgb.png\n"
     ]
    },
    {
     "name": "stderr",
     "output_type": "stream",
     "text": [
      "100%|██████████| 50/50 [00:08<00:00,  5.91it/s]\n",
      "100%|██████████| 5/5 [00:00<00:00,  6.05it/s]\n"
     ]
    },
    {
     "name": "stdout",
     "output_type": "stream",
     "text": [
      "Saving output images.....\n",
      "Processing point 17: Δaz=-0.084, Δel=-0.083, Δr=0.006\n",
      "input_image_path is: temp_ref/eye_in_hand_rgb.png\n"
     ]
    },
    {
     "name": "stderr",
     "output_type": "stream",
     "text": [
      "100%|██████████| 50/50 [00:08<00:00,  5.91it/s]\n",
      "100%|██████████| 5/5 [00:00<00:00,  6.05it/s]\n"
     ]
    },
    {
     "name": "stdout",
     "output_type": "stream",
     "text": [
      "Saving output images.....\n",
      "Processing point 18: Δaz=-0.086, Δel=0.076, Δr=0.004\n",
      "input_image_path is: temp_ref/eye_in_hand_rgb.png\n"
     ]
    },
    {
     "name": "stderr",
     "output_type": "stream",
     "text": [
      "100%|██████████| 50/50 [00:08<00:00,  5.91it/s]\n",
      "100%|██████████| 5/5 [00:00<00:00,  6.05it/s]\n"
     ]
    },
    {
     "name": "stdout",
     "output_type": "stream",
     "text": [
      "Saving output images.....\n",
      "Processing point 19: Δaz=-0.089, Δel=-0.082, Δr=0.001\n",
      "input_image_path is: temp_ref/eye_in_hand_rgb.png\n"
     ]
    },
    {
     "name": "stderr",
     "output_type": "stream",
     "text": [
      "100%|██████████| 50/50 [00:08<00:00,  5.91it/s]\n",
      "100%|██████████| 5/5 [00:00<00:00,  6.06it/s]\n"
     ]
    },
    {
     "name": "stdout",
     "output_type": "stream",
     "text": [
      "Saving output images.....\n",
      "Processing point 20: Δaz=-0.093, Δel=-0.080, Δr=-0.002\n",
      "input_image_path is: temp_ref/eye_in_hand_rgb.png\n"
     ]
    },
    {
     "name": "stderr",
     "output_type": "stream",
     "text": [
      "100%|██████████| 50/50 [00:08<00:00,  5.91it/s]\n",
      "100%|██████████| 5/5 [00:00<00:00,  6.05it/s]\n"
     ]
    },
    {
     "name": "stdout",
     "output_type": "stream",
     "text": [
      "Saving output images.....\n",
      "Processing point 21: Δaz=0.060, Δel=0.078, Δr=-0.007\n",
      "input_image_path is: temp_ref/eye_in_hand_rgb.png\n"
     ]
    },
    {
     "name": "stderr",
     "output_type": "stream",
     "text": [
      "100%|██████████| 50/50 [00:08<00:00,  5.91it/s]\n",
      "100%|██████████| 5/5 [00:00<00:00,  6.03it/s]\n"
     ]
    },
    {
     "name": "stdout",
     "output_type": "stream",
     "text": [
      "Saving output images.....\n",
      "Processing point 22: Δaz=0.054, Δel=-0.075, Δr=-0.012\n",
      "input_image_path is: temp_ref/eye_in_hand_rgb.png\n"
     ]
    },
    {
     "name": "stderr",
     "output_type": "stream",
     "text": [
      "100%|██████████| 50/50 [00:08<00:00,  5.91it/s]\n",
      "100%|██████████| 5/5 [00:00<00:00,  6.06it/s]\n"
     ]
    },
    {
     "name": "stdout",
     "output_type": "stream",
     "text": [
      "Saving output images.....\n",
      "Processing point 23: Δaz=0.048, Δel=-0.073, Δr=-0.018\n",
      "input_image_path is: temp_ref/eye_in_hand_rgb.png\n"
     ]
    },
    {
     "name": "stderr",
     "output_type": "stream",
     "text": [
      "100%|██████████| 50/50 [00:08<00:00,  5.91it/s]\n",
      "100%|██████████| 5/5 [00:00<00:00,  6.05it/s]\n"
     ]
    },
    {
     "name": "stdout",
     "output_type": "stream",
     "text": [
      "Saving output images.....\n",
      "Processing point 24: Δaz=-0.110, Δel=-0.070, Δr=-0.023\n",
      "input_image_path is: temp_ref/eye_in_hand_rgb.png\n"
     ]
    },
    {
     "name": "stderr",
     "output_type": "stream",
     "text": [
      "100%|██████████| 50/50 [00:08<00:00,  5.91it/s]\n",
      "100%|██████████| 5/5 [00:00<00:00,  6.06it/s]\n"
     ]
    },
    {
     "name": "stdout",
     "output_type": "stream",
     "text": [
      "Saving output images.....\n",
      "Processing point 25: Δaz=-0.113, Δel=-0.067, Δr=-0.029\n",
      "input_image_path is: temp_ref/eye_in_hand_rgb.png\n"
     ]
    },
    {
     "name": "stderr",
     "output_type": "stream",
     "text": [
      "100%|██████████| 50/50 [00:08<00:00,  5.91it/s]\n",
      "100%|██████████| 5/5 [00:00<00:00,  6.06it/s]\n"
     ]
    },
    {
     "name": "stdout",
     "output_type": "stream",
     "text": [
      "Saving output images.....\n",
      "Processing point 26: Δaz=-0.116, Δel=0.086, Δr=-0.036\n",
      "input_image_path is: temp_ref/eye_in_hand_rgb.png\n"
     ]
    },
    {
     "name": "stderr",
     "output_type": "stream",
     "text": [
      "100%|██████████| 50/50 [00:08<00:00,  5.91it/s]\n",
      "100%|██████████| 5/5 [00:00<00:00,  6.05it/s]\n"
     ]
    },
    {
     "name": "stdout",
     "output_type": "stream",
     "text": [
      "Saving output images.....\n",
      "Processing point 27: Δaz=0.032, Δel=-0.064, Δr=-0.042\n",
      "input_image_path is: temp_ref/eye_in_hand_rgb.png\n"
     ]
    },
    {
     "name": "stderr",
     "output_type": "stream",
     "text": [
      "100%|██████████| 50/50 [00:08<00:00,  5.91it/s]\n",
      "100%|██████████| 5/5 [00:00<00:00,  6.07it/s]\n"
     ]
    },
    {
     "name": "stdout",
     "output_type": "stream",
     "text": [
      "Saving output images.....\n",
      "Processing point 28: Δaz=0.027, Δel=-0.060, Δr=-0.048\n",
      "input_image_path is: temp_ref/eye_in_hand_rgb.png\n"
     ]
    },
    {
     "name": "stderr",
     "output_type": "stream",
     "text": [
      "100%|██████████| 50/50 [00:08<00:00,  5.91it/s]\n",
      "100%|██████████| 5/5 [00:00<00:00,  6.07it/s]\n"
     ]
    },
    {
     "name": "stdout",
     "output_type": "stream",
     "text": [
      "Saving output images.....\n",
      "Processing point 29: Δaz=-0.127, Δel=0.093, Δr=-0.055\n",
      "input_image_path is: temp_ref/eye_in_hand_rgb.png\n"
     ]
    },
    {
     "name": "stderr",
     "output_type": "stream",
     "text": [
      "100%|██████████| 50/50 [00:08<00:00,  5.91it/s]\n",
      "100%|██████████| 5/5 [00:00<00:00,  6.06it/s]\n"
     ]
    },
    {
     "name": "stdout",
     "output_type": "stream",
     "text": [
      "Saving output images.....\n",
      "Processing point 30: Δaz=-0.131, Δel=-0.053, Δr=-0.062\n",
      "input_image_path is: temp_ref/eye_in_hand_rgb.png\n"
     ]
    },
    {
     "name": "stderr",
     "output_type": "stream",
     "text": [
      "100%|██████████| 50/50 [00:08<00:00,  5.91it/s]\n",
      "100%|██████████| 5/5 [00:00<00:00,  6.05it/s]\n"
     ]
    },
    {
     "name": "stdout",
     "output_type": "stream",
     "text": [
      "Saving output images.....\n",
      "Processing point 31: Δaz=0.014, Δel=0.098, Δr=-0.069\n",
      "input_image_path is: temp_ref/eye_in_hand_rgb.png\n"
     ]
    },
    {
     "name": "stderr",
     "output_type": "stream",
     "text": [
      "100%|██████████| 50/50 [00:08<00:00,  5.91it/s]\n",
      "100%|██████████| 5/5 [00:00<00:00,  6.05it/s]\n"
     ]
    },
    {
     "name": "stdout",
     "output_type": "stream",
     "text": [
      "Saving output images.....\n",
      "Processing point 32: Δaz=0.010, Δel=-0.048, Δr=-0.075\n",
      "input_image_path is: temp_ref/eye_in_hand_rgb.png\n"
     ]
    },
    {
     "name": "stderr",
     "output_type": "stream",
     "text": [
      "100%|██████████| 50/50 [00:08<00:00,  5.91it/s]\n",
      "100%|██████████| 5/5 [00:00<00:00,  6.07it/s]\n"
     ]
    },
    {
     "name": "stdout",
     "output_type": "stream",
     "text": [
      "Saving output images.....\n",
      "Processing point 33: Δaz=-0.140, Δel=0.101, Δr=-0.081\n",
      "input_image_path is: temp_ref/eye_in_hand_rgb.png\n"
     ]
    },
    {
     "name": "stderr",
     "output_type": "stream",
     "text": [
      "100%|██████████| 50/50 [00:08<00:00,  5.91it/s]\n",
      "100%|██████████| 5/5 [00:00<00:00,  6.02it/s]\n"
     ]
    },
    {
     "name": "stdout",
     "output_type": "stream",
     "text": [
      "Saving output images.....\n",
      "Processing point 34: Δaz=0.002, Δel=-0.045, Δr=-0.087\n",
      "input_image_path is: temp_ref/eye_in_hand_rgb.png\n"
     ]
    },
    {
     "name": "stderr",
     "output_type": "stream",
     "text": [
      "100%|██████████| 50/50 [00:08<00:00,  5.91it/s]\n",
      "100%|██████████| 5/5 [00:00<00:00,  6.05it/s]\n"
     ]
    },
    {
     "name": "stdout",
     "output_type": "stream",
     "text": [
      "Saving output images.....\n",
      "Processing point 35: Δaz=-0.148, Δel=0.101, Δr=-0.092\n",
      "input_image_path is: temp_ref/eye_in_hand_rgb.png\n"
     ]
    },
    {
     "name": "stderr",
     "output_type": "stream",
     "text": [
      "100%|██████████| 50/50 [00:08<00:00,  5.92it/s]\n",
      "100%|██████████| 5/5 [00:00<00:00,  6.05it/s]\n"
     ]
    },
    {
     "name": "stdout",
     "output_type": "stream",
     "text": [
      "Saving output images.....\n",
      "Processing point 36: Δaz=-0.007, Δel=-0.044, Δr=-0.097\n",
      "input_image_path is: temp_ref/eye_in_hand_rgb.png\n"
     ]
    },
    {
     "name": "stderr",
     "output_type": "stream",
     "text": [
      "100%|██████████| 50/50 [00:08<00:00,  5.91it/s]\n",
      "100%|██████████| 5/5 [00:00<00:00,  6.06it/s]\n"
     ]
    },
    {
     "name": "stdout",
     "output_type": "stream",
     "text": [
      "Saving output images.....\n",
      "Processing point 37: Δaz=-0.154, Δel=0.101, Δr=-0.103\n",
      "input_image_path is: temp_ref/eye_in_hand_rgb.png\n"
     ]
    },
    {
     "name": "stderr",
     "output_type": "stream",
     "text": [
      "100%|██████████| 50/50 [00:08<00:00,  5.91it/s]\n",
      "100%|██████████| 5/5 [00:00<00:00,  6.06it/s]\n"
     ]
    },
    {
     "name": "stdout",
     "output_type": "stream",
     "text": [
      "Saving output images.....\n",
      "Processing point 38: Δaz=-0.014, Δel=0.100, Δr=-0.108\n",
      "input_image_path is: temp_ref/eye_in_hand_rgb.png\n"
     ]
    },
    {
     "name": "stderr",
     "output_type": "stream",
     "text": [
      "100%|██████████| 50/50 [00:08<00:00,  5.92it/s]\n",
      "100%|██████████| 5/5 [00:00<00:00,  6.06it/s]\n"
     ]
    },
    {
     "name": "stdout",
     "output_type": "stream",
     "text": [
      "Saving output images.....\n",
      "Processing point 39: Δaz=-0.160, Δel=0.100, Δr=-0.113\n",
      "input_image_path is: temp_ref/eye_in_hand_rgb.png\n"
     ]
    },
    {
     "name": "stderr",
     "output_type": "stream",
     "text": [
      "100%|██████████| 50/50 [00:08<00:00,  5.91it/s]\n",
      "100%|██████████| 5/5 [00:00<00:00,  6.06it/s]\n"
     ]
    },
    {
     "name": "stdout",
     "output_type": "stream",
     "text": [
      "Saving output images.....\n",
      "Processing point 40: Δaz=-0.163, Δel=0.101, Δr=-0.118\n",
      "input_image_path is: temp_ref/eye_in_hand_rgb.png\n"
     ]
    },
    {
     "name": "stderr",
     "output_type": "stream",
     "text": [
      "100%|██████████| 50/50 [00:08<00:00,  5.92it/s]\n",
      "100%|██████████| 5/5 [00:00<00:00,  6.06it/s]\n"
     ]
    },
    {
     "name": "stdout",
     "output_type": "stream",
     "text": [
      "Saving output images.....\n",
      "Processing point 41: Δaz=-0.166, Δel=-0.037, Δr=-0.123\n",
      "input_image_path is: temp_ref/eye_in_hand_rgb.png\n"
     ]
    },
    {
     "name": "stderr",
     "output_type": "stream",
     "text": [
      "100%|██████████| 50/50 [00:08<00:00,  5.91it/s]\n",
      "100%|██████████| 5/5 [00:00<00:00,  6.06it/s]\n"
     ]
    },
    {
     "name": "stdout",
     "output_type": "stream",
     "text": [
      "Saving output images.....\n",
      "Processing point 42: Δaz=-0.169, Δel=0.106, Δr=-0.127\n",
      "input_image_path is: temp_ref/eye_in_hand_rgb.png\n"
     ]
    },
    {
     "name": "stderr",
     "output_type": "stream",
     "text": [
      "100%|██████████| 50/50 [00:08<00:00,  5.91it/s]\n",
      "100%|██████████| 5/5 [00:00<00:00,  6.06it/s]\n"
     ]
    },
    {
     "name": "stdout",
     "output_type": "stream",
     "text": [
      "Saving output images.....\n",
      "Processing point 43: Δaz=-0.171, Δel=0.107, Δr=-0.132\n",
      "input_image_path is: temp_ref/eye_in_hand_rgb.png\n"
     ]
    },
    {
     "name": "stderr",
     "output_type": "stream",
     "text": [
      "100%|██████████| 50/50 [00:08<00:00,  5.92it/s]\n",
      "100%|██████████| 5/5 [00:00<00:00,  6.06it/s]\n"
     ]
    },
    {
     "name": "stdout",
     "output_type": "stream",
     "text": [
      "Saving output images.....\n",
      "Processing point 44: Δaz=-0.173, Δel=0.110, Δr=-0.137\n",
      "input_image_path is: temp_ref/eye_in_hand_rgb.png\n"
     ]
    },
    {
     "name": "stderr",
     "output_type": "stream",
     "text": [
      "100%|██████████| 50/50 [00:08<00:00,  5.92it/s]\n",
      "100%|██████████| 5/5 [00:00<00:00,  6.07it/s]\n"
     ]
    },
    {
     "name": "stdout",
     "output_type": "stream",
     "text": [
      "Saving output images.....\n",
      "Processing point 45: Δaz=-0.174, Δel=0.112, Δr=-0.141\n",
      "input_image_path is: temp_ref/eye_in_hand_rgb.png\n"
     ]
    },
    {
     "name": "stderr",
     "output_type": "stream",
     "text": [
      "100%|██████████| 50/50 [00:08<00:00,  5.92it/s]\n",
      "100%|██████████| 5/5 [00:00<00:00,  6.05it/s]\n"
     ]
    },
    {
     "name": "stdout",
     "output_type": "stream",
     "text": [
      "Saving output images.....\n",
      "Processing point 46: Δaz=-0.039, Δel=-0.022, Δr=-0.145\n",
      "input_image_path is: temp_ref/eye_in_hand_rgb.png\n"
     ]
    },
    {
     "name": "stderr",
     "output_type": "stream",
     "text": [
      "100%|██████████| 50/50 [00:08<00:00,  5.91it/s]\n",
      "100%|██████████| 5/5 [00:00<00:00,  6.06it/s]\n"
     ]
    },
    {
     "name": "stdout",
     "output_type": "stream",
     "text": [
      "Saving output images.....\n",
      "Processing point 47: Δaz=-0.040, Δel=0.117, Δr=-0.150\n",
      "input_image_path is: temp_ref/eye_in_hand_rgb.png\n"
     ]
    },
    {
     "name": "stderr",
     "output_type": "stream",
     "text": [
      "100%|██████████| 50/50 [00:08<00:00,  5.91it/s]\n",
      "100%|██████████| 5/5 [00:00<00:00,  6.06it/s]\n"
     ]
    },
    {
     "name": "stdout",
     "output_type": "stream",
     "text": [
      "Saving output images.....\n",
      "Processing point 48: Δaz=-0.041, Δel=-0.015, Δr=-0.155\n",
      "input_image_path is: temp_ref/eye_in_hand_rgb.png\n"
     ]
    },
    {
     "name": "stderr",
     "output_type": "stream",
     "text": [
      "100%|██████████| 50/50 [00:08<00:00,  5.91it/s]\n",
      "100%|██████████| 5/5 [00:00<00:00,  6.06it/s]\n"
     ]
    },
    {
     "name": "stdout",
     "output_type": "stream",
     "text": [
      "Saving output images.....\n",
      "Processing point 49: Δaz=-0.041, Δel=-0.012, Δr=-0.161\n",
      "input_image_path is: temp_ref/eye_in_hand_rgb.png\n"
     ]
    },
    {
     "name": "stderr",
     "output_type": "stream",
     "text": [
      "100%|██████████| 50/50 [00:08<00:00,  5.91it/s]\n",
      "100%|██████████| 5/5 [00:00<00:00,  6.06it/s]\n"
     ]
    },
    {
     "name": "stdout",
     "output_type": "stream",
     "text": [
      "Saving output images.....\n",
      "Processing point 50: Δaz=-0.042, Δel=-0.008, Δr=-0.165\n",
      "input_image_path is: temp_ref/eye_in_hand_rgb.png\n"
     ]
    },
    {
     "name": "stderr",
     "output_type": "stream",
     "text": [
      "100%|██████████| 50/50 [00:08<00:00,  5.92it/s]\n",
      "100%|██████████| 5/5 [00:00<00:00,  6.03it/s]\n"
     ]
    },
    {
     "name": "stdout",
     "output_type": "stream",
     "text": [
      "Saving output images.....\n",
      "Processing point 51: Δaz=-0.042, Δel=0.130, Δr=-0.171\n",
      "input_image_path is: temp_ref/eye_in_hand_rgb.png\n"
     ]
    },
    {
     "name": "stderr",
     "output_type": "stream",
     "text": [
      "100%|██████████| 50/50 [00:08<00:00,  5.91it/s]\n",
      "100%|██████████| 5/5 [00:00<00:00,  6.06it/s]\n"
     ]
    },
    {
     "name": "stdout",
     "output_type": "stream",
     "text": [
      "Saving output images.....\n",
      "Processing point 52: Δaz=-0.042, Δel=0.001, Δr=-0.177\n",
      "input_image_path is: temp_ref/eye_in_hand_rgb.png\n"
     ]
    },
    {
     "name": "stderr",
     "output_type": "stream",
     "text": [
      "100%|██████████| 50/50 [00:08<00:00,  5.92it/s]\n",
      "100%|██████████| 5/5 [00:00<00:00,  6.06it/s]\n"
     ]
    },
    {
     "name": "stdout",
     "output_type": "stream",
     "text": [
      "Saving output images.....\n",
      "Processing point 53: Δaz=-0.175, Δel=0.005, Δr=-0.182\n",
      "input_image_path is: temp_ref/eye_in_hand_rgb.png\n"
     ]
    },
    {
     "name": "stderr",
     "output_type": "stream",
     "text": [
      "100%|██████████| 50/50 [00:08<00:00,  5.91it/s]\n",
      "100%|██████████| 5/5 [00:00<00:00,  6.07it/s]\n"
     ]
    },
    {
     "name": "stdout",
     "output_type": "stream",
     "text": [
      "Saving output images.....\n",
      "Processing point 54: Δaz=-0.175, Δel=0.010, Δr=-0.188\n",
      "input_image_path is: temp_ref/eye_in_hand_rgb.png\n"
     ]
    },
    {
     "name": "stderr",
     "output_type": "stream",
     "text": [
      "100%|██████████| 50/50 [00:08<00:00,  5.91it/s]\n",
      "100%|██████████| 5/5 [00:00<00:00,  6.09it/s]\n"
     ]
    },
    {
     "name": "stdout",
     "output_type": "stream",
     "text": [
      "Saving output images.....\n",
      "Processing point 55: Δaz=-0.044, Δel=0.145, Δr=-0.194\n",
      "input_image_path is: temp_ref/eye_in_hand_rgb.png\n"
     ]
    },
    {
     "name": "stderr",
     "output_type": "stream",
     "text": [
      "100%|██████████| 50/50 [00:08<00:00,  5.93it/s]\n",
      "100%|██████████| 5/5 [00:00<00:00,  6.05it/s]\n"
     ]
    },
    {
     "name": "stdout",
     "output_type": "stream",
     "text": [
      "Saving output images.....\n",
      "Processing point 56: Δaz=-0.175, Δel=0.148, Δr=-0.199\n",
      "input_image_path is: temp_ref/eye_in_hand_rgb.png\n"
     ]
    },
    {
     "name": "stderr",
     "output_type": "stream",
     "text": [
      "100%|██████████| 50/50 [00:08<00:00,  5.91it/s]\n",
      "100%|██████████| 5/5 [00:00<00:00,  6.10it/s]\n"
     ]
    },
    {
     "name": "stdout",
     "output_type": "stream",
     "text": [
      "Saving output images.....\n",
      "Processing point 57: Δaz=-0.046, Δel=0.152, Δr=-0.204\n",
      "input_image_path is: temp_ref/eye_in_hand_rgb.png\n"
     ]
    },
    {
     "name": "stderr",
     "output_type": "stream",
     "text": [
      "100%|██████████| 50/50 [00:08<00:00,  5.93it/s]\n",
      "100%|██████████| 5/5 [00:00<00:00,  6.09it/s]\n"
     ]
    },
    {
     "name": "stdout",
     "output_type": "stream",
     "text": [
      "Saving output images.....\n",
      "Processing point 58: Δaz=-0.046, Δel=0.156, Δr=-0.210\n",
      "input_image_path is: temp_ref/eye_in_hand_rgb.png\n"
     ]
    },
    {
     "name": "stderr",
     "output_type": "stream",
     "text": [
      "100%|██████████| 50/50 [00:08<00:00,  5.93it/s]\n",
      "100%|██████████| 5/5 [00:00<00:00,  6.09it/s]\n"
     ]
    },
    {
     "name": "stdout",
     "output_type": "stream",
     "text": [
      "Saving output images.....\n",
      "Processing point 59: Δaz=-0.047, Δel=0.032, Δr=-0.215\n",
      "input_image_path is: temp_ref/eye_in_hand_rgb.png\n"
     ]
    },
    {
     "name": "stderr",
     "output_type": "stream",
     "text": [
      "100%|██████████| 50/50 [00:08<00:00,  5.93it/s]\n",
      "100%|██████████| 5/5 [00:00<00:00,  6.09it/s]\n"
     ]
    },
    {
     "name": "stdout",
     "output_type": "stream",
     "text": [
      "Saving output images.....\n",
      "Processing point 60: Δaz=-0.175, Δel=0.163, Δr=-0.220\n",
      "input_image_path is: temp_ref/eye_in_hand_rgb.png\n"
     ]
    },
    {
     "name": "stderr",
     "output_type": "stream",
     "text": [
      "100%|██████████| 50/50 [00:08<00:00,  5.93it/s]\n",
      "100%|██████████| 5/5 [00:00<00:00,  6.11it/s]\n"
     ]
    },
    {
     "name": "stdout",
     "output_type": "stream",
     "text": [
      "Saving output images.....\n",
      "Processing point 61: Δaz=-0.048, Δel=0.165, Δr=-0.225\n",
      "input_image_path is: temp_ref/eye_in_hand_rgb.png\n"
     ]
    },
    {
     "name": "stderr",
     "output_type": "stream",
     "text": [
      "100%|██████████| 50/50 [00:08<00:00,  5.92it/s]\n",
      "100%|██████████| 5/5 [00:00<00:00,  6.08it/s]\n"
     ]
    },
    {
     "name": "stdout",
     "output_type": "stream",
     "text": [
      "Saving output images.....\n",
      "Processing point 62: Δaz=-0.175, Δel=0.043, Δr=-0.230\n",
      "input_image_path is: temp_ref/eye_in_hand_rgb.png\n"
     ]
    },
    {
     "name": "stderr",
     "output_type": "stream",
     "text": [
      "100%|██████████| 50/50 [00:08<00:00,  5.93it/s]\n",
      "100%|██████████| 5/5 [00:00<00:00,  6.10it/s]\n"
     ]
    },
    {
     "name": "stdout",
     "output_type": "stream",
     "text": [
      "Saving output images.....\n",
      "Processing point 63: Δaz=-0.050, Δel=0.046, Δr=-0.236\n",
      "input_image_path is: temp_ref/eye_in_hand_rgb.png\n"
     ]
    },
    {
     "name": "stderr",
     "output_type": "stream",
     "text": [
      "100%|██████████| 50/50 [00:08<00:00,  5.93it/s]\n",
      "100%|██████████| 5/5 [00:00<00:00,  6.09it/s]\n"
     ]
    },
    {
     "name": "stdout",
     "output_type": "stream",
     "text": [
      "Saving output images.....\n",
      "Processing point 64: Δaz=-0.175, Δel=0.051, Δr=-0.241\n",
      "input_image_path is: temp_ref/eye_in_hand_rgb.png\n"
     ]
    },
    {
     "name": "stderr",
     "output_type": "stream",
     "text": [
      "100%|██████████| 50/50 [00:08<00:00,  5.93it/s]\n",
      "100%|██████████| 5/5 [00:00<00:00,  6.10it/s]\n"
     ]
    },
    {
     "name": "stdout",
     "output_type": "stream",
     "text": [
      "Saving output images.....\n",
      "Processing point 65: Δaz=-0.051, Δel=0.055, Δr=-0.246\n",
      "input_image_path is: temp_ref/eye_in_hand_rgb.png\n"
     ]
    },
    {
     "name": "stderr",
     "output_type": "stream",
     "text": [
      "100%|██████████| 50/50 [00:08<00:00,  5.92it/s]\n",
      "100%|██████████| 5/5 [00:00<00:00,  6.10it/s]\n"
     ]
    },
    {
     "name": "stdout",
     "output_type": "stream",
     "text": [
      "Saving output images.....\n",
      "Processing point 66: Δaz=-0.175, Δel=0.060, Δr=-0.251\n",
      "input_image_path is: temp_ref/eye_in_hand_rgb.png\n"
     ]
    },
    {
     "name": "stderr",
     "output_type": "stream",
     "text": [
      "100%|██████████| 50/50 [00:08<00:00,  5.92it/s]\n",
      "100%|██████████| 5/5 [00:00<00:00,  6.08it/s]\n"
     ]
    },
    {
     "name": "stdout",
     "output_type": "stream",
     "text": [
      "Saving output images.....\n",
      "Processing point 67: Δaz=-0.052, Δel=0.187, Δr=-0.256\n",
      "input_image_path is: temp_ref/eye_in_hand_rgb.png\n"
     ]
    },
    {
     "name": "stderr",
     "output_type": "stream",
     "text": [
      "100%|██████████| 50/50 [00:08<00:00,  5.93it/s]\n",
      "100%|██████████| 5/5 [00:00<00:00,  6.10it/s]\n"
     ]
    },
    {
     "name": "stdout",
     "output_type": "stream",
     "text": [
      "Saving output images.....\n",
      "Processing point 68: Δaz=-0.173, Δel=0.190, Δr=-0.259\n",
      "input_image_path is: temp_ref/eye_in_hand_rgb.png\n"
     ]
    },
    {
     "name": "stderr",
     "output_type": "stream",
     "text": [
      "100%|██████████| 50/50 [00:08<00:00,  5.92it/s]\n",
      "100%|██████████| 5/5 [00:00<00:00,  6.07it/s]\n"
     ]
    },
    {
     "name": "stdout",
     "output_type": "stream",
     "text": [
      "Saving output images.....\n",
      "Processing point 69: Δaz=-0.052, Δel=0.072, Δr=-0.262\n",
      "input_image_path is: temp_ref/eye_in_hand_rgb.png\n"
     ]
    },
    {
     "name": "stderr",
     "output_type": "stream",
     "text": [
      "100%|██████████| 50/50 [00:08<00:00,  5.92it/s]\n",
      "100%|██████████| 5/5 [00:00<00:00,  6.07it/s]\n"
     ]
    },
    {
     "name": "stdout",
     "output_type": "stream",
     "text": [
      "Saving output images.....\n",
      "Processing point 70: Δaz=-0.052, Δel=0.196, Δr=-0.266\n",
      "input_image_path is: temp_ref/eye_in_hand_rgb.png\n"
     ]
    },
    {
     "name": "stderr",
     "output_type": "stream",
     "text": [
      "100%|██████████| 50/50 [00:08<00:00,  5.93it/s]\n",
      "100%|██████████| 5/5 [00:00<00:00,  6.08it/s]\n"
     ]
    },
    {
     "name": "stdout",
     "output_type": "stream",
     "text": [
      "Saving output images.....\n",
      "Processing point 71: Δaz=-0.052, Δel=0.079, Δr=-0.269\n",
      "input_image_path is: temp_ref/eye_in_hand_rgb.png\n"
     ]
    },
    {
     "name": "stderr",
     "output_type": "stream",
     "text": [
      "100%|██████████| 50/50 [00:08<00:00,  5.92it/s]\n",
      "100%|██████████| 5/5 [00:00<00:00,  6.05it/s]\n"
     ]
    },
    {
     "name": "stdout",
     "output_type": "stream",
     "text": [
      "Saving output images.....\n",
      "Processing point 72: Δaz=-0.171, Δel=0.083, Δr=-0.272\n",
      "input_image_path is: temp_ref/eye_in_hand_rgb.png\n"
     ]
    },
    {
     "name": "stderr",
     "output_type": "stream",
     "text": [
      "100%|██████████| 50/50 [00:08<00:00,  5.92it/s]\n",
      "100%|██████████| 5/5 [00:00<00:00,  6.06it/s]\n"
     ]
    },
    {
     "name": "stdout",
     "output_type": "stream",
     "text": [
      "Saving output images.....\n",
      "Processing point 73: Δaz=-0.171, Δel=0.206, Δr=-0.275\n",
      "input_image_path is: temp_ref/eye_in_hand_rgb.png\n"
     ]
    },
    {
     "name": "stderr",
     "output_type": "stream",
     "text": [
      "100%|██████████| 50/50 [00:08<00:00,  5.92it/s]\n",
      "100%|██████████| 5/5 [00:00<00:00,  6.06it/s]\n"
     ]
    },
    {
     "name": "stdout",
     "output_type": "stream",
     "text": [
      "Saving output images.....\n",
      "Processing point 74: Δaz=-0.171, Δel=0.208, Δr=-0.278\n",
      "input_image_path is: temp_ref/eye_in_hand_rgb.png\n"
     ]
    },
    {
     "name": "stderr",
     "output_type": "stream",
     "text": [
      "100%|██████████| 50/50 [00:08<00:00,  5.92it/s]\n",
      "100%|██████████| 5/5 [00:00<00:00,  6.06it/s]\n"
     ]
    },
    {
     "name": "stdout",
     "output_type": "stream",
     "text": [
      "Saving output images.....\n",
      "Processing point 75: Δaz=-0.053, Δel=0.093, Δr=-0.280\n",
      "input_image_path is: temp_ref/eye_in_hand_rgb.png\n"
     ]
    },
    {
     "name": "stderr",
     "output_type": "stream",
     "text": [
      "100%|██████████| 50/50 [00:08<00:00,  5.92it/s]\n",
      "100%|██████████| 5/5 [00:00<00:00,  6.06it/s]\n"
     ]
    },
    {
     "name": "stdout",
     "output_type": "stream",
     "text": [
      "Saving output images.....\n",
      "Processing point 76: Δaz=-0.170, Δel=0.213, Δr=-0.283\n",
      "input_image_path is: temp_ref/eye_in_hand_rgb.png\n"
     ]
    },
    {
     "name": "stderr",
     "output_type": "stream",
     "text": [
      "100%|██████████| 50/50 [00:08<00:00,  5.92it/s]\n",
      "100%|██████████| 5/5 [00:00<00:00,  6.07it/s]\n"
     ]
    },
    {
     "name": "stdout",
     "output_type": "stream",
     "text": [
      "Saving output images.....\n",
      "Processing point 77: Δaz=-0.054, Δel=0.217, Δr=-0.286\n",
      "input_image_path is: temp_ref/eye_in_hand_rgb.png\n"
     ]
    },
    {
     "name": "stderr",
     "output_type": "stream",
     "text": [
      "100%|██████████| 50/50 [00:08<00:00,  5.91it/s]\n",
      "100%|██████████| 5/5 [00:00<00:00,  6.06it/s]\n"
     ]
    },
    {
     "name": "stdout",
     "output_type": "stream",
     "text": [
      "Saving output images.....\n",
      "Processing point 78: Δaz=-0.055, Δel=0.105, Δr=-0.290\n",
      "input_image_path is: temp_ref/eye_in_hand_rgb.png\n"
     ]
    },
    {
     "name": "stderr",
     "output_type": "stream",
     "text": [
      "100%|██████████| 50/50 [00:08<00:00,  5.92it/s]\n",
      "100%|██████████| 5/5 [00:00<00:00,  6.07it/s]\n"
     ]
    },
    {
     "name": "stdout",
     "output_type": "stream",
     "text": [
      "Saving output images.....\n",
      "Processing point 79: Δaz=-0.170, Δel=0.110, Δr=-0.294\n",
      "input_image_path is: temp_ref/eye_in_hand_rgb.png\n"
     ]
    },
    {
     "name": "stderr",
     "output_type": "stream",
     "text": [
      "100%|██████████| 50/50 [00:08<00:00,  5.92it/s]\n",
      "100%|██████████| 5/5 [00:00<00:00,  6.06it/s]\n"
     ]
    },
    {
     "name": "stdout",
     "output_type": "stream",
     "text": [
      "Saving output images.....\n",
      "Processing point 80: Δaz=-0.056, Δel=0.230, Δr=-0.298\n",
      "input_image_path is: temp_ref/eye_in_hand_rgb.png\n"
     ]
    },
    {
     "name": "stderr",
     "output_type": "stream",
     "text": [
      "100%|██████████| 50/50 [00:08<00:00,  5.92it/s]\n",
      "100%|██████████| 5/5 [00:00<00:00,  6.07it/s]\n"
     ]
    },
    {
     "name": "stdout",
     "output_type": "stream",
     "text": [
      "Saving output images.....\n",
      "Processing point 81: Δaz=-0.057, Δel=0.122, Δr=-0.303\n",
      "input_image_path is: temp_ref/eye_in_hand_rgb.png\n"
     ]
    },
    {
     "name": "stderr",
     "output_type": "stream",
     "text": [
      "100%|██████████| 50/50 [00:08<00:00,  5.92it/s]\n",
      "100%|██████████| 5/5 [00:00<00:00,  6.06it/s]\n"
     ]
    },
    {
     "name": "stdout",
     "output_type": "stream",
     "text": [
      "Saving output images.....\n",
      "Processing point 82: Δaz=-0.170, Δel=0.127, Δr=-0.307\n",
      "input_image_path is: temp_ref/eye_in_hand_rgb.png\n"
     ]
    },
    {
     "name": "stderr",
     "output_type": "stream",
     "text": [
      "100%|██████████| 50/50 [00:08<00:00,  5.92it/s]\n",
      "100%|██████████| 5/5 [00:00<00:00,  6.06it/s]\n"
     ]
    },
    {
     "name": "stdout",
     "output_type": "stream",
     "text": [
      "Saving output images.....\n",
      "Processing point 83: Δaz=-0.171, Δel=0.245, Δr=-0.311\n",
      "input_image_path is: temp_ref/eye_in_hand_rgb.png\n"
     ]
    },
    {
     "name": "stderr",
     "output_type": "stream",
     "text": [
      "100%|██████████| 50/50 [00:08<00:00,  5.92it/s]\n",
      "100%|██████████| 5/5 [00:00<00:00,  6.06it/s]\n"
     ]
    },
    {
     "name": "stdout",
     "output_type": "stream",
     "text": [
      "Saving output images.....\n",
      "Processing point 84: Δaz=-0.171, Δel=0.139, Δr=-0.316\n",
      "input_image_path is: temp_ref/eye_in_hand_rgb.png\n"
     ]
    },
    {
     "name": "stderr",
     "output_type": "stream",
     "text": [
      "100%|██████████| 50/50 [00:08<00:00,  5.92it/s]\n",
      "100%|██████████| 5/5 [00:00<00:00,  6.06it/s]\n"
     ]
    },
    {
     "name": "stdout",
     "output_type": "stream",
     "text": [
      "Saving output images.....\n",
      "Processing point 85: Δaz=-0.060, Δel=0.146, Δr=-0.320\n",
      "input_image_path is: temp_ref/eye_in_hand_rgb.png\n"
     ]
    },
    {
     "name": "stderr",
     "output_type": "stream",
     "text": [
      "100%|██████████| 50/50 [00:08<00:00,  5.92it/s]\n",
      "100%|██████████| 5/5 [00:00<00:00,  6.06it/s]\n"
     ]
    },
    {
     "name": "stdout",
     "output_type": "stream",
     "text": [
      "Saving output images.....\n",
      "Processing point 86: Δaz=-0.061, Δel=0.263, Δr=-0.325\n",
      "input_image_path is: temp_ref/eye_in_hand_rgb.png\n"
     ]
    },
    {
     "name": "stderr",
     "output_type": "stream",
     "text": [
      "100%|██████████| 50/50 [00:08<00:00,  5.92it/s]\n",
      "100%|██████████| 5/5 [00:00<00:00,  6.08it/s]\n"
     ]
    },
    {
     "name": "stdout",
     "output_type": "stream",
     "text": [
      "Saving output images.....\n",
      "Processing point 87: Δaz=-0.061, Δel=0.269, Δr=-0.330\n",
      "input_image_path is: temp_ref/eye_in_hand_rgb.png\n"
     ]
    },
    {
     "name": "stderr",
     "output_type": "stream",
     "text": [
      "100%|██████████| 50/50 [00:08<00:00,  5.91it/s]\n",
      "100%|██████████| 5/5 [00:00<00:00,  6.07it/s]\n"
     ]
    },
    {
     "name": "stdout",
     "output_type": "stream",
     "text": [
      "Saving output images.....\n",
      "Processing point 88: Δaz=-0.062, Δel=0.166, Δr=-0.334\n",
      "input_image_path is: temp_ref/eye_in_hand_rgb.png\n"
     ]
    },
    {
     "name": "stderr",
     "output_type": "stream",
     "text": [
      "100%|██████████| 50/50 [00:08<00:00,  5.92it/s]\n",
      "100%|██████████| 5/5 [00:00<00:00,  6.08it/s]\n"
     ]
    },
    {
     "name": "stdout",
     "output_type": "stream",
     "text": [
      "Saving output images.....\n",
      "Processing point 89: Δaz=-0.172, Δel=0.281, Δr=-0.339\n",
      "input_image_path is: temp_ref/eye_in_hand_rgb.png\n"
     ]
    },
    {
     "name": "stderr",
     "output_type": "stream",
     "text": [
      "100%|██████████| 50/50 [00:08<00:00,  5.92it/s]\n",
      "100%|██████████| 5/5 [00:00<00:00,  6.07it/s]\n"
     ]
    },
    {
     "name": "stdout",
     "output_type": "stream",
     "text": [
      "Saving output images.....\n",
      "Processing point 90: Δaz=-0.172, Δel=0.287, Δr=-0.343\n",
      "input_image_path is: temp_ref/eye_in_hand_rgb.png\n"
     ]
    },
    {
     "name": "stderr",
     "output_type": "stream",
     "text": [
      "100%|██████████| 50/50 [00:08<00:00,  5.92it/s]\n",
      "100%|██████████| 5/5 [00:00<00:00,  6.07it/s]\n"
     ]
    },
    {
     "name": "stdout",
     "output_type": "stream",
     "text": [
      "Saving output images.....\n",
      "Processing point 91: Δaz=-0.064, Δel=0.293, Δr=-0.348\n",
      "input_image_path is: temp_ref/eye_in_hand_rgb.png\n"
     ]
    },
    {
     "name": "stderr",
     "output_type": "stream",
     "text": [
      "100%|██████████| 50/50 [00:08<00:00,  5.92it/s]\n",
      "100%|██████████| 5/5 [00:00<00:00,  6.06it/s]\n"
     ]
    },
    {
     "name": "stdout",
     "output_type": "stream",
     "text": [
      "Saving output images.....\n",
      "Processing point 92: Δaz=-0.172, Δel=0.190, Δr=-0.352\n",
      "input_image_path is: temp_ref/eye_in_hand_rgb.png\n"
     ]
    },
    {
     "name": "stderr",
     "output_type": "stream",
     "text": [
      "100%|██████████| 50/50 [00:08<00:00,  5.91it/s]\n",
      "100%|██████████| 5/5 [00:00<00:00,  6.07it/s]\n"
     ]
    },
    {
     "name": "stdout",
     "output_type": "stream",
     "text": [
      "Saving output images.....\n",
      "Processing point 93: Δaz=-0.066, Δel=0.300, Δr=-0.357\n",
      "input_image_path is: temp_ref/eye_in_hand_rgb.png\n"
     ]
    },
    {
     "name": "stderr",
     "output_type": "stream",
     "text": [
      "100%|██████████| 50/50 [00:08<00:00,  5.92it/s]\n",
      "100%|██████████| 5/5 [00:00<00:00,  6.06it/s]\n"
     ]
    },
    {
     "name": "stdout",
     "output_type": "stream",
     "text": [
      "Saving output images.....\n",
      "Processing point 94: Δaz=-0.066, Δel=0.301, Δr=-0.361\n",
      "input_image_path is: temp_ref/eye_in_hand_rgb.png\n"
     ]
    },
    {
     "name": "stderr",
     "output_type": "stream",
     "text": [
      "100%|██████████| 50/50 [00:08<00:00,  5.91it/s]\n",
      "100%|██████████| 5/5 [00:00<00:00,  6.08it/s]\n"
     ]
    },
    {
     "name": "stdout",
     "output_type": "stream",
     "text": [
      "Saving output images.....\n",
      "Processing point 95: Δaz=-0.067, Δel=0.197, Δr=-0.366\n",
      "input_image_path is: temp_ref/eye_in_hand_rgb.png\n"
     ]
    },
    {
     "name": "stderr",
     "output_type": "stream",
     "text": [
      "100%|██████████| 50/50 [00:08<00:00,  5.92it/s]\n",
      "100%|██████████| 5/5 [00:00<00:00,  6.08it/s]\n"
     ]
    },
    {
     "name": "stdout",
     "output_type": "stream",
     "text": [
      "Saving output images.....\n",
      "Processing point 96: Δaz=-0.173, Δel=0.303, Δr=-0.372\n",
      "input_image_path is: temp_ref/eye_in_hand_rgb.png\n"
     ]
    },
    {
     "name": "stderr",
     "output_type": "stream",
     "text": [
      "100%|██████████| 50/50 [00:08<00:00,  5.91it/s]\n",
      "100%|██████████| 5/5 [00:00<00:00,  6.07it/s]\n"
     ]
    },
    {
     "name": "stdout",
     "output_type": "stream",
     "text": [
      "Saving output images.....\n",
      "Processing point 97: Δaz=-0.173, Δel=0.304, Δr=-0.376\n",
      "input_image_path is: temp_ref/eye_in_hand_rgb.png\n"
     ]
    },
    {
     "name": "stderr",
     "output_type": "stream",
     "text": [
      "100%|██████████| 50/50 [00:08<00:00,  5.91it/s]\n",
      "100%|██████████| 5/5 [00:00<00:00,  6.08it/s]\n"
     ]
    },
    {
     "name": "stdout",
     "output_type": "stream",
     "text": [
      "Saving output images.....\n",
      "Processing point 98: Δaz=-0.069, Δel=0.202, Δr=-0.383\n",
      "input_image_path is: temp_ref/eye_in_hand_rgb.png\n"
     ]
    },
    {
     "name": "stderr",
     "output_type": "stream",
     "text": [
      "100%|██████████| 50/50 [00:08<00:00,  5.91it/s]\n",
      "100%|██████████| 5/5 [00:00<00:00,  6.09it/s]\n"
     ]
    },
    {
     "name": "stdout",
     "output_type": "stream",
     "text": [
      "Saving output images.....\n",
      "Processing point 99: Δaz=-0.174, Δel=0.306, Δr=-0.387\n",
      "input_image_path is: temp_ref/eye_in_hand_rgb.png\n"
     ]
    },
    {
     "name": "stderr",
     "output_type": "stream",
     "text": [
      "100%|██████████| 50/50 [00:08<00:00,  5.93it/s]\n",
      "100%|██████████| 5/5 [00:00<00:00,  6.09it/s]\n"
     ]
    },
    {
     "name": "stdout",
     "output_type": "stream",
     "text": [
      "Saving output images.....\n",
      "Processing point 100: Δaz=-0.174, Δel=0.204, Δr=-0.392\n",
      "input_image_path is: temp_ref/eye_in_hand_rgb.png\n"
     ]
    },
    {
     "name": "stderr",
     "output_type": "stream",
     "text": [
      "100%|██████████| 50/50 [00:08<00:00,  5.93it/s]\n",
      "100%|██████████| 5/5 [00:00<00:00,  6.10it/s]\n"
     ]
    },
    {
     "name": "stdout",
     "output_type": "stream",
     "text": [
      "Saving output images.....\n",
      "Processing point 101: Δaz=-0.073, Δel=0.205, Δr=-0.396\n",
      "input_image_path is: temp_ref/eye_in_hand_rgb.png\n"
     ]
    },
    {
     "name": "stderr",
     "output_type": "stream",
     "text": [
      "100%|██████████| 50/50 [00:08<00:00,  5.92it/s]\n",
      "100%|██████████| 5/5 [00:00<00:00,  6.09it/s]\n"
     ]
    },
    {
     "name": "stdout",
     "output_type": "stream",
     "text": [
      "Saving output images.....\n",
      "Processing point 102: Δaz=-0.176, Δel=0.308, Δr=-0.401\n",
      "input_image_path is: temp_ref/eye_in_hand_rgb.png\n"
     ]
    },
    {
     "name": "stderr",
     "output_type": "stream",
     "text": [
      "100%|██████████| 50/50 [00:08<00:00,  5.93it/s]\n",
      "100%|██████████| 5/5 [00:00<00:00,  6.09it/s]\n"
     ]
    },
    {
     "name": "stdout",
     "output_type": "stream",
     "text": [
      "Saving output images.....\n",
      "Processing point 103: Δaz=-0.176, Δel=0.308, Δr=-0.406\n",
      "input_image_path is: temp_ref/eye_in_hand_rgb.png\n"
     ]
    },
    {
     "name": "stderr",
     "output_type": "stream",
     "text": [
      "100%|██████████| 50/50 [00:08<00:00,  5.93it/s]\n",
      "100%|██████████| 5/5 [00:00<00:00,  6.09it/s]\n"
     ]
    },
    {
     "name": "stdout",
     "output_type": "stream",
     "text": [
      "Saving output images.....\n",
      "Processing point 104: Δaz=-0.176, Δel=0.206, Δr=-0.410\n",
      "input_image_path is: temp_ref/eye_in_hand_rgb.png\n"
     ]
    },
    {
     "name": "stderr",
     "output_type": "stream",
     "text": [
      "100%|██████████| 50/50 [00:08<00:00,  5.92it/s]\n",
      "100%|██████████| 5/5 [00:00<00:00,  6.09it/s]\n"
     ]
    },
    {
     "name": "stdout",
     "output_type": "stream",
     "text": [
      "Saving output images.....\n",
      "Processing point 105: Δaz=-0.176, Δel=0.205, Δr=-0.415\n",
      "input_image_path is: temp_ref/eye_in_hand_rgb.png\n"
     ]
    },
    {
     "name": "stderr",
     "output_type": "stream",
     "text": [
      "100%|██████████| 50/50 [00:08<00:00,  5.92it/s]\n",
      "100%|██████████| 5/5 [00:00<00:00,  6.10it/s]\n"
     ]
    },
    {
     "name": "stdout",
     "output_type": "stream",
     "text": [
      "Saving output images.....\n",
      "Processing point 106: Δaz=-0.076, Δel=0.302, Δr=-0.419\n",
      "input_image_path is: temp_ref/eye_in_hand_rgb.png\n"
     ]
    },
    {
     "name": "stderr",
     "output_type": "stream",
     "text": [
      "100%|██████████| 50/50 [00:08<00:00,  5.92it/s]\n",
      "100%|██████████| 5/5 [00:00<00:00,  6.10it/s]\n"
     ]
    },
    {
     "name": "stdout",
     "output_type": "stream",
     "text": [
      "Saving output images.....\n",
      "Processing point 107: Δaz=-0.176, Δel=0.200, Δr=-0.423\n",
      "input_image_path is: temp_ref/eye_in_hand_rgb.png\n"
     ]
    },
    {
     "name": "stderr",
     "output_type": "stream",
     "text": [
      "100%|██████████| 50/50 [00:08<00:00,  5.92it/s]\n",
      "100%|██████████| 5/5 [00:00<00:00,  6.05it/s]\n"
     ]
    },
    {
     "name": "stdout",
     "output_type": "stream",
     "text": [
      "Saving output images.....\n",
      "Processing point 108: Δaz=-0.176, Δel=0.296, Δr=-0.428\n",
      "input_image_path is: temp_ref/eye_in_hand_rgb.png\n"
     ]
    },
    {
     "name": "stderr",
     "output_type": "stream",
     "text": [
      "100%|██████████| 50/50 [00:08<00:00,  5.91it/s]\n",
      "100%|██████████| 5/5 [00:00<00:00,  6.10it/s]\n"
     ]
    },
    {
     "name": "stdout",
     "output_type": "stream",
     "text": [
      "Saving output images.....\n",
      "Processing point 109: Δaz=-0.079, Δel=0.197, Δr=-0.434\n",
      "input_image_path is: temp_ref/eye_in_hand_rgb.png\n"
     ]
    },
    {
     "name": "stderr",
     "output_type": "stream",
     "text": [
      "100%|██████████| 50/50 [00:08<00:00,  5.93it/s]\n",
      "100%|██████████| 5/5 [00:00<00:00,  6.11it/s]\n"
     ]
    },
    {
     "name": "stdout",
     "output_type": "stream",
     "text": [
      "Saving output images.....\n",
      "Processing point 110: Δaz=-0.080, Δel=0.293, Δr=-0.439\n",
      "input_image_path is: temp_ref/eye_in_hand_rgb.png\n"
     ]
    },
    {
     "name": "stderr",
     "output_type": "stream",
     "text": [
      "100%|██████████| 50/50 [00:08<00:00,  5.93it/s]\n",
      "100%|██████████| 5/5 [00:00<00:00,  6.10it/s]\n"
     ]
    },
    {
     "name": "stdout",
     "output_type": "stream",
     "text": [
      "Saving output images.....\n",
      "Processing point 111: Δaz=-0.081, Δel=0.195, Δr=-0.444\n",
      "input_image_path is: temp_ref/eye_in_hand_rgb.png\n"
     ]
    },
    {
     "name": "stderr",
     "output_type": "stream",
     "text": [
      "100%|██████████| 50/50 [00:08<00:00,  5.93it/s]\n",
      "100%|██████████| 5/5 [00:00<00:00,  6.10it/s]\n"
     ]
    },
    {
     "name": "stdout",
     "output_type": "stream",
     "text": [
      "Saving output images.....\n",
      "Processing point 112: Δaz=-0.179, Δel=0.292, Δr=-0.449\n",
      "input_image_path is: temp_ref/eye_in_hand_rgb.png\n"
     ]
    },
    {
     "name": "stderr",
     "output_type": "stream",
     "text": [
      "100%|██████████| 50/50 [00:08<00:00,  5.93it/s]\n",
      "100%|██████████| 5/5 [00:00<00:00,  6.11it/s]\n"
     ]
    },
    {
     "name": "stdout",
     "output_type": "stream",
     "text": [
      "Saving output images.....\n",
      "Processing point 113: Δaz=-0.084, Δel=0.196, Δr=-0.454\n",
      "input_image_path is: temp_ref/eye_in_hand_rgb.png\n"
     ]
    },
    {
     "name": "stderr",
     "output_type": "stream",
     "text": [
      "100%|██████████| 50/50 [00:08<00:00,  5.93it/s]\n",
      "100%|██████████| 5/5 [00:00<00:00,  6.10it/s]\n"
     ]
    },
    {
     "name": "stdout",
     "output_type": "stream",
     "text": [
      "Saving output images.....\n",
      "Processing point 114: Δaz=-0.085, Δel=0.196, Δr=-0.458\n",
      "input_image_path is: temp_ref/eye_in_hand_rgb.png\n"
     ]
    },
    {
     "name": "stderr",
     "output_type": "stream",
     "text": [
      "100%|██████████| 50/50 [00:08<00:00,  5.93it/s]\n",
      "100%|██████████| 5/5 [00:00<00:00,  6.11it/s]\n"
     ]
    },
    {
     "name": "stdout",
     "output_type": "stream",
     "text": [
      "Saving output images.....\n",
      "Processing point 115: Δaz=-0.180, Δel=0.292, Δr=-0.463\n",
      "input_image_path is: temp_ref/eye_in_hand_rgb.png\n"
     ]
    },
    {
     "name": "stderr",
     "output_type": "stream",
     "text": [
      "100%|██████████| 50/50 [00:08<00:00,  5.92it/s]\n",
      "100%|██████████| 5/5 [00:00<00:00,  6.10it/s]\n"
     ]
    },
    {
     "name": "stdout",
     "output_type": "stream",
     "text": [
      "Saving output images.....\n",
      "Processing point 116: Δaz=-0.180, Δel=0.292, Δr=-0.468\n",
      "input_image_path is: temp_ref/eye_in_hand_rgb.png\n"
     ]
    },
    {
     "name": "stderr",
     "output_type": "stream",
     "text": [
      "100%|██████████| 50/50 [00:08<00:00,  5.92it/s]\n",
      "100%|██████████| 5/5 [00:00<00:00,  6.10it/s]\n"
     ]
    },
    {
     "name": "stdout",
     "output_type": "stream",
     "text": [
      "Saving output images.....\n",
      "Processing point 117: Δaz=-0.180, Δel=0.291, Δr=-0.472\n",
      "input_image_path is: temp_ref/eye_in_hand_rgb.png\n"
     ]
    },
    {
     "name": "stderr",
     "output_type": "stream",
     "text": [
      "100%|██████████| 50/50 [00:08<00:00,  5.92it/s]\n",
      "100%|██████████| 5/5 [00:00<00:00,  6.04it/s]\n"
     ]
    },
    {
     "name": "stdout",
     "output_type": "stream",
     "text": [
      "Saving output images.....\n",
      "Processing point 118: Δaz=-0.180, Δel=0.286, Δr=-0.476\n",
      "input_image_path is: temp_ref/eye_in_hand_rgb.png\n"
     ]
    },
    {
     "name": "stderr",
     "output_type": "stream",
     "text": [
      "100%|██████████| 50/50 [00:08<00:00,  5.93it/s]\n",
      "100%|██████████| 5/5 [00:00<00:00,  6.11it/s]\n"
     ]
    },
    {
     "name": "stdout",
     "output_type": "stream",
     "text": [
      "Saving output images.....\n",
      "Processing point 119: Δaz=-0.179, Δel=0.283, Δr=-0.481\n",
      "input_image_path is: temp_ref/eye_in_hand_rgb.png\n"
     ]
    },
    {
     "name": "stderr",
     "output_type": "stream",
     "text": [
      "100%|██████████| 50/50 [00:08<00:00,  5.93it/s]\n",
      "100%|██████████| 5/5 [00:00<00:00,  6.10it/s]\n"
     ]
    },
    {
     "name": "stdout",
     "output_type": "stream",
     "text": [
      "Saving output images.....\n",
      "Processing point 120: Δaz=-0.180, Δel=0.186, Δr=-0.484\n",
      "input_image_path is: temp_ref/eye_in_hand_rgb.png\n"
     ]
    },
    {
     "name": "stderr",
     "output_type": "stream",
     "text": [
      "100%|██████████| 50/50 [00:08<00:00,  5.92it/s]\n",
      "100%|██████████| 5/5 [00:00<00:00,  6.10it/s]\n"
     ]
    },
    {
     "name": "stdout",
     "output_type": "stream",
     "text": [
      "Saving output images.....\n",
      "Processing point 121: Δaz=-0.090, Δel=0.185, Δr=-0.488\n",
      "input_image_path is: temp_ref/eye_in_hand_rgb.png\n"
     ]
    },
    {
     "name": "stderr",
     "output_type": "stream",
     "text": [
      "100%|██████████| 50/50 [00:08<00:00,  5.92it/s]\n",
      "100%|██████████| 5/5 [00:00<00:00,  6.09it/s]\n"
     ]
    },
    {
     "name": "stdout",
     "output_type": "stream",
     "text": [
      "Saving output images.....\n",
      "Processing point 122: Δaz=-0.091, Δel=0.276, Δr=-0.493\n",
      "input_image_path is: temp_ref/eye_in_hand_rgb.png\n"
     ]
    },
    {
     "name": "stderr",
     "output_type": "stream",
     "text": [
      "100%|██████████| 50/50 [00:08<00:00,  5.93it/s]\n",
      "100%|██████████| 5/5 [00:00<00:00,  6.11it/s]\n"
     ]
    },
    {
     "name": "stdout",
     "output_type": "stream",
     "text": [
      "Saving output images.....\n",
      "Processing point 123: Δaz=-0.183, Δel=0.182, Δr=-0.496\n",
      "input_image_path is: temp_ref/eye_in_hand_rgb.png\n"
     ]
    },
    {
     "name": "stderr",
     "output_type": "stream",
     "text": [
      "100%|██████████| 50/50 [00:08<00:00,  5.92it/s]\n",
      "100%|██████████| 5/5 [00:00<00:00,  6.09it/s]\n"
     ]
    },
    {
     "name": "stdout",
     "output_type": "stream",
     "text": [
      "Saving output images.....\n",
      "Processing point 124: Δaz=-0.184, Δel=0.180, Δr=-0.500\n",
      "input_image_path is: temp_ref/eye_in_hand_rgb.png\n"
     ]
    },
    {
     "name": "stderr",
     "output_type": "stream",
     "text": [
      "100%|██████████| 50/50 [00:08<00:00,  5.92it/s]\n",
      "100%|██████████| 5/5 [00:00<00:00,  6.09it/s]\n"
     ]
    },
    {
     "name": "stdout",
     "output_type": "stream",
     "text": [
      "Saving output images.....\n",
      "Processing point 125: Δaz=-0.094, Δel=0.268, Δr=-0.503\n",
      "input_image_path is: temp_ref/eye_in_hand_rgb.png\n"
     ]
    },
    {
     "name": "stderr",
     "output_type": "stream",
     "text": [
      "100%|██████████| 50/50 [00:08<00:00,  5.92it/s]\n",
      "100%|██████████| 5/5 [00:00<00:00,  6.10it/s]\n"
     ]
    },
    {
     "name": "stdout",
     "output_type": "stream",
     "text": [
      "Saving output images.....\n",
      "Processing point 126: Δaz=-0.185, Δel=0.173, Δr=-0.506\n",
      "input_image_path is: temp_ref/eye_in_hand_rgb.png\n"
     ]
    },
    {
     "name": "stderr",
     "output_type": "stream",
     "text": [
      "100%|██████████| 50/50 [00:08<00:00,  5.92it/s]\n",
      "100%|██████████| 5/5 [00:00<00:00,  6.09it/s]\n"
     ]
    },
    {
     "name": "stdout",
     "output_type": "stream",
     "text": [
      "Saving output images.....\n",
      "Processing point 127: Δaz=-0.184, Δel=0.258, Δr=-0.509\n",
      "input_image_path is: temp_ref/eye_in_hand_rgb.png\n"
     ]
    },
    {
     "name": "stderr",
     "output_type": "stream",
     "text": [
      "100%|██████████| 50/50 [00:08<00:00,  5.92it/s]\n",
      "100%|██████████| 5/5 [00:00<00:00,  6.09it/s]\n"
     ]
    },
    {
     "name": "stdout",
     "output_type": "stream",
     "text": [
      "Saving output images.....\n",
      "Processing point 128: Δaz=-0.095, Δel=0.252, Δr=-0.512\n",
      "input_image_path is: temp_ref/eye_in_hand_rgb.png\n"
     ]
    },
    {
     "name": "stderr",
     "output_type": "stream",
     "text": [
      "100%|██████████| 50/50 [00:08<00:00,  5.92it/s]\n",
      "100%|██████████| 5/5 [00:00<00:00,  6.11it/s]\n"
     ]
    },
    {
     "name": "stdout",
     "output_type": "stream",
     "text": [
      "Saving output images.....\n",
      "Processing point 129: Δaz=-0.184, Δel=0.158, Δr=-0.515\n",
      "input_image_path is: temp_ref/eye_in_hand_rgb.png\n"
     ]
    },
    {
     "name": "stderr",
     "output_type": "stream",
     "text": [
      "100%|██████████| 50/50 [00:08<00:00,  5.92it/s]\n",
      "100%|██████████| 5/5 [00:00<00:00,  6.10it/s]\n"
     ]
    },
    {
     "name": "stdout",
     "output_type": "stream",
     "text": [
      "Saving output images.....\n",
      "Processing point 130: Δaz=-0.097, Δel=0.240, Δr=-0.517\n",
      "input_image_path is: temp_ref/eye_in_hand_rgb.png\n"
     ]
    },
    {
     "name": "stderr",
     "output_type": "stream",
     "text": [
      "100%|██████████| 50/50 [00:08<00:00,  5.92it/s]\n",
      "100%|██████████| 5/5 [00:00<00:00,  6.09it/s]\n"
     ]
    },
    {
     "name": "stdout",
     "output_type": "stream",
     "text": [
      "Saving output images.....\n",
      "Processing point 131: Δaz=-0.098, Δel=0.235, Δr=-0.520\n",
      "input_image_path is: temp_ref/eye_in_hand_rgb.png\n"
     ]
    },
    {
     "name": "stderr",
     "output_type": "stream",
     "text": [
      "100%|██████████| 50/50 [00:08<00:00,  5.92it/s]\n",
      "100%|██████████| 5/5 [00:00<00:00,  6.09it/s]\n"
     ]
    },
    {
     "name": "stdout",
     "output_type": "stream",
     "text": [
      "Saving output images.....\n",
      "Processing point 132: Δaz=-0.099, Δel=0.229, Δr=-0.523\n",
      "input_image_path is: temp_ref/eye_in_hand_rgb.png\n"
     ]
    },
    {
     "name": "stderr",
     "output_type": "stream",
     "text": [
      "100%|██████████| 50/50 [00:08<00:00,  5.92it/s]\n",
      "100%|██████████| 5/5 [00:00<00:00,  6.11it/s]\n"
     ]
    },
    {
     "name": "stdout",
     "output_type": "stream",
     "text": [
      "Saving output images.....\n",
      "Processing point 133: Δaz=-0.100, Δel=0.225, Δr=-0.525\n",
      "input_image_path is: temp_ref/eye_in_hand_rgb.png\n"
     ]
    },
    {
     "name": "stderr",
     "output_type": "stream",
     "text": [
      "100%|██████████| 50/50 [00:08<00:00,  5.92it/s]\n",
      "100%|██████████| 5/5 [00:00<00:00,  6.10it/s]\n"
     ]
    },
    {
     "name": "stdout",
     "output_type": "stream",
     "text": [
      "Saving output images.....\n",
      "Processing point 134: Δaz=-0.101, Δel=0.222, Δr=-0.527\n",
      "input_image_path is: temp_ref/eye_in_hand_rgb.png\n"
     ]
    },
    {
     "name": "stderr",
     "output_type": "stream",
     "text": [
      "100%|██████████| 50/50 [00:08<00:00,  5.92it/s]\n",
      "100%|██████████| 5/5 [00:00<00:00,  6.11it/s]\n"
     ]
    },
    {
     "name": "stdout",
     "output_type": "stream",
     "text": [
      "Saving output images.....\n",
      "Processing point 135: Δaz=-0.102, Δel=0.135, Δr=-0.530\n",
      "input_image_path is: temp_ref/eye_in_hand_rgb.png\n"
     ]
    },
    {
     "name": "stderr",
     "output_type": "stream",
     "text": [
      "100%|██████████| 50/50 [00:08<00:00,  5.93it/s]\n",
      "100%|██████████| 5/5 [00:00<00:00,  6.07it/s]\n"
     ]
    },
    {
     "name": "stdout",
     "output_type": "stream",
     "text": [
      "Saving output images.....\n",
      "Processing point 136: Δaz=-0.103, Δel=0.219, Δr=-0.532\n",
      "input_image_path is: temp_ref/eye_in_hand_rgb.png\n"
     ]
    },
    {
     "name": "stderr",
     "output_type": "stream",
     "text": [
      "100%|██████████| 50/50 [00:08<00:00,  5.92it/s]\n",
      "100%|██████████| 5/5 [00:00<00:00,  6.10it/s]\n"
     ]
    },
    {
     "name": "stdout",
     "output_type": "stream",
     "text": [
      "Saving output images.....\n",
      "Processing point 137: Δaz=-0.188, Δel=0.135, Δr=-0.535\n",
      "input_image_path is: temp_ref/eye_in_hand_rgb.png\n"
     ]
    },
    {
     "name": "stderr",
     "output_type": "stream",
     "text": [
      "100%|██████████| 50/50 [00:08<00:00,  5.92it/s]\n",
      "100%|██████████| 5/5 [00:00<00:00,  6.10it/s]\n"
     ]
    },
    {
     "name": "stdout",
     "output_type": "stream",
     "text": [
      "Saving output images.....\n",
      "Processing point 138: Δaz=-0.105, Δel=0.137, Δr=-0.537\n",
      "input_image_path is: temp_ref/eye_in_hand_rgb.png\n"
     ]
    },
    {
     "name": "stderr",
     "output_type": "stream",
     "text": [
      "100%|██████████| 50/50 [00:08<00:00,  5.93it/s]\n",
      "100%|██████████| 5/5 [00:00<00:00,  6.09it/s]\n"
     ]
    },
    {
     "name": "stdout",
     "output_type": "stream",
     "text": [
      "Saving output images.....\n",
      "Processing point 139: Δaz=-0.189, Δel=0.137, Δr=-0.540\n",
      "input_image_path is: temp_ref/eye_in_hand_rgb.png\n"
     ]
    },
    {
     "name": "stderr",
     "output_type": "stream",
     "text": [
      "100%|██████████| 50/50 [00:08<00:00,  5.93it/s]\n",
      "100%|██████████| 5/5 [00:00<00:00,  6.11it/s]\n"
     ]
    },
    {
     "name": "stdout",
     "output_type": "stream",
     "text": [
      "Saving output images.....\n",
      "Processing point 140: Δaz=-0.107, Δel=0.222, Δr=-0.542\n",
      "input_image_path is: temp_ref/eye_in_hand_rgb.png\n"
     ]
    },
    {
     "name": "stderr",
     "output_type": "stream",
     "text": [
      "100%|██████████| 50/50 [00:08<00:00,  5.92it/s]\n",
      "100%|██████████| 5/5 [00:00<00:00,  6.06it/s]\n"
     ]
    },
    {
     "name": "stdout",
     "output_type": "stream",
     "text": [
      "Saving output images.....\n",
      "Processing point 141: Δaz=-0.191, Δel=0.142, Δr=-0.544\n",
      "input_image_path is: temp_ref/eye_in_hand_rgb.png\n"
     ]
    },
    {
     "name": "stderr",
     "output_type": "stream",
     "text": [
      "100%|██████████| 50/50 [00:08<00:00,  5.92it/s]\n",
      "100%|██████████| 5/5 [00:00<00:00,  6.06it/s]\n"
     ]
    },
    {
     "name": "stdout",
     "output_type": "stream",
     "text": [
      "Saving output images.....\n",
      "Processing point 142: Δaz=-0.191, Δel=0.227, Δr=-0.546\n",
      "input_image_path is: temp_ref/eye_in_hand_rgb.png\n"
     ]
    },
    {
     "name": "stderr",
     "output_type": "stream",
     "text": [
      "100%|██████████| 50/50 [00:08<00:00,  5.92it/s]\n",
      "100%|██████████| 5/5 [00:00<00:00,  6.08it/s]\n"
     ]
    },
    {
     "name": "stdout",
     "output_type": "stream",
     "text": [
      "Saving output images.....\n",
      "Processing point 143: Δaz=-0.110, Δel=0.148, Δr=-0.548\n",
      "input_image_path is: temp_ref/eye_in_hand_rgb.png\n"
     ]
    },
    {
     "name": "stderr",
     "output_type": "stream",
     "text": [
      "100%|██████████| 50/50 [00:08<00:00,  5.92it/s]\n",
      "100%|██████████| 5/5 [00:00<00:00,  6.06it/s]\n"
     ]
    },
    {
     "name": "stdout",
     "output_type": "stream",
     "text": [
      "Saving output images.....\n",
      "Processing point 144: Δaz=-0.111, Δel=0.155, Δr=-0.551\n",
      "input_image_path is: temp_ref/eye_in_hand_rgb.png\n"
     ]
    },
    {
     "name": "stderr",
     "output_type": "stream",
     "text": [
      "100%|██████████| 50/50 [00:08<00:00,  5.91it/s]\n",
      "100%|██████████| 5/5 [00:00<00:00,  6.07it/s]\n"
     ]
    },
    {
     "name": "stdout",
     "output_type": "stream",
     "text": [
      "Saving output images.....\n",
      "Processing point 145: Δaz=-0.194, Δel=0.164, Δr=-0.554\n",
      "input_image_path is: temp_ref/eye_in_hand_rgb.png\n"
     ]
    },
    {
     "name": "stderr",
     "output_type": "stream",
     "text": [
      "100%|██████████| 50/50 [00:08<00:00,  5.91it/s]\n",
      "100%|██████████| 5/5 [00:00<00:00,  6.07it/s]\n"
     ]
    },
    {
     "name": "stdout",
     "output_type": "stream",
     "text": [
      "Saving output images.....\n",
      "Processing point 146: Δaz=-0.114, Δel=0.251, Δr=-0.556\n",
      "input_image_path is: temp_ref/eye_in_hand_rgb.png\n"
     ]
    },
    {
     "name": "stderr",
     "output_type": "stream",
     "text": [
      "100%|██████████| 50/50 [00:08<00:00,  5.92it/s]\n",
      "100%|██████████| 5/5 [00:00<00:00,  6.07it/s]\n"
     ]
    },
    {
     "name": "stdout",
     "output_type": "stream",
     "text": [
      "Saving output images.....\n",
      "Processing point 147: Δaz=-0.116, Δel=0.180, Δr=-0.559\n",
      "input_image_path is: temp_ref/eye_in_hand_rgb.png\n"
     ]
    },
    {
     "name": "stderr",
     "output_type": "stream",
     "text": [
      "100%|██████████| 50/50 [00:08<00:00,  5.92it/s]\n",
      "100%|██████████| 5/5 [00:00<00:00,  6.06it/s]\n"
     ]
    },
    {
     "name": "stdout",
     "output_type": "stream",
     "text": [
      "Saving output images.....\n",
      "Processing point 148: Δaz=-0.117, Δel=0.189, Δr=-0.561\n",
      "input_image_path is: temp_ref/eye_in_hand_rgb.png\n"
     ]
    },
    {
     "name": "stderr",
     "output_type": "stream",
     "text": [
      "100%|██████████| 50/50 [00:08<00:00,  5.92it/s]\n",
      "100%|██████████| 5/5 [00:00<00:00,  6.07it/s]\n"
     ]
    },
    {
     "name": "stdout",
     "output_type": "stream",
     "text": [
      "Saving output images.....\n",
      "Processing point 149: Δaz=-0.118, Δel=0.194, Δr=-0.563\n",
      "input_image_path is: temp_ref/eye_in_hand_rgb.png\n"
     ]
    },
    {
     "name": "stderr",
     "output_type": "stream",
     "text": [
      "100%|██████████| 50/50 [00:08<00:00,  5.92it/s]\n",
      "100%|██████████| 5/5 [00:00<00:00,  6.07it/s]\n"
     ]
    },
    {
     "name": "stdout",
     "output_type": "stream",
     "text": [
      "Saving output images.....\n",
      "Processing point 150: Δaz=-0.197, Δel=0.278, Δr=-0.565\n",
      "input_image_path is: temp_ref/eye_in_hand_rgb.png\n"
     ]
    },
    {
     "name": "stderr",
     "output_type": "stream",
     "text": [
      "100%|██████████| 50/50 [00:08<00:00,  5.91it/s]\n",
      "100%|██████████| 5/5 [00:00<00:00,  6.07it/s]\n"
     ]
    },
    {
     "name": "stdout",
     "output_type": "stream",
     "text": [
      "Saving output images.....\n",
      "Processing point 151: Δaz=-0.120, Δel=0.203, Δr=-0.567\n",
      "input_image_path is: temp_ref/eye_in_hand_rgb.png\n"
     ]
    },
    {
     "name": "stderr",
     "output_type": "stream",
     "text": [
      "100%|██████████| 50/50 [00:08<00:00,  5.92it/s]\n",
      "100%|██████████| 5/5 [00:00<00:00,  6.10it/s]\n"
     ]
    },
    {
     "name": "stdout",
     "output_type": "stream",
     "text": [
      "Saving output images.....\n",
      "Processing point 152: Δaz=-0.199, Δel=0.286, Δr=-0.569\n",
      "input_image_path is: temp_ref/eye_in_hand_rgb.png\n"
     ]
    },
    {
     "name": "stderr",
     "output_type": "stream",
     "text": [
      "100%|██████████| 50/50 [00:08<00:00,  5.92it/s]\n",
      "100%|██████████| 5/5 [00:00<00:00,  6.10it/s]\n"
     ]
    },
    {
     "name": "stdout",
     "output_type": "stream",
     "text": [
      "Saving output images.....\n",
      "Processing point 153: Δaz=-0.123, Δel=0.288, Δr=-0.571\n",
      "input_image_path is: temp_ref/eye_in_hand_rgb.png\n"
     ]
    },
    {
     "name": "stderr",
     "output_type": "stream",
     "text": [
      "100%|██████████| 50/50 [00:08<00:00,  5.92it/s]\n",
      "100%|██████████| 5/5 [00:00<00:00,  6.10it/s]\n"
     ]
    },
    {
     "name": "stdout",
     "output_type": "stream",
     "text": [
      "Saving output images.....\n",
      "Processing point 154: Δaz=-0.201, Δel=0.292, Δr=-0.574\n",
      "input_image_path is: temp_ref/eye_in_hand_rgb.png\n"
     ]
    },
    {
     "name": "stderr",
     "output_type": "stream",
     "text": [
      "100%|██████████| 50/50 [00:08<00:00,  5.92it/s]\n",
      "100%|██████████| 5/5 [00:00<00:00,  6.10it/s]\n"
     ]
    },
    {
     "name": "stdout",
     "output_type": "stream",
     "text": [
      "Saving output images.....\n",
      "Processing point 155: Δaz=-0.127, Δel=0.220, Δr=-0.578\n",
      "input_image_path is: temp_ref/eye_in_hand_rgb.png\n"
     ]
    },
    {
     "name": "stderr",
     "output_type": "stream",
     "text": [
      "100%|██████████| 50/50 [00:08<00:00,  5.92it/s]\n",
      "100%|██████████| 5/5 [00:00<00:00,  6.09it/s]\n"
     ]
    },
    {
     "name": "stdout",
     "output_type": "stream",
     "text": [
      "Saving output images.....\n",
      "Processing point 156: Δaz=-0.129, Δel=0.301, Δr=-0.581\n",
      "input_image_path is: temp_ref/eye_in_hand_rgb.png\n"
     ]
    },
    {
     "name": "stderr",
     "output_type": "stream",
     "text": [
      "100%|██████████| 50/50 [00:08<00:00,  5.92it/s]\n",
      "100%|██████████| 5/5 [00:00<00:00,  6.10it/s]\n"
     ]
    },
    {
     "name": "stdout",
     "output_type": "stream",
     "text": [
      "Saving output images.....\n",
      "Processing point 157: Δaz=-0.207, Δel=0.229, Δr=-0.584\n",
      "input_image_path is: temp_ref/eye_in_hand_rgb.png\n"
     ]
    },
    {
     "name": "stderr",
     "output_type": "stream",
     "text": [
      "100%|██████████| 50/50 [00:08<00:00,  5.93it/s]\n",
      "100%|██████████| 5/5 [00:00<00:00,  6.08it/s]\n"
     ]
    },
    {
     "name": "stdout",
     "output_type": "stream",
     "text": [
      "Saving output images.....\n",
      "Processing point 158: Δaz=-0.133, Δel=0.230, Δr=-0.586\n",
      "input_image_path is: temp_ref/eye_in_hand_rgb.png\n"
     ]
    },
    {
     "name": "stderr",
     "output_type": "stream",
     "text": [
      "100%|██████████| 50/50 [00:08<00:00,  5.92it/s]\n",
      "100%|██████████| 5/5 [00:00<00:00,  6.05it/s]\n"
     ]
    },
    {
     "name": "stdout",
     "output_type": "stream",
     "text": [
      "Saving output images.....\n",
      "Processing point 159: Δaz=-0.135, Δel=0.232, Δr=-0.589\n",
      "input_image_path is: temp_ref/eye_in_hand_rgb.png\n"
     ]
    },
    {
     "name": "stderr",
     "output_type": "stream",
     "text": [
      "100%|██████████| 50/50 [00:08<00:00,  5.91it/s]\n",
      "100%|██████████| 5/5 [00:00<00:00,  6.07it/s]\n"
     ]
    },
    {
     "name": "stdout",
     "output_type": "stream",
     "text": [
      "Saving output images.....\n",
      "Processing point 160: Δaz=-0.137, Δel=0.303, Δr=-0.591\n",
      "input_image_path is: temp_ref/eye_in_hand_rgb.png\n"
     ]
    },
    {
     "name": "stderr",
     "output_type": "stream",
     "text": [
      "100%|██████████| 50/50 [00:08<00:00,  5.92it/s]\n",
      "100%|██████████| 5/5 [00:00<00:00,  6.10it/s]\n"
     ]
    },
    {
     "name": "stdout",
     "output_type": "stream",
     "text": [
      "Saving output images.....\n",
      "Processing point 161: Δaz=-0.211, Δel=0.296, Δr=-0.592\n",
      "input_image_path is: temp_ref/eye_in_hand_rgb.png\n"
     ]
    },
    {
     "name": "stderr",
     "output_type": "stream",
     "text": [
      "100%|██████████| 50/50 [00:08<00:00,  5.92it/s]\n",
      "100%|██████████| 5/5 [00:00<00:00,  6.06it/s]\n"
     ]
    },
    {
     "name": "stdout",
     "output_type": "stream",
     "text": [
      "Saving output images.....\n",
      "Processing point 162: Δaz=-0.138, Δel=0.216, Δr=-0.592\n",
      "input_image_path is: temp_ref/eye_in_hand_rgb.png\n"
     ]
    },
    {
     "name": "stderr",
     "output_type": "stream",
     "text": [
      "100%|██████████| 50/50 [00:08<00:00,  5.92it/s]\n",
      "100%|██████████| 5/5 [00:00<00:00,  6.06it/s]\n"
     ]
    },
    {
     "name": "stdout",
     "output_type": "stream",
     "text": [
      "Saving output images.....\n",
      "Processing point 163: Δaz=-0.138, Δel=0.214, Δr=-0.592\n",
      "input_image_path is: temp_ref/eye_in_hand_rgb.png\n"
     ]
    },
    {
     "name": "stderr",
     "output_type": "stream",
     "text": [
      "100%|██████████| 50/50 [00:08<00:00,  5.92it/s]\n",
      "100%|██████████| 5/5 [00:00<00:00,  6.06it/s]\n"
     ]
    },
    {
     "name": "stdout",
     "output_type": "stream",
     "text": [
      "Saving output images.....\n",
      "Processing point 164: Δaz=-0.138, Δel=0.287, Δr=-0.592\n",
      "input_image_path is: temp_ref/eye_in_hand_rgb.png\n"
     ]
    },
    {
     "name": "stderr",
     "output_type": "stream",
     "text": [
      "100%|██████████| 50/50 [00:08<00:00,  5.91it/s]\n",
      "100%|██████████| 5/5 [00:00<00:00,  6.06it/s]\n"
     ]
    },
    {
     "name": "stdout",
     "output_type": "stream",
     "text": [
      "Saving output images.....\n",
      "Processing point 165: Δaz=-0.209, Δel=0.288, Δr=-0.592\n",
      "input_image_path is: temp_ref/eye_in_hand_rgb.png\n"
     ]
    },
    {
     "name": "stderr",
     "output_type": "stream",
     "text": [
      "100%|██████████| 50/50 [00:08<00:00,  5.91it/s]\n",
      "100%|██████████| 5/5 [00:00<00:00,  6.06it/s]\n"
     ]
    },
    {
     "name": "stdout",
     "output_type": "stream",
     "text": [
      "Saving output images.....\n",
      "Processing point 166: Δaz=-0.135, Δel=0.217, Δr=-0.592\n",
      "input_image_path is: temp_ref/eye_in_hand_rgb.png\n"
     ]
    },
    {
     "name": "stderr",
     "output_type": "stream",
     "text": [
      "100%|██████████| 50/50 [00:08<00:00,  5.91it/s]\n",
      "100%|██████████| 5/5 [00:00<00:00,  6.07it/s]\n"
     ]
    },
    {
     "name": "stdout",
     "output_type": "stream",
     "text": [
      "Saving output images.....\n",
      "Processing point 167: Δaz=-0.134, Δel=0.291, Δr=-0.593\n",
      "input_image_path is: temp_ref/eye_in_hand_rgb.png\n"
     ]
    },
    {
     "name": "stderr",
     "output_type": "stream",
     "text": [
      "100%|██████████| 50/50 [00:08<00:00,  5.92it/s]\n",
      "100%|██████████| 5/5 [00:00<00:00,  6.05it/s]\n"
     ]
    },
    {
     "name": "stdout",
     "output_type": "stream",
     "text": [
      "Saving output images.....\n",
      "Processing point 168: Δaz=-0.134, Δel=0.292, Δr=-0.593\n",
      "input_image_path is: temp_ref/eye_in_hand_rgb.png\n"
     ]
    },
    {
     "name": "stderr",
     "output_type": "stream",
     "text": [
      "100%|██████████| 50/50 [00:08<00:00,  5.91it/s]\n",
      "100%|██████████| 5/5 [00:00<00:00,  6.07it/s]\n"
     ]
    },
    {
     "name": "stdout",
     "output_type": "stream",
     "text": [
      "Saving output images.....\n",
      "Processing point 169: Δaz=-0.205, Δel=0.291, Δr=-0.593\n",
      "input_image_path is: temp_ref/eye_in_hand_rgb.png\n"
     ]
    },
    {
     "name": "stderr",
     "output_type": "stream",
     "text": [
      "100%|██████████| 50/50 [00:08<00:00,  5.91it/s]\n",
      "100%|██████████| 5/5 [00:00<00:00,  6.06it/s]\n"
     ]
    },
    {
     "name": "stdout",
     "output_type": "stream",
     "text": [
      "Saving output images.....\n",
      "Processing point 170: Δaz=-0.134, Δel=0.291, Δr=-0.593\n",
      "input_image_path is: temp_ref/eye_in_hand_rgb.png\n"
     ]
    },
    {
     "name": "stderr",
     "output_type": "stream",
     "text": [
      "100%|██████████| 50/50 [00:08<00:00,  5.91it/s]\n",
      "100%|██████████| 5/5 [00:00<00:00,  6.10it/s]\n"
     ]
    },
    {
     "name": "stdout",
     "output_type": "stream",
     "text": [
      "Saving output images.....\n",
      "Processing point 171: Δaz=-0.204, Δel=0.291, Δr=-0.593\n",
      "input_image_path is: temp_ref/eye_in_hand_rgb.png\n"
     ]
    },
    {
     "name": "stderr",
     "output_type": "stream",
     "text": [
      "100%|██████████| 50/50 [00:08<00:00,  5.92it/s]\n",
      "100%|██████████| 5/5 [00:00<00:00,  6.09it/s]\n"
     ]
    },
    {
     "name": "stdout",
     "output_type": "stream",
     "text": [
      "Saving output images.....\n",
      "Processing point 172: Δaz=-0.133, Δel=0.222, Δr=-0.593\n",
      "input_image_path is: temp_ref/eye_in_hand_rgb.png\n"
     ]
    },
    {
     "name": "stderr",
     "output_type": "stream",
     "text": [
      "100%|██████████| 50/50 [00:08<00:00,  5.92it/s]\n",
      "100%|██████████| 5/5 [00:00<00:00,  6.08it/s]\n"
     ]
    },
    {
     "name": "stdout",
     "output_type": "stream",
     "text": [
      "Saving output images.....\n",
      "Processing point 173: Δaz=-0.133, Δel=0.222, Δr=-0.593\n",
      "input_image_path is: temp_ref/eye_in_hand_rgb.png\n"
     ]
    },
    {
     "name": "stderr",
     "output_type": "stream",
     "text": [
      "100%|██████████| 50/50 [00:08<00:00,  5.93it/s]\n",
      "100%|██████████| 5/5 [00:00<00:00,  6.09it/s]\n"
     ]
    },
    {
     "name": "stdout",
     "output_type": "stream",
     "text": [
      "Saving output images.....\n",
      "Processing point 174: Δaz=-0.132, Δel=0.292, Δr=-0.593\n",
      "input_image_path is: temp_ref/eye_in_hand_rgb.png\n"
     ]
    },
    {
     "name": "stderr",
     "output_type": "stream",
     "text": [
      "100%|██████████| 50/50 [00:08<00:00,  5.92it/s]\n",
      "100%|██████████| 5/5 [00:00<00:00,  6.06it/s]\n"
     ]
    },
    {
     "name": "stdout",
     "output_type": "stream",
     "text": [
      "Saving output images.....\n",
      "Processing point 175: Δaz=-0.132, Δel=0.224, Δr=-0.593\n",
      "input_image_path is: temp_ref/eye_in_hand_rgb.png\n"
     ]
    },
    {
     "name": "stderr",
     "output_type": "stream",
     "text": [
      "100%|██████████| 50/50 [00:08<00:00,  5.91it/s]\n",
      "100%|██████████| 5/5 [00:00<00:00,  6.05it/s]\n"
     ]
    },
    {
     "name": "stdout",
     "output_type": "stream",
     "text": [
      "Saving output images.....\n",
      "Processing point 176: Δaz=-0.204, Δel=0.301, Δr=-0.595\n",
      "input_image_path is: temp_ref/eye_in_hand_rgb.png\n"
     ]
    },
    {
     "name": "stderr",
     "output_type": "stream",
     "text": [
      "100%|██████████| 50/50 [00:08<00:00,  5.91it/s]\n",
      "100%|██████████| 5/5 [00:00<00:00,  6.10it/s]\n"
     ]
    },
    {
     "name": "stdout",
     "output_type": "stream",
     "text": [
      "Saving output images.....\n",
      "Processing point 177: Δaz=-0.209, Δel=0.241, Δr=-0.598\n",
      "input_image_path is: temp_ref/eye_in_hand_rgb.png\n"
     ]
    },
    {
     "name": "stderr",
     "output_type": "stream",
     "text": [
      "100%|██████████| 50/50 [00:08<00:00,  5.93it/s]\n",
      "100%|██████████| 5/5 [00:00<00:00,  6.10it/s]\n"
     ]
    },
    {
     "name": "stdout",
     "output_type": "stream",
     "text": [
      "Saving output images.....\n",
      "Processing point 178: Δaz=-0.145, Δel=0.247, Δr=-0.601\n",
      "input_image_path is: temp_ref/eye_in_hand_rgb.png\n"
     ]
    },
    {
     "name": "stderr",
     "output_type": "stream",
     "text": [
      "100%|██████████| 50/50 [00:08<00:00,  5.93it/s]\n",
      "100%|██████████| 5/5 [00:00<00:00,  6.08it/s]\n"
     ]
    },
    {
     "name": "stdout",
     "output_type": "stream",
     "text": [
      "Saving output images.....\n",
      "Processing point 179: Δaz=-0.219, Δel=0.326, Δr=-0.605\n",
      "input_image_path is: temp_ref/eye_in_hand_rgb.png\n"
     ]
    },
    {
     "name": "stderr",
     "output_type": "stream",
     "text": [
      "100%|██████████| 50/50 [00:08<00:00,  5.93it/s]\n",
      "100%|██████████| 5/5 [00:00<00:00,  6.09it/s]\n"
     ]
    },
    {
     "name": "stdout",
     "output_type": "stream",
     "text": [
      "Saving output images.....\n",
      "Processing point 180: Δaz=-0.228, Δel=0.330, Δr=-0.609\n",
      "input_image_path is: temp_ref/eye_in_hand_rgb.png\n"
     ]
    },
    {
     "name": "stderr",
     "output_type": "stream",
     "text": [
      "100%|██████████| 50/50 [00:08<00:00,  5.92it/s]\n",
      "100%|██████████| 5/5 [00:00<00:00,  6.04it/s]\n"
     ]
    },
    {
     "name": "stdout",
     "output_type": "stream",
     "text": [
      "Saving output images.....\n",
      "Processing point 181: Δaz=-0.168, Δel=0.327, Δr=-0.613\n",
      "input_image_path is: temp_ref/eye_in_hand_rgb.png\n"
     ]
    },
    {
     "name": "stderr",
     "output_type": "stream",
     "text": [
      "100%|██████████| 50/50 [00:08<00:00,  5.91it/s]\n",
      "100%|██████████| 5/5 [00:00<00:00,  6.06it/s]\n"
     ]
    },
    {
     "name": "stdout",
     "output_type": "stream",
     "text": [
      "Saving output images.....\n",
      "Processing point 182: Δaz=-0.167, Δel=0.325, Δr=-0.616\n",
      "input_image_path is: temp_ref/eye_in_hand_rgb.png\n"
     ]
    },
    {
     "name": "stderr",
     "output_type": "stream",
     "text": [
      "100%|██████████| 50/50 [00:08<00:00,  5.92it/s]\n",
      "100%|██████████| 5/5 [00:00<00:00,  6.06it/s]\n"
     ]
    },
    {
     "name": "stdout",
     "output_type": "stream",
     "text": [
      "Saving output images.....\n",
      "Processing point 183: Δaz=-0.179, Δel=0.266, Δr=-0.621\n",
      "input_image_path is: temp_ref/eye_in_hand_rgb.png\n"
     ]
    },
    {
     "name": "stderr",
     "output_type": "stream",
     "text": [
      "100%|██████████| 50/50 [00:08<00:00,  5.91it/s]\n",
      "100%|██████████| 5/5 [00:00<00:00,  6.07it/s]\n"
     ]
    },
    {
     "name": "stdout",
     "output_type": "stream",
     "text": [
      "Saving output images.....\n",
      "Processing point 184: Δaz=-0.186, Δel=0.334, Δr=-0.626\n",
      "input_image_path is: temp_ref/eye_in_hand_rgb.png\n"
     ]
    },
    {
     "name": "stderr",
     "output_type": "stream",
     "text": [
      "100%|██████████| 50/50 [00:08<00:00,  5.91it/s]\n",
      "100%|██████████| 5/5 [00:00<00:00,  6.07it/s]\n"
     ]
    },
    {
     "name": "stdout",
     "output_type": "stream",
     "text": [
      "Saving output images.....\n",
      "Processing point 185: Δaz=-0.250, Δel=0.332, Δr=-0.631\n",
      "input_image_path is: temp_ref/eye_in_hand_rgb.png\n"
     ]
    },
    {
     "name": "stderr",
     "output_type": "stream",
     "text": [
      "100%|██████████| 50/50 [00:08<00:00,  5.91it/s]\n",
      "100%|██████████| 5/5 [00:00<00:00,  6.06it/s]\n"
     ]
    },
    {
     "name": "stdout",
     "output_type": "stream",
     "text": [
      "Saving output images.....\n",
      "Processing point 186: Δaz=-0.191, Δel=0.277, Δr=-0.637\n",
      "input_image_path is: temp_ref/eye_in_hand_rgb.png\n"
     ]
    },
    {
     "name": "stderr",
     "output_type": "stream",
     "text": [
      "100%|██████████| 50/50 [00:08<00:00,  5.92it/s]\n",
      "100%|██████████| 5/5 [00:00<00:00,  6.06it/s]\n"
     ]
    },
    {
     "name": "stdout",
     "output_type": "stream",
     "text": [
      "Saving output images.....\n",
      "Processing point 187: Δaz=-0.262, Δel=0.348, Δr=-0.643\n",
      "input_image_path is: temp_ref/eye_in_hand_rgb.png\n"
     ]
    },
    {
     "name": "stderr",
     "output_type": "stream",
     "text": [
      "100%|██████████| 50/50 [00:08<00:00,  5.91it/s]\n",
      "100%|██████████| 5/5 [00:00<00:00,  6.05it/s]\n"
     ]
    },
    {
     "name": "stdout",
     "output_type": "stream",
     "text": [
      "Saving output images.....\n",
      "Processing point 188: Δaz=-0.268, Δel=0.348, Δr=-0.647\n",
      "input_image_path is: temp_ref/eye_in_hand_rgb.png\n"
     ]
    },
    {
     "name": "stderr",
     "output_type": "stream",
     "text": [
      "100%|██████████| 50/50 [00:08<00:00,  5.91it/s]\n",
      "100%|██████████| 5/5 [00:00<00:00,  6.06it/s]\n"
     ]
    },
    {
     "name": "stdout",
     "output_type": "stream",
     "text": [
      "Saving output images.....\n",
      "Processing point 189: Δaz=-0.222, Δel=0.283, Δr=-0.651\n",
      "input_image_path is: temp_ref/eye_in_hand_rgb.png\n"
     ]
    },
    {
     "name": "stderr",
     "output_type": "stream",
     "text": [
      "100%|██████████| 50/50 [00:08<00:00,  5.91it/s]\n",
      "100%|██████████| 5/5 [00:00<00:00,  6.06it/s]\n"
     ]
    },
    {
     "name": "stdout",
     "output_type": "stream",
     "text": [
      "Saving output images.....\n",
      "Processing point 190: Δaz=-0.238, Δel=0.335, Δr=-0.654\n",
      "input_image_path is: temp_ref/eye_in_hand_rgb.png\n"
     ]
    },
    {
     "name": "stderr",
     "output_type": "stream",
     "text": [
      "100%|██████████| 50/50 [00:08<00:00,  5.91it/s]\n",
      "100%|██████████| 5/5 [00:00<00:00,  6.06it/s]\n"
     ]
    },
    {
     "name": "stdout",
     "output_type": "stream",
     "text": [
      "Saving output images.....\n",
      "Processing point 191: Δaz=-0.245, Δel=0.247, Δr=-0.656\n",
      "input_image_path is: temp_ref/eye_in_hand_rgb.png\n"
     ]
    },
    {
     "name": "stderr",
     "output_type": "stream",
     "text": [
      "100%|██████████| 50/50 [00:08<00:00,  5.91it/s]\n",
      "100%|██████████| 5/5 [00:00<00:00,  6.06it/s]\n"
     ]
    },
    {
     "name": "stdout",
     "output_type": "stream",
     "text": [
      "Saving output images.....\n",
      "Processing point 192: Δaz=-0.246, Δel=0.281, Δr=-0.657\n",
      "input_image_path is: temp_ref/eye_in_hand_rgb.png\n"
     ]
    },
    {
     "name": "stderr",
     "output_type": "stream",
     "text": [
      "100%|██████████| 50/50 [00:08<00:00,  5.91it/s]\n",
      "100%|██████████| 5/5 [00:00<00:00,  6.06it/s]\n"
     ]
    },
    {
     "name": "stdout",
     "output_type": "stream",
     "text": [
      "Saving output images.....\n",
      "Processing point 193: Δaz=-0.249, Δel=0.176, Δr=-0.659\n",
      "input_image_path is: temp_ref/eye_in_hand_rgb.png\n"
     ]
    },
    {
     "name": "stderr",
     "output_type": "stream",
     "text": [
      "100%|██████████| 50/50 [00:08<00:00,  5.91it/s]\n",
      "100%|██████████| 5/5 [00:00<00:00,  6.06it/s]\n"
     ]
    },
    {
     "name": "stdout",
     "output_type": "stream",
     "text": [
      "Saving output images.....\n",
      "Processing point 194: Δaz=-0.248, Δel=0.208, Δr=-0.660\n",
      "input_image_path is: temp_ref/eye_in_hand_rgb.png\n"
     ]
    },
    {
     "name": "stderr",
     "output_type": "stream",
     "text": [
      "100%|██████████| 50/50 [00:08<00:00,  5.91it/s]\n",
      "100%|██████████| 5/5 [00:00<00:00,  6.06it/s]\n"
     ]
    },
    {
     "name": "stdout",
     "output_type": "stream",
     "text": [
      "Saving output images.....\n",
      "Processing point 195: Δaz=-0.310, Δel=0.128, Δr=-0.661\n",
      "input_image_path is: temp_ref/eye_in_hand_rgb.png\n"
     ]
    },
    {
     "name": "stderr",
     "output_type": "stream",
     "text": [
      "100%|██████████| 50/50 [00:08<00:00,  5.91it/s]\n",
      "100%|██████████| 5/5 [00:00<00:00,  6.05it/s]\n"
     ]
    },
    {
     "name": "stdout",
     "output_type": "stream",
     "text": [
      "Saving output images.....\n",
      "Processing point 196: Δaz=-0.309, Δel=0.125, Δr=-0.661\n",
      "input_image_path is: temp_ref/eye_in_hand_rgb.png\n"
     ]
    },
    {
     "name": "stderr",
     "output_type": "stream",
     "text": [
      "100%|██████████| 50/50 [00:08<00:00,  5.91it/s]\n",
      "100%|██████████| 5/5 [00:00<00:00,  6.09it/s]\n"
     ]
    },
    {
     "name": "stdout",
     "output_type": "stream",
     "text": [
      "Saving output images.....\n",
      "Processing point 197: Δaz=-0.309, Δel=0.187, Δr=-0.661\n",
      "input_image_path is: temp_ref/eye_in_hand_rgb.png\n"
     ]
    },
    {
     "name": "stderr",
     "output_type": "stream",
     "text": [
      "100%|██████████| 50/50 [00:08<00:00,  5.92it/s]\n",
      "100%|██████████| 5/5 [00:00<00:00,  6.06it/s]\n"
     ]
    },
    {
     "name": "stdout",
     "output_type": "stream",
     "text": [
      "Saving output images.....\n",
      "Processing point 198: Δaz=-0.308, Δel=0.189, Δr=-0.661\n",
      "input_image_path is: temp_ref/eye_in_hand_rgb.png\n"
     ]
    },
    {
     "name": "stderr",
     "output_type": "stream",
     "text": [
      "100%|██████████| 50/50 [00:08<00:00,  5.91it/s]\n",
      "100%|██████████| 5/5 [00:00<00:00,  6.04it/s]\n"
     ]
    },
    {
     "name": "stdout",
     "output_type": "stream",
     "text": [
      "Saving output images.....\n",
      "Processing point 199: Δaz=-0.297, Δel=0.131, Δr=-0.661\n",
      "input_image_path is: temp_ref/eye_in_hand_rgb.png\n"
     ]
    },
    {
     "name": "stderr",
     "output_type": "stream",
     "text": [
      "100%|██████████| 50/50 [00:08<00:00,  5.91it/s]\n",
      "100%|██████████| 5/5 [00:00<00:00,  6.06it/s]\n"
     ]
    },
    {
     "name": "stdout",
     "output_type": "stream",
     "text": [
      "Saving output images.....\n",
      "Processing point 200: Δaz=-0.283, Δel=0.209, Δr=-0.663\n",
      "input_image_path is: temp_ref/eye_in_hand_rgb.png\n"
     ]
    },
    {
     "name": "stderr",
     "output_type": "stream",
     "text": [
      "100%|██████████| 50/50 [00:08<00:00,  5.91it/s]\n",
      "100%|██████████| 5/5 [00:00<00:00,  6.06it/s]\n"
     ]
    },
    {
     "name": "stdout",
     "output_type": "stream",
     "text": [
      "Saving output images.....\n",
      "Processing point 201: Δaz=-0.270, Δel=0.161, Δr=-0.664\n",
      "input_image_path is: temp_ref/eye_in_hand_rgb.png\n"
     ]
    },
    {
     "name": "stderr",
     "output_type": "stream",
     "text": [
      "100%|██████████| 50/50 [00:08<00:00,  5.92it/s]\n",
      "100%|██████████| 5/5 [00:00<00:00,  6.06it/s]\n"
     ]
    },
    {
     "name": "stdout",
     "output_type": "stream",
     "text": [
      "Saving output images.....\n",
      "Processing point 202: Δaz=-0.263, Δel=0.180, Δr=-0.666\n",
      "input_image_path is: temp_ref/eye_in_hand_rgb.png\n"
     ]
    },
    {
     "name": "stderr",
     "output_type": "stream",
     "text": [
      "100%|██████████| 50/50 [00:08<00:00,  5.92it/s]\n",
      "100%|██████████| 5/5 [00:00<00:00,  6.06it/s]\n"
     ]
    },
    {
     "name": "stdout",
     "output_type": "stream",
     "text": [
      "Saving output images.....\n",
      "Processing point 203: Δaz=-0.255, Δel=0.264, Δr=-0.668\n",
      "input_image_path is: temp_ref/eye_in_hand_rgb.png\n"
     ]
    },
    {
     "name": "stderr",
     "output_type": "stream",
     "text": [
      "100%|██████████| 50/50 [00:08<00:00,  5.92it/s]\n",
      "100%|██████████| 5/5 [00:00<00:00,  6.06it/s]\n"
     ]
    },
    {
     "name": "stdout",
     "output_type": "stream",
     "text": [
      "Saving output images.....\n",
      "Processing point 204: Δaz=-0.241, Δel=0.233, Δr=-0.670\n",
      "input_image_path is: temp_ref/eye_in_hand_rgb.png\n"
     ]
    },
    {
     "name": "stderr",
     "output_type": "stream",
     "text": [
      "100%|██████████| 50/50 [00:08<00:00,  5.91it/s]\n",
      "100%|██████████| 5/5 [00:00<00:00,  6.06it/s]\n"
     ]
    },
    {
     "name": "stdout",
     "output_type": "stream",
     "text": [
      "Saving output images.....\n",
      "Processing point 205: Δaz=-0.244, Δel=0.326, Δr=-0.673\n",
      "input_image_path is: temp_ref/eye_in_hand_rgb.png\n"
     ]
    },
    {
     "name": "stderr",
     "output_type": "stream",
     "text": [
      "100%|██████████| 50/50 [00:08<00:00,  5.91it/s]\n",
      "100%|██████████| 5/5 [00:00<00:00,  6.06it/s]\n"
     ]
    },
    {
     "name": "stdout",
     "output_type": "stream",
     "text": [
      "Saving output images.....\n",
      "Processing point 206: Δaz=-0.192, Δel=0.362, Δr=-0.675\n",
      "input_image_path is: temp_ref/eye_in_hand_rgb.png\n"
     ]
    },
    {
     "name": "stderr",
     "output_type": "stream",
     "text": [
      "100%|██████████| 50/50 [00:08<00:00,  5.91it/s]\n",
      "100%|██████████| 5/5 [00:00<00:00,  6.06it/s]\n"
     ]
    },
    {
     "name": "stdout",
     "output_type": "stream",
     "text": [
      "Saving output images.....\n",
      "Processing point 207: Δaz=-0.257, Δel=0.322, Δr=-0.676\n",
      "input_image_path is: temp_ref/eye_in_hand_rgb.png\n"
     ]
    },
    {
     "name": "stderr",
     "output_type": "stream",
     "text": [
      "100%|██████████| 50/50 [00:08<00:00,  5.91it/s]\n",
      "100%|██████████| 5/5 [00:00<00:00,  6.06it/s]\n"
     ]
    },
    {
     "name": "stdout",
     "output_type": "stream",
     "text": [
      "Saving output images.....\n",
      "Processing point 208: Δaz=-0.206, Δel=0.387, Δr=-0.678\n",
      "input_image_path is: temp_ref/eye_in_hand_rgb.png\n"
     ]
    },
    {
     "name": "stderr",
     "output_type": "stream",
     "text": [
      "100%|██████████| 50/50 [00:08<00:00,  5.91it/s]\n",
      "100%|██████████| 5/5 [00:00<00:00,  6.06it/s]\n"
     ]
    },
    {
     "name": "stdout",
     "output_type": "stream",
     "text": [
      "Saving output images.....\n",
      "Processing point 209: Δaz=-0.213, Δel=0.285, Δr=-0.680\n",
      "input_image_path is: temp_ref/eye_in_hand_rgb.png\n"
     ]
    },
    {
     "name": "stderr",
     "output_type": "stream",
     "text": [
      "100%|██████████| 50/50 [00:08<00:00,  5.91it/s]\n",
      "100%|██████████| 5/5 [00:00<00:00,  6.06it/s]\n"
     ]
    },
    {
     "name": "stdout",
     "output_type": "stream",
     "text": [
      "Saving output images.....\n",
      "Processing point 210: Δaz=-0.260, Δel=0.218, Δr=-0.682\n",
      "input_image_path is: temp_ref/eye_in_hand_rgb.png\n"
     ]
    },
    {
     "name": "stderr",
     "output_type": "stream",
     "text": [
      "100%|██████████| 50/50 [00:08<00:00,  5.91it/s]\n",
      "100%|██████████| 5/5 [00:00<00:00,  6.05it/s]\n"
     ]
    },
    {
     "name": "stdout",
     "output_type": "stream",
     "text": [
      "Saving output images.....\n",
      "Processing point 211: Δaz=-0.210, Δel=0.135, Δr=-0.685\n",
      "input_image_path is: temp_ref/eye_in_hand_rgb.png\n"
     ]
    },
    {
     "name": "stderr",
     "output_type": "stream",
     "text": [
      "100%|██████████| 50/50 [00:08<00:00,  5.91it/s]\n",
      "100%|██████████| 5/5 [00:00<00:00,  6.05it/s]\n"
     ]
    },
    {
     "name": "stdout",
     "output_type": "stream",
     "text": [
      "Saving output images.....\n",
      "Processing point 212: Δaz=-0.292, Δel=0.068, Δr=-0.687\n",
      "input_image_path is: temp_ref/eye_in_hand_rgb.png\n"
     ]
    },
    {
     "name": "stderr",
     "output_type": "stream",
     "text": [
      "100%|██████████| 50/50 [00:08<00:00,  5.91it/s]\n",
      "100%|██████████| 5/5 [00:00<00:00,  6.06it/s]\n"
     ]
    },
    {
     "name": "stdout",
     "output_type": "stream",
     "text": [
      "Saving output images.....\n",
      "Processing point 213: Δaz=-0.264, Δel=0.016, Δr=-0.690\n",
      "input_image_path is: temp_ref/eye_in_hand_rgb.png\n"
     ]
    },
    {
     "name": "stderr",
     "output_type": "stream",
     "text": [
      "100%|██████████| 50/50 [00:08<00:00,  5.92it/s]\n",
      "100%|██████████| 5/5 [00:00<00:00,  6.06it/s]\n"
     ]
    },
    {
     "name": "stdout",
     "output_type": "stream",
     "text": [
      "Saving output images.....\n",
      "Processing point 214: Δaz=-0.341, Δel=-0.014, Δr=-0.691\n",
      "input_image_path is: temp_ref/eye_in_hand_rgb.png\n"
     ]
    },
    {
     "name": "stderr",
     "output_type": "stream",
     "text": [
      "100%|██████████| 50/50 [00:08<00:00,  5.92it/s]\n",
      "100%|██████████| 5/5 [00:00<00:00,  6.06it/s]\n"
     ]
    },
    {
     "name": "stdout",
     "output_type": "stream",
     "text": [
      "Saving output images.....\n",
      "Processing point 215: Δaz=-0.329, Δel=-0.151, Δr=-0.694\n",
      "input_image_path is: temp_ref/eye_in_hand_rgb.png\n"
     ]
    },
    {
     "name": "stderr",
     "output_type": "stream",
     "text": [
      "100%|██████████| 50/50 [00:08<00:00,  5.92it/s]\n",
      "100%|██████████| 5/5 [00:00<00:00,  6.03it/s]\n"
     ]
    },
    {
     "name": "stdout",
     "output_type": "stream",
     "text": [
      "Saving output images.....\n",
      "Processing point 216: Δaz=-0.293, Δel=-0.156, Δr=-0.695\n",
      "input_image_path is: temp_ref/eye_in_hand_rgb.png\n"
     ]
    },
    {
     "name": "stderr",
     "output_type": "stream",
     "text": [
      "100%|██████████| 50/50 [00:08<00:00,  5.92it/s]\n",
      "100%|██████████| 5/5 [00:00<00:00,  6.07it/s]\n"
     ]
    },
    {
     "name": "stdout",
     "output_type": "stream",
     "text": [
      "Saving output images.....\n",
      "Processing point 217: Δaz=-0.312, Δel=-0.198, Δr=-0.697\n",
      "input_image_path is: temp_ref/eye_in_hand_rgb.png\n"
     ]
    },
    {
     "name": "stderr",
     "output_type": "stream",
     "text": [
      "100%|██████████| 50/50 [00:08<00:00,  5.92it/s]\n",
      "100%|██████████| 5/5 [00:00<00:00,  6.07it/s]\n"
     ]
    },
    {
     "name": "stdout",
     "output_type": "stream",
     "text": [
      "Saving output images.....\n",
      "Processing point 218: Δaz=-0.377, Δel=-0.305, Δr=-0.698\n",
      "input_image_path is: temp_ref/eye_in_hand_rgb.png\n"
     ]
    },
    {
     "name": "stderr",
     "output_type": "stream",
     "text": [
      "100%|██████████| 50/50 [00:08<00:00,  5.91it/s]\n",
      "100%|██████████| 5/5 [00:00<00:00,  6.06it/s]\n"
     ]
    },
    {
     "name": "stdout",
     "output_type": "stream",
     "text": [
      "Saving output images.....\n",
      "Processing point 219: Δaz=-0.333, Δel=-0.329, Δr=-0.698\n",
      "input_image_path is: temp_ref/eye_in_hand_rgb.png\n"
     ]
    },
    {
     "name": "stderr",
     "output_type": "stream",
     "text": [
      "100%|██████████| 50/50 [00:08<00:00,  5.92it/s]\n",
      "100%|██████████| 5/5 [00:00<00:00,  6.05it/s]\n"
     ]
    },
    {
     "name": "stdout",
     "output_type": "stream",
     "text": [
      "Saving output images.....\n",
      "Processing point 220: Δaz=-0.345, Δel=-0.296, Δr=-0.699\n",
      "input_image_path is: temp_ref/eye_in_hand_rgb.png\n"
     ]
    },
    {
     "name": "stderr",
     "output_type": "stream",
     "text": [
      "100%|██████████| 50/50 [00:08<00:00,  5.91it/s]\n",
      "100%|██████████| 5/5 [00:00<00:00,  6.06it/s]\n"
     ]
    },
    {
     "name": "stdout",
     "output_type": "stream",
     "text": [
      "Saving output images.....\n",
      "Processing point 221: Δaz=-0.401, Δel=-0.313, Δr=-0.699\n",
      "input_image_path is: temp_ref/eye_in_hand_rgb.png\n"
     ]
    },
    {
     "name": "stderr",
     "output_type": "stream",
     "text": [
      "100%|██████████| 50/50 [00:08<00:00,  5.91it/s]\n",
      "100%|██████████| 5/5 [00:00<00:00,  6.06it/s]\n"
     ]
    },
    {
     "name": "stdout",
     "output_type": "stream",
     "text": [
      "Saving output images.....\n",
      "Processing point 222: Δaz=-0.388, Δel=-0.314, Δr=-0.699\n",
      "input_image_path is: temp_ref/eye_in_hand_rgb.png\n"
     ]
    },
    {
     "name": "stderr",
     "output_type": "stream",
     "text": [
      "100%|██████████| 50/50 [00:08<00:00,  5.92it/s]\n",
      "100%|██████████| 5/5 [00:00<00:00,  6.06it/s]\n"
     ]
    },
    {
     "name": "stdout",
     "output_type": "stream",
     "text": [
      "Saving output images.....\n",
      "Processing point 223: Δaz=-0.324, Δel=-0.314, Δr=-0.699\n",
      "input_image_path is: temp_ref/eye_in_hand_rgb.png\n"
     ]
    },
    {
     "name": "stderr",
     "output_type": "stream",
     "text": [
      "100%|██████████| 50/50 [00:08<00:00,  5.92it/s]\n",
      "100%|██████████| 5/5 [00:00<00:00,  6.06it/s]\n"
     ]
    },
    {
     "name": "stdout",
     "output_type": "stream",
     "text": [
      "Saving output images.....\n",
      "Processing point 224: Δaz=-0.320, Δel=-0.310, Δr=-0.700\n",
      "input_image_path is: temp_ref/eye_in_hand_rgb.png\n"
     ]
    },
    {
     "name": "stderr",
     "output_type": "stream",
     "text": [
      "100%|██████████| 50/50 [00:08<00:00,  5.91it/s]\n",
      "100%|██████████| 5/5 [00:00<00:00,  6.07it/s]\n"
     ]
    },
    {
     "name": "stdout",
     "output_type": "stream",
     "text": [
      "Saving output images.....\n",
      "Processing point 225: Δaz=-0.369, Δel=-0.308, Δr=-0.700\n",
      "input_image_path is: temp_ref/eye_in_hand_rgb.png\n"
     ]
    },
    {
     "name": "stderr",
     "output_type": "stream",
     "text": [
      "100%|██████████| 50/50 [00:08<00:00,  5.91it/s]\n",
      "100%|██████████| 5/5 [00:00<00:00,  6.05it/s]\n"
     ]
    },
    {
     "name": "stdout",
     "output_type": "stream",
     "text": [
      "Saving output images.....\n",
      "Processing point 226: Δaz=-0.363, Δel=-0.355, Δr=-0.701\n",
      "input_image_path is: temp_ref/eye_in_hand_rgb.png\n"
     ]
    },
    {
     "name": "stderr",
     "output_type": "stream",
     "text": [
      "100%|██████████| 50/50 [00:08<00:00,  5.92it/s]\n",
      "100%|██████████| 5/5 [00:00<00:00,  6.06it/s]\n"
     ]
    },
    {
     "name": "stdout",
     "output_type": "stream",
     "text": [
      "Saving output images.....\n",
      "Processing point 227: Δaz=-0.308, Δel=-0.347, Δr=-0.702\n",
      "input_image_path is: temp_ref/eye_in_hand_rgb.png\n"
     ]
    },
    {
     "name": "stderr",
     "output_type": "stream",
     "text": [
      "100%|██████████| 50/50 [00:08<00:00,  5.92it/s]\n",
      "100%|██████████| 5/5 [00:00<00:00,  6.05it/s]\n"
     ]
    },
    {
     "name": "stdout",
     "output_type": "stream",
     "text": [
      "Saving output images.....\n",
      "Processing point 228: Δaz=-0.369, Δel=-0.292, Δr=-0.703\n",
      "input_image_path is: temp_ref/eye_in_hand_rgb.png\n"
     ]
    },
    {
     "name": "stderr",
     "output_type": "stream",
     "text": [
      "100%|██████████| 50/50 [00:08<00:00,  5.91it/s]\n",
      "100%|██████████| 5/5 [00:00<00:00,  6.06it/s]\n"
     ]
    },
    {
     "name": "stdout",
     "output_type": "stream",
     "text": [
      "Saving output images.....\n",
      "Processing point 229: Δaz=-0.332, Δel=-0.290, Δr=-0.704\n",
      "input_image_path is: temp_ref/eye_in_hand_rgb.png\n"
     ]
    },
    {
     "name": "stderr",
     "output_type": "stream",
     "text": [
      "100%|██████████| 50/50 [00:08<00:00,  5.92it/s]\n",
      "100%|██████████| 5/5 [00:00<00:00,  6.05it/s]\n"
     ]
    },
    {
     "name": "stdout",
     "output_type": "stream",
     "text": [
      "Saving output images.....\n",
      "Processing point 230: Δaz=-0.345, Δel=-0.288, Δr=-0.705\n",
      "input_image_path is: temp_ref/eye_in_hand_rgb.png\n"
     ]
    },
    {
     "name": "stderr",
     "output_type": "stream",
     "text": [
      "100%|██████████| 50/50 [00:08<00:00,  5.92it/s]\n",
      "100%|██████████| 5/5 [00:00<00:00,  6.06it/s]\n"
     ]
    },
    {
     "name": "stdout",
     "output_type": "stream",
     "text": [
      "Saving output images.....\n",
      "Processing point 231: Δaz=-0.364, Δel=-0.291, Δr=-0.706\n",
      "input_image_path is: temp_ref/eye_in_hand_rgb.png\n"
     ]
    },
    {
     "name": "stderr",
     "output_type": "stream",
     "text": [
      "100%|██████████| 50/50 [00:08<00:00,  5.91it/s]\n",
      "100%|██████████| 5/5 [00:00<00:00,  6.05it/s]\n"
     ]
    },
    {
     "name": "stdout",
     "output_type": "stream",
     "text": [
      "Saving output images.....\n",
      "Processing point 232: Δaz=-0.393, Δel=-0.345, Δr=-0.707\n",
      "input_image_path is: temp_ref/eye_in_hand_rgb.png\n"
     ]
    },
    {
     "name": "stderr",
     "output_type": "stream",
     "text": [
      "100%|██████████| 50/50 [00:08<00:00,  5.91it/s]\n",
      "100%|██████████| 5/5 [00:00<00:00,  6.06it/s]\n"
     ]
    },
    {
     "name": "stdout",
     "output_type": "stream",
     "text": [
      "Saving output images.....\n",
      "Processing point 233: Δaz=-0.427, Δel=-0.295, Δr=-0.708\n",
      "input_image_path is: temp_ref/eye_in_hand_rgb.png\n"
     ]
    },
    {
     "name": "stderr",
     "output_type": "stream",
     "text": [
      "100%|██████████| 50/50 [00:08<00:00,  5.91it/s]\n",
      "100%|██████████| 5/5 [00:00<00:00,  6.05it/s]\n"
     ]
    },
    {
     "name": "stdout",
     "output_type": "stream",
     "text": [
      "Saving output images.....\n",
      "Processing point 234: Δaz=-0.463, Δel=-0.296, Δr=-0.709\n",
      "input_image_path is: temp_ref/eye_in_hand_rgb.png\n"
     ]
    },
    {
     "name": "stderr",
     "output_type": "stream",
     "text": [
      "100%|██████████| 50/50 [00:08<00:00,  5.91it/s]\n",
      "100%|██████████| 5/5 [00:00<00:00,  6.06it/s]\n"
     ]
    },
    {
     "name": "stdout",
     "output_type": "stream",
     "text": [
      "Saving output images.....\n",
      "Processing point 235: Δaz=-0.498, Δel=-0.296, Δr=-0.709\n",
      "input_image_path is: temp_ref/eye_in_hand_rgb.png\n"
     ]
    },
    {
     "name": "stderr",
     "output_type": "stream",
     "text": [
      "100%|██████████| 50/50 [00:08<00:00,  5.91it/s]\n",
      "100%|██████████| 5/5 [00:00<00:00,  6.05it/s]\n"
     ]
    },
    {
     "name": "stdout",
     "output_type": "stream",
     "text": [
      "Saving output images.....\n",
      "Processing point 236: Δaz=-0.572, Δel=-0.348, Δr=-0.710\n",
      "input_image_path is: temp_ref/eye_in_hand_rgb.png\n"
     ]
    },
    {
     "name": "stderr",
     "output_type": "stream",
     "text": [
      "100%|██████████| 50/50 [00:08<00:00,  5.91it/s]\n",
      "100%|██████████| 5/5 [00:00<00:00,  6.06it/s]\n"
     ]
    },
    {
     "name": "stdout",
     "output_type": "stream",
     "text": [
      "Saving output images.....\n",
      "Processing point 237: Δaz=-0.535, Δel=-0.298, Δr=-0.710\n",
      "input_image_path is: temp_ref/eye_in_hand_rgb.png\n"
     ]
    },
    {
     "name": "stderr",
     "output_type": "stream",
     "text": [
      "100%|██████████| 50/50 [00:08<00:00,  5.91it/s]\n",
      "100%|██████████| 5/5 [00:00<00:00,  6.05it/s]\n"
     ]
    },
    {
     "name": "stdout",
     "output_type": "stream",
     "text": [
      "Saving output images.....\n",
      "Processing point 238: Δaz=-0.590, Δel=-0.299, Δr=-0.710\n",
      "input_image_path is: temp_ref/eye_in_hand_rgb.png\n"
     ]
    },
    {
     "name": "stderr",
     "output_type": "stream",
     "text": [
      "100%|██████████| 50/50 [00:08<00:00,  5.91it/s]\n",
      "100%|██████████| 5/5 [00:00<00:00,  6.07it/s]\n"
     ]
    },
    {
     "name": "stdout",
     "output_type": "stream",
     "text": [
      "Saving output images.....\n",
      "Processing point 239: Δaz=-0.593, Δel=-0.295, Δr=-0.710\n",
      "input_image_path is: temp_ref/eye_in_hand_rgb.png\n"
     ]
    },
    {
     "name": "stderr",
     "output_type": "stream",
     "text": [
      "100%|██████████| 50/50 [00:08<00:00,  5.92it/s]\n",
      "100%|██████████| 5/5 [00:00<00:00,  6.06it/s]\n"
     ]
    },
    {
     "name": "stdout",
     "output_type": "stream",
     "text": [
      "Saving output images.....\n",
      "Processing point 240: Δaz=-0.540, Δel=-0.296, Δr=-0.710\n",
      "input_image_path is: temp_ref/eye_in_hand_rgb.png\n"
     ]
    },
    {
     "name": "stderr",
     "output_type": "stream",
     "text": [
      "100%|██████████| 50/50 [00:08<00:00,  5.91it/s]\n",
      "100%|██████████| 5/5 [00:00<00:00,  6.06it/s]\n"
     ]
    },
    {
     "name": "stdout",
     "output_type": "stream",
     "text": [
      "Saving output images.....\n",
      "Processing point 241: Δaz=-0.537, Δel=-0.294, Δr=-0.711\n",
      "input_image_path is: temp_ref/eye_in_hand_rgb.png\n"
     ]
    },
    {
     "name": "stderr",
     "output_type": "stream",
     "text": [
      "100%|██████████| 50/50 [00:08<00:00,  5.92it/s]\n",
      "100%|██████████| 5/5 [00:00<00:00,  6.06it/s]\n"
     ]
    },
    {
     "name": "stdout",
     "output_type": "stream",
     "text": [
      "Saving output images.....\n",
      "Processing point 242: Δaz=-0.574, Δel=-0.298, Δr=-0.711\n",
      "input_image_path is: temp_ref/eye_in_hand_rgb.png\n"
     ]
    },
    {
     "name": "stderr",
     "output_type": "stream",
     "text": [
      "100%|██████████| 50/50 [00:08<00:00,  5.92it/s]\n",
      "100%|██████████| 5/5 [00:00<00:00,  6.05it/s]\n"
     ]
    },
    {
     "name": "stdout",
     "output_type": "stream",
     "text": [
      "Saving output images.....\n",
      "Processing point 243: Δaz=-0.554, Δel=-0.290, Δr=-0.711\n",
      "input_image_path is: temp_ref/eye_in_hand_rgb.png\n"
     ]
    },
    {
     "name": "stderr",
     "output_type": "stream",
     "text": [
      "100%|██████████| 50/50 [00:08<00:00,  5.92it/s]\n",
      "100%|██████████| 5/5 [00:00<00:00,  6.06it/s]\n"
     ]
    },
    {
     "name": "stdout",
     "output_type": "stream",
     "text": [
      "Saving output images.....\n",
      "Processing point 244: Δaz=-0.534, Δel=-0.336, Δr=-0.711\n",
      "input_image_path is: temp_ref/eye_in_hand_rgb.png\n"
     ]
    },
    {
     "name": "stderr",
     "output_type": "stream",
     "text": [
      "100%|██████████| 50/50 [00:08<00:00,  5.92it/s]\n",
      "100%|██████████| 5/5 [00:00<00:00,  6.07it/s]\n"
     ]
    },
    {
     "name": "stdout",
     "output_type": "stream",
     "text": [
      "Saving output images.....\n",
      "Processing point 245: Δaz=-0.468, Δel=-0.334, Δr=-0.711\n",
      "input_image_path is: temp_ref/eye_in_hand_rgb.png\n"
     ]
    },
    {
     "name": "stderr",
     "output_type": "stream",
     "text": [
      "100%|██████████| 50/50 [00:08<00:00,  5.92it/s]\n",
      "100%|██████████| 5/5 [00:00<00:00,  6.06it/s]\n"
     ]
    },
    {
     "name": "stdout",
     "output_type": "stream",
     "text": [
      "Saving output images.....\n",
      "Processing point 246: Δaz=-0.495, Δel=-0.328, Δr=-0.712\n",
      "input_image_path is: temp_ref/eye_in_hand_rgb.png\n"
     ]
    },
    {
     "name": "stderr",
     "output_type": "stream",
     "text": [
      "100%|██████████| 50/50 [00:08<00:00,  5.92it/s]\n",
      "100%|██████████| 5/5 [00:00<00:00,  6.03it/s]\n"
     ]
    },
    {
     "name": "stdout",
     "output_type": "stream",
     "text": [
      "Saving output images.....\n",
      "Processing point 247: Δaz=-0.477, Δel=-0.327, Δr=-0.712\n",
      "input_image_path is: temp_ref/eye_in_hand_rgb.png\n"
     ]
    },
    {
     "name": "stderr",
     "output_type": "stream",
     "text": [
      "100%|██████████| 50/50 [00:08<00:00,  5.92it/s]\n",
      "100%|██████████| 5/5 [00:00<00:00,  6.05it/s]\n"
     ]
    },
    {
     "name": "stdout",
     "output_type": "stream",
     "text": [
      "Saving output images.....\n",
      "Processing point 248: Δaz=-0.423, Δel=-0.281, Δr=-0.712\n",
      "input_image_path is: temp_ref/eye_in_hand_rgb.png\n"
     ]
    },
    {
     "name": "stderr",
     "output_type": "stream",
     "text": [
      "100%|██████████| 50/50 [00:08<00:00,  5.92it/s]\n",
      "100%|██████████| 5/5 [00:00<00:00,  6.05it/s]\n"
     ]
    },
    {
     "name": "stdout",
     "output_type": "stream",
     "text": [
      "Saving output images.....\n",
      "Processing point 249: Δaz=-0.413, Δel=-0.286, Δr=-0.712\n",
      "input_image_path is: temp_ref/eye_in_hand_rgb.png\n"
     ]
    },
    {
     "name": "stderr",
     "output_type": "stream",
     "text": [
      "100%|██████████| 50/50 [00:08<00:00,  5.91it/s]\n",
      "100%|██████████| 5/5 [00:00<00:00,  6.05it/s]\n"
     ]
    },
    {
     "name": "stdout",
     "output_type": "stream",
     "text": [
      "Saving output images.....\n",
      "Processing point 250: Δaz=-0.406, Δel=-0.288, Δr=-0.712\n",
      "input_image_path is: temp_ref/eye_in_hand_rgb.png\n"
     ]
    },
    {
     "name": "stderr",
     "output_type": "stream",
     "text": [
      "100%|██████████| 50/50 [00:08<00:00,  5.91it/s]\n",
      "100%|██████████| 5/5 [00:00<00:00,  6.05it/s]\n"
     ]
    },
    {
     "name": "stdout",
     "output_type": "stream",
     "text": [
      "Saving output images.....\n",
      "Processing point 251: Δaz=-0.430, Δel=-0.328, Δr=-0.713\n",
      "input_image_path is: temp_ref/eye_in_hand_rgb.png\n"
     ]
    },
    {
     "name": "stderr",
     "output_type": "stream",
     "text": [
      "100%|██████████| 50/50 [00:08<00:00,  5.92it/s]\n",
      "100%|██████████| 5/5 [00:00<00:00,  6.06it/s]\n"
     ]
    },
    {
     "name": "stdout",
     "output_type": "stream",
     "text": [
      "Saving output images.....\n",
      "Processing point 252: Δaz=-0.408, Δel=-0.332, Δr=-0.713\n",
      "input_image_path is: temp_ref/eye_in_hand_rgb.png\n"
     ]
    },
    {
     "name": "stderr",
     "output_type": "stream",
     "text": [
      "100%|██████████| 50/50 [00:08<00:00,  5.92it/s]\n",
      "100%|██████████| 5/5 [00:00<00:00,  6.04it/s]\n"
     ]
    },
    {
     "name": "stdout",
     "output_type": "stream",
     "text": [
      "Saving output images.....\n",
      "Processing point 253: Δaz=-0.340, Δel=-0.334, Δr=-0.713\n",
      "input_image_path is: temp_ref/eye_in_hand_rgb.png\n"
     ]
    },
    {
     "name": "stderr",
     "output_type": "stream",
     "text": [
      "100%|██████████| 50/50 [00:08<00:00,  5.91it/s]\n",
      "100%|██████████| 5/5 [00:00<00:00,  6.05it/s]\n"
     ]
    },
    {
     "name": "stdout",
     "output_type": "stream",
     "text": [
      "Saving output images.....\n",
      "Processing point 254: Δaz=-0.304, Δel=-0.288, Δr=-0.713\n",
      "input_image_path is: temp_ref/eye_in_hand_rgb.png\n"
     ]
    },
    {
     "name": "stderr",
     "output_type": "stream",
     "text": [
      "100%|██████████| 50/50 [00:08<00:00,  5.92it/s]\n",
      "100%|██████████| 5/5 [00:00<00:00,  6.05it/s]\n"
     ]
    },
    {
     "name": "stdout",
     "output_type": "stream",
     "text": [
      "Saving output images.....\n",
      "Processing point 255: Δaz=-0.325, Δel=-0.327, Δr=-0.713\n",
      "input_image_path is: temp_ref/eye_in_hand_rgb.png\n"
     ]
    },
    {
     "name": "stderr",
     "output_type": "stream",
     "text": [
      "100%|██████████| 50/50 [00:08<00:00,  5.92it/s]\n",
      "100%|██████████| 5/5 [00:00<00:00,  6.05it/s]\n"
     ]
    },
    {
     "name": "stdout",
     "output_type": "stream",
     "text": [
      "Saving output images.....\n",
      "Processing point 256: Δaz=-0.260, Δel=-0.283, Δr=-0.714\n",
      "input_image_path is: temp_ref/eye_in_hand_rgb.png\n"
     ]
    },
    {
     "name": "stderr",
     "output_type": "stream",
     "text": [
      "100%|██████████| 50/50 [00:08<00:00,  5.91it/s]\n",
      "100%|██████████| 5/5 [00:00<00:00,  6.04it/s]\n"
     ]
    },
    {
     "name": "stdout",
     "output_type": "stream",
     "text": [
      "Saving output images.....\n",
      "Processing point 257: Δaz=-0.247, Δel=-0.280, Δr=-0.714\n",
      "input_image_path is: temp_ref/eye_in_hand_rgb.png\n"
     ]
    },
    {
     "name": "stderr",
     "output_type": "stream",
     "text": [
      "100%|██████████| 50/50 [00:08<00:00,  5.92it/s]\n",
      "100%|██████████| 5/5 [00:00<00:00,  6.02it/s]\n"
     ]
    },
    {
     "name": "stdout",
     "output_type": "stream",
     "text": [
      "Saving output images.....\n",
      "Processing point 258: Δaz=-0.288, Δel=-0.281, Δr=-0.714\n",
      "input_image_path is: temp_ref/eye_in_hand_rgb.png\n"
     ]
    },
    {
     "name": "stderr",
     "output_type": "stream",
     "text": [
      "100%|██████████| 50/50 [00:08<00:00,  5.90it/s]\n",
      "100%|██████████| 5/5 [00:00<00:00,  6.04it/s]\n"
     ]
    },
    {
     "name": "stdout",
     "output_type": "stream",
     "text": [
      "Saving output images.....\n",
      "Processing point 259: Δaz=-0.229, Δel=-0.282, Δr=-0.714\n",
      "input_image_path is: temp_ref/eye_in_hand_rgb.png\n"
     ]
    },
    {
     "name": "stderr",
     "output_type": "stream",
     "text": [
      "100%|██████████| 50/50 [00:08<00:00,  5.91it/s]\n",
      "100%|██████████| 5/5 [00:00<00:00,  6.06it/s]\n"
     ]
    },
    {
     "name": "stdout",
     "output_type": "stream",
     "text": [
      "Saving output images.....\n",
      "Processing point 260: Δaz=-0.224, Δel=-0.284, Δr=-0.714\n",
      "input_image_path is: temp_ref/eye_in_hand_rgb.png\n"
     ]
    },
    {
     "name": "stderr",
     "output_type": "stream",
     "text": [
      "100%|██████████| 50/50 [00:08<00:00,  5.91it/s]\n",
      "100%|██████████| 5/5 [00:00<00:00,  6.03it/s]\n"
     ]
    },
    {
     "name": "stdout",
     "output_type": "stream",
     "text": [
      "Saving output images.....\n",
      "Processing point 261: Δaz=-0.223, Δel=-0.284, Δr=-0.714\n",
      "input_image_path is: temp_ref/eye_in_hand_rgb.png\n"
     ]
    },
    {
     "name": "stderr",
     "output_type": "stream",
     "text": [
      "100%|██████████| 50/50 [00:08<00:00,  5.91it/s]\n",
      "100%|██████████| 5/5 [00:00<00:00,  6.06it/s]\n"
     ]
    },
    {
     "name": "stdout",
     "output_type": "stream",
     "text": [
      "Saving output images.....\n",
      "Processing point 262: Δaz=-0.260, Δel=-0.284, Δr=-0.715\n",
      "input_image_path is: temp_ref/eye_in_hand_rgb.png\n"
     ]
    },
    {
     "name": "stderr",
     "output_type": "stream",
     "text": [
      "100%|██████████| 50/50 [00:08<00:00,  5.92it/s]\n",
      "100%|██████████| 5/5 [00:00<00:00,  6.06it/s]\n"
     ]
    },
    {
     "name": "stdout",
     "output_type": "stream",
     "text": [
      "Saving output images.....\n",
      "Processing point 263: Δaz=-0.235, Δel=-0.332, Δr=-0.715\n",
      "input_image_path is: temp_ref/eye_in_hand_rgb.png\n"
     ]
    },
    {
     "name": "stderr",
     "output_type": "stream",
     "text": [
      "100%|██████████| 50/50 [00:08<00:00,  5.91it/s]\n",
      "100%|██████████| 5/5 [00:00<00:00,  6.08it/s]\n"
     ]
    },
    {
     "name": "stdout",
     "output_type": "stream",
     "text": [
      "Saving output images.....\n",
      "Processing point 264: Δaz=-0.292, Δel=-0.288, Δr=-0.715\n",
      "input_image_path is: temp_ref/eye_in_hand_rgb.png\n"
     ]
    },
    {
     "name": "stderr",
     "output_type": "stream",
     "text": [
      "100%|██████████| 50/50 [00:08<00:00,  5.91it/s]\n",
      "100%|██████████| 5/5 [00:00<00:00,  6.07it/s]\n"
     ]
    },
    {
     "name": "stdout",
     "output_type": "stream",
     "text": [
      "Saving output images.....\n",
      "Processing point 265: Δaz=-0.259, Δel=-0.332, Δr=-0.715\n",
      "input_image_path is: temp_ref/eye_in_hand_rgb.png\n"
     ]
    },
    {
     "name": "stderr",
     "output_type": "stream",
     "text": [
      "100%|██████████| 50/50 [00:08<00:00,  5.91it/s]\n",
      "100%|██████████| 5/5 [00:00<00:00,  6.04it/s]\n"
     ]
    },
    {
     "name": "stdout",
     "output_type": "stream",
     "text": [
      "Saving output images.....\n",
      "Processing point 266: Δaz=-0.268, Δel=-0.292, Δr=-0.715\n",
      "input_image_path is: temp_ref/eye_in_hand_rgb.png\n"
     ]
    },
    {
     "name": "stderr",
     "output_type": "stream",
     "text": [
      "100%|██████████| 50/50 [00:08<00:00,  5.91it/s]\n",
      "100%|██████████| 5/5 [00:00<00:00,  6.06it/s]\n"
     ]
    },
    {
     "name": "stdout",
     "output_type": "stream",
     "text": [
      "Saving output images.....\n",
      "Processing point 267: Δaz=-0.275, Δel=-0.281, Δr=-0.715\n",
      "input_image_path is: temp_ref/eye_in_hand_rgb.png\n"
     ]
    },
    {
     "name": "stderr",
     "output_type": "stream",
     "text": [
      "100%|██████████| 50/50 [00:08<00:00,  5.91it/s]\n",
      "100%|██████████| 5/5 [00:00<00:00,  6.05it/s]\n"
     ]
    },
    {
     "name": "stdout",
     "output_type": "stream",
     "text": [
      "Saving output images.....\n",
      "Processing point 268: Δaz=-0.315, Δel=-0.290, Δr=-0.716\n",
      "input_image_path is: temp_ref/eye_in_hand_rgb.png\n"
     ]
    },
    {
     "name": "stderr",
     "output_type": "stream",
     "text": [
      "100%|██████████| 50/50 [00:08<00:00,  5.91it/s]\n",
      "100%|██████████| 5/5 [00:00<00:00,  6.05it/s]\n"
     ]
    },
    {
     "name": "stdout",
     "output_type": "stream",
     "text": [
      "Saving output images.....\n",
      "Processing point 269: Δaz=-0.323, Δel=-0.291, Δr=-0.716\n",
      "input_image_path is: temp_ref/eye_in_hand_rgb.png\n"
     ]
    },
    {
     "name": "stderr",
     "output_type": "stream",
     "text": [
      "100%|██████████| 50/50 [00:08<00:00,  5.90it/s]\n",
      "100%|██████████| 5/5 [00:00<00:00,  6.04it/s]\n"
     ]
    },
    {
     "name": "stdout",
     "output_type": "stream",
     "text": [
      "Saving output images.....\n",
      "Processing point 270: Δaz=-0.276, Δel=-0.330, Δr=-0.716\n",
      "input_image_path is: temp_ref/eye_in_hand_rgb.png\n"
     ]
    },
    {
     "name": "stderr",
     "output_type": "stream",
     "text": [
      "100%|██████████| 50/50 [00:08<00:00,  5.91it/s]\n",
      "100%|██████████| 5/5 [00:00<00:00,  6.06it/s]\n"
     ]
    },
    {
     "name": "stdout",
     "output_type": "stream",
     "text": [
      "Saving output images.....\n",
      "Processing point 271: Δaz=-0.296, Δel=-0.297, Δr=-0.716\n",
      "input_image_path is: temp_ref/eye_in_hand_rgb.png\n"
     ]
    },
    {
     "name": "stderr",
     "output_type": "stream",
     "text": [
      "100%|██████████| 50/50 [00:08<00:00,  5.92it/s]\n",
      "100%|██████████| 5/5 [00:00<00:00,  6.07it/s]\n"
     ]
    },
    {
     "name": "stdout",
     "output_type": "stream",
     "text": [
      "Saving output images.....\n",
      "Processing point 272: Δaz=-0.296, Δel=-0.338, Δr=-0.716\n",
      "input_image_path is: temp_ref/eye_in_hand_rgb.png\n"
     ]
    },
    {
     "name": "stderr",
     "output_type": "stream",
     "text": [
      "100%|██████████| 50/50 [00:08<00:00,  5.91it/s]\n",
      "100%|██████████| 5/5 [00:00<00:00,  6.06it/s]\n"
     ]
    },
    {
     "name": "stdout",
     "output_type": "stream",
     "text": [
      "Saving output images.....\n",
      "Processing point 273: Δaz=-0.287, Δel=-0.331, Δr=-0.716\n",
      "input_image_path is: temp_ref/eye_in_hand_rgb.png\n"
     ]
    },
    {
     "name": "stderr",
     "output_type": "stream",
     "text": [
      "100%|██████████| 50/50 [00:08<00:00,  5.91it/s]\n",
      "100%|██████████| 5/5 [00:00<00:00,  6.06it/s]\n"
     ]
    },
    {
     "name": "stdout",
     "output_type": "stream",
     "text": [
      "Saving output images.....\n",
      "Processing point 274: Δaz=-0.312, Δel=-0.292, Δr=-0.716\n",
      "input_image_path is: temp_ref/eye_in_hand_rgb.png\n"
     ]
    },
    {
     "name": "stderr",
     "output_type": "stream",
     "text": [
      "100%|██████████| 50/50 [00:08<00:00,  5.92it/s]\n",
      "100%|██████████| 5/5 [00:00<00:00,  6.05it/s]\n"
     ]
    },
    {
     "name": "stdout",
     "output_type": "stream",
     "text": [
      "Saving output images.....\n",
      "Processing point 275: Δaz=-0.213, Δel=-0.268, Δr=-0.716\n",
      "input_image_path is: temp_ref/eye_in_hand_rgb.png\n"
     ]
    },
    {
     "name": "stderr",
     "output_type": "stream",
     "text": [
      "100%|██████████| 50/50 [00:08<00:00,  5.92it/s]\n",
      "100%|██████████| 5/5 [00:00<00:00,  6.07it/s]\n"
     ]
    },
    {
     "name": "stdout",
     "output_type": "stream",
     "text": [
      "Saving output images.....\n",
      "Processing point 276: Δaz=-0.166, Δel=-0.263, Δr=-0.716\n",
      "input_image_path is: temp_ref/eye_in_hand_rgb.png\n"
     ]
    },
    {
     "name": "stderr",
     "output_type": "stream",
     "text": [
      "100%|██████████| 50/50 [00:08<00:00,  5.92it/s]\n",
      "100%|██████████| 5/5 [00:00<00:00,  6.06it/s]\n"
     ]
    },
    {
     "name": "stdout",
     "output_type": "stream",
     "text": [
      "Saving output images.....\n",
      "Processing point 277: Δaz=-0.130, Δel=-0.261, Δr=-0.716\n",
      "input_image_path is: temp_ref/eye_in_hand_rgb.png\n"
     ]
    },
    {
     "name": "stderr",
     "output_type": "stream",
     "text": [
      "100%|██████████| 50/50 [00:08<00:00,  5.91it/s]\n",
      "100%|██████████| 5/5 [00:00<00:00,  6.07it/s]\n"
     ]
    },
    {
     "name": "stdout",
     "output_type": "stream",
     "text": [
      "Saving output images.....\n",
      "Processing point 278: Δaz=-0.087, Δel=-0.254, Δr=-0.716\n",
      "input_image_path is: temp_ref/eye_in_hand_rgb.png\n"
     ]
    },
    {
     "name": "stderr",
     "output_type": "stream",
     "text": [
      "100%|██████████| 50/50 [00:08<00:00,  5.92it/s]\n",
      "100%|██████████| 5/5 [00:00<00:00,  6.06it/s]\n"
     ]
    },
    {
     "name": "stdout",
     "output_type": "stream",
     "text": [
      "Saving output images.....\n",
      "Processing point 279: Δaz=-0.065, Δel=-0.287, Δr=-0.717\n",
      "input_image_path is: temp_ref/eye_in_hand_rgb.png\n"
     ]
    },
    {
     "name": "stderr",
     "output_type": "stream",
     "text": [
      "100%|██████████| 50/50 [00:08<00:00,  5.92it/s]\n",
      "100%|██████████| 5/5 [00:00<00:00,  6.07it/s]\n"
     ]
    },
    {
     "name": "stdout",
     "output_type": "stream",
     "text": [
      "Saving output images.....\n",
      "Processing point 280: Δaz=-0.159, Δel=-0.308, Δr=-0.717\n",
      "input_image_path is: temp_ref/eye_in_hand_rgb.png\n"
     ]
    },
    {
     "name": "stderr",
     "output_type": "stream",
     "text": [
      "100%|██████████| 50/50 [00:08<00:00,  5.92it/s]\n",
      "100%|██████████| 5/5 [00:00<00:00,  6.06it/s]\n"
     ]
    },
    {
     "name": "stdout",
     "output_type": "stream",
     "text": [
      "Saving output images.....\n",
      "Processing point 281: Δaz=-0.182, Δel=-0.300, Δr=-0.717\n",
      "input_image_path is: temp_ref/eye_in_hand_rgb.png\n"
     ]
    },
    {
     "name": "stderr",
     "output_type": "stream",
     "text": [
      "100%|██████████| 50/50 [00:08<00:00,  5.91it/s]\n",
      "100%|██████████| 5/5 [00:00<00:00,  6.07it/s]\n"
     ]
    },
    {
     "name": "stdout",
     "output_type": "stream",
     "text": [
      "Saving output images.....\n",
      "Processing point 282: Δaz=-0.256, Δel=-0.345, Δr=-0.717\n",
      "input_image_path is: temp_ref/eye_in_hand_rgb.png\n"
     ]
    },
    {
     "name": "stderr",
     "output_type": "stream",
     "text": [
      "100%|██████████| 50/50 [00:08<00:00,  5.92it/s]\n",
      "100%|██████████| 5/5 [00:00<00:00,  6.05it/s]\n"
     ]
    },
    {
     "name": "stdout",
     "output_type": "stream",
     "text": [
      "Saving output images.....\n",
      "Processing point 283: Δaz=1.481, Δel=-0.304, Δr=-0.717\n",
      "input_image_path is: temp_ref/eye_in_hand_rgb.png\n"
     ]
    },
    {
     "name": "stderr",
     "output_type": "stream",
     "text": [
      "100%|██████████| 50/50 [00:08<00:00,  5.92it/s]\n",
      "100%|██████████| 5/5 [00:00<00:00,  6.06it/s]\n"
     ]
    },
    {
     "name": "stdout",
     "output_type": "stream",
     "text": [
      "Saving output images.....\n",
      "Creating video from 284 frames...\n",
      "Video saved to: trajectory_video.mp4\n"
     ]
    }
   ],
   "source": [
    "import os\n",
    "import random\n",
    "import cv2\n",
    "import numpy as np\n",
    "import h5py\n",
    "import torch\n",
    "from scipy.spatial.transform import Rotation as R\n",
    "from PIL import Image\n",
    "from carvekit.api.high import HiInterface\n",
    "from vivid123.generation_utils import generation_vivid123_new, prepare_vivid123_pipeline\n",
    "\n",
    "#########################################\n",
    "# Helper Functions for Trajectory Generation\n",
    "#########################################\n",
    "\n",
    "def cart2sph(x, y, z):\n",
    "    r = np.sqrt(x**2 + y**2 + z**2)\n",
    "    az = np.arctan2(y, x)\n",
    "    el = np.arctan2(z, np.sqrt(x**2 + y**2))\n",
    "    return r, az, el\n",
    "\n",
    "def sph2cart(r, az, el):\n",
    "    x = r * np.cos(el) * np.cos(az)\n",
    "    y = r * np.cos(el) * np.sin(az)\n",
    "    z = r * np.sin(el)\n",
    "    return x, y, z\n",
    "\n",
    "def make_cube(cx, cy, cz, rotation, side=0.005):\n",
    "    half = side / 2.0\n",
    "    corners = np.array([\n",
    "        [-half, -half, -half],\n",
    "        [-half, -half,  half],\n",
    "        [-half,  half, -half],\n",
    "        [-half,  half,  half],\n",
    "        [ half, -half, -half],\n",
    "        [ half, -half,  half],\n",
    "        [ half,  half, -half],\n",
    "        [ half,  half,  half]\n",
    "    ])\n",
    "    rotated_corners = rotation.apply(corners)\n",
    "    rotated_corners += np.array([cx, cy, cz])\n",
    "    return rotated_corners\n",
    "\n",
    "def unit_vector(v):\n",
    "    norm = np.linalg.norm(v)\n",
    "    if norm < 1e-9:\n",
    "        return np.array([1, 0, 0])\n",
    "    return v / norm\n",
    "\n",
    "#########################################\n",
    "# Trajectory Generation Function\n",
    "#########################################\n",
    "\n",
    "def iterative_trajectory_generation():\n",
    "    # Load main trajectory from HDF5 demo\n",
    "    file_path = \"demo_duck_feb12.hdf5\"  # Adjust path if needed.\n",
    "    positions_list = []\n",
    "    orientations_list = []\n",
    "    with h5py.File(file_path, \"r\") as f:\n",
    "        demo_keys = list(f[\"data\"].keys())\n",
    "        print(\"Available Demos:\", demo_keys)\n",
    "        demo_name = demo_keys[0]  # use the first demo\n",
    "        demo_data = f[\"data\"][demo_name]\n",
    "        obs_group = demo_data[\"obs\"]\n",
    "        if \"joint_states\" in obs_group:\n",
    "            states = obs_group[\"joint_states\"][:]  # shape: (T,7)\n",
    "            positions_list.append(states[:, :3])\n",
    "            orientations_list.append(states[:, 3:6])\n",
    "    if not positions_list:\n",
    "        print(\"No trajectory data found.\")\n",
    "        return None\n",
    "\n",
    "    positions = positions_list[0]  # (N,3)\n",
    "    rpy_list = orientations_list[0]  # (N,3)\n",
    "    n_points = len(positions)\n",
    "    if n_points < 2:\n",
    "        print(\"Not enough main trajectory points.\")\n",
    "        return None\n",
    "\n",
    "    # Compute global reference (from first main point to goal)\n",
    "    goal_pos = positions[-1]\n",
    "    dx_ref = positions[0][0] - goal_pos[0]\n",
    "    dy_ref = positions[0][1] - goal_pos[1]\n",
    "    dz_ref = positions[0][2] - goal_pos[2]\n",
    "    ref_r, ref_az, ref_el = cart2sph(dx_ref, dy_ref, dz_ref)\n",
    "    print(f\"Reference spherical coords: r={ref_r:.3f}, az={ref_az:.3f}, el={ref_el:.3f}\")\n",
    "\n",
    "    # Variation parameters\n",
    "    base_max_deg = 5.0\n",
    "    base_max_side = 0.1\n",
    "    base_max_roll = 50 * np.pi/180.0\n",
    "    base_max_pitch = 10 * np.pi/180.0\n",
    "    base_max_yaw = 10 * np.pi/180.0\n",
    "    lambda_decay = 1.5\n",
    "    num_samples = 10\n",
    "\n",
    "    trajectories = []\n",
    "    variation_scale = 0.1  # starting variation\n",
    "\n",
    "    # We'll generate one candidate chain (trajectory) using a greedy method.\n",
    "    dataset = []\n",
    "    for i in range(n_points):\n",
    "        x, y, z = positions[i]\n",
    "        roll_i, pitch_i, yaw_i = rpy_list[i]\n",
    "        dx = x - goal_pos[0]\n",
    "        dy = y - goal_pos[1]\n",
    "        dz = z - goal_pos[2]\n",
    "        r_val, az, el = cart2sph(dx, dy, dz)\n",
    "        droll = roll_i - rpy_list[-1][0]\n",
    "        dpitch = pitch_i - rpy_list[-1][1]\n",
    "        dyaw = yaw_i - rpy_list[-1][2]\n",
    "        for sample in range(num_samples):\n",
    "            frac = np.exp(-lambda_decay * (i / (n_points - 1))) if n_points > 1 else 1.0\n",
    "            delta_angle = frac * (base_max_deg * np.pi/180.0)\n",
    "            az_var = az + random.choice([-1, 1]) * delta_angle\n",
    "            el_var = el + random.choice([-1, 1]) * delta_angle\n",
    "            dx_var, dy_var, dz_var = sph2cart(r_val, az_var, el_var)\n",
    "            x_new = goal_pos[0] + dx_var\n",
    "            y_new = goal_pos[1] + dy_var\n",
    "            z_new = goal_pos[2] + dz_var\n",
    "\n",
    "            roll_off = frac * base_max_roll\n",
    "            pitch_off = frac * base_max_pitch\n",
    "            yaw_off = frac * base_max_yaw\n",
    "            droll_var = droll + random.choice([-1, 1]) * roll_off\n",
    "            dpitch_var = dpitch + random.choice([-1, 1]) * pitch_off\n",
    "            dyaw_var = dyaw + random.choice([-1, 1]) * yaw_off\n",
    "            roll_new = rpy_list[-1][0] + droll_var\n",
    "            pitch_new = rpy_list[-1][1] + dpitch_var\n",
    "            yaw_new = rpy_list[-1][2] + dyaw_var\n",
    "\n",
    "            rot_obj = R.from_euler('zyx', [roll_new, pitch_new, yaw_new])\n",
    "            side_len = frac * base_max_side\n",
    "            if side_len < 1e-9:\n",
    "                continue\n",
    "            corners = make_cube(x_new, y_new, z_new, rot_obj, side_len)\n",
    "            # Compute the candidate center's spherical coordinates\n",
    "            r_center, az_center, el_center = cart2sph(x_new - goal_pos[0],\n",
    "                                                      y_new - goal_pos[1],\n",
    "                                                      z_new - goal_pos[2])\n",
    "            delta_az = az_center - ref_az\n",
    "            delta_el = el_center - ref_el\n",
    "            delta_r  = r_center - ref_r\n",
    "            quat = rot_obj.as_quat()\n",
    "            for corner in corners:\n",
    "                dataset.append({\n",
    "                    \"trajectory_idx\": i,\n",
    "                    \"pose_6d\": [corner[0], corner[1], corner[2],\n",
    "                                roll_new, pitch_new, yaw_new],\n",
    "                    \"delta_pose\": [delta_az, delta_el, delta_r],\n",
    "                    \"in_fov\": True  # for simplicity, assume all are in view\n",
    "                })\n",
    "    # For this test, simply choose a greedy chain by taking the candidate with minimal index per point.\n",
    "    chain = []\n",
    "    for i in range(n_points):\n",
    "        group = [vp for vp in dataset if vp[\"trajectory_idx\"] == i and vp[\"in_fov\"]]\n",
    "        if group:\n",
    "            chain.append(group[0])\n",
    "    trajectories.append(chain)\n",
    "    print(f\"Generated one trajectory with {len(chain)} points.\")\n",
    "    return trajectories\n",
    "\n",
    "#########################################\n",
    "# Synthesis & Video Generation for a Single Trajectory\n",
    "#########################################\n",
    "\n",
    "def synthesize_and_create_video_for_trajectory(traj):\n",
    "    # ---- A) Load Reference Image from HDF5 & Remove Background ----\n",
    "    hdf5_file_path = \"demo_duck_feb12.hdf5\"  # same file used above\n",
    "    with h5py.File(hdf5_file_path, \"r\") as f:\n",
    "        demo_key = list(f[\"data\"].keys())[0]\n",
    "        ref_image_data = np.array(f[\"data\"][demo_key][\"obs\"][\"eye_in_hand_rgb\"][0])\n",
    "    if ref_image_data.shape[-1] == 3:\n",
    "        ref_image_data = ref_image_data[..., ::-1]  # convert BGR->RGB if needed\n",
    "    ref_image = Image.fromarray(ref_image_data)\n",
    "    temp_ref_folder = \"temp_ref\"\n",
    "    os.makedirs(temp_ref_folder, exist_ok=True)\n",
    "    ref_image_path = os.path.join(temp_ref_folder, \"eye_in_hand_rgb.png\")\n",
    "    ref_image.save(ref_image_path)\n",
    "    # Background removal using CarveKit\n",
    "    bg_interface = HiInterface(\n",
    "        object_type=\"hairs-like\",\n",
    "        batch_size_seg=5,\n",
    "        batch_size_matting=1,\n",
    "        device='cuda' if torch.cuda.is_available() else 'cpu',\n",
    "        seg_mask_size=640,\n",
    "        matting_mask_size=2048,\n",
    "        trimap_prob_threshold=231,\n",
    "        trimap_dilation=30,\n",
    "        trimap_erosion_iters=5,\n",
    "        fp16=False\n",
    "    )\n",
    "    print(\"Removing background from reference image...\")\n",
    "    processed = bg_interface([ref_image_path])\n",
    "    processed[0].save(ref_image_path)\n",
    "    print(f\"Processed reference image saved to: {ref_image_path}\")\n",
    "\n",
    "    # ---- B) Setup vivid123 Pipeline & Config ----\n",
    "    ZERO123_MODEL_ID = \"bennyguo/zero123-xl-diffusers\"\n",
    "    VIDEO_MODEL_ID = \"cerspense/zeroscope_v2_576w\"\n",
    "    VIDEO_XL_MODEL_ID = \"cerspense/zeroscope_v2_XL\"\n",
    "    vivid123_pipe, xl_pipe = prepare_vivid123_pipeline(\n",
    "        ZERO123_MODEL_ID=ZERO123_MODEL_ID, \n",
    "        VIDEO_MODEL_ID=VIDEO_MODEL_ID, \n",
    "        VIDEO_XL_MODEL_ID=VIDEO_XL_MODEL_ID\n",
    "    )\n",
    "    # Config for vivid123; note \"generation_type\" is required.\n",
    "    config = {\n",
    "        \"delta_azimuth_end\": 0.0,\n",
    "        \"delta_azimuth_start\": 0.0,\n",
    "        \"delta_elevation_end\": 0.0,\n",
    "        \"delta_elevation_start\": 0.0,\n",
    "        \"delta_radius_end\": 0.0,\n",
    "        \"delta_radius_start\": 0.0,\n",
    "        \"eta\": 0.5,\n",
    "        \"guidance_scale_video\": 2.0,\n",
    "        \"guidance_scale_zero123\": 6.0,\n",
    "        \"height\": 256,\n",
    "        \"width\": 256,\n",
    "        \"input_image_path\": ref_image_path,\n",
    "        \"obj_name\": \"dummy\",  # will be updated per candidate\n",
    "        \"noise_identical_accross_frames\": False,\n",
    "        \"num_frames\": 1,\n",
    "        \"num_inference_steps\": 50,\n",
    "        \"prompt\": \"a toy duck\",\n",
    "        \"refiner_guidance_scale\": 1.0,\n",
    "        \"refiner_strength\": 0.1,\n",
    "        \"video_end_step_percentage\": 1.0,\n",
    "        \"video_linear_end_weight\": 0.5,\n",
    "        \"video_linear_start_weight\": 1.0,\n",
    "        \"video_start_step_percentage\": 0.0,\n",
    "        \"zero123_end_step_percentage\": 1.0,\n",
    "        \"zero123_linear_end_weight\": 1.0,\n",
    "        \"zero123_linear_start_weight\": 1.0,\n",
    "        \"zero123_start_step_percentage\": 0.0,\n",
    "        \"generation_type\": \"image\"\n",
    "    }\n",
    "\n",
    "    # ---- C) Synthesize Images for Each Point in the Trajectory ----\n",
    "    synth_folder = \"vivid123_synthesized_images_single\"\n",
    "    os.makedirs(synth_folder, exist_ok=True)\n",
    "    synthesized_paths = []\n",
    "    for idx, point in enumerate(traj):\n",
    "        delta_pose = point.get(\"delta_pose\", [0.0, 0.0, 0.0])\n",
    "        delta_az, delta_el, delta_r = delta_pose\n",
    "        # Update config with candidate's delta values.\n",
    "        config[\"delta_azimuth_start\"] = delta_az\n",
    "        config[\"delta_azimuth_end\"]   = delta_az\n",
    "        config[\"delta_elevation_start\"] = delta_el\n",
    "        config[\"delta_elevation_end\"]   = delta_el\n",
    "        config[\"delta_radius_start\"]    = delta_r\n",
    "        config[\"delta_radius_end\"]      = delta_r\n",
    "\n",
    "        # Create a unique output directory for this candidate.\n",
    "        out_dir = os.path.join(synth_folder, f\"point_{idx}\")\n",
    "        os.makedirs(out_dir, exist_ok=True)\n",
    "        config[\"obj_name\"] = out_dir\n",
    "\n",
    "        print(f\"Processing point {idx}: Δaz={delta_az:.3f}, Δel={delta_el:.3f}, Δr={delta_r:.3f}\")\n",
    "        try:\n",
    "            generation_vivid123_new(config=config, vivid123_pipe=vivid123_pipe, xl_pipe=xl_pipe)\n",
    "            img_path = os.path.join(out_dir, \"image000.png\")\n",
    "            if os.path.exists(img_path):\n",
    "                synthesized_paths.append(img_path)\n",
    "            else:\n",
    "                print(f\"Image not found in {out_dir}.\")\n",
    "        except Exception as e:\n",
    "            print(f\"Error synthesizing point {idx}: {e}\")\n",
    "\n",
    "    # ---- D) Create Video from Synthesized Images ----\n",
    "    if not synthesized_paths:\n",
    "        print(\"No synthesized images available; cannot create video.\")\n",
    "        return\n",
    "\n",
    "    video_out = \"trajectory_video.mp4\"\n",
    "    fps = 2\n",
    "    frame_size = (config[\"width\"], config[\"height\"])\n",
    "    fourcc = cv2.VideoWriter_fourcc(*'mp4v')\n",
    "    video_writer = cv2.VideoWriter(video_out, fourcc, fps, frame_size)\n",
    "    print(f\"Creating video from {len(synthesized_paths)} frames...\")\n",
    "    for sp in synthesized_paths:\n",
    "        frame = cv2.imread(sp)\n",
    "        if frame is None:\n",
    "            print(f\"Failed to read {sp}; skipping.\")\n",
    "            continue\n",
    "        frame = cv2.resize(frame, frame_size)\n",
    "        video_writer.write(frame)\n",
    "    video_writer.release()\n",
    "    print(f\"Video saved to: {video_out}\")\n",
    "\n",
    "#########################################\n",
    "# Main Function\n",
    "#########################################\n",
    "\n",
    "def main():\n",
    "    trajectories = iterative_trajectory_generation()\n",
    "    if trajectories is None or len(trajectories) == 0:\n",
    "        print(\"No trajectories generated. Exiting.\")\n",
    "        return\n",
    "    # For testing, take the first generated trajectory.\n",
    "    traj = trajectories[0]\n",
    "    print(f\"Using first trajectory with {len(traj)} points for synthesis and video creation.\")\n",
    "    synthesize_and_create_video_for_trajectory(traj)\n",
    "\n",
    "if __name__ == \"__main__\":\n",
    "    main()\n"
   ]
  }
 ],
 "metadata": {
  "kernelspec": {
   "display_name": "safe_lfd",
   "language": "python",
   "name": "python3"
  },
  "language_info": {
   "codemirror_mode": {
    "name": "ipython",
    "version": 3
   },
   "file_extension": ".py",
   "mimetype": "text/x-python",
   "name": "python",
   "nbconvert_exporter": "python",
   "pygments_lexer": "ipython3",
   "version": "3.12.8"
  }
 },
 "nbformat": 4,
 "nbformat_minor": 2
}
